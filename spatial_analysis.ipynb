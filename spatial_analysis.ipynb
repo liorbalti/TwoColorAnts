{
 "cells": [
  {
   "cell_type": "code",
   "execution_count": 1,
   "id": "35da6189",
   "metadata": {},
   "outputs": [],
   "source": [
    "import numpy as np\n",
    "import matplotlib.pyplot as plt\n",
    "import pandas as pd\n",
    "from Data import ExperimentData, AntData\n",
    "from os import sep as sep\n",
    "import AnalysisFunctions as afuns\n",
    "from functools import reduce\n",
    "import os\n",
    "import cv2"
   ]
  },
  {
   "cell_type": "code",
   "execution_count": 2,
   "id": "176efbe5",
   "metadata": {},
   "outputs": [],
   "source": [
    "root_path = r'Y:\\Lior&Einav\\Experiments'\n",
    "exp_details = pd.read_excel(root_path + sep + 'Experiments_details.xlsx', engine='openpyxl')"
   ]
  },
  {
   "cell_type": "code",
   "execution_count": 3,
   "id": "f44c681b",
   "metadata": {},
   "outputs": [],
   "source": [
    "def get_bdata_filename(exp_path):\n",
    "    bdata_filename = [filename for filename in os.listdir(exp_path+sep+r'with food\\blob analysis normalized by white paper') \n",
    "                        if filename.startswith(r'bdata')][0]\n",
    "    return bdata_filename"
   ]
  },
  {
   "cell_type": "code",
   "execution_count": 4,
   "id": "6b42c009",
   "metadata": {},
   "outputs": [],
   "source": [
    "exp_num = 19\n",
    "exp_idx, PC_ratios_dict, exp_path = afuns.get_exp_data(exp_num, exp_details, root_path)\n",
    "bdata_filename = get_bdata_filename(exp_path)\n",
    "\n",
    "bdata = pd.read_csv(exp_path + sep + r'with food\\blob analysis normalized by white paper' + sep + bdata_filename, index_col=0)\n",
    "fdata = pd.read_csv(exp_path + sep + r'forager_table_with_feeding_sizes_ul_transparency_corrected.csv', index_col=[0])\n",
    "tdata = pd.read_csv(exp_path + sep + r'clean_trophallaxis_table_transparency_corrected.csv')\n",
    "crops = pd.read_csv(exp_path + sep + r'clean_crops_transparency_corrected.csv', header=[0,1], index_col=[0]).swaplevel(axis=1)\n",
    "ants = pd.read_csv(exp_path + sep + r'ants_list.csv')\n",
    "conversion_factors = pd.read_csv(exp_path + sep + r'conversion_factors_by_weight_and_feeding_sum.csv')\n",
    "transparency = pd.read_csv(exp_path + sep + r'transparency_table.csv')"
   ]
  },
  {
   "cell_type": "code",
   "execution_count": 5,
   "id": "db5dc21a",
   "metadata": {},
   "outputs": [],
   "source": [
    "def get_ant_data(ant, bdata, crops, conversion_factors=False): #tdata, transparency, dt=10, fdata=False,\n",
    "    ant_data={}\n",
    "    \n",
    "    ant_data['ant'] = ant\n",
    "    \n",
    "    raw_x = bdata['a'+str(ant)+'-x']\n",
    "    raw_y = bdata['a'+str(ant)+'-y']\n",
    "    ant_data['x']=raw_x.interpolate(method='linear',limit_area='inside')\n",
    "    ant_data['y']=raw_y.interpolate(method='linear',limit_area='inside')\n",
    "    \n",
    "    ant_data['red_crop'] = crops[('red',str(ant))]/conversion_factors['red'][0]\n",
    "    ant_data['yellow_crop'] = crops[('yellow',str(ant))]/conversion_factors['yellow'][0]\n",
    "    \n",
    "#     ant_data['interactions']=tdata[(tdata['giver']==ant) | (tdata['receiver']==ant)]\n",
    "    \n",
    "#     if isinstance(fdata, pd.DataFrame):\n",
    "#         ant_data['feedings'] = fdata[fdata.ant_id==ant]\n",
    "    \n",
    "    return ant_data"
   ]
  },
  {
   "cell_type": "code",
   "execution_count": null,
   "id": "20be1163",
   "metadata": {},
   "outputs": [],
   "source": [
    "def center_of_mass(x_list, y_list, mass_list):\n",
    "    \n",
    "    x_center = np.ma.average(x_list,weights=mass_list)\n",
    "    y_center = np.ma.average(y_list,weights=mass_list)\n",
    "    return [x_center, y_center]"
   ]
  },
  {
   "cell_type": "code",
   "execution_count": null,
   "id": "006549a8",
   "metadata": {},
   "outputs": [],
   "source": [
    "def get_frame_data(ants,frame_idx):\n",
    "    frame_df = pd.DataFrame(columns=['ant','x','y','red_crop','yellow_crop'])\n",
    "    ant_col=[]\n",
    "    x_col=[]\n",
    "    y_col=[]\n",
    "    red_crop_col=[]\n",
    "    yellow_crop_col=[]\n",
    "    for ant in ants:\n",
    "        ant_row = pd\n",
    "        ant_col.append(ant['ant'])\n",
    "        x_col.append(ant['x'][frame_idx])\n",
    "        y_col.append(ant['y'][frame_idx])\n",
    "        red_crop_col.append(ant['red_crop'][frame_idx])\n",
    "        yellow_crop_col.append(ant['yellow_crop'][frame_idx])\n",
    "    frame_df['ant']=ant_col\n",
    "    frame_df['x']=x_col\n",
    "    frame_df['y']=y_col\n",
    "    frame_df['red_crop']=red_crop_col\n",
    "    frame_df['yellow_crop']=yellow_crop_col\n",
    "    return frame_df"
   ]
  },
  {
   "cell_type": "code",
   "execution_count": null,
   "id": "ca1020a4",
   "metadata": {},
   "outputs": [],
   "source": [
    "vid = cv2.VideoCapture(exp_path + sep + r'with food\\blob analysis normalized by white paper' + sep + r\"analyzed movie.avi\")\n",
    "ret, img = vid.read()\n",
    "scale_percent = 10 # percent of original size\n",
    "width = int(img.shape[1] * scale_percent / 100)\n",
    "height = int(img.shape[0] * scale_percent / 100)\n",
    "dim = (width, height)\n",
    "  \n",
    "# resize image\n",
    "resized = cv2.resize(img, dim, interpolation = cv2.INTER_AREA)\n",
    "\n",
    "plt.figure()\n",
    "cv2.imshow('',resized)"
   ]
  },
  {
   "cell_type": "code",
   "execution_count": null,
   "id": "4e129865",
   "metadata": {},
   "outputs": [],
   "source": [
    "def get_nest_wall_x():\n",
    "    # Todo\n",
    "    return nest_wall_x"
   ]
  },
  {
   "cell_type": "code",
   "execution_count": null,
   "id": "23c64525",
   "metadata": {},
   "outputs": [],
   "source": [
    "all_ants_data=[]\n",
    "for ant in ants['ant_id']:\n",
    "    all_ants_data.append(get_ant_data(ant, bdata, crops, conversion_factors))"
   ]
  },
  {
   "cell_type": "code",
   "execution_count": null,
   "id": "1cf86399",
   "metadata": {},
   "outputs": [],
   "source": []
  },
  {
   "cell_type": "code",
   "execution_count": null,
   "id": "553d142f",
   "metadata": {},
   "outputs": [],
   "source": []
  },
  {
   "cell_type": "code",
   "execution_count": null,
   "id": "7e06286a",
   "metadata": {},
   "outputs": [],
   "source": []
  },
  {
   "cell_type": "code",
   "execution_count": null,
   "id": "f5334699",
   "metadata": {},
   "outputs": [],
   "source": []
  },
  {
   "cell_type": "code",
   "execution_count": null,
   "id": "9affa307",
   "metadata": {},
   "outputs": [],
   "source": [
    "nest_wall_x=3100\n",
    "red_centers=[]\n",
    "yellow_centers=[]\n",
    "for frame in np.arange(7500,8500,2):\n",
    "    frame_df = get_frame_data(all_ants_data,frame)\n",
    "    frame_df=frame_df.dropna()\n",
    "    frame_df=frame_df[frame_df['x']<=nest_wall_x]\n",
    "    red_centers.append(center_of_mass(frame_df.dropna()['x'],frame_df['y'],frame_df['red_crop']))\n",
    "    yellow_centers.append(center_of_mass(frame_df.dropna()['x'],frame_df['y'],frame_df['yellow_crop']))\n"
   ]
  },
  {
   "cell_type": "code",
   "execution_count": null,
   "id": "dd7dbf3c",
   "metadata": {},
   "outputs": [],
   "source": []
  },
  {
   "cell_type": "code",
   "execution_count": null,
   "id": "6900b07a",
   "metadata": {},
   "outputs": [],
   "source": [
    "plt.plot(np.array(red_centers).transpose()[0],np.array(red_centers).transpose()[1],'.r')\n",
    "plt.plot(np.array(yellow_centers).transpose()[0],np.array(yellow_centers).transpose()[1],'.y')"
   ]
  },
  {
   "cell_type": "code",
   "execution_count": null,
   "id": "8c353abf",
   "metadata": {},
   "outputs": [],
   "source": [
    "plt.scatter(frame_df['x'],frame_df['y'],s=50*frame_df['red_crop'],color='r',alpha=0.5)\n",
    "plt.scatter(frame_df['x'],frame_df['y'],s=50*frame_df['yellow_crop'],color='y',alpha=0.5)\n",
    "plt.plot(red_centers[-1][0],red_centers[-1][1],'xk',markersize=20)\n",
    "plt.plot(yellow_centers[-1][0],yellow_centers[-1][1],'^k',markersize=20)"
   ]
  },
  {
   "cell_type": "code",
   "execution_count": null,
   "id": "db1780c1",
   "metadata": {},
   "outputs": [],
   "source": [
    "center_of_mass(frame_df.dropna()['x'],frame_df['y'],frame_df['red_crop'])"
   ]
  },
  {
   "cell_type": "code",
   "execution_count": null,
   "id": "a7774bcb",
   "metadata": {},
   "outputs": [],
   "source": [
    "a=[]\n",
    "a.append(center_of_mass(frame_df.dropna()['x'],frame_df['y'],frame_df['red_crop']))\n",
    "a"
   ]
  },
  {
   "cell_type": "code",
   "execution_count": null,
   "id": "a38c19d4",
   "metadata": {},
   "outputs": [],
   "source": [
    "a.append(center_of_mass(frame_df.dropna()['x'],frame_df['y'],frame_df['red_crop']))\n",
    "a"
   ]
  },
  {
   "cell_type": "code",
   "execution_count": null,
   "id": "668bb2fe",
   "metadata": {},
   "outputs": [],
   "source": [
    "np.array(red_centers).transpose()[0]"
   ]
  },
  {
   "cell_type": "code",
   "execution_count": null,
   "id": "38706df0",
   "metadata": {},
   "outputs": [],
   "source": []
  }
 ],
 "metadata": {
  "kernelspec": {
   "display_name": "Python 3",
   "language": "python",
   "name": "python3"
  },
  "language_info": {
   "codemirror_mode": {
    "name": "ipython",
    "version": 3
   },
   "file_extension": ".py",
   "mimetype": "text/x-python",
   "name": "python",
   "nbconvert_exporter": "python",
   "pygments_lexer": "ipython3",
   "version": "3.7.5"
  }
 },
 "nbformat": 4,
 "nbformat_minor": 5
}
