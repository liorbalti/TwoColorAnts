{
 "cells": [
  {
   "cell_type": "code",
   "execution_count": 1,
   "id": "9de02c52",
   "metadata": {},
   "outputs": [],
   "source": [
    "import numpy as np\n",
    "import matplotlib.pyplot as plt\n",
    "import pandas as pd\n",
    "from Data import ExperimentData, AntData\n",
    "from os import sep as sep\n",
    "import os"
   ]
  },
  {
   "cell_type": "code",
   "execution_count": 2,
   "id": "3f1484ed",
   "metadata": {},
   "outputs": [
    {
     "data": {
      "text/html": [
       "<div>\n",
       "<style scoped>\n",
       "    .dataframe tbody tr th:only-of-type {\n",
       "        vertical-align: middle;\n",
       "    }\n",
       "\n",
       "    .dataframe tbody tr th {\n",
       "        vertical-align: top;\n",
       "    }\n",
       "\n",
       "    .dataframe thead th {\n",
       "        text-align: right;\n",
       "    }\n",
       "</style>\n",
       "<table border=\"1\" class=\"dataframe\">\n",
       "  <thead>\n",
       "    <tr style=\"text-align: right;\">\n",
       "      <th></th>\n",
       "      <th>Experiment</th>\n",
       "      <th>Larvae_present</th>\n",
       "      <th>Colony</th>\n",
       "      <th>P_yellow</th>\n",
       "      <th>C_yellow</th>\n",
       "      <th>P_red</th>\n",
       "      <th>C_red</th>\n",
       "    </tr>\n",
       "  </thead>\n",
       "  <tbody>\n",
       "    <tr>\n",
       "      <th>1</th>\n",
       "      <td>11</td>\n",
       "      <td>yes</td>\n",
       "      <td>A</td>\n",
       "      <td>2</td>\n",
       "      <td>1</td>\n",
       "      <td>1</td>\n",
       "      <td>3</td>\n",
       "    </tr>\n",
       "    <tr>\n",
       "      <th>2</th>\n",
       "      <td>12</td>\n",
       "      <td>no</td>\n",
       "      <td>A</td>\n",
       "      <td>2</td>\n",
       "      <td>1</td>\n",
       "      <td>1</td>\n",
       "      <td>3</td>\n",
       "    </tr>\n",
       "    <tr>\n",
       "      <th>3</th>\n",
       "      <td>13</td>\n",
       "      <td>no</td>\n",
       "      <td>A</td>\n",
       "      <td>2</td>\n",
       "      <td>1</td>\n",
       "      <td>1</td>\n",
       "      <td>3</td>\n",
       "    </tr>\n",
       "    <tr>\n",
       "      <th>4</th>\n",
       "      <td>16</td>\n",
       "      <td>no</td>\n",
       "      <td>B</td>\n",
       "      <td>2</td>\n",
       "      <td>1</td>\n",
       "      <td>1</td>\n",
       "      <td>3</td>\n",
       "    </tr>\n",
       "    <tr>\n",
       "      <th>5</th>\n",
       "      <td>17</td>\n",
       "      <td>no</td>\n",
       "      <td>B</td>\n",
       "      <td>2</td>\n",
       "      <td>1</td>\n",
       "      <td>1</td>\n",
       "      <td>3</td>\n",
       "    </tr>\n",
       "    <tr>\n",
       "      <th>6</th>\n",
       "      <td>18</td>\n",
       "      <td>yes</td>\n",
       "      <td>A</td>\n",
       "      <td>2</td>\n",
       "      <td>1</td>\n",
       "      <td>1</td>\n",
       "      <td>3</td>\n",
       "    </tr>\n",
       "    <tr>\n",
       "      <th>7</th>\n",
       "      <td>19</td>\n",
       "      <td>yes</td>\n",
       "      <td>A</td>\n",
       "      <td>2</td>\n",
       "      <td>1</td>\n",
       "      <td>1</td>\n",
       "      <td>3</td>\n",
       "    </tr>\n",
       "    <tr>\n",
       "      <th>8</th>\n",
       "      <td>20</td>\n",
       "      <td>yes</td>\n",
       "      <td>A</td>\n",
       "      <td>2</td>\n",
       "      <td>1</td>\n",
       "      <td>1</td>\n",
       "      <td>3</td>\n",
       "    </tr>\n",
       "    <tr>\n",
       "      <th>9</th>\n",
       "      <td>21</td>\n",
       "      <td>no</td>\n",
       "      <td>B</td>\n",
       "      <td>2</td>\n",
       "      <td>1</td>\n",
       "      <td>1</td>\n",
       "      <td>3</td>\n",
       "    </tr>\n",
       "    <tr>\n",
       "      <th>10</th>\n",
       "      <td>22</td>\n",
       "      <td>no</td>\n",
       "      <td>B</td>\n",
       "      <td>2</td>\n",
       "      <td>1</td>\n",
       "      <td>1</td>\n",
       "      <td>6</td>\n",
       "    </tr>\n",
       "    <tr>\n",
       "      <th>11</th>\n",
       "      <td>23</td>\n",
       "      <td>no</td>\n",
       "      <td>B</td>\n",
       "      <td>2</td>\n",
       "      <td>1</td>\n",
       "      <td>1</td>\n",
       "      <td>6</td>\n",
       "    </tr>\n",
       "    <tr>\n",
       "      <th>12</th>\n",
       "      <td>24</td>\n",
       "      <td>no</td>\n",
       "      <td>B</td>\n",
       "      <td>2</td>\n",
       "      <td>1</td>\n",
       "      <td>1</td>\n",
       "      <td>6</td>\n",
       "    </tr>\n",
       "  </tbody>\n",
       "</table>\n",
       "</div>"
      ],
      "text/plain": [
       "   Experiment Larvae_present Colony  P_yellow  C_yellow  P_red  C_red\n",
       "1          11            yes      A         2         1      1      3\n",
       "2          12             no      A         2         1      1      3\n",
       "3          13             no      A         2         1      1      3\n",
       "4          16             no      B         2         1      1      3\n",
       "5          17             no      B         2         1      1      3\n",
       "6          18            yes      A         2         1      1      3\n",
       "7          19            yes      A         2         1      1      3\n",
       "8          20            yes      A         2         1      1      3\n",
       "9          21             no      B         2         1      1      3\n",
       "10         22             no      B         2         1      1      6\n",
       "11         23             no      B         2         1      1      6\n",
       "12         24             no      B         2         1      1      6"
      ]
     },
     "execution_count": 2,
     "metadata": {},
     "output_type": "execute_result"
    }
   ],
   "source": [
    "root_path = 'Y:\\Lior&Einav\\Experiments'\n",
    "exp_details = pd.read_excel(root_path + sep + 'Experiments_details.xlsx', engine='openpyxl')\n",
    "exp_details = exp_details.drop(index=0)  # remove pilot experiment\n",
    "#exps_to_remove = [20, 23]\n",
    "#exp_details = exp_details.drop(exp_details[exp_details.Experiment.isin(exps_to_remove)].index)\n",
    "exp_details"
   ]
  },
  {
   "cell_type": "code",
   "execution_count": 3,
   "id": "4304184a",
   "metadata": {},
   "outputs": [],
   "source": [
    "def get_exp_path(exp_num, root_path):\n",
    "    folderlist = os.listdir(root_path)\n",
    "    exp_folder = [x for x in folderlist if x.startswith('experiment'+str(exp_num))]\n",
    "    return root_path + sep + exp_folder[0]"
   ]
  },
  {
   "cell_type": "code",
   "execution_count": 4,
   "id": "b23e1070",
   "metadata": {},
   "outputs": [],
   "source": [
    "def get_PC_ratios_dict(exp_details,row_idx):\n",
    "    PC_ratios_dict = {}\n",
    "    for color in ['yellow', 'red']:\n",
    "        PC_ratios_dict[color] = [exp_details.loc[row_idx,'P_'+color], exp_details.loc[row_idx,'C_'+color]]\n",
    "    return PC_ratios_dict"
   ]
  },
  {
   "cell_type": "code",
   "execution_count": 5,
   "id": "6afd1de8",
   "metadata": {},
   "outputs": [],
   "source": [
    "def get_crop_data_dict(exp_num, crop_file_name=r\"clean_crops_transparency_corrected.csv\"):\n",
    "    exp_path = get_exp_path(exp_num, root_path)\n",
    "    crop_data = pd.read_csv(exp_path + sep + crop_file_name, header=[0,1])\n",
    "    conversion_factors = pd.read_csv(exp_path + sep + r\"conversion_factors_by_weight_and_feeding_sum.csv\")\n",
    "    \n",
    "    crop_data_dict = {}\n",
    "    for color in ['red','yellow']:\n",
    "        crop_data_dict[color] = crop_data.xs(color, axis=1, level=1, drop_level=False)/conversion_factors[color][0]\n",
    "    \n",
    "    return crop_data_dict"
   ]
  },
  {
   "cell_type": "code",
   "execution_count": 6,
   "id": "f4e96ddd",
   "metadata": {},
   "outputs": [],
   "source": [
    "def get_ant_yellow_fraction(crop_data_dict,ant):\n",
    "    y = crop_data_dict['yellow'][ant].values\n",
    "    r = crop_data_dict['red'][ant].values\n",
    "    return y/(y+r)"
   ]
  },
  {
   "cell_type": "code",
   "execution_count": 7,
   "id": "bf78b800",
   "metadata": {},
   "outputs": [],
   "source": [
    "def get_all_yellow_fractions(crop_data_dict):\n",
    "    ants = crop_data_dict['red'].columns.droplevel(1).to_list()\n",
    "    yellow_fractions = pd.DataFrame(columns=ants)\n",
    "    for ant in ants:\n",
    "        yellow_fractions[ant] = get_ant_yellow_fraction(crop_data_dict,ant).flatten()\n",
    "    return yellow_fractions"
   ]
  },
  {
   "cell_type": "code",
   "execution_count": 8,
   "id": "5ec72150",
   "metadata": {},
   "outputs": [],
   "source": [
    "def get_colony_ratio(crop_data_dict,frame=-100):\n",
    "    red_total = crop_data_dict['red'].iloc[frame].sum()\n",
    "    yellow_total = crop_data_dict['yellow'].iloc[frame].sum()\n",
    "    colony_ratio = yellow_total/(yellow_total+red_total)\n",
    "    return colony_ratio"
   ]
  },
  {
   "cell_type": "code",
   "execution_count": 9,
   "id": "ecc4c781",
   "metadata": {},
   "outputs": [],
   "source": [
    "def plot_crop_distribution(yellow_fractions, colony_ratio, color, ax, frame=-100, hist_bins=np.linspace(0,1,11)):\n",
    "    ax.hist(yellow_fractions.iloc[frame], hist_bins, color=color, alpha=0.5, density=True)\n",
    "    ax.axvline(colony_ratio, linestyle='--', color='k')\n",
    "    #plt.xlabel('Fraction of protein-rich food in crop')\n",
    "    #plt.ylabel('PDF')"
   ]
  },
  {
   "cell_type": "code",
   "execution_count": 10,
   "id": "3d5268de",
   "metadata": {},
   "outputs": [],
   "source": [
    "larvae_present = exp_details.Experiment[exp_details.Larvae_present == 'yes'].to_list()\n",
    "no_larvae = exp_details.Experiment[(exp_details.Colony == 'B') & (exp_details.C_red==3)].to_list()\n",
    "extra_sugar = exp_details.Experiment[exp_details.C_red==6].to_list()"
   ]
  },
  {
   "cell_type": "code",
   "execution_count": 12,
   "id": "2e9fb7f9",
   "metadata": {},
   "outputs": [
    {
     "name": "stderr",
     "output_type": "stream",
     "text": [
      "C:\\Users\\liorba\\Anaconda3\\lib\\site-packages\\ipykernel_launcher.py:4: RuntimeWarning: invalid value encountered in true_divide\n",
      "  after removing the cwd from sys.path.\n"
     ]
    },
    {
     "data": {
      "text/plain": [
       "Text(0, 0.5, 'PDF')"
      ]
     },
     "execution_count": 12,
     "metadata": {},
     "output_type": "execute_result"
    }
   ],
   "source": [
    "%matplotlib qt\n",
    "fig,ax = plt.subplots(2,4)\n",
    "counter=0\n",
    "for exp_num in larvae_present:\n",
    "    crop_data_dict = get_crop_data_dict(exp_num)\n",
    "    yellow_fractions = get_all_yellow_fractions(crop_data_dict)\n",
    "    colony_ratio = get_colony_ratio(crop_data_dict)\n",
    "    plot_crop_distribution(yellow_fractions, colony_ratio, 'b',ax[0,counter])\n",
    "    counter+=1\n",
    "\n",
    "counter=0\n",
    "for exp_num in no_larvae:\n",
    "    crop_data_dict = get_crop_data_dict(exp_num)\n",
    "    yellow_fractions = get_all_yellow_fractions(crop_data_dict)\n",
    "    colony_ratio = get_colony_ratio(crop_data_dict)\n",
    "    plot_crop_distribution(yellow_fractions, colony_ratio,'m',ax[1,counter])\n",
    "    counter+=1\n",
    "\n",
    "fig.supxlabel('Fraction of protein-rich food in crop')\n",
    "# fig.supylabel('PDF')\n",
    "ax[0,0].set_ylabel('PDF')\n",
    "ax[1,0].set_ylabel('PDF')"
   ]
  },
  {
   "cell_type": "code",
   "execution_count": null,
   "id": "99894865",
   "metadata": {},
   "outputs": [],
   "source": [
    "crop_data_dict['red'].iloc[-100].sum()"
   ]
  },
  {
   "cell_type": "code",
   "execution_count": null,
   "id": "f8d82b36",
   "metadata": {},
   "outputs": [],
   "source": []
  }
 ],
 "metadata": {
  "kernelspec": {
   "display_name": "Python 3",
   "language": "python",
   "name": "python3"
  },
  "language_info": {
   "codemirror_mode": {
    "name": "ipython",
    "version": 3
   },
   "file_extension": ".py",
   "mimetype": "text/x-python",
   "name": "python",
   "nbconvert_exporter": "python",
   "pygments_lexer": "ipython3",
   "version": "3.7.4"
  }
 },
 "nbformat": 4,
 "nbformat_minor": 5
}
