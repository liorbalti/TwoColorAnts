{
 "cells": [
  {
   "cell_type": "code",
   "execution_count": 1,
   "id": "e6c5ccec",
   "metadata": {},
   "outputs": [],
   "source": [
    "import numpy as np\n",
    "import matplotlib.pyplot as plt\n",
    "import pandas as pd\n",
    "from Data import ExperimentData, AntData\n",
    "from os import sep as sep\n",
    "import os\n",
    "import Data"
   ]
  },
  {
   "cell_type": "code",
   "execution_count": 2,
   "id": "007b1667",
   "metadata": {},
   "outputs": [
    {
     "data": {
      "text/html": [
       "<div>\n",
       "<style scoped>\n",
       "    .dataframe tbody tr th:only-of-type {\n",
       "        vertical-align: middle;\n",
       "    }\n",
       "\n",
       "    .dataframe tbody tr th {\n",
       "        vertical-align: top;\n",
       "    }\n",
       "\n",
       "    .dataframe thead th {\n",
       "        text-align: right;\n",
       "    }\n",
       "</style>\n",
       "<table border=\"1\" class=\"dataframe\">\n",
       "  <thead>\n",
       "    <tr style=\"text-align: right;\">\n",
       "      <th></th>\n",
       "      <th>Experiment</th>\n",
       "      <th>Larvae_present</th>\n",
       "      <th>Colony</th>\n",
       "      <th>P_yellow</th>\n",
       "      <th>C_yellow</th>\n",
       "      <th>P_red</th>\n",
       "      <th>C_red</th>\n",
       "    </tr>\n",
       "  </thead>\n",
       "  <tbody>\n",
       "    <tr>\n",
       "      <th>1</th>\n",
       "      <td>11</td>\n",
       "      <td>yes</td>\n",
       "      <td>A</td>\n",
       "      <td>2</td>\n",
       "      <td>1</td>\n",
       "      <td>1</td>\n",
       "      <td>3</td>\n",
       "    </tr>\n",
       "    <tr>\n",
       "      <th>2</th>\n",
       "      <td>12</td>\n",
       "      <td>no</td>\n",
       "      <td>A</td>\n",
       "      <td>2</td>\n",
       "      <td>1</td>\n",
       "      <td>1</td>\n",
       "      <td>3</td>\n",
       "    </tr>\n",
       "    <tr>\n",
       "      <th>3</th>\n",
       "      <td>13</td>\n",
       "      <td>no</td>\n",
       "      <td>A</td>\n",
       "      <td>2</td>\n",
       "      <td>1</td>\n",
       "      <td>1</td>\n",
       "      <td>3</td>\n",
       "    </tr>\n",
       "    <tr>\n",
       "      <th>4</th>\n",
       "      <td>16</td>\n",
       "      <td>no</td>\n",
       "      <td>B</td>\n",
       "      <td>2</td>\n",
       "      <td>1</td>\n",
       "      <td>1</td>\n",
       "      <td>3</td>\n",
       "    </tr>\n",
       "    <tr>\n",
       "      <th>5</th>\n",
       "      <td>17</td>\n",
       "      <td>no</td>\n",
       "      <td>B</td>\n",
       "      <td>2</td>\n",
       "      <td>1</td>\n",
       "      <td>1</td>\n",
       "      <td>3</td>\n",
       "    </tr>\n",
       "    <tr>\n",
       "      <th>6</th>\n",
       "      <td>18</td>\n",
       "      <td>yes</td>\n",
       "      <td>A</td>\n",
       "      <td>2</td>\n",
       "      <td>1</td>\n",
       "      <td>1</td>\n",
       "      <td>3</td>\n",
       "    </tr>\n",
       "    <tr>\n",
       "      <th>7</th>\n",
       "      <td>19</td>\n",
       "      <td>yes</td>\n",
       "      <td>A</td>\n",
       "      <td>2</td>\n",
       "      <td>1</td>\n",
       "      <td>1</td>\n",
       "      <td>3</td>\n",
       "    </tr>\n",
       "    <tr>\n",
       "      <th>8</th>\n",
       "      <td>20</td>\n",
       "      <td>yes</td>\n",
       "      <td>A</td>\n",
       "      <td>2</td>\n",
       "      <td>1</td>\n",
       "      <td>1</td>\n",
       "      <td>3</td>\n",
       "    </tr>\n",
       "    <tr>\n",
       "      <th>9</th>\n",
       "      <td>21</td>\n",
       "      <td>no</td>\n",
       "      <td>B</td>\n",
       "      <td>2</td>\n",
       "      <td>1</td>\n",
       "      <td>1</td>\n",
       "      <td>3</td>\n",
       "    </tr>\n",
       "    <tr>\n",
       "      <th>10</th>\n",
       "      <td>22</td>\n",
       "      <td>no</td>\n",
       "      <td>B</td>\n",
       "      <td>2</td>\n",
       "      <td>1</td>\n",
       "      <td>1</td>\n",
       "      <td>6</td>\n",
       "    </tr>\n",
       "    <tr>\n",
       "      <th>11</th>\n",
       "      <td>23</td>\n",
       "      <td>no</td>\n",
       "      <td>B</td>\n",
       "      <td>2</td>\n",
       "      <td>1</td>\n",
       "      <td>1</td>\n",
       "      <td>6</td>\n",
       "    </tr>\n",
       "    <tr>\n",
       "      <th>12</th>\n",
       "      <td>24</td>\n",
       "      <td>no</td>\n",
       "      <td>B</td>\n",
       "      <td>2</td>\n",
       "      <td>1</td>\n",
       "      <td>1</td>\n",
       "      <td>6</td>\n",
       "    </tr>\n",
       "  </tbody>\n",
       "</table>\n",
       "</div>"
      ],
      "text/plain": [
       "   Experiment Larvae_present Colony  P_yellow  C_yellow  P_red  C_red\n",
       "1          11            yes      A         2         1      1      3\n",
       "2          12             no      A         2         1      1      3\n",
       "3          13             no      A         2         1      1      3\n",
       "4          16             no      B         2         1      1      3\n",
       "5          17             no      B         2         1      1      3\n",
       "6          18            yes      A         2         1      1      3\n",
       "7          19            yes      A         2         1      1      3\n",
       "8          20            yes      A         2         1      1      3\n",
       "9          21             no      B         2         1      1      3\n",
       "10         22             no      B         2         1      1      6\n",
       "11         23             no      B         2         1      1      6\n",
       "12         24             no      B         2         1      1      6"
      ]
     },
     "execution_count": 2,
     "metadata": {},
     "output_type": "execute_result"
    }
   ],
   "source": [
    "root_path = 'Y:\\Lior&Einav\\Experiments'\n",
    "exp_details = pd.read_excel(root_path + sep + 'Experiments_details.xlsx', engine='openpyxl')\n",
    "exp_details = exp_details.drop(index=0)  # remove pilot experiment\n",
    "# exps_to_remove = [20, 23]\n",
    "# exp_details = exp_details.drop(exp_details[exp_details.Experiment.isin(exps_to_remove)].index)\n",
    "exp_details"
   ]
  },
  {
   "cell_type": "code",
   "execution_count": 3,
   "id": "ae13ae6c",
   "metadata": {},
   "outputs": [],
   "source": [
    "def get_exp_path(exp_num, root_path):\n",
    "    folderlist = os.listdir(root_path)\n",
    "    exp_folder = [x for x in folderlist if x.startswith('experiment'+str(exp_num))]\n",
    "    return root_path + sep + exp_folder[0]"
   ]
  },
  {
   "cell_type": "code",
   "execution_count": 4,
   "id": "7c59234a",
   "metadata": {},
   "outputs": [],
   "source": [
    "def get_PC_ratios_dict(exp_details,row_idx):\n",
    "    PC_ratios_dict = {}\n",
    "    for color in ['yellow', 'red']:\n",
    "        PC_ratios_dict[color] = [exp_details.loc[row_idx,'P_'+color], exp_details.loc[row_idx,'C_'+color]]\n",
    "    return PC_ratios_dict"
   ]
  },
  {
   "cell_type": "code",
   "execution_count": 5,
   "id": "ca5e6c5c",
   "metadata": {},
   "outputs": [],
   "source": [
    "def get_crop_data_dict(exp_num, crop_file_name=r\"clean_crops_transparency_corrected.csv\"):\n",
    "    exp_path = get_exp_path(exp_num, root_path)\n",
    "    crop_data = pd.read_csv(exp_path + sep + crop_file_name, header=[0,1])\n",
    "    conversion_factors = pd.read_csv(exp_path + sep + r\"conversion_factors_by_weight_and_feeding_sum.csv\")\n",
    "    \n",
    "    crop_data_dict = {}\n",
    "    for color in ['red','yellow']:\n",
    "        crop_data_dict[color] = crop_data.xs(color, axis=1, level=1, drop_level=False)/conversion_factors[color][0]\n",
    "    \n",
    "    return crop_data_dict"
   ]
  },
  {
   "cell_type": "code",
   "execution_count": 6,
   "id": "2cf95b2c",
   "metadata": {},
   "outputs": [],
   "source": [
    "def crop_composition_to_PC_amounts(crop_yellow, crop_red, PC_ratios_dict):\n",
    "    P_yellow, C_yellow = Data.food_volume_to_PC_amounts(crop_yellow, PC_ratios_dict['yellow'])\n",
    "    P_red, C_red = Data.food_volume_to_PC_amounts(crop_red, PC_ratios_dict['red'])\n",
    "    P = P_yellow + P_red\n",
    "    C = C_yellow + C_red\n",
    "    return P, C"
   ]
  },
  {
   "cell_type": "code",
   "execution_count": 7,
   "id": "57a798a7",
   "metadata": {},
   "outputs": [],
   "source": [
    "def get_frame_PC_amounts(crop_data_dict,PC_ratios_dict,frame=-100):\n",
    "    ants = crop_data_dict['red'].columns.droplevel(1).to_list()\n",
    "    PC_df = pd.DataFrame(index=ants, columns=['P_mg', 'C_mg'])\n",
    "    PC_df\n",
    "    for ant in ants:\n",
    "        P_ant, C_ant = crop_composition_to_PC_amounts(crop_data_dict['yellow'].iloc[frame][ant]['yellow'], \n",
    "                                                      crop_data_dict['red'].iloc[frame][ant]['red'], \n",
    "                                                      PC_ratios_dict)\n",
    "        PC_df.loc[ant]['P_mg'] = P_ant\n",
    "        PC_df.loc[ant]['C_mg'] = C_ant\n",
    "\n",
    "    return PC_df"
   ]
  },
  {
   "cell_type": "code",
   "execution_count": null,
   "id": "8d386ef8",
   "metadata": {},
   "outputs": [],
   "source": []
  },
  {
   "cell_type": "code",
   "execution_count": 12,
   "id": "1b980b39",
   "metadata": {},
   "outputs": [],
   "source": [
    "def plot_GF(PC_df, PC_ratios_dict, color, ax):\n",
    "    \n",
    "    # food rails\n",
    "    m = 29\n",
    "    n = 22\n",
    "    x_p = PC_ratios_dict['yellow'][0]\n",
    "    y_p = PC_ratios_dict['yellow'][1]\n",
    "    x_c = PC_ratios_dict['red'][0]\n",
    "    y_c = PC_ratios_dict['red'][1]\n",
    "    ax.plot([0, m*x_p],[0, m*y_p],'k',linewidth=0.8)\n",
    "    ax.plot([0,n*x_c],[0, n*y_c],'k',linewidth=0.8)\n",
    "    \n",
    "    # colony intake line\n",
    "    ax.plot([0,PC_df['P_mg'].sum()],[0,PC_df['C_mg'].sum()],'--k',linewidth=1)\n",
    "    \n",
    "    # ants data\n",
    "    ax.scatter(PC_df['P_mg'], PC_df['C_mg'], color=color, s=9)\n",
    "    \n",
    "    #max_lim = max(PC_df['P_mg'].max(), PC_df['C_mg'].max())*1.1\n",
    "    max_lim=3\n",
    "    \n",
    "    ax.set_xlim([0,max_lim])\n",
    "    ax.set_ylim([0,max_lim])\n",
    "    #ax.set_xlabel('Protein [mg]')\n",
    "    #ax.set_ylabel('Carbohydrates [mg]')\n",
    "    ax.set_aspect('equal', 'box')\n",
    "    #ax.tight_layout()"
   ]
  },
  {
   "cell_type": "code",
   "execution_count": 13,
   "id": "40858fcb",
   "metadata": {},
   "outputs": [],
   "source": [
    "larvae_present = exp_details.Experiment[exp_details.Larvae_present == 'yes'].to_list()\n",
    "no_larvae = exp_details.Experiment[(exp_details.Colony == 'B') & (exp_details.C_red==3)].to_list()\n",
    "extra_sugar = exp_details.Experiment[exp_details.C_red==6].to_list()"
   ]
  },
  {
   "cell_type": "code",
   "execution_count": 14,
   "id": "d17e4963",
   "metadata": {},
   "outputs": [
    {
     "data": {
      "text/plain": [
       "Text(0, 0.5, 'C [mg]')"
      ]
     },
     "execution_count": 14,
     "metadata": {},
     "output_type": "execute_result"
    }
   ],
   "source": [
    "%matplotlib qt\n",
    "fig, ax = plt.subplots(2,4)\n",
    "counter = 0\n",
    "for exp_num in larvae_present:\n",
    "    exp_path = get_exp_path(exp_num, root_path)\n",
    "    exp_idx = exp_details.index[exp_details.Experiment==exp_num][0]\n",
    "    PC_ratios_dict = get_PC_ratios_dict(exp_details,exp_idx)\n",
    "    crop_data_dict = get_crop_data_dict(exp_num)\n",
    "    PC_df = get_frame_PC_amounts(crop_data_dict,PC_ratios_dict)\n",
    "    plot_GF(PC_df, PC_ratios_dict, 'b', ax[0,counter])\n",
    "    counter += 1\n",
    "\n",
    "counter = 0\n",
    "for exp_num in no_larvae:\n",
    "    exp_path = get_exp_path(exp_num, root_path)\n",
    "    exp_idx = exp_details.index[exp_details.Experiment==exp_num][0]\n",
    "    PC_ratios_dict = get_PC_ratios_dict(exp_details,exp_idx)\n",
    "    crop_data_dict = get_crop_data_dict(exp_num)\n",
    "    PC_df = get_frame_PC_amounts(crop_data_dict,PC_ratios_dict)\n",
    "    plot_GF(PC_df, PC_ratios_dict, 'm', ax[1,counter])\n",
    "    counter += 1\n",
    "\n",
    "fig.supxlabel('P [mg]')\n",
    "ax[0,0].set_ylabel('C [mg]')\n",
    "ax[1,0].set_ylabel('C [mg]')"
   ]
  },
  {
   "cell_type": "code",
   "execution_count": 15,
   "id": "0f732388",
   "metadata": {},
   "outputs": [],
   "source": [
    "fig, ax = plt.subplots()\n",
    "plot_GF(PC_df, PC_ratios_dict, 'b', ax)"
   ]
  },
  {
   "cell_type": "code",
   "execution_count": null,
   "id": "64a6598a",
   "metadata": {},
   "outputs": [],
   "source": []
  },
  {
   "cell_type": "code",
   "execution_count": null,
   "id": "fd2622eb",
   "metadata": {},
   "outputs": [],
   "source": [
    "ants = crop_data_dict['red'].columns.droplevel(1).to_list()\n",
    "PC_df = pd.DataFrame(index=ants, columns=['P_mg', 'C_mg'])\n",
    "PC_df\n",
    "for ant in ants:\n",
    "    P_ant, C_ant = crop_composition_to_PC_amounts(crop_data_dict['yellow'].iloc[-100][ant]['yellow'], \n",
    "                                                  crop_data_dict['red'].iloc[-100][ant]['red'], \n",
    "                                                  PC_ratios_dict)\n",
    "    PC_df.loc[ant]['P_mg'] = P_ant\n",
    "    PC_df.loc[ant]['C_mg'] = C_ant\n",
    "\n",
    "PC_df"
   ]
  },
  {
   "cell_type": "code",
   "execution_count": null,
   "id": "4090fc0b",
   "metadata": {},
   "outputs": [],
   "source": [
    "plt.scatter(PC_df['P_mg'],PC_df['C_mg'])"
   ]
  },
  {
   "cell_type": "code",
   "execution_count": null,
   "id": "a0eb5259",
   "metadata": {},
   "outputs": [],
   "source": [
    "PC_ratios_dict['yellow']"
   ]
  },
  {
   "cell_type": "code",
   "execution_count": null,
   "id": "9e2a3d6b",
   "metadata": {},
   "outputs": [],
   "source": [
    "crop_data_dict['yellow'].iloc[-100]\n"
   ]
  },
  {
   "cell_type": "code",
   "execution_count": null,
   "id": "db4cea8e",
   "metadata": {},
   "outputs": [],
   "source": [
    "ant"
   ]
  },
  {
   "cell_type": "code",
   "execution_count": null,
   "id": "951b33b2",
   "metadata": {},
   "outputs": [],
   "source": [
    "ants = crop_data_dict['red'].columns.droplevel(1).to_list()\n",
    "ants"
   ]
  },
  {
   "cell_type": "code",
   "execution_count": null,
   "id": "39342d98",
   "metadata": {},
   "outputs": [],
   "source": [
    "crop_data_dict['red']"
   ]
  },
  {
   "cell_type": "code",
   "execution_count": null,
   "id": "845b68b4",
   "metadata": {},
   "outputs": [],
   "source": []
  }
 ],
 "metadata": {
  "kernelspec": {
   "display_name": "Python 3",
   "language": "python",
   "name": "python3"
  },
  "language_info": {
   "codemirror_mode": {
    "name": "ipython",
    "version": 3
   },
   "file_extension": ".py",
   "mimetype": "text/x-python",
   "name": "python",
   "nbconvert_exporter": "python",
   "pygments_lexer": "ipython3",
   "version": "3.7.4"
  }
 },
 "nbformat": 4,
 "nbformat_minor": 5
}
