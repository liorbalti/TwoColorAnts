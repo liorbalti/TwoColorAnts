{
 "cells": [
  {
   "cell_type": "code",
   "execution_count": 3,
   "metadata": {},
   "outputs": [],
   "source": [
    "import matplotlib.pyplot as plt\n",
    "import numpy as np\n",
    "import pandas as pd\n",
    "from Data import ExperimentData, AntData, ForagerData"
   ]
  },
  {
   "cell_type": "code",
   "execution_count": 24,
   "metadata": {},
   "outputs": [],
   "source": [
    "exp_num = 18\n",
    "exp1 = ExperimentData(18,bdata_path='blob analysis normalized by white paper')\n"
   ]
  },
  {
   "cell_type": "code",
   "execution_count": null,
   "metadata": {},
   "outputs": [],
   "source": []
  },
  {
   "cell_type": "code",
   "execution_count": 28,
   "metadata": {},
   "outputs": [
    {
     "data": {
      "text/html": [
       "<div>\n",
       "<style scoped>\n",
       "    .dataframe tbody tr th:only-of-type {\n",
       "        vertical-align: middle;\n",
       "    }\n",
       "\n",
       "    .dataframe tbody tr th {\n",
       "        vertical-align: top;\n",
       "    }\n",
       "\n",
       "    .dataframe thead th {\n",
       "        text-align: right;\n",
       "    }\n",
       "</style>\n",
       "<table border=\"1\" class=\"dataframe\">\n",
       "  <thead>\n",
       "    <tr style=\"text-align: right;\">\n",
       "      <th></th>\n",
       "      <th>red</th>\n",
       "      <th>yellow</th>\n",
       "    </tr>\n",
       "  </thead>\n",
       "  <tbody>\n",
       "    <tr>\n",
       "      <th>0</th>\n",
       "      <td>44232.017294</td>\n",
       "      <td>30410.589555</td>\n",
       "    </tr>\n",
       "  </tbody>\n",
       "</table>\n",
       "</div>"
      ],
      "text/plain": [
       "            red        yellow\n",
       "0  44232.017294  30410.589555"
      ]
     },
     "execution_count": 28,
     "metadata": {},
     "output_type": "execute_result"
    }
   ],
   "source": [
    "exp1.conversion_factors_by_weights_df"
   ]
  },
  {
   "cell_type": "code",
   "execution_count": null,
   "metadata": {},
   "outputs": [],
   "source": [
    "ant1 = 1116\n",
    "ant2 = 1164\n",
    "start_frame = 2046\n",
    "end_frame = 3012"
   ]
  },
  {
   "cell_type": "code",
   "execution_count": null,
   "metadata": {},
   "outputs": [],
   "source": []
  },
  {
   "cell_type": "code",
   "execution_count": 5,
   "metadata": {},
   "outputs": [
    {
     "data": {
      "text/html": [
       "<div>\n",
       "<style scoped>\n",
       "    .dataframe tbody tr th:only-of-type {\n",
       "        vertical-align: middle;\n",
       "    }\n",
       "\n",
       "    .dataframe tbody tr th {\n",
       "        vertical-align: top;\n",
       "    }\n",
       "\n",
       "    .dataframe thead th {\n",
       "        text-align: right;\n",
       "    }\n",
       "</style>\n",
       "<table border=\"1\" class=\"dataframe\">\n",
       "  <thead>\n",
       "    <tr style=\"text-align: right;\">\n",
       "      <th></th>\n",
       "      <th>Unnamed: 0</th>\n",
       "      <th>frame</th>\n",
       "      <th>time</th>\n",
       "      <th>acquisition</th>\n",
       "      <th>a10-angle</th>\n",
       "      <th>a10-crop_area</th>\n",
       "      <th>a10-crop_intensity</th>\n",
       "      <th>a10-error</th>\n",
       "      <th>a10-original_x</th>\n",
       "      <th>a10-original_y</th>\n",
       "      <th>...</th>\n",
       "      <th>a1421-x</th>\n",
       "      <th>a1421-y</th>\n",
       "      <th>a1150-angle</th>\n",
       "      <th>a1150-crop_area</th>\n",
       "      <th>a1150-crop_intensity</th>\n",
       "      <th>a1150-error</th>\n",
       "      <th>a1150-original_x</th>\n",
       "      <th>a1150-original_y</th>\n",
       "      <th>a1150-x</th>\n",
       "      <th>a1150-y</th>\n",
       "    </tr>\n",
       "  </thead>\n",
       "  <tbody>\n",
       "    <tr>\n",
       "      <th>0</th>\n",
       "      <td>0</td>\n",
       "      <td>41</td>\n",
       "      <td>57.399</td>\n",
       "      <td>BLGF</td>\n",
       "      <td>132.433893</td>\n",
       "      <td>0.0</td>\n",
       "      <td>0.0</td>\n",
       "      <td>0.0</td>\n",
       "      <td>5376.0</td>\n",
       "      <td>509.0</td>\n",
       "      <td>...</td>\n",
       "      <td>NaN</td>\n",
       "      <td>NaN</td>\n",
       "      <td>NaN</td>\n",
       "      <td>NaN</td>\n",
       "      <td>NaN</td>\n",
       "      <td>NaN</td>\n",
       "      <td>NaN</td>\n",
       "      <td>NaN</td>\n",
       "      <td>NaN</td>\n",
       "      <td>NaN</td>\n",
       "    </tr>\n",
       "    <tr>\n",
       "      <th>1</th>\n",
       "      <td>1</td>\n",
       "      <td>42</td>\n",
       "      <td>58.799</td>\n",
       "      <td>GLRF</td>\n",
       "      <td>130.803137</td>\n",
       "      <td>0.0</td>\n",
       "      <td>0.0</td>\n",
       "      <td>0.0</td>\n",
       "      <td>5375.0</td>\n",
       "      <td>509.0</td>\n",
       "      <td>...</td>\n",
       "      <td>NaN</td>\n",
       "      <td>NaN</td>\n",
       "      <td>NaN</td>\n",
       "      <td>NaN</td>\n",
       "      <td>NaN</td>\n",
       "      <td>NaN</td>\n",
       "      <td>NaN</td>\n",
       "      <td>NaN</td>\n",
       "      <td>NaN</td>\n",
       "      <td>NaN</td>\n",
       "    </tr>\n",
       "    <tr>\n",
       "      <th>2</th>\n",
       "      <td>2</td>\n",
       "      <td>43</td>\n",
       "      <td>60.200</td>\n",
       "      <td>BLGF</td>\n",
       "      <td>130.803137</td>\n",
       "      <td>0.0</td>\n",
       "      <td>0.0</td>\n",
       "      <td>0.0</td>\n",
       "      <td>5375.0</td>\n",
       "      <td>508.0</td>\n",
       "      <td>...</td>\n",
       "      <td>NaN</td>\n",
       "      <td>NaN</td>\n",
       "      <td>NaN</td>\n",
       "      <td>NaN</td>\n",
       "      <td>NaN</td>\n",
       "      <td>NaN</td>\n",
       "      <td>NaN</td>\n",
       "      <td>NaN</td>\n",
       "      <td>NaN</td>\n",
       "      <td>NaN</td>\n",
       "    </tr>\n",
       "    <tr>\n",
       "      <th>3</th>\n",
       "      <td>3</td>\n",
       "      <td>44</td>\n",
       "      <td>61.599</td>\n",
       "      <td>GLRF</td>\n",
       "      <td>132.643767</td>\n",
       "      <td>0.0</td>\n",
       "      <td>0.0</td>\n",
       "      <td>0.0</td>\n",
       "      <td>5375.0</td>\n",
       "      <td>508.0</td>\n",
       "      <td>...</td>\n",
       "      <td>NaN</td>\n",
       "      <td>NaN</td>\n",
       "      <td>NaN</td>\n",
       "      <td>NaN</td>\n",
       "      <td>NaN</td>\n",
       "      <td>NaN</td>\n",
       "      <td>NaN</td>\n",
       "      <td>NaN</td>\n",
       "      <td>NaN</td>\n",
       "      <td>NaN</td>\n",
       "    </tr>\n",
       "    <tr>\n",
       "      <th>4</th>\n",
       "      <td>4</td>\n",
       "      <td>45</td>\n",
       "      <td>62.999</td>\n",
       "      <td>BLGF</td>\n",
       "      <td>130.915043</td>\n",
       "      <td>0.0</td>\n",
       "      <td>0.0</td>\n",
       "      <td>0.0</td>\n",
       "      <td>5375.0</td>\n",
       "      <td>508.0</td>\n",
       "      <td>...</td>\n",
       "      <td>NaN</td>\n",
       "      <td>NaN</td>\n",
       "      <td>NaN</td>\n",
       "      <td>NaN</td>\n",
       "      <td>NaN</td>\n",
       "      <td>NaN</td>\n",
       "      <td>NaN</td>\n",
       "      <td>NaN</td>\n",
       "      <td>NaN</td>\n",
       "      <td>NaN</td>\n",
       "    </tr>\n",
       "  </tbody>\n",
       "</table>\n",
       "<p>5 rows × 2404 columns</p>\n",
       "</div>"
      ],
      "text/plain": [
       "   Unnamed: 0  frame    time acquisition   a10-angle  a10-crop_area  \\\n",
       "0           0     41  57.399        BLGF  132.433893            0.0   \n",
       "1           1     42  58.799        GLRF  130.803137            0.0   \n",
       "2           2     43  60.200        BLGF  130.803137            0.0   \n",
       "3           3     44  61.599        GLRF  132.643767            0.0   \n",
       "4           4     45  62.999        BLGF  130.915043            0.0   \n",
       "\n",
       "   a10-crop_intensity  a10-error  a10-original_x  a10-original_y  ...  \\\n",
       "0                 0.0        0.0          5376.0           509.0  ...   \n",
       "1                 0.0        0.0          5375.0           509.0  ...   \n",
       "2                 0.0        0.0          5375.0           508.0  ...   \n",
       "3                 0.0        0.0          5375.0           508.0  ...   \n",
       "4                 0.0        0.0          5375.0           508.0  ...   \n",
       "\n",
       "   a1421-x  a1421-y  a1150-angle  a1150-crop_area  a1150-crop_intensity  \\\n",
       "0      NaN      NaN          NaN              NaN                   NaN   \n",
       "1      NaN      NaN          NaN              NaN                   NaN   \n",
       "2      NaN      NaN          NaN              NaN                   NaN   \n",
       "3      NaN      NaN          NaN              NaN                   NaN   \n",
       "4      NaN      NaN          NaN              NaN                   NaN   \n",
       "\n",
       "   a1150-error  a1150-original_x  a1150-original_y  a1150-x  a1150-y  \n",
       "0          NaN               NaN               NaN      NaN      NaN  \n",
       "1          NaN               NaN               NaN      NaN      NaN  \n",
       "2          NaN               NaN               NaN      NaN      NaN  \n",
       "3          NaN               NaN               NaN      NaN      NaN  \n",
       "4          NaN               NaN               NaN      NaN      NaN  \n",
       "\n",
       "[5 rows x 2404 columns]"
      ]
     },
     "execution_count": 5,
     "metadata": {},
     "output_type": "execute_result"
    }
   ],
   "source": [
    "exp1.bdata.head()"
   ]
  },
  {
   "cell_type": "code",
   "execution_count": 12,
   "metadata": {},
   "outputs": [
    {
     "data": {
      "text/plain": [
       "41"
      ]
     },
     "execution_count": 12,
     "metadata": {},
     "output_type": "execute_result"
    }
   ],
   "source": [
    "exp_start_frame = exp1.bdata['frame'][0]\n",
    "exp_start_frame\n"
   ]
  },
  {
   "cell_type": "code",
   "execution_count": 37,
   "metadata": {},
   "outputs": [],
   "source": [
    "ant1_data = exp1.bdata['a'+str(ant1)+'-crop_intensity'][start_frame:end_frame]"
   ]
  },
  {
   "cell_type": "code",
   "execution_count": 38,
   "metadata": {},
   "outputs": [
    {
     "data": {
      "text/plain": [
       "[<matplotlib.lines.Line2D at 0x2801c526148>]"
      ]
     },
     "execution_count": 38,
     "metadata": {},
     "output_type": "execute_result"
    },
    {
     "data": {
      "image/png": "[encoded data removed]",
      "text/plain": [
       "<Figure size 432x288 with 1 Axes>"
      ]
     },
     "metadata": {
      "needs_background": "light"
     },
     "output_type": "display_data"
    }
   ],
   "source": [
    "plt.plot(ant1_data,'.')"
   ]
  },
  {
   "cell_type": "code",
   "execution_count": 39,
   "metadata": {},
   "outputs": [
    {
     "data": {
      "text/plain": [
       "[<matplotlib.lines.Line2D at 0x2801c522f48>]"
      ]
     },
     "execution_count": 39,
     "metadata": {},
     "output_type": "execute_result"
    },
    {
     "data": {
      "image/png": "[encoded data removed]",
      "text/plain": [
       "<Figure size 432x288 with 1 Axes>"
      ]
     },
     "metadata": {
      "needs_background": "light"
     },
     "output_type": "display_data"
    }
   ],
   "source": [
    "ant2_data = exp1.bdata['a'+str(ant2)+'-crop_intensity'][start_frame:end_frame]\n",
    "plt.plot(ant2_data,'.')"
   ]
  },
  {
   "cell_type": "code",
   "execution_count": 40,
   "metadata": {},
   "outputs": [],
   "source": [
    "idxs = exp1.bdata['acquisition']=='GLRF'"
   ]
  },
  {
   "cell_type": "code",
   "execution_count": 47,
   "metadata": {},
   "outputs": [
    {
     "data": {
      "text/plain": [
       "<matplotlib.legend.Legend at 0x2801e6b1048>"
      ]
     },
     "execution_count": 47,
     "metadata": {},
     "output_type": "execute_result"
    },
    {
     "data": {
      "image/png": "[encoded data removed]",
      "text/plain": [
       "<Figure size 432x288 with 1 Axes>"
      ]
     },
     "metadata": {
      "needs_background": "light"
     },
     "output_type": "display_data"
    }
   ],
   "source": [
    "conversion_factor = exp1.conversion_factors_by_weights_df['red'][0]\n",
    "times = exp1.bdata['time'][start_frame:end_frame]\n",
    "plt.plot(times[idxs]/60,ant1_data[idxs]/conversion_factor,'.')\n",
    "plt.plot(times[idxs]/60,ant2_data[idxs]/conversion_factor,'.')\n",
    "plt.xlabel('Time (min.)')\n",
    "plt.ylabel('Crop load (ul)')\n",
    "plt.ylim([0,12])\n",
    "plt.legend(['ant A', 'ant B'])"
   ]
  },
  {
   "cell_type": "code",
   "execution_count": null,
   "metadata": {},
   "outputs": [],
   "source": []
  }
 ],
 "metadata": {
  "kernelspec": {
   "display_name": "Python 3",
   "language": "python",
   "name": "python3"
  },
  "language_info": {
   "codemirror_mode": {
    "name": "ipython",
    "version": 3
   },
   "file_extension": ".py",
   "mimetype": "text/x-python",
   "name": "python",
   "nbconvert_exporter": "python",
   "pygments_lexer": "ipython3",
   "version": "3.7.4"
  }
 },
 "nbformat": 4,
 "nbformat_minor": 2
}
