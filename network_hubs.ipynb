{
 "cells": [
  {
   "cell_type": "code",
   "execution_count": 82,
   "id": "4ff54f3c",
   "metadata": {},
   "outputs": [],
   "source": [
    "import numpy as np\n",
    "import matplotlib.pyplot as plt\n",
    "import pandas as pd\n",
    "from Data import ExperimentData, AntData\n",
    "from os import sep as sep\n",
    "import AnalysisFunctions as afuns\n",
    "from functools import reduce\n",
    "import os\n",
    "import networkx as nx\n",
    "import seaborn as sns\n",
    "import scipy.stats as stats\n",
    "import plotly.express as px"
   ]
  },
  {
   "cell_type": "code",
   "execution_count": 83,
   "id": "1db31507",
   "metadata": {},
   "outputs": [],
   "source": [
    "# pip install --upgrade networkx"
   ]
  },
  {
   "cell_type": "code",
   "execution_count": 84,
   "id": "ad8dc52c",
   "metadata": {},
   "outputs": [],
   "source": [
    "root_path = r'Y:\\Lior&Einav\\Experiments'\n",
    "exp_details = pd.read_excel(root_path + sep + 'Experiments_details.xlsx', engine='openpyxl')"
   ]
  },
  {
   "cell_type": "code",
   "execution_count": 85,
   "id": "e759e221",
   "metadata": {},
   "outputs": [],
   "source": [
    "def get_bdata_filename(exp_path):\n",
    "    bdata_filename = [filename for filename in os.listdir(exp_path+sep+r'with food\\blob analysis normalized by white paper') \n",
    "                        if filename.startswith(r'bdata')][0]\n",
    "    return bdata_filename"
   ]
  },
  {
   "cell_type": "code",
   "execution_count": 86,
   "id": "c20ec8a8",
   "metadata": {},
   "outputs": [],
   "source": [
    "%matplotlib qt"
   ]
  },
  {
   "cell_type": "code",
   "execution_count": 87,
   "id": "94b5c9e5",
   "metadata": {},
   "outputs": [],
   "source": [
    "def get_experiment_data(exp_num, exp_details, root_path):\n",
    "    exp_idx, PC_ratios_dict, exp_path = afuns.get_exp_data(exp_num, exp_details, root_path)\n",
    "    #bdata_filename = get_bdata_filename(exp_path)\n",
    "    tdata = pd.read_csv(exp_path + sep + r'clean_trophallaxis_table_transparency_corrected.csv')\n",
    "    ants = pd.read_csv(exp_path + sep + r'ants_list.csv')\n",
    "    foragers=[ant['ant_id'] for idx, ant in ants.iterrows() if ant['is_forager']]\n",
    "    \n",
    "    return exp_idx, PC_ratios_dict, exp_path, tdata, ants, foragers"
   ]
  },
  {
   "cell_type": "code",
   "execution_count": 88,
   "id": "39b863ce",
   "metadata": {},
   "outputs": [],
   "source": [
    "def make_givers_df(tdata, foragers):\n",
    "    givers=tdata.groupby('giver')[['transferred_yellow','transferred_red']].apply(sum)\n",
    "    givers['is_forager']=givers.index.isin(foragers)\n",
    "    givers['num_of_interactions']=tdata.groupby('giver').size()\n",
    "    return givers"
   ]
  },
  {
   "cell_type": "code",
   "execution_count": 89,
   "id": "51f6c030",
   "metadata": {},
   "outputs": [],
   "source": [
    "def make_receivers_df(tdata, foragers):\n",
    "    receivers=tdata.groupby('receiver')[['transferred_yellow','transferred_red']].apply(sum)\n",
    "    receivers['is_forager']=receivers.index.isin(foragers)\n",
    "    receivers['num_of_interactions']=tdata.groupby('receiver').size()\n",
    "    return receivers"
   ]
  },
  {
   "cell_type": "code",
   "execution_count": 90,
   "id": "a4b58709",
   "metadata": {},
   "outputs": [],
   "source": [
    "def scatter_total_transferred(ax, givers, max_value, exp_num):\n",
    "    g=sns.scatterplot(data=givers,x='transferred_yellow', y='transferred_red',  hue='is_forager',legend=True,ax=ax)\n",
    "    g.legend_.set_title(None)\n",
    "    for t, l in zip(g.legend_.texts, ['Non-forager','Forager']):\n",
    "        t.set_text(l)\n",
    "    g.set_xlabel('Total transferred yellow [ul]')\n",
    "    g.set_ylabel('Total transferred red [ul]')\n",
    "    g.set_aspect('equal')\n",
    "    g.set(xlim=(0,max_value+10), ylim=(0,max_value+10))\n",
    "    g.set_title(f'Experiment {exp_num}')"
   ]
  },
  {
   "cell_type": "code",
   "execution_count": 102,
   "id": "10fa6751",
   "metadata": {},
   "outputs": [],
   "source": [
    "def histogram_with_gamma_fit(ax, data, color, exp_num, bins=np.arange(0,300,15), floc=-0.01):\n",
    "    \n",
    "    ax.hist(data,color=color,bins=bins,density=True)\n",
    "    ax.set_xlabel('Total transferred [ul]')\n",
    "    ax.set_ylabel('pdf')\n",
    "    ax.set_title(f'Experiment {exp_num}')\n",
    "\n",
    "    #data=givers.sum(axis=1).values\n",
    "    k,loc1,theta=stats.gamma.fit(data,floc=floc)\n",
    "    (k,loc1,theta)\n",
    "    x=np.linspace(3,300,100)\n",
    "    gamma = stats.gamma.pdf(x, k, loc1, theta)\n",
    "    ax.plot(x,gamma,'r')\n",
    "    ax.set_title(f'Exp. {exp_num} | '+\n",
    "                      f'k={k:.2f},'+r'$\\theta$'+f'={10/theta:.2f}')"
   ]
  },
  {
   "cell_type": "code",
   "execution_count": 103,
   "id": "55167a50",
   "metadata": {},
   "outputs": [
    {
     "data": {
      "text/html": [
       "<div>\n",
       "<style scoped>\n",
       "    .dataframe tbody tr th:only-of-type {\n",
       "        vertical-align: middle;\n",
       "    }\n",
       "\n",
       "    .dataframe tbody tr th {\n",
       "        vertical-align: top;\n",
       "    }\n",
       "\n",
       "    .dataframe thead th {\n",
       "        text-align: right;\n",
       "    }\n",
       "</style>\n",
       "<table border=\"1\" class=\"dataframe\">\n",
       "  <thead>\n",
       "    <tr style=\"text-align: right;\">\n",
       "      <th></th>\n",
       "      <th>transferred_yellow</th>\n",
       "      <th>transferred_red</th>\n",
       "      <th>is_forager</th>\n",
       "      <th>num_of_interactions</th>\n",
       "    </tr>\n",
       "    <tr>\n",
       "      <th>giver</th>\n",
       "      <th></th>\n",
       "      <th></th>\n",
       "      <th></th>\n",
       "      <th></th>\n",
       "    </tr>\n",
       "  </thead>\n",
       "  <tbody>\n",
       "    <tr>\n",
       "      <th>-5</th>\n",
       "      <td>6.516212</td>\n",
       "      <td>7.269922</td>\n",
       "      <td>False</td>\n",
       "      <td>15</td>\n",
       "    </tr>\n",
       "    <tr>\n",
       "      <th>1</th>\n",
       "      <td>2.131253</td>\n",
       "      <td>35.095044</td>\n",
       "      <td>False</td>\n",
       "      <td>18</td>\n",
       "    </tr>\n",
       "    <tr>\n",
       "      <th>5</th>\n",
       "      <td>0.118545</td>\n",
       "      <td>23.707750</td>\n",
       "      <td>False</td>\n",
       "      <td>21</td>\n",
       "    </tr>\n",
       "    <tr>\n",
       "      <th>30</th>\n",
       "      <td>1.411550</td>\n",
       "      <td>8.638616</td>\n",
       "      <td>False</td>\n",
       "      <td>11</td>\n",
       "    </tr>\n",
       "    <tr>\n",
       "      <th>33</th>\n",
       "      <td>4.280116</td>\n",
       "      <td>3.252054</td>\n",
       "      <td>False</td>\n",
       "      <td>6</td>\n",
       "    </tr>\n",
       "  </tbody>\n",
       "</table>\n",
       "</div>"
      ],
      "text/plain": [
       "       transferred_yellow  transferred_red  is_forager  num_of_interactions\n",
       "giver                                                                      \n",
       "-5               6.516212         7.269922       False                   15\n",
       " 1               2.131253        35.095044       False                   18\n",
       " 5               0.118545        23.707750       False                   21\n",
       " 30              1.411550         8.638616       False                   11\n",
       " 33              4.280116         3.252054       False                    6"
      ]
     },
     "execution_count": 103,
     "metadata": {},
     "output_type": "execute_result"
    }
   ],
   "source": [
    "exp_idx, PC_ratios_dict, exp_path, tdata, ants, foragers = get_experiment_data(20, exp_details, root_path)\n",
    "givers = make_givers_df(tdata, foragers)\n",
    "givers.head()"
   ]
  },
  {
   "cell_type": "code",
   "execution_count": 104,
   "id": "efdc926d",
   "metadata": {},
   "outputs": [
    {
     "data": {
      "text/html": [
       "<div>\n",
       "<style scoped>\n",
       "    .dataframe tbody tr th:only-of-type {\n",
       "        vertical-align: middle;\n",
       "    }\n",
       "\n",
       "    .dataframe tbody tr th {\n",
       "        vertical-align: top;\n",
       "    }\n",
       "\n",
       "    .dataframe thead th {\n",
       "        text-align: right;\n",
       "    }\n",
       "</style>\n",
       "<table border=\"1\" class=\"dataframe\">\n",
       "  <thead>\n",
       "    <tr style=\"text-align: right;\">\n",
       "      <th></th>\n",
       "      <th>received_yellow</th>\n",
       "      <th>received_red</th>\n",
       "      <th>is_forager</th>\n",
       "      <th>num_of_receiver_interactions</th>\n",
       "    </tr>\n",
       "    <tr>\n",
       "      <th>ant</th>\n",
       "      <th></th>\n",
       "      <th></th>\n",
       "      <th></th>\n",
       "      <th></th>\n",
       "    </tr>\n",
       "  </thead>\n",
       "  <tbody>\n",
       "    <tr>\n",
       "      <th>-5</th>\n",
       "      <td>7.169588</td>\n",
       "      <td>19.795392</td>\n",
       "      <td>False</td>\n",
       "      <td>9</td>\n",
       "    </tr>\n",
       "    <tr>\n",
       "      <th>1</th>\n",
       "      <td>2.617595</td>\n",
       "      <td>33.729475</td>\n",
       "      <td>False</td>\n",
       "      <td>22</td>\n",
       "    </tr>\n",
       "    <tr>\n",
       "      <th>5</th>\n",
       "      <td>3.589878</td>\n",
       "      <td>34.261890</td>\n",
       "      <td>False</td>\n",
       "      <td>25</td>\n",
       "    </tr>\n",
       "    <tr>\n",
       "      <th>30</th>\n",
       "      <td>0.663876</td>\n",
       "      <td>29.034725</td>\n",
       "      <td>False</td>\n",
       "      <td>12</td>\n",
       "    </tr>\n",
       "    <tr>\n",
       "      <th>33</th>\n",
       "      <td>9.942672</td>\n",
       "      <td>29.373466</td>\n",
       "      <td>False</td>\n",
       "      <td>10</td>\n",
       "    </tr>\n",
       "  </tbody>\n",
       "</table>\n",
       "</div>"
      ],
      "text/plain": [
       "     received_yellow  received_red  is_forager  num_of_receiver_interactions\n",
       "ant                                                                         \n",
       "-5          7.169588     19.795392       False                             9\n",
       " 1          2.617595     33.729475       False                            22\n",
       " 5          3.589878     34.261890       False                            25\n",
       " 30         0.663876     29.034725       False                            12\n",
       " 33         9.942672     29.373466       False                            10"
      ]
     },
     "execution_count": 104,
     "metadata": {},
     "output_type": "execute_result"
    }
   ],
   "source": [
    "receivers = make_receivers_df(tdata, foragers)\n",
    "receivers.rename(columns={'transferred_yellow':'received_yellow', 'transferred_red':'received_red', \n",
    "                          'num_of_interactions':'num_of_receiver_interactions'},inplace=True)\n",
    "receivers.index.rename('ant',inplace=True)\n",
    "receivers.head()"
   ]
  },
  {
   "cell_type": "code",
   "execution_count": 105,
   "id": "99644645",
   "metadata": {},
   "outputs": [
    {
     "data": {
      "text/html": [
       "<div>\n",
       "<style scoped>\n",
       "    .dataframe tbody tr th:only-of-type {\n",
       "        vertical-align: middle;\n",
       "    }\n",
       "\n",
       "    .dataframe tbody tr th {\n",
       "        vertical-align: top;\n",
       "    }\n",
       "\n",
       "    .dataframe thead th {\n",
       "        text-align: right;\n",
       "    }\n",
       "</style>\n",
       "<table border=\"1\" class=\"dataframe\">\n",
       "  <thead>\n",
       "    <tr style=\"text-align: right;\">\n",
       "      <th></th>\n",
       "      <th>ant</th>\n",
       "      <th>gived_yellow</th>\n",
       "      <th>gived_red</th>\n",
       "      <th>is_forager_x</th>\n",
       "      <th>num_of_giving_interactions</th>\n",
       "      <th>received_yellow</th>\n",
       "      <th>received_red</th>\n",
       "      <th>is_forager_y</th>\n",
       "      <th>num_of_receiver_interactions</th>\n",
       "    </tr>\n",
       "  </thead>\n",
       "  <tbody>\n",
       "    <tr>\n",
       "      <th>0</th>\n",
       "      <td>-5</td>\n",
       "      <td>6.516212</td>\n",
       "      <td>7.269922</td>\n",
       "      <td>False</td>\n",
       "      <td>15</td>\n",
       "      <td>7.169588</td>\n",
       "      <td>19.795392</td>\n",
       "      <td>False</td>\n",
       "      <td>9</td>\n",
       "    </tr>\n",
       "    <tr>\n",
       "      <th>1</th>\n",
       "      <td>1</td>\n",
       "      <td>2.131253</td>\n",
       "      <td>35.095044</td>\n",
       "      <td>False</td>\n",
       "      <td>18</td>\n",
       "      <td>2.617595</td>\n",
       "      <td>33.729475</td>\n",
       "      <td>False</td>\n",
       "      <td>22</td>\n",
       "    </tr>\n",
       "    <tr>\n",
       "      <th>2</th>\n",
       "      <td>5</td>\n",
       "      <td>0.118545</td>\n",
       "      <td>23.707750</td>\n",
       "      <td>False</td>\n",
       "      <td>21</td>\n",
       "      <td>3.589878</td>\n",
       "      <td>34.261890</td>\n",
       "      <td>False</td>\n",
       "      <td>25</td>\n",
       "    </tr>\n",
       "    <tr>\n",
       "      <th>3</th>\n",
       "      <td>30</td>\n",
       "      <td>1.411550</td>\n",
       "      <td>8.638616</td>\n",
       "      <td>False</td>\n",
       "      <td>11</td>\n",
       "      <td>0.663876</td>\n",
       "      <td>29.034725</td>\n",
       "      <td>False</td>\n",
       "      <td>12</td>\n",
       "    </tr>\n",
       "    <tr>\n",
       "      <th>4</th>\n",
       "      <td>33</td>\n",
       "      <td>4.280116</td>\n",
       "      <td>3.252054</td>\n",
       "      <td>False</td>\n",
       "      <td>6</td>\n",
       "      <td>9.942672</td>\n",
       "      <td>29.373466</td>\n",
       "      <td>False</td>\n",
       "      <td>10</td>\n",
       "    </tr>\n",
       "  </tbody>\n",
       "</table>\n",
       "</div>"
      ],
      "text/plain": [
       "   ant  gived_yellow  gived_red  is_forager_x  num_of_giving_interactions  \\\n",
       "0   -5      6.516212   7.269922         False                          15   \n",
       "1    1      2.131253  35.095044         False                          18   \n",
       "2    5      0.118545  23.707750         False                          21   \n",
       "3   30      1.411550   8.638616         False                          11   \n",
       "4   33      4.280116   3.252054         False                           6   \n",
       "\n",
       "   received_yellow  received_red  is_forager_y  num_of_receiver_interactions  \n",
       "0         7.169588     19.795392         False                             9  \n",
       "1         2.617595     33.729475         False                            22  \n",
       "2         3.589878     34.261890         False                            25  \n",
       "3         0.663876     29.034725         False                            12  \n",
       "4         9.942672     29.373466         False                            10  "
      ]
     },
     "execution_count": 105,
     "metadata": {},
     "output_type": "execute_result"
    }
   ],
   "source": [
    "givers_new = givers.rename(columns={'transferred_yellow':'gived_yellow', 'transferred_red':'gived_red', \n",
    "                          'num_of_interactions':'num_of_giving_interactions'})\n",
    "givers_new.index.rename('ant',inplace=True)\n",
    "df=givers_new.merge(receivers, on='ant')\n",
    "df=df.reset_index()\n",
    "df.head()"
   ]
  },
  {
   "cell_type": "code",
   "execution_count": 106,
   "id": "bd2b1248",
   "metadata": {},
   "outputs": [
    {
     "data": {
      "application/vnd.plotly.v1+json": {
       "config": {
        "plotlyServerURL": "https://plot.ly"
       },
       "data": [
        {
         "customdata": [
          [
           -5
          ],
          [
           1
          ],
          [
           5
          ],
          [
           30
          ],
          [
           33
          ],
          [
           37
          ],
          [
           38
          ],
          [
           42
          ],
          [
           43
          ],
          [
           44
          ],
          [
           46
          ],
          [
           47
          ],
          [
           56
          ],
          [
           64
          ],
          [
           170
          ],
          [
           208
          ],
          [
           209
          ],
          [
           225
          ],
          [
           389
          ],
          [
           525
          ],
          [
           627
          ],
          [
           678
          ],
          [
           700
          ],
          [
           740
          ],
          [
           910
          ],
          [
           941
          ],
          [
           1004
          ],
          [
           1055
          ],
          [
           1063
          ],
          [
           1068
          ],
          [
           1079
          ],
          [
           1117
          ],
          [
           1230
          ],
          [
           1292
          ],
          [
           1321
          ],
          [
           1329
          ],
          [
           1354
          ],
          [
           1355
          ],
          [
           1384
          ],
          [
           1408
          ]
         ],
         "hovertemplate": "is_forager_x=False<br>gived_yellow=%{x}<br>received_yellow=%{y}<br>ant=%{customdata[0]}<extra></extra>",
         "legendgroup": "False",
         "marker": {
          "color": "#636efa",
          "symbol": "circle"
         },
         "mode": "markers",
         "name": "False",
         "orientation": "v",
         "showlegend": true,
         "type": "scatter",
         "x": [
          6.516211902275101,
          2.131252590351197,
          0.11854546114066425,
          1.4115495708584365,
          4.280115941569649,
          1.2975409190132523,
          11.286783096168428,
          0,
          12.178949619933864,
          1.090481378590098,
          0.1305095129704555,
          51.969731414170965,
          0.6603500299598855,
          0,
          12.879402333341789,
          0.4748519853253037,
          20.124777070652346,
          19.715232283552268,
          3.044449900582878,
          1.5431429843926332,
          2.2360146039903155,
          1.2696040001204159,
          0.7985868793698664,
          5.54914308885429,
          0.6240281775151008,
          3.0945179365382964,
          6.828108936226744,
          4.190498030858823,
          1.7645835507244518,
          6.320769751009269,
          5.057189600769753,
          6.150941595254072,
          1.4256207782365549,
          11.659219268643778,
          1.500535699497308,
          0.8775107046140114,
          0.9749533416914016,
          9.082140539121555,
          0,
          0
         ],
         "xaxis": "x",
         "y": [
          7.1695875287673285,
          2.617595412363163,
          3.5898775626002175,
          0.6638759342853701,
          9.942672403678243,
          10.096071516230424,
          7.090381574866544,
          0.7477939401881625,
          21.866900093576728,
          0.5893584482070404,
          0.5357023145512279,
          71.06633299905107,
          3.0809451181107415,
          1.0347471081992379,
          20.616072214809712,
          0,
          14.061464168283909,
          16.378884405077926,
          10.438440719509293,
          0,
          1.0511133173742033,
          4.849444831485648,
          3.4506292512237864,
          7.265265060021202,
          4.4517630180324215,
          7.556395771807059,
          15.656423790500623,
          3.829119659137758,
          5.218902001078325,
          12.333464147376487,
          19.655175561722444,
          2.9099365616475152,
          5.767462529288603,
          23.444436340168473,
          1.2492693198160671,
          3.4386485044711486,
          4.87571160390036,
          25.135266329818787,
          4.77807508958438,
          4.2845316975118095
         ],
         "yaxis": "y"
        },
        {
         "customdata": [
          [
           61
          ],
          [
           150
          ],
          [
           236
          ],
          [
           386
          ],
          [
           424
          ],
          [
           673
          ],
          [
           1124
          ],
          [
           1235
          ],
          [
           1299
          ]
         ],
         "hovertemplate": "is_forager_x=True<br>gived_yellow=%{x}<br>received_yellow=%{y}<br>ant=%{customdata[0]}<extra></extra>",
         "legendgroup": "True",
         "marker": {
          "color": "#EF553B",
          "symbol": "circle"
         },
         "mode": "markers",
         "name": "True",
         "orientation": "v",
         "showlegend": true,
         "type": "scatter",
         "x": [
          78.7536324817846,
          22.98201816321295,
          7.372806781714136,
          31.886962969912354,
          17.569658403666303,
          2.248687210519069,
          32.04424369919799,
          51.263570688679835,
          21.88721507241788
         ],
         "xaxis": "x",
         "y": [
          22.224555385504463,
          15.74039279288814,
          5.1097116829461475,
          0.5237921920720462,
          19.20864743204254,
          8.037455886601348,
          10.00630783586209,
          19.794152264581143,
          19.297167470070384
         ],
         "yaxis": "y"
        }
       ],
       "layout": {
        "legend": {
         "title": {
          "text": "is_forager_x"
         },
         "tracegroupgap": 0
        },
        "margin": {
         "t": 60
        },
        "template": {
         "data": {
          "bar": [
           {
            "error_x": {
             "color": "#2a3f5f"
            },
            "error_y": {
             "color": "#2a3f5f"
            },
            "marker": {
             "line": {
              "color": "#E5ECF6",
              "width": 0.5
             },
             "pattern": {
              "fillmode": "overlay",
              "size": 10,
              "solidity": 0.2
             }
            },
            "type": "bar"
           }
          ],
          "barpolar": [
           {
            "marker": {
             "line": {
              "color": "#E5ECF6",
              "width": 0.5
             },
             "pattern": {
              "fillmode": "overlay",
              "size": 10,
              "solidity": 0.2
             }
            },
            "type": "barpolar"
           }
          ],
          "carpet": [
           {
            "aaxis": {
             "endlinecolor": "#2a3f5f",
             "gridcolor": "white",
             "linecolor": "white",
             "minorgridcolor": "white",
             "startlinecolor": "#2a3f5f"
            },
            "baxis": {
             "endlinecolor": "#2a3f5f",
             "gridcolor": "white",
             "linecolor": "white",
             "minorgridcolor": "white",
             "startlinecolor": "#2a3f5f"
            },
            "type": "carpet"
           }
          ],
          "choropleth": [
           {
            "colorbar": {
             "outlinewidth": 0,
             "ticks": ""
            },
            "type": "choropleth"
           }
          ],
          "contour": [
           {
            "colorbar": {
             "outlinewidth": 0,
             "ticks": ""
            },
            "colorscale": [
             [
              0,
              "#0d0887"
             ],
             [
              0.1111111111111111,
              "#46039f"
             ],
             [
              0.2222222222222222,
              "#7201a8"
             ],
             [
              0.3333333333333333,
              "#9c179e"
             ],
             [
              0.4444444444444444,
              "#bd3786"
             ],
             [
              0.5555555555555556,
              "#d8576b"
             ],
             [
              0.6666666666666666,
              "#ed7953"
             ],
             [
              0.7777777777777778,
              "#fb9f3a"
             ],
             [
              0.8888888888888888,
              "#fdca26"
             ],
             [
              1,
              "#f0f921"
             ]
            ],
            "type": "contour"
           }
          ],
          "contourcarpet": [
           {
            "colorbar": {
             "outlinewidth": 0,
             "ticks": ""
            },
            "type": "contourcarpet"
           }
          ],
          "heatmap": [
           {
            "colorbar": {
             "outlinewidth": 0,
             "ticks": ""
            },
            "colorscale": [
             [
              0,
              "#0d0887"
             ],
             [
              0.1111111111111111,
              "#46039f"
             ],
             [
              0.2222222222222222,
              "#7201a8"
             ],
             [
              0.3333333333333333,
              "#9c179e"
             ],
             [
              0.4444444444444444,
              "#bd3786"
             ],
             [
              0.5555555555555556,
              "#d8576b"
             ],
             [
              0.6666666666666666,
              "#ed7953"
             ],
             [
              0.7777777777777778,
              "#fb9f3a"
             ],
             [
              0.8888888888888888,
              "#fdca26"
             ],
             [
              1,
              "#f0f921"
             ]
            ],
            "type": "heatmap"
           }
          ],
          "heatmapgl": [
           {
            "colorbar": {
             "outlinewidth": 0,
             "ticks": ""
            },
            "colorscale": [
             [
              0,
              "#0d0887"
             ],
             [
              0.1111111111111111,
              "#46039f"
             ],
             [
              0.2222222222222222,
              "#7201a8"
             ],
             [
              0.3333333333333333,
              "#9c179e"
             ],
             [
              0.4444444444444444,
              "#bd3786"
             ],
             [
              0.5555555555555556,
              "#d8576b"
             ],
             [
              0.6666666666666666,
              "#ed7953"
             ],
             [
              0.7777777777777778,
              "#fb9f3a"
             ],
             [
              0.8888888888888888,
              "#fdca26"
             ],
             [
              1,
              "#f0f921"
             ]
            ],
            "type": "heatmapgl"
           }
          ],
          "histogram": [
           {
            "marker": {
             "pattern": {
              "fillmode": "overlay",
              "size": 10,
              "solidity": 0.2
             }
            },
            "type": "histogram"
           }
          ],
          "histogram2d": [
           {
            "colorbar": {
             "outlinewidth": 0,
             "ticks": ""
            },
            "colorscale": [
             [
              0,
              "#0d0887"
             ],
             [
              0.1111111111111111,
              "#46039f"
             ],
             [
              0.2222222222222222,
              "#7201a8"
             ],
             [
              0.3333333333333333,
              "#9c179e"
             ],
             [
              0.4444444444444444,
              "#bd3786"
             ],
             [
              0.5555555555555556,
              "#d8576b"
             ],
             [
              0.6666666666666666,
              "#ed7953"
             ],
             [
              0.7777777777777778,
              "#fb9f3a"
             ],
             [
              0.8888888888888888,
              "#fdca26"
             ],
             [
              1,
              "#f0f921"
             ]
            ],
            "type": "histogram2d"
           }
          ],
          "histogram2dcontour": [
           {
            "colorbar": {
             "outlinewidth": 0,
             "ticks": ""
            },
            "colorscale": [
             [
              0,
              "#0d0887"
             ],
             [
              0.1111111111111111,
              "#46039f"
             ],
             [
              0.2222222222222222,
              "#7201a8"
             ],
             [
              0.3333333333333333,
              "#9c179e"
             ],
             [
              0.4444444444444444,
              "#bd3786"
             ],
             [
              0.5555555555555556,
              "#d8576b"
             ],
             [
              0.6666666666666666,
              "#ed7953"
             ],
             [
              0.7777777777777778,
              "#fb9f3a"
             ],
             [
              0.8888888888888888,
              "#fdca26"
             ],
             [
              1,
              "#f0f921"
             ]
            ],
            "type": "histogram2dcontour"
           }
          ],
          "mesh3d": [
           {
            "colorbar": {
             "outlinewidth": 0,
             "ticks": ""
            },
            "type": "mesh3d"
           }
          ],
          "parcoords": [
           {
            "line": {
             "colorbar": {
              "outlinewidth": 0,
              "ticks": ""
             }
            },
            "type": "parcoords"
           }
          ],
          "pie": [
           {
            "automargin": true,
            "type": "pie"
           }
          ],
          "scatter": [
           {
            "fillpattern": {
             "fillmode": "overlay",
             "size": 10,
             "solidity": 0.2
            },
            "type": "scatter"
           }
          ],
          "scatter3d": [
           {
            "line": {
             "colorbar": {
              "outlinewidth": 0,
              "ticks": ""
             }
            },
            "marker": {
             "colorbar": {
              "outlinewidth": 0,
              "ticks": ""
             }
            },
            "type": "scatter3d"
           }
          ],
          "scattercarpet": [
           {
            "marker": {
             "colorbar": {
              "outlinewidth": 0,
              "ticks": ""
             }
            },
            "type": "scattercarpet"
           }
          ],
          "scattergeo": [
           {
            "marker": {
             "colorbar": {
              "outlinewidth": 0,
              "ticks": ""
             }
            },
            "type": "scattergeo"
           }
          ],
          "scattergl": [
           {
            "marker": {
             "colorbar": {
              "outlinewidth": 0,
              "ticks": ""
             }
            },
            "type": "scattergl"
           }
          ],
          "scattermapbox": [
           {
            "marker": {
             "colorbar": {
              "outlinewidth": 0,
              "ticks": ""
             }
            },
            "type": "scattermapbox"
           }
          ],
          "scatterpolar": [
           {
            "marker": {
             "colorbar": {
              "outlinewidth": 0,
              "ticks": ""
             }
            },
            "type": "scatterpolar"
           }
          ],
          "scatterpolargl": [
           {
            "marker": {
             "colorbar": {
              "outlinewidth": 0,
              "ticks": ""
             }
            },
            "type": "scatterpolargl"
           }
          ],
          "scatterternary": [
           {
            "marker": {
             "colorbar": {
              "outlinewidth": 0,
              "ticks": ""
             }
            },
            "type": "scatterternary"
           }
          ],
          "surface": [
           {
            "colorbar": {
             "outlinewidth": 0,
             "ticks": ""
            },
            "colorscale": [
             [
              0,
              "#0d0887"
             ],
             [
              0.1111111111111111,
              "#46039f"
             ],
             [
              0.2222222222222222,
              "#7201a8"
             ],
             [
              0.3333333333333333,
              "#9c179e"
             ],
             [
              0.4444444444444444,
              "#bd3786"
             ],
             [
              0.5555555555555556,
              "#d8576b"
             ],
             [
              0.6666666666666666,
              "#ed7953"
             ],
             [
              0.7777777777777778,
              "#fb9f3a"
             ],
             [
              0.8888888888888888,
              "#fdca26"
             ],
             [
              1,
              "#f0f921"
             ]
            ],
            "type": "surface"
           }
          ],
          "table": [
           {
            "cells": {
             "fill": {
              "color": "#EBF0F8"
             },
             "line": {
              "color": "white"
             }
            },
            "header": {
             "fill": {
              "color": "#C8D4E3"
             },
             "line": {
              "color": "white"
             }
            },
            "type": "table"
           }
          ]
         },
         "layout": {
          "annotationdefaults": {
           "arrowcolor": "#2a3f5f",
           "arrowhead": 0,
           "arrowwidth": 1
          },
          "autotypenumbers": "strict",
          "coloraxis": {
           "colorbar": {
            "outlinewidth": 0,
            "ticks": ""
           }
          },
          "colorscale": {
           "diverging": [
            [
             0,
             "#8e0152"
            ],
            [
             0.1,
             "#c51b7d"
            ],
            [
             0.2,
             "#de77ae"
            ],
            [
             0.3,
             "#f1b6da"
            ],
            [
             0.4,
             "#fde0ef"
            ],
            [
             0.5,
             "#f7f7f7"
            ],
            [
             0.6,
             "#e6f5d0"
            ],
            [
             0.7,
             "#b8e186"
            ],
            [
             0.8,
             "#7fbc41"
            ],
            [
             0.9,
             "#4d9221"
            ],
            [
             1,
             "#276419"
            ]
           ],
           "sequential": [
            [
             0,
             "#0d0887"
            ],
            [
             0.1111111111111111,
             "#46039f"
            ],
            [
             0.2222222222222222,
             "#7201a8"
            ],
            [
             0.3333333333333333,
             "#9c179e"
            ],
            [
             0.4444444444444444,
             "#bd3786"
            ],
            [
             0.5555555555555556,
             "#d8576b"
            ],
            [
             0.6666666666666666,
             "#ed7953"
            ],
            [
             0.7777777777777778,
             "#fb9f3a"
            ],
            [
             0.8888888888888888,
             "#fdca26"
            ],
            [
             1,
             "#f0f921"
            ]
           ],
           "sequentialminus": [
            [
             0,
             "#0d0887"
            ],
            [
             0.1111111111111111,
             "#46039f"
            ],
            [
             0.2222222222222222,
             "#7201a8"
            ],
            [
             0.3333333333333333,
             "#9c179e"
            ],
            [
             0.4444444444444444,
             "#bd3786"
            ],
            [
             0.5555555555555556,
             "#d8576b"
            ],
            [
             0.6666666666666666,
             "#ed7953"
            ],
            [
             0.7777777777777778,
             "#fb9f3a"
            ],
            [
             0.8888888888888888,
             "#fdca26"
            ],
            [
             1,
             "#f0f921"
            ]
           ]
          },
          "colorway": [
           "#636efa",
           "#EF553B",
           "#00cc96",
           "#ab63fa",
           "#FFA15A",
           "#19d3f3",
           "#FF6692",
           "#B6E880",
           "#FF97FF",
           "#FECB52"
          ],
          "font": {
           "color": "#2a3f5f"
          },
          "geo": {
           "bgcolor": "white",
           "lakecolor": "white",
           "landcolor": "#E5ECF6",
           "showlakes": true,
           "showland": true,
           "subunitcolor": "white"
          },
          "hoverlabel": {
           "align": "left"
          },
          "hovermode": "closest",
          "mapbox": {
           "style": "light"
          },
          "paper_bgcolor": "white",
          "plot_bgcolor": "#E5ECF6",
          "polar": {
           "angularaxis": {
            "gridcolor": "white",
            "linecolor": "white",
            "ticks": ""
           },
           "bgcolor": "#E5ECF6",
           "radialaxis": {
            "gridcolor": "white",
            "linecolor": "white",
            "ticks": ""
           }
          },
          "scene": {
           "xaxis": {
            "backgroundcolor": "#E5ECF6",
            "gridcolor": "white",
            "gridwidth": 2,
            "linecolor": "white",
            "showbackground": true,
            "ticks": "",
            "zerolinecolor": "white"
           },
           "yaxis": {
            "backgroundcolor": "#E5ECF6",
            "gridcolor": "white",
            "gridwidth": 2,
            "linecolor": "white",
            "showbackground": true,
            "ticks": "",
            "zerolinecolor": "white"
           },
           "zaxis": {
            "backgroundcolor": "#E5ECF6",
            "gridcolor": "white",
            "gridwidth": 2,
            "linecolor": "white",
            "showbackground": true,
            "ticks": "",
            "zerolinecolor": "white"
           }
          },
          "shapedefaults": {
           "line": {
            "color": "#2a3f5f"
           }
          },
          "ternary": {
           "aaxis": {
            "gridcolor": "white",
            "linecolor": "white",
            "ticks": ""
           },
           "baxis": {
            "gridcolor": "white",
            "linecolor": "white",
            "ticks": ""
           },
           "bgcolor": "#E5ECF6",
           "caxis": {
            "gridcolor": "white",
            "linecolor": "white",
            "ticks": ""
           }
          },
          "title": {
           "x": 0.05
          },
          "xaxis": {
           "automargin": true,
           "gridcolor": "white",
           "linecolor": "white",
           "ticks": "",
           "title": {
            "standoff": 15
           },
           "zerolinecolor": "white",
           "zerolinewidth": 2
          },
          "yaxis": {
           "automargin": true,
           "gridcolor": "white",
           "linecolor": "white",
           "ticks": "",
           "title": {
            "standoff": 15
           },
           "zerolinecolor": "white",
           "zerolinewidth": 2
          }
         }
        },
        "xaxis": {
         "anchor": "y",
         "domain": [
          0,
          1
         ],
         "title": {
          "text": "gived_yellow"
         }
        },
        "yaxis": {
         "anchor": "x",
         "domain": [
          0,
          1
         ],
         "title": {
          "text": "received_yellow"
         }
        }
       }
      },
      "text/html": [
       "<div>                            <div id=\"1e1ad622-b721-4d9f-ab78-3d3b0ffdb964\" class=\"plotly-graph-div\" style=\"height:525px; width:100%;\"></div>            <script type=\"text/javascript\">                require([\"plotly\"], function(Plotly) {                    window.PLOTLYENV=window.PLOTLYENV || {};                                    if (document.getElementById(\"1e1ad622-b721-4d9f-ab78-3d3b0ffdb964\")) {                    Plotly.newPlot(                        \"1e1ad622-b721-4d9f-ab78-3d3b0ffdb964\",                        [{\"customdata\":[[-5],[1],[5],[30],[33],[37],[38],[42],[43],[44],[46],[47],[56],[64],[170],[208],[209],[225],[389],[525],[627],[678],[700],[740],[910],[941],[1004],[1055],[1063],[1068],[1079],[1117],[1230],[1292],[1321],[1329],[1354],[1355],[1384],[1408]],\"hovertemplate\":\"is_forager_x=False<br>gived_yellow=%{x}<br>received_yellow=%{y}<br>ant=%{customdata[0]}<extra></extra>\",\"legendgroup\":\"False\",\"marker\":{\"color\":\"#636efa\",\"symbol\":\"circle\"},\"mode\":\"markers\",\"name\":\"False\",\"orientation\":\"v\",\"showlegend\":true,\"x\":[6.516211902275101,2.131252590351197,0.11854546114066425,1.4115495708584365,4.280115941569649,1.2975409190132523,11.286783096168428,0.0,12.178949619933864,1.090481378590098,0.1305095129704555,51.969731414170965,0.6603500299598855,0.0,12.879402333341789,0.4748519853253037,20.124777070652346,19.715232283552268,3.044449900582878,1.5431429843926332,2.2360146039903155,1.2696040001204159,0.7985868793698664,5.54914308885429,0.6240281775151008,3.0945179365382964,6.828108936226744,4.190498030858823,1.7645835507244518,6.320769751009269,5.057189600769753,6.150941595254072,1.4256207782365549,11.659219268643778,1.500535699497308,0.8775107046140114,0.9749533416914016,9.082140539121555,0.0,0.0],\"xaxis\":\"x\",\"y\":[7.1695875287673285,2.617595412363163,3.5898775626002175,0.6638759342853701,9.942672403678243,10.096071516230424,7.090381574866544,0.7477939401881625,21.866900093576728,0.5893584482070404,0.5357023145512279,71.06633299905107,3.0809451181107415,1.0347471081992379,20.616072214809712,0.0,14.061464168283909,16.378884405077926,10.438440719509293,0.0,1.0511133173742033,4.849444831485648,3.4506292512237864,7.265265060021202,4.4517630180324215,7.556395771807059,15.656423790500623,3.829119659137758,5.218902001078325,12.333464147376487,19.655175561722444,2.9099365616475152,5.767462529288603,23.444436340168473,1.2492693198160671,3.4386485044711486,4.87571160390036,25.135266329818787,4.77807508958438,4.2845316975118095],\"yaxis\":\"y\",\"type\":\"scatter\"},{\"customdata\":[[61],[150],[236],[386],[424],[673],[1124],[1235],[1299]],\"hovertemplate\":\"is_forager_x=True<br>gived_yellow=%{x}<br>received_yellow=%{y}<br>ant=%{customdata[0]}<extra></extra>\",\"legendgroup\":\"True\",\"marker\":{\"color\":\"#EF553B\",\"symbol\":\"circle\"},\"mode\":\"markers\",\"name\":\"True\",\"orientation\":\"v\",\"showlegend\":true,\"x\":[78.7536324817846,22.98201816321295,7.372806781714136,31.886962969912354,17.569658403666303,2.248687210519069,32.04424369919799,51.263570688679835,21.88721507241788],\"xaxis\":\"x\",\"y\":[22.224555385504463,15.74039279288814,5.1097116829461475,0.5237921920720462,19.20864743204254,8.037455886601348,10.00630783586209,19.794152264581143,19.297167470070384],\"yaxis\":\"y\",\"type\":\"scatter\"}],                        {\"template\":{\"data\":{\"histogram2dcontour\":[{\"type\":\"histogram2dcontour\",\"colorbar\":{\"outlinewidth\":0,\"ticks\":\"\"},\"colorscale\":[[0.0,\"#0d0887\"],[0.1111111111111111,\"#46039f\"],[0.2222222222222222,\"#7201a8\"],[0.3333333333333333,\"#9c179e\"],[0.4444444444444444,\"#bd3786\"],[0.5555555555555556,\"#d8576b\"],[0.6666666666666666,\"#ed7953\"],[0.7777777777777778,\"#fb9f3a\"],[0.8888888888888888,\"#fdca26\"],[1.0,\"#f0f921\"]]}],\"choropleth\":[{\"type\":\"choropleth\",\"colorbar\":{\"outlinewidth\":0,\"ticks\":\"\"}}],\"histogram2d\":[{\"type\":\"histogram2d\",\"colorbar\":{\"outlinewidth\":0,\"ticks\":\"\"},\"colorscale\":[[0.0,\"#0d0887\"],[0.1111111111111111,\"#46039f\"],[0.2222222222222222,\"#7201a8\"],[0.3333333333333333,\"#9c179e\"],[0.4444444444444444,\"#bd3786\"],[0.5555555555555556,\"#d8576b\"],[0.6666666666666666,\"#ed7953\"],[0.7777777777777778,\"#fb9f3a\"],[0.8888888888888888,\"#fdca26\"],[1.0,\"#f0f921\"]]}],\"heatmap\":[{\"type\":\"heatmap\",\"colorbar\":{\"outlinewidth\":0,\"ticks\":\"\"},\"colorscale\":[[0.0,\"#0d0887\"],[0.1111111111111111,\"#46039f\"],[0.2222222222222222,\"#7201a8\"],[0.3333333333333333,\"#9c179e\"],[0.4444444444444444,\"#bd3786\"],[0.5555555555555556,\"#d8576b\"],[0.6666666666666666,\"#ed7953\"],[0.7777777777777778,\"#fb9f3a\"],[0.8888888888888888,\"#fdca26\"],[1.0,\"#f0f921\"]]}],\"heatmapgl\":[{\"type\":\"heatmapgl\",\"colorbar\":{\"outlinewidth\":0,\"ticks\":\"\"},\"colorscale\":[[0.0,\"#0d0887\"],[0.1111111111111111,\"#46039f\"],[0.2222222222222222,\"#7201a8\"],[0.3333333333333333,\"#9c179e\"],[0.4444444444444444,\"#bd3786\"],[0.5555555555555556,\"#d8576b\"],[0.6666666666666666,\"#ed7953\"],[0.7777777777777778,\"#fb9f3a\"],[0.8888888888888888,\"#fdca26\"],[1.0,\"#f0f921\"]]}],\"contourcarpet\":[{\"type\":\"contourcarpet\",\"colorbar\":{\"outlinewidth\":0,\"ticks\":\"\"}}],\"contour\":[{\"type\":\"contour\",\"colorbar\":{\"outlinewidth\":0,\"ticks\":\"\"},\"colorscale\":[[0.0,\"#0d0887\"],[0.1111111111111111,\"#46039f\"],[0.2222222222222222,\"#7201a8\"],[0.3333333333333333,\"#9c179e\"],[0.4444444444444444,\"#bd3786\"],[0.5555555555555556,\"#d8576b\"],[0.6666666666666666,\"#ed7953\"],[0.7777777777777778,\"#fb9f3a\"],[0.8888888888888888,\"#fdca26\"],[1.0,\"#f0f921\"]]}],\"surface\":[{\"type\":\"surface\",\"colorbar\":{\"outlinewidth\":0,\"ticks\":\"\"},\"colorscale\":[[0.0,\"#0d0887\"],[0.1111111111111111,\"#46039f\"],[0.2222222222222222,\"#7201a8\"],[0.3333333333333333,\"#9c179e\"],[0.4444444444444444,\"#bd3786\"],[0.5555555555555556,\"#d8576b\"],[0.6666666666666666,\"#ed7953\"],[0.7777777777777778,\"#fb9f3a\"],[0.8888888888888888,\"#fdca26\"],[1.0,\"#f0f921\"]]}],\"mesh3d\":[{\"type\":\"mesh3d\",\"colorbar\":{\"outlinewidth\":0,\"ticks\":\"\"}}],\"scatter\":[{\"fillpattern\":{\"fillmode\":\"overlay\",\"size\":10,\"solidity\":0.2},\"type\":\"scatter\"}],\"parcoords\":[{\"type\":\"parcoords\",\"line\":{\"colorbar\":{\"outlinewidth\":0,\"ticks\":\"\"}}}],\"scatterpolargl\":[{\"type\":\"scatterpolargl\",\"marker\":{\"colorbar\":{\"outlinewidth\":0,\"ticks\":\"\"}}}],\"bar\":[{\"error_x\":{\"color\":\"#2a3f5f\"},\"error_y\":{\"color\":\"#2a3f5f\"},\"marker\":{\"line\":{\"color\":\"#E5ECF6\",\"width\":0.5},\"pattern\":{\"fillmode\":\"overlay\",\"size\":10,\"solidity\":0.2}},\"type\":\"bar\"}],\"scattergeo\":[{\"type\":\"scattergeo\",\"marker\":{\"colorbar\":{\"outlinewidth\":0,\"ticks\":\"\"}}}],\"scatterpolar\":[{\"type\":\"scatterpolar\",\"marker\":{\"colorbar\":{\"outlinewidth\":0,\"ticks\":\"\"}}}],\"histogram\":[{\"marker\":{\"pattern\":{\"fillmode\":\"overlay\",\"size\":10,\"solidity\":0.2}},\"type\":\"histogram\"}],\"scattergl\":[{\"type\":\"scattergl\",\"marker\":{\"colorbar\":{\"outlinewidth\":0,\"ticks\":\"\"}}}],\"scatter3d\":[{\"type\":\"scatter3d\",\"line\":{\"colorbar\":{\"outlinewidth\":0,\"ticks\":\"\"}},\"marker\":{\"colorbar\":{\"outlinewidth\":0,\"ticks\":\"\"}}}],\"scattermapbox\":[{\"type\":\"scattermapbox\",\"marker\":{\"colorbar\":{\"outlinewidth\":0,\"ticks\":\"\"}}}],\"scatterternary\":[{\"type\":\"scatterternary\",\"marker\":{\"colorbar\":{\"outlinewidth\":0,\"ticks\":\"\"}}}],\"scattercarpet\":[{\"type\":\"scattercarpet\",\"marker\":{\"colorbar\":{\"outlinewidth\":0,\"ticks\":\"\"}}}],\"carpet\":[{\"aaxis\":{\"endlinecolor\":\"#2a3f5f\",\"gridcolor\":\"white\",\"linecolor\":\"white\",\"minorgridcolor\":\"white\",\"startlinecolor\":\"#2a3f5f\"},\"baxis\":{\"endlinecolor\":\"#2a3f5f\",\"gridcolor\":\"white\",\"linecolor\":\"white\",\"minorgridcolor\":\"white\",\"startlinecolor\":\"#2a3f5f\"},\"type\":\"carpet\"}],\"table\":[{\"cells\":{\"fill\":{\"color\":\"#EBF0F8\"},\"line\":{\"color\":\"white\"}},\"header\":{\"fill\":{\"color\":\"#C8D4E3\"},\"line\":{\"color\":\"white\"}},\"type\":\"table\"}],\"barpolar\":[{\"marker\":{\"line\":{\"color\":\"#E5ECF6\",\"width\":0.5},\"pattern\":{\"fillmode\":\"overlay\",\"size\":10,\"solidity\":0.2}},\"type\":\"barpolar\"}],\"pie\":[{\"automargin\":true,\"type\":\"pie\"}]},\"layout\":{\"autotypenumbers\":\"strict\",\"colorway\":[\"#636efa\",\"#EF553B\",\"#00cc96\",\"#ab63fa\",\"#FFA15A\",\"#19d3f3\",\"#FF6692\",\"#B6E880\",\"#FF97FF\",\"#FECB52\"],\"font\":{\"color\":\"#2a3f5f\"},\"hovermode\":\"closest\",\"hoverlabel\":{\"align\":\"left\"},\"paper_bgcolor\":\"white\",\"plot_bgcolor\":\"#E5ECF6\",\"polar\":{\"bgcolor\":\"#E5ECF6\",\"angularaxis\":{\"gridcolor\":\"white\",\"linecolor\":\"white\",\"ticks\":\"\"},\"radialaxis\":{\"gridcolor\":\"white\",\"linecolor\":\"white\",\"ticks\":\"\"}},\"ternary\":{\"bgcolor\":\"#E5ECF6\",\"aaxis\":{\"gridcolor\":\"white\",\"linecolor\":\"white\",\"ticks\":\"\"},\"baxis\":{\"gridcolor\":\"white\",\"linecolor\":\"white\",\"ticks\":\"\"},\"caxis\":{\"gridcolor\":\"white\",\"linecolor\":\"white\",\"ticks\":\"\"}},\"coloraxis\":{\"colorbar\":{\"outlinewidth\":0,\"ticks\":\"\"}},\"colorscale\":{\"sequential\":[[0.0,\"#0d0887\"],[0.1111111111111111,\"#46039f\"],[0.2222222222222222,\"#7201a8\"],[0.3333333333333333,\"#9c179e\"],[0.4444444444444444,\"#bd3786\"],[0.5555555555555556,\"#d8576b\"],[0.6666666666666666,\"#ed7953\"],[0.7777777777777778,\"#fb9f3a\"],[0.8888888888888888,\"#fdca26\"],[1.0,\"#f0f921\"]],\"sequentialminus\":[[0.0,\"#0d0887\"],[0.1111111111111111,\"#46039f\"],[0.2222222222222222,\"#7201a8\"],[0.3333333333333333,\"#9c179e\"],[0.4444444444444444,\"#bd3786\"],[0.5555555555555556,\"#d8576b\"],[0.6666666666666666,\"#ed7953\"],[0.7777777777777778,\"#fb9f3a\"],[0.8888888888888888,\"#fdca26\"],[1.0,\"#f0f921\"]],\"diverging\":[[0,\"#8e0152\"],[0.1,\"#c51b7d\"],[0.2,\"#de77ae\"],[0.3,\"#f1b6da\"],[0.4,\"#fde0ef\"],[0.5,\"#f7f7f7\"],[0.6,\"#e6f5d0\"],[0.7,\"#b8e186\"],[0.8,\"#7fbc41\"],[0.9,\"#4d9221\"],[1,\"#276419\"]]},\"xaxis\":{\"gridcolor\":\"white\",\"linecolor\":\"white\",\"ticks\":\"\",\"title\":{\"standoff\":15},\"zerolinecolor\":\"white\",\"automargin\":true,\"zerolinewidth\":2},\"yaxis\":{\"gridcolor\":\"white\",\"linecolor\":\"white\",\"ticks\":\"\",\"title\":{\"standoff\":15},\"zerolinecolor\":\"white\",\"automargin\":true,\"zerolinewidth\":2},\"scene\":{\"xaxis\":{\"backgroundcolor\":\"#E5ECF6\",\"gridcolor\":\"white\",\"linecolor\":\"white\",\"showbackground\":true,\"ticks\":\"\",\"zerolinecolor\":\"white\",\"gridwidth\":2},\"yaxis\":{\"backgroundcolor\":\"#E5ECF6\",\"gridcolor\":\"white\",\"linecolor\":\"white\",\"showbackground\":true,\"ticks\":\"\",\"zerolinecolor\":\"white\",\"gridwidth\":2},\"zaxis\":{\"backgroundcolor\":\"#E5ECF6\",\"gridcolor\":\"white\",\"linecolor\":\"white\",\"showbackground\":true,\"ticks\":\"\",\"zerolinecolor\":\"white\",\"gridwidth\":2}},\"shapedefaults\":{\"line\":{\"color\":\"#2a3f5f\"}},\"annotationdefaults\":{\"arrowcolor\":\"#2a3f5f\",\"arrowhead\":0,\"arrowwidth\":1},\"geo\":{\"bgcolor\":\"white\",\"landcolor\":\"#E5ECF6\",\"subunitcolor\":\"white\",\"showland\":true,\"showlakes\":true,\"lakecolor\":\"white\"},\"title\":{\"x\":0.05},\"mapbox\":{\"style\":\"light\"}}},\"xaxis\":{\"anchor\":\"y\",\"domain\":[0.0,1.0],\"title\":{\"text\":\"gived_yellow\"}},\"yaxis\":{\"anchor\":\"x\",\"domain\":[0.0,1.0],\"title\":{\"text\":\"received_yellow\"}},\"legend\":{\"title\":{\"text\":\"is_forager_x\"},\"tracegroupgap\":0},\"margin\":{\"t\":60}},                        {\"responsive\": true}                    ).then(function(){\n",
       "                            \n",
       "var gd = document.getElementById('1e1ad622-b721-4d9f-ab78-3d3b0ffdb964');\n",
       "var x = new MutationObserver(function (mutations, observer) {{\n",
       "        var display = window.getComputedStyle(gd).display;\n",
       "        if (!display || display === 'none') {{\n",
       "            console.log([gd, 'removed!']);\n",
       "            Plotly.purge(gd);\n",
       "            observer.disconnect();\n",
       "        }}\n",
       "}});\n",
       "\n",
       "// Listen for the removal of the full notebook cells\n",
       "var notebookContainer = gd.closest('#notebook-container');\n",
       "if (notebookContainer) {{\n",
       "    x.observe(notebookContainer, {childList: true});\n",
       "}}\n",
       "\n",
       "// Listen for the clearing of the current output cell\n",
       "var outputEl = gd.closest('.output');\n",
       "if (outputEl) {{\n",
       "    x.observe(outputEl, {childList: true});\n",
       "}}\n",
       "\n",
       "                        })                };                });            </script>        </div>"
      ]
     },
     "metadata": {},
     "output_type": "display_data"
    },
    {
     "data": {
      "application/vnd.plotly.v1+json": {
       "config": {
        "plotlyServerURL": "https://plot.ly"
       },
       "data": [
        {
         "customdata": [
          [
           -5
          ],
          [
           1
          ],
          [
           5
          ],
          [
           30
          ],
          [
           33
          ],
          [
           37
          ],
          [
           38
          ],
          [
           42
          ],
          [
           43
          ],
          [
           44
          ],
          [
           46
          ],
          [
           47
          ],
          [
           56
          ],
          [
           64
          ],
          [
           170
          ],
          [
           208
          ],
          [
           209
          ],
          [
           225
          ],
          [
           389
          ],
          [
           525
          ],
          [
           627
          ],
          [
           678
          ],
          [
           700
          ],
          [
           740
          ],
          [
           910
          ],
          [
           941
          ],
          [
           1004
          ],
          [
           1055
          ],
          [
           1063
          ],
          [
           1068
          ],
          [
           1079
          ],
          [
           1117
          ],
          [
           1230
          ],
          [
           1292
          ],
          [
           1321
          ],
          [
           1329
          ],
          [
           1354
          ],
          [
           1355
          ],
          [
           1384
          ],
          [
           1408
          ]
         ],
         "hovertemplate": "is_forager_x=False<br>gived_red=%{x}<br>received_red=%{y}<br>ant=%{customdata[0]}<extra></extra>",
         "legendgroup": "False",
         "marker": {
          "color": "#636efa",
          "symbol": "circle"
         },
         "mode": "markers",
         "name": "False",
         "orientation": "v",
         "showlegend": true,
         "type": "scatter",
         "x": [
          7.269921849187111,
          35.095044197145185,
          23.707750438892564,
          8.638615692376671,
          3.252053578501058,
          7.554907745526423,
          19.24872581244387,
          0.3028020409202698,
          20.72340754109747,
          16.716860453667724,
          6.336923662647756,
          115.88242438667532,
          35.212332321192456,
          4.344161110709436,
          42.92678551805588,
          5.9724510550001195,
          55.06545964282436,
          14.69377617931454,
          17.235841010715973,
          4.004679071320311,
          7.580912456787588,
          11.519177565801025,
          15.565156338137344,
          29.853622354416743,
          7.158657800107317,
          11.276969891806115,
          12.304297637027341,
          10.215153100094783,
          2.3735657320420227,
          44.7640000594333,
          18.064079611462553,
          20.196728676506435,
          31.425340883297668,
          46.11419042289,
          5.560471936822027,
          6.333623887705878,
          16.39578843913454,
          26.77000521940617,
          0.2511955933352075,
          2.158458685024183
         ],
         "xaxis": "x",
         "y": [
          19.795391908779607,
          33.72947494100993,
          34.26189012367308,
          29.034725010899518,
          29.373465548208262,
          23.085148147230143,
          36.12675399669275,
          5.406851584462981,
          34.84296563895916,
          10.229963187360081,
          5.446832680465639,
          95.95436674656898,
          40.78047384093458,
          8.620804535028931,
          42.15249678230122,
          17.839892204904473,
          48.09252174011084,
          14.425352035063979,
          45.86043808007944,
          5.018569644571838,
          2.819205268150235,
          16.34421805704815,
          25.368378778141206,
          27.41236287133693,
          22.390540866905425,
          22.93197718180068,
          24.061576404679172,
          9.84695507355098,
          24.65033724216473,
          75.80312056729184,
          27.208624339519467,
          57.33291990425293,
          45.05716785044194,
          80.19829294679232,
          10.559143373100751,
          22.015060746745363,
          22.5675246783356,
          53.696600929183894,
          14.232198091518438,
          28.80246236366254
         ],
         "yaxis": "y"
        },
        {
         "customdata": [
          [
           61
          ],
          [
           150
          ],
          [
           236
          ],
          [
           386
          ],
          [
           424
          ],
          [
           673
          ],
          [
           1124
          ],
          [
           1235
          ],
          [
           1299
          ]
         ],
         "hovertemplate": "is_forager_x=True<br>gived_red=%{x}<br>received_red=%{y}<br>ant=%{customdata[0]}<extra></extra>",
         "legendgroup": "True",
         "marker": {
          "color": "#EF553B",
          "symbol": "circle"
         },
         "mode": "markers",
         "name": "True",
         "orientation": "v",
         "showlegend": true,
         "type": "scatter",
         "x": [
          91.90345879320265,
          38.535082504948996,
          59.33575004070937,
          54.68035379096917,
          86.39677994683392,
          61.30659983125581,
          207.33529055707535,
          211.9057405072725,
          48.976248798440494
         ],
         "xaxis": "x",
         "y": [
          70.70537978382285,
          18.324794220824447,
          66.56742670405195,
          7.969814636915448,
          59.04689861323149,
          81.12261753023805,
          54.16502519552943,
          27.450124926223516,
          34.75263261777071
         ],
         "yaxis": "y"
        }
       ],
       "layout": {
        "legend": {
         "title": {
          "text": "is_forager_x"
         },
         "tracegroupgap": 0
        },
        "margin": {
         "t": 60
        },
        "template": {
         "data": {
          "bar": [
           {
            "error_x": {
             "color": "#2a3f5f"
            },
            "error_y": {
             "color": "#2a3f5f"
            },
            "marker": {
             "line": {
              "color": "#E5ECF6",
              "width": 0.5
             },
             "pattern": {
              "fillmode": "overlay",
              "size": 10,
              "solidity": 0.2
             }
            },
            "type": "bar"
           }
          ],
          "barpolar": [
           {
            "marker": {
             "line": {
              "color": "#E5ECF6",
              "width": 0.5
             },
             "pattern": {
              "fillmode": "overlay",
              "size": 10,
              "solidity": 0.2
             }
            },
            "type": "barpolar"
           }
          ],
          "carpet": [
           {
            "aaxis": {
             "endlinecolor": "#2a3f5f",
             "gridcolor": "white",
             "linecolor": "white",
             "minorgridcolor": "white",
             "startlinecolor": "#2a3f5f"
            },
            "baxis": {
             "endlinecolor": "#2a3f5f",
             "gridcolor": "white",
             "linecolor": "white",
             "minorgridcolor": "white",
             "startlinecolor": "#2a3f5f"
            },
            "type": "carpet"
           }
          ],
          "choropleth": [
           {
            "colorbar": {
             "outlinewidth": 0,
             "ticks": ""
            },
            "type": "choropleth"
           }
          ],
          "contour": [
           {
            "colorbar": {
             "outlinewidth": 0,
             "ticks": ""
            },
            "colorscale": [
             [
              0,
              "#0d0887"
             ],
             [
              0.1111111111111111,
              "#46039f"
             ],
             [
              0.2222222222222222,
              "#7201a8"
             ],
             [
              0.3333333333333333,
              "#9c179e"
             ],
             [
              0.4444444444444444,
              "#bd3786"
             ],
             [
              0.5555555555555556,
              "#d8576b"
             ],
             [
              0.6666666666666666,
              "#ed7953"
             ],
             [
              0.7777777777777778,
              "#fb9f3a"
             ],
             [
              0.8888888888888888,
              "#fdca26"
             ],
             [
              1,
              "#f0f921"
             ]
            ],
            "type": "contour"
           }
          ],
          "contourcarpet": [
           {
            "colorbar": {
             "outlinewidth": 0,
             "ticks": ""
            },
            "type": "contourcarpet"
           }
          ],
          "heatmap": [
           {
            "colorbar": {
             "outlinewidth": 0,
             "ticks": ""
            },
            "colorscale": [
             [
              0,
              "#0d0887"
             ],
             [
              0.1111111111111111,
              "#46039f"
             ],
             [
              0.2222222222222222,
              "#7201a8"
             ],
             [
              0.3333333333333333,
              "#9c179e"
             ],
             [
              0.4444444444444444,
              "#bd3786"
             ],
             [
              0.5555555555555556,
              "#d8576b"
             ],
             [
              0.6666666666666666,
              "#ed7953"
             ],
             [
              0.7777777777777778,
              "#fb9f3a"
             ],
             [
              0.8888888888888888,
              "#fdca26"
             ],
             [
              1,
              "#f0f921"
             ]
            ],
            "type": "heatmap"
           }
          ],
          "heatmapgl": [
           {
            "colorbar": {
             "outlinewidth": 0,
             "ticks": ""
            },
            "colorscale": [
             [
              0,
              "#0d0887"
             ],
             [
              0.1111111111111111,
              "#46039f"
             ],
             [
              0.2222222222222222,
              "#7201a8"
             ],
             [
              0.3333333333333333,
              "#9c179e"
             ],
             [
              0.4444444444444444,
              "#bd3786"
             ],
             [
              0.5555555555555556,
              "#d8576b"
             ],
             [
              0.6666666666666666,
              "#ed7953"
             ],
             [
              0.7777777777777778,
              "#fb9f3a"
             ],
             [
              0.8888888888888888,
              "#fdca26"
             ],
             [
              1,
              "#f0f921"
             ]
            ],
            "type": "heatmapgl"
           }
          ],
          "histogram": [
           {
            "marker": {
             "pattern": {
              "fillmode": "overlay",
              "size": 10,
              "solidity": 0.2
             }
            },
            "type": "histogram"
           }
          ],
          "histogram2d": [
           {
            "colorbar": {
             "outlinewidth": 0,
             "ticks": ""
            },
            "colorscale": [
             [
              0,
              "#0d0887"
             ],
             [
              0.1111111111111111,
              "#46039f"
             ],
             [
              0.2222222222222222,
              "#7201a8"
             ],
             [
              0.3333333333333333,
              "#9c179e"
             ],
             [
              0.4444444444444444,
              "#bd3786"
             ],
             [
              0.5555555555555556,
              "#d8576b"
             ],
             [
              0.6666666666666666,
              "#ed7953"
             ],
             [
              0.7777777777777778,
              "#fb9f3a"
             ],
             [
              0.8888888888888888,
              "#fdca26"
             ],
             [
              1,
              "#f0f921"
             ]
            ],
            "type": "histogram2d"
           }
          ],
          "histogram2dcontour": [
           {
            "colorbar": {
             "outlinewidth": 0,
             "ticks": ""
            },
            "colorscale": [
             [
              0,
              "#0d0887"
             ],
             [
              0.1111111111111111,
              "#46039f"
             ],
             [
              0.2222222222222222,
              "#7201a8"
             ],
             [
              0.3333333333333333,
              "#9c179e"
             ],
             [
              0.4444444444444444,
              "#bd3786"
             ],
             [
              0.5555555555555556,
              "#d8576b"
             ],
             [
              0.6666666666666666,
              "#ed7953"
             ],
             [
              0.7777777777777778,
              "#fb9f3a"
             ],
             [
              0.8888888888888888,
              "#fdca26"
             ],
             [
              1,
              "#f0f921"
             ]
            ],
            "type": "histogram2dcontour"
           }
          ],
          "mesh3d": [
           {
            "colorbar": {
             "outlinewidth": 0,
             "ticks": ""
            },
            "type": "mesh3d"
           }
          ],
          "parcoords": [
           {
            "line": {
             "colorbar": {
              "outlinewidth": 0,
              "ticks": ""
             }
            },
            "type": "parcoords"
           }
          ],
          "pie": [
           {
            "automargin": true,
            "type": "pie"
           }
          ],
          "scatter": [
           {
            "fillpattern": {
             "fillmode": "overlay",
             "size": 10,
             "solidity": 0.2
            },
            "type": "scatter"
           }
          ],
          "scatter3d": [
           {
            "line": {
             "colorbar": {
              "outlinewidth": 0,
              "ticks": ""
             }
            },
            "marker": {
             "colorbar": {
              "outlinewidth": 0,
              "ticks": ""
             }
            },
            "type": "scatter3d"
           }
          ],
          "scattercarpet": [
           {
            "marker": {
             "colorbar": {
              "outlinewidth": 0,
              "ticks": ""
             }
            },
            "type": "scattercarpet"
           }
          ],
          "scattergeo": [
           {
            "marker": {
             "colorbar": {
              "outlinewidth": 0,
              "ticks": ""
             }
            },
            "type": "scattergeo"
           }
          ],
          "scattergl": [
           {
            "marker": {
             "colorbar": {
              "outlinewidth": 0,
              "ticks": ""
             }
            },
            "type": "scattergl"
           }
          ],
          "scattermapbox": [
           {
            "marker": {
             "colorbar": {
              "outlinewidth": 0,
              "ticks": ""
             }
            },
            "type": "scattermapbox"
           }
          ],
          "scatterpolar": [
           {
            "marker": {
             "colorbar": {
              "outlinewidth": 0,
              "ticks": ""
             }
            },
            "type": "scatterpolar"
           }
          ],
          "scatterpolargl": [
           {
            "marker": {
             "colorbar": {
              "outlinewidth": 0,
              "ticks": ""
             }
            },
            "type": "scatterpolargl"
           }
          ],
          "scatterternary": [
           {
            "marker": {
             "colorbar": {
              "outlinewidth": 0,
              "ticks": ""
             }
            },
            "type": "scatterternary"
           }
          ],
          "surface": [
           {
            "colorbar": {
             "outlinewidth": 0,
             "ticks": ""
            },
            "colorscale": [
             [
              0,
              "#0d0887"
             ],
             [
              0.1111111111111111,
              "#46039f"
             ],
             [
              0.2222222222222222,
              "#7201a8"
             ],
             [
              0.3333333333333333,
              "#9c179e"
             ],
             [
              0.4444444444444444,
              "#bd3786"
             ],
             [
              0.5555555555555556,
              "#d8576b"
             ],
             [
              0.6666666666666666,
              "#ed7953"
             ],
             [
              0.7777777777777778,
              "#fb9f3a"
             ],
             [
              0.8888888888888888,
              "#fdca26"
             ],
             [
              1,
              "#f0f921"
             ]
            ],
            "type": "surface"
           }
          ],
          "table": [
           {
            "cells": {
             "fill": {
              "color": "#EBF0F8"
             },
             "line": {
              "color": "white"
             }
            },
            "header": {
             "fill": {
              "color": "#C8D4E3"
             },
             "line": {
              "color": "white"
             }
            },
            "type": "table"
           }
          ]
         },
         "layout": {
          "annotationdefaults": {
           "arrowcolor": "#2a3f5f",
           "arrowhead": 0,
           "arrowwidth": 1
          },
          "autotypenumbers": "strict",
          "coloraxis": {
           "colorbar": {
            "outlinewidth": 0,
            "ticks": ""
           }
          },
          "colorscale": {
           "diverging": [
            [
             0,
             "#8e0152"
            ],
            [
             0.1,
             "#c51b7d"
            ],
            [
             0.2,
             "#de77ae"
            ],
            [
             0.3,
             "#f1b6da"
            ],
            [
             0.4,
             "#fde0ef"
            ],
            [
             0.5,
             "#f7f7f7"
            ],
            [
             0.6,
             "#e6f5d0"
            ],
            [
             0.7,
             "#b8e186"
            ],
            [
             0.8,
             "#7fbc41"
            ],
            [
             0.9,
             "#4d9221"
            ],
            [
             1,
             "#276419"
            ]
           ],
           "sequential": [
            [
             0,
             "#0d0887"
            ],
            [
             0.1111111111111111,
             "#46039f"
            ],
            [
             0.2222222222222222,
             "#7201a8"
            ],
            [
             0.3333333333333333,
             "#9c179e"
            ],
            [
             0.4444444444444444,
             "#bd3786"
            ],
            [
             0.5555555555555556,
             "#d8576b"
            ],
            [
             0.6666666666666666,
             "#ed7953"
            ],
            [
             0.7777777777777778,
             "#fb9f3a"
            ],
            [
             0.8888888888888888,
             "#fdca26"
            ],
            [
             1,
             "#f0f921"
            ]
           ],
           "sequentialminus": [
            [
             0,
             "#0d0887"
            ],
            [
             0.1111111111111111,
             "#46039f"
            ],
            [
             0.2222222222222222,
             "#7201a8"
            ],
            [
             0.3333333333333333,
             "#9c179e"
            ],
            [
             0.4444444444444444,
             "#bd3786"
            ],
            [
             0.5555555555555556,
             "#d8576b"
            ],
            [
             0.6666666666666666,
             "#ed7953"
            ],
            [
             0.7777777777777778,
             "#fb9f3a"
            ],
            [
             0.8888888888888888,
             "#fdca26"
            ],
            [
             1,
             "#f0f921"
            ]
           ]
          },
          "colorway": [
           "#636efa",
           "#EF553B",
           "#00cc96",
           "#ab63fa",
           "#FFA15A",
           "#19d3f3",
           "#FF6692",
           "#B6E880",
           "#FF97FF",
           "#FECB52"
          ],
          "font": {
           "color": "#2a3f5f"
          },
          "geo": {
           "bgcolor": "white",
           "lakecolor": "white",
           "landcolor": "#E5ECF6",
           "showlakes": true,
           "showland": true,
           "subunitcolor": "white"
          },
          "hoverlabel": {
           "align": "left"
          },
          "hovermode": "closest",
          "mapbox": {
           "style": "light"
          },
          "paper_bgcolor": "white",
          "plot_bgcolor": "#E5ECF6",
          "polar": {
           "angularaxis": {
            "gridcolor": "white",
            "linecolor": "white",
            "ticks": ""
           },
           "bgcolor": "#E5ECF6",
           "radialaxis": {
            "gridcolor": "white",
            "linecolor": "white",
            "ticks": ""
           }
          },
          "scene": {
           "xaxis": {
            "backgroundcolor": "#E5ECF6",
            "gridcolor": "white",
            "gridwidth": 2,
            "linecolor": "white",
            "showbackground": true,
            "ticks": "",
            "zerolinecolor": "white"
           },
           "yaxis": {
            "backgroundcolor": "#E5ECF6",
            "gridcolor": "white",
            "gridwidth": 2,
            "linecolor": "white",
            "showbackground": true,
            "ticks": "",
            "zerolinecolor": "white"
           },
           "zaxis": {
            "backgroundcolor": "#E5ECF6",
            "gridcolor": "white",
            "gridwidth": 2,
            "linecolor": "white",
            "showbackground": true,
            "ticks": "",
            "zerolinecolor": "white"
           }
          },
          "shapedefaults": {
           "line": {
            "color": "#2a3f5f"
           }
          },
          "ternary": {
           "aaxis": {
            "gridcolor": "white",
            "linecolor": "white",
            "ticks": ""
           },
           "baxis": {
            "gridcolor": "white",
            "linecolor": "white",
            "ticks": ""
           },
           "bgcolor": "#E5ECF6",
           "caxis": {
            "gridcolor": "white",
            "linecolor": "white",
            "ticks": ""
           }
          },
          "title": {
           "x": 0.05
          },
          "xaxis": {
           "automargin": true,
           "gridcolor": "white",
           "linecolor": "white",
           "ticks": "",
           "title": {
            "standoff": 15
           },
           "zerolinecolor": "white",
           "zerolinewidth": 2
          },
          "yaxis": {
           "automargin": true,
           "gridcolor": "white",
           "linecolor": "white",
           "ticks": "",
           "title": {
            "standoff": 15
           },
           "zerolinecolor": "white",
           "zerolinewidth": 2
          }
         }
        },
        "xaxis": {
         "anchor": "y",
         "domain": [
          0,
          1
         ],
         "title": {
          "text": "gived_red"
         }
        },
        "yaxis": {
         "anchor": "x",
         "domain": [
          0,
          1
         ],
         "title": {
          "text": "received_red"
         }
        }
       }
      },
      "text/html": [
       "<div>                            <div id=\"e25aafb3-1c11-4595-a05e-8e31e9429cb8\" class=\"plotly-graph-div\" style=\"height:525px; width:100%;\"></div>            <script type=\"text/javascript\">                require([\"plotly\"], function(Plotly) {                    window.PLOTLYENV=window.PLOTLYENV || {};                                    if (document.getElementById(\"e25aafb3-1c11-4595-a05e-8e31e9429cb8\")) {                    Plotly.newPlot(                        \"e25aafb3-1c11-4595-a05e-8e31e9429cb8\",                        [{\"customdata\":[[-5],[1],[5],[30],[33],[37],[38],[42],[43],[44],[46],[47],[56],[64],[170],[208],[209],[225],[389],[525],[627],[678],[700],[740],[910],[941],[1004],[1055],[1063],[1068],[1079],[1117],[1230],[1292],[1321],[1329],[1354],[1355],[1384],[1408]],\"hovertemplate\":\"is_forager_x=False<br>gived_red=%{x}<br>received_red=%{y}<br>ant=%{customdata[0]}<extra></extra>\",\"legendgroup\":\"False\",\"marker\":{\"color\":\"#636efa\",\"symbol\":\"circle\"},\"mode\":\"markers\",\"name\":\"False\",\"orientation\":\"v\",\"showlegend\":true,\"x\":[7.269921849187111,35.095044197145185,23.707750438892564,8.638615692376671,3.252053578501058,7.554907745526423,19.24872581244387,0.3028020409202698,20.72340754109747,16.716860453667724,6.336923662647756,115.88242438667532,35.212332321192456,4.344161110709436,42.92678551805588,5.9724510550001195,55.06545964282436,14.69377617931454,17.235841010715973,4.004679071320311,7.580912456787588,11.519177565801025,15.565156338137344,29.853622354416743,7.158657800107317,11.276969891806115,12.304297637027341,10.215153100094783,2.3735657320420227,44.7640000594333,18.064079611462553,20.196728676506435,31.425340883297668,46.11419042289,5.560471936822027,6.333623887705878,16.39578843913454,26.77000521940617,0.2511955933352075,2.158458685024183],\"xaxis\":\"x\",\"y\":[19.795391908779607,33.72947494100993,34.26189012367308,29.034725010899518,29.373465548208262,23.085148147230143,36.12675399669275,5.406851584462981,34.84296563895916,10.229963187360081,5.446832680465639,95.95436674656898,40.78047384093458,8.620804535028931,42.15249678230122,17.839892204904473,48.09252174011084,14.425352035063979,45.86043808007944,5.018569644571838,2.819205268150235,16.34421805704815,25.368378778141206,27.41236287133693,22.390540866905425,22.93197718180068,24.061576404679172,9.84695507355098,24.65033724216473,75.80312056729184,27.208624339519467,57.33291990425293,45.05716785044194,80.19829294679232,10.559143373100751,22.015060746745363,22.5675246783356,53.696600929183894,14.232198091518438,28.80246236366254],\"yaxis\":\"y\",\"type\":\"scatter\"},{\"customdata\":[[61],[150],[236],[386],[424],[673],[1124],[1235],[1299]],\"hovertemplate\":\"is_forager_x=True<br>gived_red=%{x}<br>received_red=%{y}<br>ant=%{customdata[0]}<extra></extra>\",\"legendgroup\":\"True\",\"marker\":{\"color\":\"#EF553B\",\"symbol\":\"circle\"},\"mode\":\"markers\",\"name\":\"True\",\"orientation\":\"v\",\"showlegend\":true,\"x\":[91.90345879320265,38.535082504948996,59.33575004070937,54.68035379096917,86.39677994683392,61.30659983125581,207.33529055707535,211.9057405072725,48.976248798440494],\"xaxis\":\"x\",\"y\":[70.70537978382285,18.324794220824447,66.56742670405195,7.969814636915448,59.04689861323149,81.12261753023805,54.16502519552943,27.450124926223516,34.75263261777071],\"yaxis\":\"y\",\"type\":\"scatter\"}],                        {\"template\":{\"data\":{\"histogram2dcontour\":[{\"type\":\"histogram2dcontour\",\"colorbar\":{\"outlinewidth\":0,\"ticks\":\"\"},\"colorscale\":[[0.0,\"#0d0887\"],[0.1111111111111111,\"#46039f\"],[0.2222222222222222,\"#7201a8\"],[0.3333333333333333,\"#9c179e\"],[0.4444444444444444,\"#bd3786\"],[0.5555555555555556,\"#d8576b\"],[0.6666666666666666,\"#ed7953\"],[0.7777777777777778,\"#fb9f3a\"],[0.8888888888888888,\"#fdca26\"],[1.0,\"#f0f921\"]]}],\"choropleth\":[{\"type\":\"choropleth\",\"colorbar\":{\"outlinewidth\":0,\"ticks\":\"\"}}],\"histogram2d\":[{\"type\":\"histogram2d\",\"colorbar\":{\"outlinewidth\":0,\"ticks\":\"\"},\"colorscale\":[[0.0,\"#0d0887\"],[0.1111111111111111,\"#46039f\"],[0.2222222222222222,\"#7201a8\"],[0.3333333333333333,\"#9c179e\"],[0.4444444444444444,\"#bd3786\"],[0.5555555555555556,\"#d8576b\"],[0.6666666666666666,\"#ed7953\"],[0.7777777777777778,\"#fb9f3a\"],[0.8888888888888888,\"#fdca26\"],[1.0,\"#f0f921\"]]}],\"heatmap\":[{\"type\":\"heatmap\",\"colorbar\":{\"outlinewidth\":0,\"ticks\":\"\"},\"colorscale\":[[0.0,\"#0d0887\"],[0.1111111111111111,\"#46039f\"],[0.2222222222222222,\"#7201a8\"],[0.3333333333333333,\"#9c179e\"],[0.4444444444444444,\"#bd3786\"],[0.5555555555555556,\"#d8576b\"],[0.6666666666666666,\"#ed7953\"],[0.7777777777777778,\"#fb9f3a\"],[0.8888888888888888,\"#fdca26\"],[1.0,\"#f0f921\"]]}],\"heatmapgl\":[{\"type\":\"heatmapgl\",\"colorbar\":{\"outlinewidth\":0,\"ticks\":\"\"},\"colorscale\":[[0.0,\"#0d0887\"],[0.1111111111111111,\"#46039f\"],[0.2222222222222222,\"#7201a8\"],[0.3333333333333333,\"#9c179e\"],[0.4444444444444444,\"#bd3786\"],[0.5555555555555556,\"#d8576b\"],[0.6666666666666666,\"#ed7953\"],[0.7777777777777778,\"#fb9f3a\"],[0.8888888888888888,\"#fdca26\"],[1.0,\"#f0f921\"]]}],\"contourcarpet\":[{\"type\":\"contourcarpet\",\"colorbar\":{\"outlinewidth\":0,\"ticks\":\"\"}}],\"contour\":[{\"type\":\"contour\",\"colorbar\":{\"outlinewidth\":0,\"ticks\":\"\"},\"colorscale\":[[0.0,\"#0d0887\"],[0.1111111111111111,\"#46039f\"],[0.2222222222222222,\"#7201a8\"],[0.3333333333333333,\"#9c179e\"],[0.4444444444444444,\"#bd3786\"],[0.5555555555555556,\"#d8576b\"],[0.6666666666666666,\"#ed7953\"],[0.7777777777777778,\"#fb9f3a\"],[0.8888888888888888,\"#fdca26\"],[1.0,\"#f0f921\"]]}],\"surface\":[{\"type\":\"surface\",\"colorbar\":{\"outlinewidth\":0,\"ticks\":\"\"},\"colorscale\":[[0.0,\"#0d0887\"],[0.1111111111111111,\"#46039f\"],[0.2222222222222222,\"#7201a8\"],[0.3333333333333333,\"#9c179e\"],[0.4444444444444444,\"#bd3786\"],[0.5555555555555556,\"#d8576b\"],[0.6666666666666666,\"#ed7953\"],[0.7777777777777778,\"#fb9f3a\"],[0.8888888888888888,\"#fdca26\"],[1.0,\"#f0f921\"]]}],\"mesh3d\":[{\"type\":\"mesh3d\",\"colorbar\":{\"outlinewidth\":0,\"ticks\":\"\"}}],\"scatter\":[{\"fillpattern\":{\"fillmode\":\"overlay\",\"size\":10,\"solidity\":0.2},\"type\":\"scatter\"}],\"parcoords\":[{\"type\":\"parcoords\",\"line\":{\"colorbar\":{\"outlinewidth\":0,\"ticks\":\"\"}}}],\"scatterpolargl\":[{\"type\":\"scatterpolargl\",\"marker\":{\"colorbar\":{\"outlinewidth\":0,\"ticks\":\"\"}}}],\"bar\":[{\"error_x\":{\"color\":\"#2a3f5f\"},\"error_y\":{\"color\":\"#2a3f5f\"},\"marker\":{\"line\":{\"color\":\"#E5ECF6\",\"width\":0.5},\"pattern\":{\"fillmode\":\"overlay\",\"size\":10,\"solidity\":0.2}},\"type\":\"bar\"}],\"scattergeo\":[{\"type\":\"scattergeo\",\"marker\":{\"colorbar\":{\"outlinewidth\":0,\"ticks\":\"\"}}}],\"scatterpolar\":[{\"type\":\"scatterpolar\",\"marker\":{\"colorbar\":{\"outlinewidth\":0,\"ticks\":\"\"}}}],\"histogram\":[{\"marker\":{\"pattern\":{\"fillmode\":\"overlay\",\"size\":10,\"solidity\":0.2}},\"type\":\"histogram\"}],\"scattergl\":[{\"type\":\"scattergl\",\"marker\":{\"colorbar\":{\"outlinewidth\":0,\"ticks\":\"\"}}}],\"scatter3d\":[{\"type\":\"scatter3d\",\"line\":{\"colorbar\":{\"outlinewidth\":0,\"ticks\":\"\"}},\"marker\":{\"colorbar\":{\"outlinewidth\":0,\"ticks\":\"\"}}}],\"scattermapbox\":[{\"type\":\"scattermapbox\",\"marker\":{\"colorbar\":{\"outlinewidth\":0,\"ticks\":\"\"}}}],\"scatterternary\":[{\"type\":\"scatterternary\",\"marker\":{\"colorbar\":{\"outlinewidth\":0,\"ticks\":\"\"}}}],\"scattercarpet\":[{\"type\":\"scattercarpet\",\"marker\":{\"colorbar\":{\"outlinewidth\":0,\"ticks\":\"\"}}}],\"carpet\":[{\"aaxis\":{\"endlinecolor\":\"#2a3f5f\",\"gridcolor\":\"white\",\"linecolor\":\"white\",\"minorgridcolor\":\"white\",\"startlinecolor\":\"#2a3f5f\"},\"baxis\":{\"endlinecolor\":\"#2a3f5f\",\"gridcolor\":\"white\",\"linecolor\":\"white\",\"minorgridcolor\":\"white\",\"startlinecolor\":\"#2a3f5f\"},\"type\":\"carpet\"}],\"table\":[{\"cells\":{\"fill\":{\"color\":\"#EBF0F8\"},\"line\":{\"color\":\"white\"}},\"header\":{\"fill\":{\"color\":\"#C8D4E3\"},\"line\":{\"color\":\"white\"}},\"type\":\"table\"}],\"barpolar\":[{\"marker\":{\"line\":{\"color\":\"#E5ECF6\",\"width\":0.5},\"pattern\":{\"fillmode\":\"overlay\",\"size\":10,\"solidity\":0.2}},\"type\":\"barpolar\"}],\"pie\":[{\"automargin\":true,\"type\":\"pie\"}]},\"layout\":{\"autotypenumbers\":\"strict\",\"colorway\":[\"#636efa\",\"#EF553B\",\"#00cc96\",\"#ab63fa\",\"#FFA15A\",\"#19d3f3\",\"#FF6692\",\"#B6E880\",\"#FF97FF\",\"#FECB52\"],\"font\":{\"color\":\"#2a3f5f\"},\"hovermode\":\"closest\",\"hoverlabel\":{\"align\":\"left\"},\"paper_bgcolor\":\"white\",\"plot_bgcolor\":\"#E5ECF6\",\"polar\":{\"bgcolor\":\"#E5ECF6\",\"angularaxis\":{\"gridcolor\":\"white\",\"linecolor\":\"white\",\"ticks\":\"\"},\"radialaxis\":{\"gridcolor\":\"white\",\"linecolor\":\"white\",\"ticks\":\"\"}},\"ternary\":{\"bgcolor\":\"#E5ECF6\",\"aaxis\":{\"gridcolor\":\"white\",\"linecolor\":\"white\",\"ticks\":\"\"},\"baxis\":{\"gridcolor\":\"white\",\"linecolor\":\"white\",\"ticks\":\"\"},\"caxis\":{\"gridcolor\":\"white\",\"linecolor\":\"white\",\"ticks\":\"\"}},\"coloraxis\":{\"colorbar\":{\"outlinewidth\":0,\"ticks\":\"\"}},\"colorscale\":{\"sequential\":[[0.0,\"#0d0887\"],[0.1111111111111111,\"#46039f\"],[0.2222222222222222,\"#7201a8\"],[0.3333333333333333,\"#9c179e\"],[0.4444444444444444,\"#bd3786\"],[0.5555555555555556,\"#d8576b\"],[0.6666666666666666,\"#ed7953\"],[0.7777777777777778,\"#fb9f3a\"],[0.8888888888888888,\"#fdca26\"],[1.0,\"#f0f921\"]],\"sequentialminus\":[[0.0,\"#0d0887\"],[0.1111111111111111,\"#46039f\"],[0.2222222222222222,\"#7201a8\"],[0.3333333333333333,\"#9c179e\"],[0.4444444444444444,\"#bd3786\"],[0.5555555555555556,\"#d8576b\"],[0.6666666666666666,\"#ed7953\"],[0.7777777777777778,\"#fb9f3a\"],[0.8888888888888888,\"#fdca26\"],[1.0,\"#f0f921\"]],\"diverging\":[[0,\"#8e0152\"],[0.1,\"#c51b7d\"],[0.2,\"#de77ae\"],[0.3,\"#f1b6da\"],[0.4,\"#fde0ef\"],[0.5,\"#f7f7f7\"],[0.6,\"#e6f5d0\"],[0.7,\"#b8e186\"],[0.8,\"#7fbc41\"],[0.9,\"#4d9221\"],[1,\"#276419\"]]},\"xaxis\":{\"gridcolor\":\"white\",\"linecolor\":\"white\",\"ticks\":\"\",\"title\":{\"standoff\":15},\"zerolinecolor\":\"white\",\"automargin\":true,\"zerolinewidth\":2},\"yaxis\":{\"gridcolor\":\"white\",\"linecolor\":\"white\",\"ticks\":\"\",\"title\":{\"standoff\":15},\"zerolinecolor\":\"white\",\"automargin\":true,\"zerolinewidth\":2},\"scene\":{\"xaxis\":{\"backgroundcolor\":\"#E5ECF6\",\"gridcolor\":\"white\",\"linecolor\":\"white\",\"showbackground\":true,\"ticks\":\"\",\"zerolinecolor\":\"white\",\"gridwidth\":2},\"yaxis\":{\"backgroundcolor\":\"#E5ECF6\",\"gridcolor\":\"white\",\"linecolor\":\"white\",\"showbackground\":true,\"ticks\":\"\",\"zerolinecolor\":\"white\",\"gridwidth\":2},\"zaxis\":{\"backgroundcolor\":\"#E5ECF6\",\"gridcolor\":\"white\",\"linecolor\":\"white\",\"showbackground\":true,\"ticks\":\"\",\"zerolinecolor\":\"white\",\"gridwidth\":2}},\"shapedefaults\":{\"line\":{\"color\":\"#2a3f5f\"}},\"annotationdefaults\":{\"arrowcolor\":\"#2a3f5f\",\"arrowhead\":0,\"arrowwidth\":1},\"geo\":{\"bgcolor\":\"white\",\"landcolor\":\"#E5ECF6\",\"subunitcolor\":\"white\",\"showland\":true,\"showlakes\":true,\"lakecolor\":\"white\"},\"title\":{\"x\":0.05},\"mapbox\":{\"style\":\"light\"}}},\"xaxis\":{\"anchor\":\"y\",\"domain\":[0.0,1.0],\"title\":{\"text\":\"gived_red\"}},\"yaxis\":{\"anchor\":\"x\",\"domain\":[0.0,1.0],\"title\":{\"text\":\"received_red\"}},\"legend\":{\"title\":{\"text\":\"is_forager_x\"},\"tracegroupgap\":0},\"margin\":{\"t\":60}},                        {\"responsive\": true}                    ).then(function(){\n",
       "                            \n",
       "var gd = document.getElementById('e25aafb3-1c11-4595-a05e-8e31e9429cb8');\n",
       "var x = new MutationObserver(function (mutations, observer) {{\n",
       "        var display = window.getComputedStyle(gd).display;\n",
       "        if (!display || display === 'none') {{\n",
       "            console.log([gd, 'removed!']);\n",
       "            Plotly.purge(gd);\n",
       "            observer.disconnect();\n",
       "        }}\n",
       "}});\n",
       "\n",
       "// Listen for the removal of the full notebook cells\n",
       "var notebookContainer = gd.closest('#notebook-container');\n",
       "if (notebookContainer) {{\n",
       "    x.observe(notebookContainer, {childList: true});\n",
       "}}\n",
       "\n",
       "// Listen for the clearing of the current output cell\n",
       "var outputEl = gd.closest('.output');\n",
       "if (outputEl) {{\n",
       "    x.observe(outputEl, {childList: true});\n",
       "}}\n",
       "\n",
       "                        })                };                });            </script>        </div>"
      ]
     },
     "metadata": {},
     "output_type": "display_data"
    }
   ],
   "source": [
    "fig= px.scatter(df, x='gived_yellow', color='is_forager_x', y='received_yellow', hover_data=['ant'])\n",
    "fig.show()\n",
    "\n",
    "# fig,ax=plt.subplots(1,1)\n",
    "# g=sns.scatterplot(data=df,x='gived_yellow', y='received_yellow',  hue='is_forager_x',legend=True, ax=ax)\n",
    "# g.legend_.set_title(None)\n",
    "# for t, l in zip(g.legend_.texts, ['Non-forager','Forager']):\n",
    "#     t.set_text(l)\n",
    "# g.set_xlabel('Total given yellow [ul]')\n",
    "# g.set_ylabel('Total received yellow [ul]')\n",
    "# g.set_aspect('equal')\n",
    "#g.set(xlim=(0,max_value+10), ylim=(0,max_value+10))\n",
    "#g.set_title(f'Experiment {exp_num}')\n",
    "fig2= px.scatter(df, x='gived_red', color='is_forager_x', y='received_red', hover_data=['ant'])\n",
    "fig2.show()\n"
   ]
  },
  {
   "cell_type": "code",
   "execution_count": null,
   "id": "90ef672d",
   "metadata": {},
   "outputs": [],
   "source": []
  },
  {
   "cell_type": "code",
   "execution_count": 107,
   "id": "f3bff669",
   "metadata": {},
   "outputs": [
    {
     "data": {
      "text/plain": [
       "<matplotlib.axes._subplots.AxesSubplot at 0x188adb48488>"
      ]
     },
     "execution_count": 107,
     "metadata": {},
     "output_type": "execute_result"
    }
   ],
   "source": [
    "plt.figure()\n",
    "givers.num_of_interactions.hist(bins=np.arange(0,100,5))"
   ]
  },
  {
   "cell_type": "code",
   "execution_count": 108,
   "id": "64aafae0",
   "metadata": {},
   "outputs": [
    {
     "data": {
      "text/plain": [
       "giver\n",
       "-5        13.786134\n",
       " 1        37.226297\n",
       " 5        23.826296\n",
       " 30       10.050165\n",
       " 33        7.532170\n",
       " 37        8.852449\n",
       " 38       30.535509\n",
       " 42        0.302802\n",
       " 43       32.902357\n",
       " 44       17.807342\n",
       " 46        6.467433\n",
       " 47      167.852156\n",
       " 56       35.872682\n",
       " 61      170.657091\n",
       " 64        4.344161\n",
       " 150      61.517101\n",
       " 170      55.806188\n",
       " 208       6.447303\n",
       " 209      75.190237\n",
       " 225      34.409008\n",
       " 236      66.708557\n",
       " 386      86.567317\n",
       " 389      20.280291\n",
       " 424     103.966438\n",
       " 525       5.547822\n",
       " 627       9.816927\n",
       " 673      63.555287\n",
       " 678      12.788782\n",
       " 700      16.363743\n",
       " 740      35.402765\n",
       " 910       7.782686\n",
       " 941      14.371488\n",
       " 1004     19.132407\n",
       " 1055     14.405651\n",
       " 1063      4.138149\n",
       " 1068     51.084770\n",
       " 1079     23.121269\n",
       " 1117     26.347670\n",
       " 1124    239.379534\n",
       " 1230     32.850962\n",
       " 1235    263.169311\n",
       " 1292     57.773410\n",
       " 1299     70.863464\n",
       " 1321      7.061008\n",
       " 1329      7.211135\n",
       " 1354     17.370742\n",
       " 1355     35.852146\n",
       " 1384      0.251196\n",
       " 1408      2.158459\n",
       "dtype: float64"
      ]
     },
     "execution_count": 108,
     "metadata": {},
     "output_type": "execute_result"
    }
   ],
   "source": [
    "givers['transferred_yellow']+givers['transferred_red']"
   ]
  },
  {
   "cell_type": "code",
   "execution_count": 110,
   "id": "71324d88",
   "metadata": {},
   "outputs": [],
   "source": [
    "experiments = [11,18,19,20,16,17,21,0,22,23,24]\n",
    "colors = ['blue']*4\n",
    "colors.extend(['purple']*4)\n",
    "colors.extend(['green']*3)\n",
    "\n",
    "fig1, axes1 = plt.subplots(3,4)\n",
    "fig2, axes2 = plt.subplots(3,4,sharex=True,sharey=False)\n",
    "fig3, axes3 = plt.subplots(3,4,sharex=True,sharey=False)\n",
    "fig4, axes4 = plt.subplots(3,4,sharex=True,sharey=False)\n",
    "fig5, axes5 = plt.subplots(3,4,sharex=True,sharey=False)\n",
    "fig2.suptitle('total transferred')\n",
    "fig3.suptitle('yellow')\n",
    "fig4.suptitle('red')\n",
    "fig5.suptitle('number of interactions')\n",
    "for exp_num, color, ax1, ax2, ax3, ax4, ax5 in zip(experiments, colors, axes1.ravel(), axes2.ravel(),\n",
    "                                                   axes3.ravel(), axes4.ravel(), axes5.ravel()):\n",
    "    if exp_num>0:\n",
    "        exp_idx, PC_ratios_dict, exp_path, tdata, ants, foragers = get_experiment_data(exp_num, exp_details, root_path)\n",
    "        givers = make_givers_df(tdata, foragers)\n",
    "        \n",
    "        max_value = max(max(givers['transferred_yellow']),max(givers['transferred_red']))\n",
    "        \n",
    "        scatter_total_transferred(ax1, givers, max_value, exp_num)\n",
    "        \n",
    "        histogram_with_gamma_fit(ax2, givers['transferred_yellow']+givers['transferred_red'], color, exp_num)\n",
    "        histogram_with_gamma_fit(ax3, givers['transferred_yellow'], color, exp_num)\n",
    "        histogram_with_gamma_fit(ax4, givers['transferred_red'], color, exp_num)\n",
    "        histogram_with_gamma_fit(ax5, givers['num_of_interactions'], color, exp_num, bins=np.arange(0,100,5))\n",
    "        ax5.set_xlabel('Number of interactions')\n",
    "        mean_num_interactions = givers['num_of_interactions'].mean()\n",
    "        plt.text(150,0.15,f\"mean {mean_num_interactions: .2f}\")\n",
    "\n",
    "fig1.delaxes(axes1.ravel()[-1])\n",
    "fig2.delaxes(axes2.ravel()[-1])\n",
    "fig3.delaxes(axes3.ravel()[-1])\n",
    "fig4.delaxes(axes4.ravel()[-1])\n",
    "fig5.delaxes(axes5.ravel()[-1])\n",
    "fig1.delaxes(axes1.ravel()[7])\n",
    "fig2.delaxes(axes2.ravel()[7])\n",
    "fig3.delaxes(axes3.ravel()[7])\n",
    "fig4.delaxes(axes4.ravel()[7])\n",
    "fig5.delaxes(axes5.ravel()[7])"
   ]
  },
  {
   "cell_type": "code",
   "execution_count": null,
   "id": "172ec089",
   "metadata": {},
   "outputs": [],
   "source": [
    "\n"
   ]
  },
  {
   "cell_type": "code",
   "execution_count": 100,
   "id": "5019308d",
   "metadata": {},
   "outputs": [],
   "source": [
    "\n",
    "experiments = [11,18,19,20,16,17,21,0,22,23,24]\n",
    "colors = ['blue']*4\n",
    "colors.extend(['purple']*4)\n",
    "colors.extend(['green']*3)\n",
    "\n",
    "fig1, axes1 = plt.subplots(3,4)\n",
    "fig2, axes2 = plt.subplots(3,4,sharex=True,sharey=False)\n",
    "for exp_num, color,ax1,ax2 in zip(experiments, colors,axes1.ravel(),axes2.ravel()):\n",
    "    if exp_num>0:\n",
    "        exp_idx, PC_ratios_dict, exp_path = afuns.get_exp_data(exp_num, exp_details, root_path)\n",
    "        bdata_filename = get_bdata_filename(exp_path)\n",
    "\n",
    "        # bdata = pd.read_csv(exp_path + sep + r'with food\\blob analysis normalized by white paper' + sep + bdata_filename, index_col=0)\n",
    "        # fdata = pd.read_csv(exp_path + sep + r'forager_table_with_feeding_sizes_ul_transparency_corrected.csv', index_col=[0])\n",
    "        tdata = pd.read_csv(exp_path + sep + r'clean_trophallaxis_table_transparency_corrected.csv')\n",
    "        # crops = pd.read_csv(exp_path + sep + r'clean_crops_transparency_corrected.csv', header=[0,1], index_col=[0]).swaplevel(axis=1)\n",
    "        ants = pd.read_csv(exp_path + sep + r'ants_list.csv')\n",
    "        # conversion_factors = pd.read_csv(exp_path + sep + r'conversion_factors_by_weight_and_feeding_sum.csv')\n",
    "        # transparency = pd.read_csv(exp_path + sep + r'transparency_table.csv')\n",
    "\n",
    "        foragers=[ant['ant_id'] for idx, ant in ants.iterrows() if ant['is_forager']]\n",
    "\n",
    "        givers=tdata.groupby('giver')[['transferred_yellow','transferred_red']].apply(sum)\n",
    "        givers['is_forager']=givers.index.isin(foragers)\n",
    "\n",
    "        max_value = max(max(givers['transferred_yellow']),max(givers['transferred_red']))\n",
    "\n",
    "\n",
    "        #plt.figure()\n",
    "        g=sns.scatterplot(data=givers,x='transferred_yellow', y='transferred_red',  hue='is_forager',legend=True,ax=ax1)\n",
    "        g.legend_.set_title(None)\n",
    "        for t, l in zip(g.legend_.texts, ['Non-forager','Forager']):\n",
    "            t.set_text(l)\n",
    "        g.set_xlabel('Total transferred yellow [ul]')\n",
    "        g.set_ylabel('Total transferred red [ul]')\n",
    "        g.set_aspect('equal')\n",
    "        g.set(xlim=(0,max_value+10), ylim=(0,max_value+10))\n",
    "        g.set_title(f'Experiment {exp_num}')\n",
    "\n",
    "\n",
    "        ax2.hist(givers.sum(axis=1),color=color,bins=np.arange(0,300,15),density=True)\n",
    "        ax2.set_xlabel('Total transferred [ul]')\n",
    "        ax2.set_ylabel('pdf')\n",
    "        ax2.set_title(f'Experiment {exp_num}')\n",
    "\n",
    "        data=givers.sum(axis=1).values\n",
    "        k,loc1,theta=stats.gamma.fit(data,floc=-0.01)\n",
    "        (k,loc1,theta)\n",
    "        x=np.linspace(3,300,100)\n",
    "        gamma = stats.gamma.pdf(x,k, loc1, theta)\n",
    "        ax2.plot(x,gamma,'r')\n",
    "        \n",
    "        \n",
    "        \n",
    "    #     (loc2, sigma) = stats.rayleigh.fit(data, floc=0)\n",
    "    #     rayleigh = stats.rayleigh.pdf(x,loc2,sigma)\n",
    "    #     ax2.plot(x,rayleigh,'y')\n",
    "    #     (loc3, a) = stats.maxwell.fit(data, floc=0)\n",
    "    #     mb = stats.maxwell.pdf(x,loc3,a)\n",
    "    #     ax2.plot(x,mb,'g')\n",
    "    #     ax2.set_title(f'k={k:.2f},'+r'$\\theta$'+f'={theta:.2f}\\n' +\n",
    "    #                   f'fit mean: {k*theta:.2f}, mean {np.mean(data)}\\n'+\n",
    "    #                  f'sigma={sigma:.2f}\\n'+\n",
    "    #                  f'a={a:.2f}') #Exp. {exp_num} | loc={loc:.2f},\n",
    "        ax2.set_title(f'Exp. {exp_num} | '+\n",
    "                      f'k={k:.2f},'+r'$\\theta$'+f'={theta:.2f}')#', loc={loc1:.2f}')#\\n' +\n",
    "                       #f'fit mean: {k*theta:.2f}, mean {np.mean(data):.2f}')\n",
    "    \n",
    "fig1.delaxes(axes1.ravel()[-1])\n",
    "fig2.delaxes(axes2.ravel()[-1])\n",
    "fig1.delaxes(axes1.ravel()[7])\n",
    "fig2.delaxes(axes2.ravel()[7])"
   ]
  },
  {
   "cell_type": "code",
   "execution_count": null,
   "id": "c383ea81",
   "metadata": {},
   "outputs": [],
   "source": [
    "plt.suptitle('super title')"
   ]
  },
  {
   "cell_type": "code",
   "execution_count": null,
   "id": "888b06bb",
   "metadata": {},
   "outputs": [],
   "source": [
    "np.mean(data)"
   ]
  },
  {
   "cell_type": "code",
   "execution_count": null,
   "id": "92a45ada",
   "metadata": {},
   "outputs": [],
   "source": [
    "np.var(data)"
   ]
  },
  {
   "cell_type": "code",
   "execution_count": null,
   "id": "287cd536",
   "metadata": {},
   "outputs": [],
   "source": [
    "k*theta**2"
   ]
  },
  {
   "cell_type": "code",
   "execution_count": null,
   "id": "d4d767f1",
   "metadata": {},
   "outputs": [],
   "source": [
    "exp_num"
   ]
  },
  {
   "cell_type": "code",
   "execution_count": null,
   "id": "58ac1c1e",
   "metadata": {},
   "outputs": [],
   "source": [
    "data=givers.sum(axis=1).values\n",
    "alpha,loc,beta=stats.gamma.fit(data)\n",
    "(alpha,loc,beta)"
   ]
  },
  {
   "cell_type": "code",
   "execution_count": null,
   "id": "bd171197",
   "metadata": {},
   "outputs": [],
   "source": [
    "stats.gamma.fit(data,floc=0)"
   ]
  },
  {
   "cell_type": "code",
   "execution_count": null,
   "id": "1344007d",
   "metadata": {},
   "outputs": [],
   "source": [
    "def poisson_function(k,lamb):\n",
    "    return stats.poisson.pmf(k, lamb)"
   ]
  },
  {
   "cell_type": "code",
   "execution_count": null,
   "id": "863d51d5",
   "metadata": {},
   "outputs": [],
   "source": [
    "from scipy.optimize import curve_fit\n",
    "\n",
    "# the bins should be of integer width, because poisson is an integer distribution\n",
    "bins = np.arange(0,300,15)\n",
    "entries, bin_edges, patches = plt.hist(data, bins=bins, density=True, label='Data')\n",
    "\n",
    "# calculate bin centers\n",
    "bin_centers = 0.5 * (bin_edges[1:] + bin_edges[:-1])\n",
    "\n",
    "\n",
    "def fit_function(k, lamb):\n",
    "    '''poisson function, parameter lamb is the fit parameter'''\n",
    "    return stats.poisson.pmf(k, lamb)\n",
    "\n",
    "\n",
    "# fit with curve_fit\n",
    "parameters, cov_matrix = curve_fit(fit_function, bin_centers, entries)\n",
    "\n",
    "# plot poisson-deviation with fitted parameter\n",
    "x_plot = bin_centers\n",
    "\n",
    "plt.plot(\n",
    "    x_plot,\n",
    "    fit_function(x_plot, *parameters),\n",
    "    'orange'\n",
    ")"
   ]
  },
  {
   "cell_type": "code",
   "execution_count": null,
   "id": "ff6bc08f",
   "metadata": {},
   "outputs": [],
   "source": [
    "stats.maxwell.fit(data, floc=0)"
   ]
  },
  {
   "cell_type": "code",
   "execution_count": null,
   "id": "4a798494",
   "metadata": {},
   "outputs": [],
   "source": [
    "np.mean(data)"
   ]
  },
  {
   "cell_type": "code",
   "execution_count": null,
   "id": "7735151f",
   "metadata": {},
   "outputs": [],
   "source": [
    "alpha*beta"
   ]
  },
  {
   "cell_type": "code",
   "execution_count": null,
   "id": "594ecea8",
   "metadata": {},
   "outputs": [],
   "source": [
    "x=np.linspace(0.1,300,20)"
   ]
  },
  {
   "cell_type": "code",
   "execution_count": null,
   "id": "52fc0e23",
   "metadata": {},
   "outputs": [],
   "source": [
    "d = stats.gamma.pdf(x,alpha, loc, beta)\n",
    "plt.plot(x,d)"
   ]
  },
  {
   "cell_type": "code",
   "execution_count": null,
   "id": "8c471ba1",
   "metadata": {},
   "outputs": [],
   "source": [
    "x = np.linspace(stats.gamma.ppf(0.01, a),\n",
    "                gamma.ppf(0.99, a), 100)\n",
    "ax.plot(x, gamma.pdf(x, a),\n",
    "       'r-', lw=5, alpha=0.6, label='gamma pdf')"
   ]
  },
  {
   "cell_type": "code",
   "execution_count": null,
   "id": "7bc55be2",
   "metadata": {},
   "outputs": [],
   "source": [
    "res = stats.fit(stats.gamma,data)"
   ]
  },
  {
   "cell_type": "code",
   "execution_count": null,
   "id": "35a858f2",
   "metadata": {},
   "outputs": [],
   "source": [
    "import scipy\n",
    "scipy.__version__"
   ]
  },
  {
   "cell_type": "code",
   "execution_count": null,
   "id": "9cb714d5",
   "metadata": {},
   "outputs": [],
   "source": [
    "pip install scipy==1.10.1"
   ]
  },
  {
   "cell_type": "code",
   "execution_count": null,
   "id": "941c4193",
   "metadata": {},
   "outputs": [],
   "source": [
    "foragers=[ant['ant_id'] for idx, ant in ants.iterrows() if ant['is_forager']]\n",
    "foragers"
   ]
  },
  {
   "cell_type": "code",
   "execution_count": null,
   "id": "1eb18689",
   "metadata": {},
   "outputs": [],
   "source": [
    "tdata.head()"
   ]
  },
  {
   "cell_type": "code",
   "execution_count": null,
   "id": "385be357",
   "metadata": {},
   "outputs": [],
   "source": [
    "aggregated=tdata.groupby(['giver','receiver'])['transferred_yellow'].apply(sum).reset_index()\n",
    "aggregated"
   ]
  },
  {
   "cell_type": "code",
   "execution_count": null,
   "id": "e21b61a8",
   "metadata": {},
   "outputs": [],
   "source": [
    "['blue']*4, ['purple']*3"
   ]
  },
  {
   "cell_type": "code",
   "execution_count": null,
   "id": "a2539119",
   "metadata": {},
   "outputs": [],
   "source": []
  },
  {
   "cell_type": "code",
   "execution_count": null,
   "id": "ea54bd93",
   "metadata": {},
   "outputs": [],
   "source": [
    "yellow_graph = nx.from_pandas_edgelist(aggregated,source='giver', target='receiver', edge_attr='transferred_yellow', create_using=nx.MultiDiGraph) "
   ]
  },
  {
   "cell_type": "code",
   "execution_count": null,
   "id": "c3523ebb",
   "metadata": {},
   "outputs": [],
   "source": [
    "%matplotlib qt\n",
    "nx.draw_networkx(yellow_graph,pos=nx.spring_layout(yellow_graph,weight='transferred_yellow'))"
   ]
  },
  {
   "cell_type": "code",
   "execution_count": null,
   "id": "e1c11243",
   "metadata": {},
   "outputs": [],
   "source": [
    "neighbors76 = list(nx.all_neighbors(yellow_graph,76))\n",
    "neighbors76.append(76)\n",
    "neighbors76"
   ]
  },
  {
   "cell_type": "code",
   "execution_count": null,
   "id": "a987325d",
   "metadata": {},
   "outputs": [],
   "source": [
    "yellow76 = nx.induced_subgraph(yellow_graph,neighbors76)"
   ]
  },
  {
   "cell_type": "code",
   "execution_count": null,
   "id": "60798644",
   "metadata": {},
   "outputs": [],
   "source": [
    "plt.figure()\n",
    "nx.draw_networkx(yellow76,pos=nx.spring_layout(yellow76,weight='transferred_yellow'))"
   ]
  },
  {
   "cell_type": "code",
   "execution_count": null,
   "id": "2ab465dd",
   "metadata": {},
   "outputs": [],
   "source": [
    "givers=tdata.groupby('giver')[['transferred_yellow','transferred_red']].apply(sum)\n",
    "givers['is_forager']=givers.index.isin(foragers)"
   ]
  },
  {
   "cell_type": "code",
   "execution_count": null,
   "id": "65903a06",
   "metadata": {},
   "outputs": [],
   "source": [
    "plt.figure()\n",
    "plt.scatter(givers['transferred_yellow'],givers['transferred_red'],c=givers['is_forager'],label=givers['is_forager'])\n",
    "plt.xlabel('Total transferred yellow [ul]')\n",
    "plt.ylabel('Total transferred red [ul]')\n",
    "plt.legend()"
   ]
  },
  {
   "cell_type": "code",
   "execution_count": null,
   "id": "d4487ba0",
   "metadata": {},
   "outputs": [],
   "source": [
    "g=sns.scatterplot(data=givers,x='transferred_yellow', y='transferred_red',  hue='is_forager',legend=True)\n",
    "g.legend_.set_title(None)\n",
    "for t, l in zip(g.legend_.texts, ['Non-forager','Forager']):\n",
    "    t.set_text(l)\n",
    "g.set_xlabel('Total transferred yellow [ul]')\n",
    "g.set_ylabel('Total transferred red [ul]')\n",
    "g.set_aspect('equal')\n",
    "g.set(xlim=(0,140), ylim=(0,140))"
   ]
  },
  {
   "cell_type": "code",
   "execution_count": null,
   "id": "3ae3c928",
   "metadata": {},
   "outputs": [],
   "source": [
    "red_givers=givers.sort_values(by='transferred_red',ascending=False)\n",
    "yellow_givers=givers.sort_values(by='transferred_yellow',ascending=False)"
   ]
  },
  {
   "cell_type": "code",
   "execution_count": null,
   "id": "4fa69b8d",
   "metadata": {},
   "outputs": [],
   "source": [
    "yellow_givers[yellow_givers['transferred_yellow']>20]"
   ]
  },
  {
   "cell_type": "code",
   "execution_count": null,
   "id": "41c81224",
   "metadata": {},
   "outputs": [],
   "source": [
    "red_givers[red_givers['transferred_red']>20]"
   ]
  },
  {
   "cell_type": "code",
   "execution_count": null,
   "id": "de43dbf4",
   "metadata": {},
   "outputs": [],
   "source": []
  }
 ],
 "metadata": {
  "kernelspec": {
   "display_name": "Python 3",
   "language": "python",
   "name": "python3"
  },
  "language_info": {
   "codemirror_mode": {
    "name": "ipython",
    "version": 3
   },
   "file_extension": ".py",
   "mimetype": "text/x-python",
   "name": "python",
   "nbconvert_exporter": "python",
   "pygments_lexer": "ipython3",
   "version": "3.7.5"
  }
 },
 "nbformat": 4,
 "nbformat_minor": 5
}
