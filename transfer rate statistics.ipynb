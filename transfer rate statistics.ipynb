{
 "cells": [
  {
   "cell_type": "code",
   "execution_count": 1,
   "metadata": {},
   "outputs": [],
   "source": [
    "import numpy as np\n",
    "import matplotlib.pyplot as plt\n",
    "import pandas as pd\n",
    "from Data import ForagerData, AntData, ExperimentData, InteractionData"
   ]
  },
  {
   "cell_type": "code",
   "execution_count": 3,
   "metadata": {},
   "outputs": [
    {
     "data": {
      "text/html": [
       "<div>\n",
       "<style scoped>\n",
       "    .dataframe tbody tr th:only-of-type {\n",
       "        vertical-align: middle;\n",
       "    }\n",
       "\n",
       "    .dataframe tbody tr th {\n",
       "        vertical-align: top;\n",
       "    }\n",
       "\n",
       "    .dataframe thead th {\n",
       "        text-align: right;\n",
       "    }\n",
       "</style>\n",
       "<table border=\"1\" class=\"dataframe\">\n",
       "  <thead>\n",
       "    <tr style=\"text-align: right;\">\n",
       "      <th></th>\n",
       "      <th>vidnum</th>\n",
       "      <th>id</th>\n",
       "      <th>actual_ant1</th>\n",
       "      <th>actual_ant2</th>\n",
       "      <th>actual_start</th>\n",
       "      <th>actual_end</th>\n",
       "      <th>group</th>\n",
       "      <th>general_start_frame</th>\n",
       "      <th>general_end_frame</th>\n",
       "      <th>general_group_id</th>\n",
       "      <th>ant1_got_red</th>\n",
       "      <th>ant1_got_yellow</th>\n",
       "      <th>ant2_got_red</th>\n",
       "      <th>ant2_got_yellow</th>\n",
       "      <th>ant1_crop_before_red</th>\n",
       "      <th>ant1_crop_before_yellow</th>\n",
       "      <th>ant2_crop_before_red</th>\n",
       "      <th>ant2_crop_before_yellow</th>\n",
       "      <th>ant1_x</th>\n",
       "      <th>ant1_y</th>\n",
       "      <th>ant2_x</th>\n",
       "      <th>ant2_y</th>\n",
       "    </tr>\n",
       "  </thead>\n",
       "  <tbody>\n",
       "    <tr>\n",
       "      <th>0</th>\n",
       "      <td>1.0</td>\n",
       "      <td>29.0</td>\n",
       "      <td>392</td>\n",
       "      <td>76.0</td>\n",
       "      <td>116.0</td>\n",
       "      <td>159.0</td>\n",
       "      <td>NaN</td>\n",
       "      <td>72.0</td>\n",
       "      <td>115.0</td>\n",
       "      <td>NaN</td>\n",
       "      <td>0.000000</td>\n",
       "      <td>120736.955469</td>\n",
       "      <td>0.000000</td>\n",
       "      <td>-171691.306396</td>\n",
       "      <td>0.000000</td>\n",
       "      <td>0.000000</td>\n",
       "      <td>0.0</td>\n",
       "      <td>210171.501709</td>\n",
       "      <td>2908.261422</td>\n",
       "      <td>2908.261422</td>\n",
       "      <td>3155.648010</td>\n",
       "      <td>3155.648010</td>\n",
       "    </tr>\n",
       "    <tr>\n",
       "      <th>1</th>\n",
       "      <td>1.0</td>\n",
       "      <td>35.0</td>\n",
       "      <td>82</td>\n",
       "      <td>169.0</td>\n",
       "      <td>195.0</td>\n",
       "      <td>197.0</td>\n",
       "      <td>NaN</td>\n",
       "      <td>151.0</td>\n",
       "      <td>153.0</td>\n",
       "      <td>NaN</td>\n",
       "      <td>26491.044434</td>\n",
       "      <td>877.170142</td>\n",
       "      <td>7399.652716</td>\n",
       "      <td>1818.816299</td>\n",
       "      <td>0.000000</td>\n",
       "      <td>0.000000</td>\n",
       "      <td>0.0</td>\n",
       "      <td>0.000000</td>\n",
       "      <td>768.371633</td>\n",
       "      <td>768.371633</td>\n",
       "      <td>NaN</td>\n",
       "      <td>NaN</td>\n",
       "    </tr>\n",
       "    <tr>\n",
       "      <th>2</th>\n",
       "      <td>1.0</td>\n",
       "      <td>44.0</td>\n",
       "      <td>169</td>\n",
       "      <td>529.0</td>\n",
       "      <td>240.0</td>\n",
       "      <td>243.0</td>\n",
       "      <td>NaN</td>\n",
       "      <td>196.0</td>\n",
       "      <td>199.0</td>\n",
       "      <td>NaN</td>\n",
       "      <td>2067.447260</td>\n",
       "      <td>3577.479721</td>\n",
       "      <td>1751.868439</td>\n",
       "      <td>1638.830322</td>\n",
       "      <td>7399.652716</td>\n",
       "      <td>1818.816299</td>\n",
       "      <td>0.0</td>\n",
       "      <td>0.000000</td>\n",
       "      <td>1277.737512</td>\n",
       "      <td>1277.737512</td>\n",
       "      <td>NaN</td>\n",
       "      <td>NaN</td>\n",
       "    </tr>\n",
       "    <tr>\n",
       "      <th>3</th>\n",
       "      <td>1.0</td>\n",
       "      <td>48.0</td>\n",
       "      <td>76</td>\n",
       "      <td>148.0</td>\n",
       "      <td>276.0</td>\n",
       "      <td>281.0</td>\n",
       "      <td>NaN</td>\n",
       "      <td>232.0</td>\n",
       "      <td>237.0</td>\n",
       "      <td>NaN</td>\n",
       "      <td>32834.940625</td>\n",
       "      <td>34183.488281</td>\n",
       "      <td>0.000000</td>\n",
       "      <td>39448.017188</td>\n",
       "      <td>336749.371875</td>\n",
       "      <td>38480.195312</td>\n",
       "      <td>0.0</td>\n",
       "      <td>321006.945312</td>\n",
       "      <td>2554.004447</td>\n",
       "      <td>2554.004447</td>\n",
       "      <td>2301.130591</td>\n",
       "      <td>2301.130591</td>\n",
       "    </tr>\n",
       "    <tr>\n",
       "      <th>4</th>\n",
       "      <td>1.0</td>\n",
       "      <td>49.0</td>\n",
       "      <td>180</td>\n",
       "      <td>148.0</td>\n",
       "      <td>288.0</td>\n",
       "      <td>439.0</td>\n",
       "      <td>NaN</td>\n",
       "      <td>244.0</td>\n",
       "      <td>395.0</td>\n",
       "      <td>NaN</td>\n",
       "      <td>317.744293</td>\n",
       "      <td>109959.843750</td>\n",
       "      <td>0.000000</td>\n",
       "      <td>-356157.318945</td>\n",
       "      <td>0.000000</td>\n",
       "      <td>0.000000</td>\n",
       "      <td>0.0</td>\n",
       "      <td>360454.962500</td>\n",
       "      <td>NaN</td>\n",
       "      <td>NaN</td>\n",
       "      <td>NaN</td>\n",
       "      <td>NaN</td>\n",
       "    </tr>\n",
       "  </tbody>\n",
       "</table>\n",
       "</div>"
      ],
      "text/plain": [
       "   vidnum    id  actual_ant1  actual_ant2  ...       ant1_x       ant1_y       ant2_x       ant2_y\n",
       "0     1.0  29.0          392         76.0  ...  2908.261422  2908.261422  3155.648010  3155.648010\n",
       "1     1.0  35.0           82        169.0  ...   768.371633   768.371633          NaN          NaN\n",
       "2     1.0  44.0          169        529.0  ...  1277.737512  1277.737512          NaN          NaN\n",
       "3     1.0  48.0           76        148.0  ...  2554.004447  2554.004447  2301.130591  2301.130591\n",
       "4     1.0  49.0          180        148.0  ...          NaN          NaN          NaN          NaN\n",
       "\n",
       "[5 rows x 22 columns]"
      ]
     },
     "execution_count": 3,
     "metadata": {},
     "output_type": "execute_result"
    }
   ],
   "source": [
    "trop_table = pd.read_csv(r\"Y:\\Lior&Einav\\Experiments\\experiment11_140720\\trophallaxis_table_enriched_temp.csv\")\n",
    "trop_table.head()"
   ]
  },
  {
   "cell_type": "code",
   "execution_count": 48,
   "metadata": {},
   "outputs": [
    {
     "data": {
      "text/plain": [
       "0        44.0\n",
       "1         3.0\n",
       "2         4.0\n",
       "3         6.0\n",
       "4       152.0\n",
       "        ...  \n",
       "1199     34.0\n",
       "1200     31.0\n",
       "1201      3.0\n",
       "1202      5.0\n",
       "1203      3.0\n",
       "Length: 1204, dtype: float64"
      ]
     },
     "execution_count": 48,
     "metadata": {},
     "output_type": "execute_result"
    }
   ],
   "source": [
    "trop_dur = trop_table.general_end_frame+1 - trop_table.general_start_frame\n",
    "trop_dur"
   ]
  },
  {
   "cell_type": "code",
   "execution_count": 49,
   "metadata": {},
   "outputs": [],
   "source": [
    "ant1_got_red_rate = np.abs(trop_table.ant1_got_red/trop_dur)\n",
    "ant1_got_yellow_rate = np.abs(trop_table.ant1_got_yellow/trop_dur)\n",
    "ant2_got_red_rate = np.abs(trop_table.ant2_got_red/trop_dur)\n",
    "ant2_got_yellow_rate = np.abs(trop_table.ant2_got_yellow/trop_dur)"
   ]
  },
  {
   "cell_type": "code",
   "execution_count": 50,
   "metadata": {},
   "outputs": [
    {
     "data": {
      "text/plain": [
       "1204"
      ]
     },
     "execution_count": 50,
     "metadata": {},
     "output_type": "execute_result"
    }
   ],
   "source": [
    "all_red_rates = ant1_got_red_rate.to_list()\n",
    "len(all_red_rates)"
   ]
  },
  {
   "cell_type": "code",
   "execution_count": 51,
   "metadata": {},
   "outputs": [
    {
     "data": {
      "text/plain": [
       "2408"
      ]
     },
     "execution_count": 51,
     "metadata": {},
     "output_type": "execute_result"
    }
   ],
   "source": [
    "all_red_rates = ant1_got_red_rate.to_list()\n",
    "all_red_rates.extend(ant2_got_red_rate.to_list())\n",
    "all_yellow_rates = ant1_got_yellow_rate.to_list()\n",
    "all_yellow_rates.extend(ant2_got_yellow_rate.to_list())\n",
    "len(all_yellow_rates)"
   ]
  },
  {
   "cell_type": "code",
   "execution_count": 52,
   "metadata": {},
   "outputs": [
    {
     "data": {
      "text/plain": [
       "[<matplotlib.lines.Line2D at 0x1aee0f3a988>]"
      ]
     },
     "execution_count": 52,
     "metadata": {},
     "output_type": "execute_result"
    },
    {
     "data": {
      "image/png": "[encoded data removed]",
      "text/plain": [
       "<Figure size 432x288 with 1 Axes>"
      ]
     },
     "metadata": {
      "needs_background": "light"
     },
     "output_type": "display_data"
    }
   ],
   "source": [
    "plt.plot(all_red_rates,'.r')"
   ]
  },
  {
   "cell_type": "code",
   "execution_count": 53,
   "metadata": {},
   "outputs": [
    {
     "data": {
      "text/plain": [
       "[<matplotlib.lines.Line2D at 0x1aee2a35cc8>]"
      ]
     },
     "execution_count": 53,
     "metadata": {},
     "output_type": "execute_result"
    },
    {
     "data": {
      "image/png": "[encoded data removed]",
      "text/plain": [
       "<Figure size 432x288 with 1 Axes>"
      ]
     },
     "metadata": {
      "needs_background": "light"
     },
     "output_type": "display_data"
    }
   ],
   "source": [
    "plt.plot(all_yellow_rates,'.y')"
   ]
  },
  {
   "cell_type": "code",
   "execution_count": 56,
   "metadata": {},
   "outputs": [
    {
     "data": {
      "text/plain": [
       "(array([1.577e+03, 3.400e+02, 1.760e+02, 8.200e+01, 6.000e+01, 4.900e+01,\n",
       "        3.300e+01, 2.000e+01, 7.000e+00, 9.000e+00, 5.000e+00, 1.000e+01,\n",
       "        1.000e+00, 5.000e+00, 3.000e+00, 1.000e+00, 3.000e+00, 2.000e+00,\n",
       "        1.000e+00, 0.000e+00, 0.000e+00, 1.000e+00, 2.000e+00, 1.000e+00,\n",
       "        1.000e+00, 0.000e+00, 0.000e+00, 0.000e+00, 0.000e+00, 0.000e+00,\n",
       "        0.000e+00, 0.000e+00, 0.000e+00, 0.000e+00, 0.000e+00, 0.000e+00,\n",
       "        0.000e+00, 0.000e+00, 0.000e+00, 0.000e+00, 0.000e+00, 0.000e+00,\n",
       "        0.000e+00, 0.000e+00, 0.000e+00, 0.000e+00, 0.000e+00, 0.000e+00,\n",
       "        0.000e+00, 1.000e+00]),\n",
       " array([     0.        ,   3274.51770313,   6549.03540625,   9823.55310937,\n",
       "         13098.0708125 ,  16372.58851563,  19647.10621875,  22921.62392188,\n",
       "         26196.141625  ,  29470.65932812,  32745.17703125,  36019.69473437,\n",
       "         39294.2124375 ,  42568.73014062,  45843.24784375,  49117.76554688,\n",
       "         52392.28325   ,  55666.80095312,  58941.31865625,  62215.83635938,\n",
       "         65490.3540625 ,  68764.87176562,  72039.38946875,  75313.90717188,\n",
       "         78588.424875  ,  81862.94257813,  85137.46028125,  88411.97798438,\n",
       "         91686.4956875 ,  94961.01339062,  98235.53109375, 101510.04879687,\n",
       "        104784.5665    , 108059.08420313, 111333.60190625, 114608.11960938,\n",
       "        117882.6373125 , 121157.15501563, 124431.67271875, 127706.19042187,\n",
       "        130980.708125  , 134255.22582812, 137529.74353125, 140804.26123438,\n",
       "        144078.7789375 , 147353.29664062, 150627.81434375, 153902.33204688,\n",
       "        157176.84975   , 160451.36745313, 163725.88515625]),\n",
       " <a list of 50 Patch objects>)"
      ]
     },
     "execution_count": 56,
     "metadata": {},
     "output_type": "execute_result"
    },
    {
     "data": {
      "image/png": "[encoded data removed]",
      "text/plain": [
       "<Figure size 432x288 with 1 Axes>"
      ]
     },
     "metadata": {
      "needs_background": "light"
     },
     "output_type": "display_data"
    }
   ],
   "source": [
    "plt.hist(all_yellow_rates,50)"
   ]
  },
  {
   "cell_type": "code",
   "execution_count": 57,
   "metadata": {},
   "outputs": [],
   "source": [
    "conversion_factors = pd.read_csv(r\"Y:\\Lior&Einav\\Experiments\\experiment11_140720\\conversion_factors_by_weight_and_feeding_sum.csv\")"
   ]
  },
  {
   "cell_type": "code",
   "execution_count": 64,
   "metadata": {},
   "outputs": [],
   "source": [
    "all_red_rates_ul = all_red_rates/conversion_factors['red'][0]\n",
    "all_yellow_rates_ul = all_yellow_rates/conversion_factors['yellow'][0]\n"
   ]
  },
  {
   "cell_type": "code",
   "execution_count": 71,
   "metadata": {},
   "outputs": [
    {
     "data": {
      "text/plain": [
       "[<matplotlib.lines.Line2D at 0x1aee4505d08>]"
      ]
     },
     "execution_count": 71,
     "metadata": {},
     "output_type": "execute_result"
    },
    {
     "data": {
      "image/png": "[encoded data removed]",
      "text/plain": [
       "<Figure size 432x288 with 1 Axes>"
      ]
     },
     "metadata": {
      "needs_background": "light"
     },
     "output_type": "display_data"
    }
   ],
   "source": [
    "plt.plot(all_red_rates_ul,'.r')\n",
    "#plt.ylim([0,0.2])"
   ]
  },
  {
   "cell_type": "code",
   "execution_count": 72,
   "metadata": {},
   "outputs": [
    {
     "name": "stderr",
     "output_type": "stream",
     "text": [
      "C:\\Users\\liorba\\Anaconda3\\envs\\Experimenting\\lib\\site-packages\\numpy\\lib\\histograms.py:829: RuntimeWarning: invalid value encountered in greater_equal\n",
      "  keep = (tmp_a >= first_edge)\n",
      "C:\\Users\\liorba\\Anaconda3\\envs\\Experimenting\\lib\\site-packages\\numpy\\lib\\histograms.py:830: RuntimeWarning: invalid value encountered in less_equal\n",
      "  keep &= (tmp_a <= last_edge)\n"
     ]
    },
    {
     "data": {
      "text/plain": [
       "(array([1.814e+03, 2.390e+02, 1.330e+02, 4.500e+01, 4.600e+01, 3.100e+01,\n",
       "        1.400e+01, 1.400e+01, 8.000e+00, 1.300e+01, 1.000e+01, 6.000e+00,\n",
       "        5.000e+00, 4.000e+00, 2.000e+00, 2.000e+00, 1.000e+00, 1.000e+00,\n",
       "        0.000e+00, 0.000e+00, 0.000e+00, 0.000e+00, 0.000e+00, 1.000e+00,\n",
       "        0.000e+00, 0.000e+00, 0.000e+00, 0.000e+00, 0.000e+00, 0.000e+00,\n",
       "        0.000e+00, 0.000e+00, 0.000e+00, 0.000e+00, 0.000e+00, 0.000e+00,\n",
       "        0.000e+00, 0.000e+00, 0.000e+00, 0.000e+00, 0.000e+00, 0.000e+00,\n",
       "        0.000e+00, 0.000e+00, 0.000e+00, 0.000e+00, 0.000e+00, 0.000e+00,\n",
       "        0.000e+00, 1.000e+00]),\n",
       " array([0.        , 0.07055219, 0.14110438, 0.21165658, 0.28220877,\n",
       "        0.35276096, 0.42331315, 0.49386535, 0.56441754, 0.63496973,\n",
       "        0.70552192, 0.77607411, 0.84662631, 0.9171785 , 0.98773069,\n",
       "        1.05828288, 1.12883507, 1.19938727, 1.26993946, 1.34049165,\n",
       "        1.41104384, 1.48159604, 1.55214823, 1.62270042, 1.69325261,\n",
       "        1.7638048 , 1.834357  , 1.90490919, 1.97546138, 2.04601357,\n",
       "        2.11656576, 2.18711796, 2.25767015, 2.32822234, 2.39877453,\n",
       "        2.46932673, 2.53987892, 2.61043111, 2.6809833 , 2.75153549,\n",
       "        2.82208769, 2.89263988, 2.96319207, 3.03374426, 3.10429645,\n",
       "        3.17484865, 3.24540084, 3.31595303, 3.38650522, 3.45705742,\n",
       "        3.52760961]),\n",
       " <a list of 50 Patch objects>)"
      ]
     },
     "execution_count": 72,
     "metadata": {},
     "output_type": "execute_result"
    },
    {
     "data": {
      "image/png": "[encoded data removed]",
      "text/plain": [
       "<Figure size 432x288 with 1 Axes>"
      ]
     },
     "metadata": {
      "needs_background": "light"
     },
     "output_type": "display_data"
    }
   ],
   "source": [
    "plt.hist(all_red_rates_ul,50)"
   ]
  },
  {
   "cell_type": "code",
   "execution_count": 73,
   "metadata": {},
   "outputs": [
    {
     "data": {
      "text/plain": [
       "(array([1.577e+03, 3.400e+02, 1.760e+02, 8.200e+01, 6.000e+01, 4.900e+01,\n",
       "        3.300e+01, 2.000e+01, 7.000e+00, 9.000e+00, 5.000e+00, 1.000e+01,\n",
       "        1.000e+00, 5.000e+00, 3.000e+00, 1.000e+00, 3.000e+00, 2.000e+00,\n",
       "        1.000e+00, 0.000e+00, 0.000e+00, 1.000e+00, 2.000e+00, 1.000e+00,\n",
       "        1.000e+00, 0.000e+00, 0.000e+00, 0.000e+00, 0.000e+00, 0.000e+00,\n",
       "        0.000e+00, 0.000e+00, 0.000e+00, 0.000e+00, 0.000e+00, 0.000e+00,\n",
       "        0.000e+00, 0.000e+00, 0.000e+00, 0.000e+00, 0.000e+00, 0.000e+00,\n",
       "        0.000e+00, 0.000e+00, 0.000e+00, 0.000e+00, 0.000e+00, 0.000e+00,\n",
       "        0.000e+00, 1.000e+00]),\n",
       " array([0.        , 0.05765754, 0.11531508, 0.17297261, 0.23063015,\n",
       "        0.28828769, 0.34594523, 0.40360276, 0.4612603 , 0.51891784,\n",
       "        0.57657538, 0.63423291, 0.69189045, 0.74954799, 0.80720553,\n",
       "        0.86486306, 0.9225206 , 0.98017814, 1.03783568, 1.09549322,\n",
       "        1.15315075, 1.21080829, 1.26846583, 1.32612337, 1.3837809 ,\n",
       "        1.44143844, 1.49909598, 1.55675352, 1.61441105, 1.67206859,\n",
       "        1.72972613, 1.78738367, 1.84504121, 1.90269874, 1.96035628,\n",
       "        2.01801382, 2.07567136, 2.13332889, 2.19098643, 2.24864397,\n",
       "        2.30630151, 2.36395904, 2.42161658, 2.47927412, 2.53693166,\n",
       "        2.59458919, 2.65224673, 2.70990427, 2.76756181, 2.82521935,\n",
       "        2.88287688]),\n",
       " <a list of 50 Patch objects>)"
      ]
     },
     "execution_count": 73,
     "metadata": {},
     "output_type": "execute_result"
    },
    {
     "data": {
      "image/png": "[encoded data removed]",
      "text/plain": [
       "<Figure size 432x288 with 1 Axes>"
      ]
     },
     "metadata": {
      "needs_background": "light"
     },
     "output_type": "display_data"
    }
   ],
   "source": [
    "plt.hist(all_yellow_rates_ul,50)"
   ]
  },
  {
   "cell_type": "code",
   "execution_count": 74,
   "metadata": {},
   "outputs": [
    {
     "name": "stderr",
     "output_type": "stream",
     "text": [
      "C:\\Users\\liorba\\Anaconda3\\envs\\Experimenting\\lib\\site-packages\\ipykernel_launcher.py:1: RuntimeWarning: invalid value encountered in greater\n",
      "  \"\"\"Entry point for launching an IPython kernel.\n"
     ]
    },
    {
     "data": {
      "text/plain": [
       "0.01951827242524917"
      ]
     },
     "execution_count": 74,
     "metadata": {},
     "output_type": "execute_result"
    }
   ],
   "source": [
    "np.mean(all_yellow_rates_ul>0.5)"
   ]
  },
  {
   "cell_type": "code",
   "execution_count": 75,
   "metadata": {},
   "outputs": [
    {
     "name": "stderr",
     "output_type": "stream",
     "text": [
      "C:\\Users\\liorba\\Anaconda3\\envs\\Experimenting\\lib\\site-packages\\ipykernel_launcher.py:1: RuntimeWarning: invalid value encountered in greater\n",
      "  \"\"\"Entry point for launching an IPython kernel.\n"
     ]
    },
    {
     "data": {
      "text/plain": [
       "0.027408637873754152"
      ]
     },
     "execution_count": 75,
     "metadata": {},
     "output_type": "execute_result"
    }
   ],
   "source": [
    "np.mean(all_red_rates_ul>0.5)"
   ]
  },
  {
   "cell_type": "code",
   "execution_count": null,
   "metadata": {},
   "outputs": [],
   "source": []
  }
 ],
 "metadata": {
  "kernelspec": {
   "display_name": "Python 3",
   "language": "python",
   "name": "python3"
  },
  "language_info": {
   "codemirror_mode": {
    "name": "ipython",
    "version": 3
   },
   "file_extension": ".py",
   "mimetype": "text/x-python",
   "name": "python",
   "nbconvert_exporter": "python",
   "pygments_lexer": "ipython3",
   "version": "3.7.4"
  }
 },
 "nbformat": 4,
 "nbformat_minor": 2
}
