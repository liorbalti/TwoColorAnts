{
 "cells": [
  {
   "cell_type": "code",
   "execution_count": 8,
   "metadata": {},
   "outputs": [],
   "source": [
    "import pandas as pd\n",
    "import numpy as np\n",
    "import matplotlib.pyplot as plt\n",
    "from os import sep as sep\n",
    "import Data\n",
    "import os\n",
    "import seaborn as sns\n",
    "import matplotlib.lines as mlines"
   ]
  },
  {
   "cell_type": "code",
   "execution_count": 9,
   "metadata": {},
   "outputs": [],
   "source": [
    "exp_list = [11,13,18,16,17,19,20,21,24]"
   ]
  },
  {
   "cell_type": "code",
   "execution_count": 10,
   "metadata": {},
   "outputs": [
    {
     "data": {
      "text/html": [
       "<div>\n",
       "<style scoped>\n",
       "    .dataframe tbody tr th:only-of-type {\n",
       "        vertical-align: middle;\n",
       "    }\n",
       "\n",
       "    .dataframe tbody tr th {\n",
       "        vertical-align: top;\n",
       "    }\n",
       "\n",
       "    .dataframe thead th {\n",
       "        text-align: right;\n",
       "    }\n",
       "</style>\n",
       "<table border=\"1\" class=\"dataframe\">\n",
       "  <thead>\n",
       "    <tr style=\"text-align: right;\">\n",
       "      <th></th>\n",
       "      <th>Experiment</th>\n",
       "      <th>Larvae_present</th>\n",
       "      <th>Colony</th>\n",
       "      <th>P_yellow</th>\n",
       "      <th>C_yellow</th>\n",
       "      <th>P_red</th>\n",
       "      <th>C_red</th>\n",
       "    </tr>\n",
       "  </thead>\n",
       "  <tbody>\n",
       "    <tr>\n",
       "      <th>0</th>\n",
       "      <td>pilot</td>\n",
       "      <td>no</td>\n",
       "      <td>B</td>\n",
       "      <td>2</td>\n",
       "      <td>1</td>\n",
       "      <td>1</td>\n",
       "      <td>3</td>\n",
       "    </tr>\n",
       "    <tr>\n",
       "      <th>1</th>\n",
       "      <td>11</td>\n",
       "      <td>yes</td>\n",
       "      <td>A</td>\n",
       "      <td>2</td>\n",
       "      <td>1</td>\n",
       "      <td>1</td>\n",
       "      <td>3</td>\n",
       "    </tr>\n",
       "    <tr>\n",
       "      <th>2</th>\n",
       "      <td>12</td>\n",
       "      <td>no</td>\n",
       "      <td>A</td>\n",
       "      <td>2</td>\n",
       "      <td>1</td>\n",
       "      <td>1</td>\n",
       "      <td>3</td>\n",
       "    </tr>\n",
       "    <tr>\n",
       "      <th>3</th>\n",
       "      <td>13</td>\n",
       "      <td>no</td>\n",
       "      <td>A</td>\n",
       "      <td>2</td>\n",
       "      <td>1</td>\n",
       "      <td>1</td>\n",
       "      <td>3</td>\n",
       "    </tr>\n",
       "    <tr>\n",
       "      <th>4</th>\n",
       "      <td>16</td>\n",
       "      <td>no</td>\n",
       "      <td>B</td>\n",
       "      <td>2</td>\n",
       "      <td>1</td>\n",
       "      <td>1</td>\n",
       "      <td>3</td>\n",
       "    </tr>\n",
       "    <tr>\n",
       "      <th>5</th>\n",
       "      <td>17</td>\n",
       "      <td>no</td>\n",
       "      <td>B</td>\n",
       "      <td>2</td>\n",
       "      <td>1</td>\n",
       "      <td>1</td>\n",
       "      <td>3</td>\n",
       "    </tr>\n",
       "    <tr>\n",
       "      <th>6</th>\n",
       "      <td>18</td>\n",
       "      <td>yes</td>\n",
       "      <td>A</td>\n",
       "      <td>2</td>\n",
       "      <td>1</td>\n",
       "      <td>1</td>\n",
       "      <td>3</td>\n",
       "    </tr>\n",
       "    <tr>\n",
       "      <th>7</th>\n",
       "      <td>19</td>\n",
       "      <td>yes</td>\n",
       "      <td>A</td>\n",
       "      <td>2</td>\n",
       "      <td>1</td>\n",
       "      <td>1</td>\n",
       "      <td>3</td>\n",
       "    </tr>\n",
       "    <tr>\n",
       "      <th>8</th>\n",
       "      <td>20</td>\n",
       "      <td>yes</td>\n",
       "      <td>A</td>\n",
       "      <td>2</td>\n",
       "      <td>1</td>\n",
       "      <td>1</td>\n",
       "      <td>3</td>\n",
       "    </tr>\n",
       "    <tr>\n",
       "      <th>9</th>\n",
       "      <td>21</td>\n",
       "      <td>no</td>\n",
       "      <td>B</td>\n",
       "      <td>2</td>\n",
       "      <td>1</td>\n",
       "      <td>1</td>\n",
       "      <td>3</td>\n",
       "    </tr>\n",
       "    <tr>\n",
       "      <th>10</th>\n",
       "      <td>22</td>\n",
       "      <td>no</td>\n",
       "      <td>B</td>\n",
       "      <td>2</td>\n",
       "      <td>1</td>\n",
       "      <td>1</td>\n",
       "      <td>6</td>\n",
       "    </tr>\n",
       "    <tr>\n",
       "      <th>11</th>\n",
       "      <td>23</td>\n",
       "      <td>no</td>\n",
       "      <td>B</td>\n",
       "      <td>2</td>\n",
       "      <td>1</td>\n",
       "      <td>1</td>\n",
       "      <td>6</td>\n",
       "    </tr>\n",
       "    <tr>\n",
       "      <th>12</th>\n",
       "      <td>24</td>\n",
       "      <td>no</td>\n",
       "      <td>B</td>\n",
       "      <td>2</td>\n",
       "      <td>1</td>\n",
       "      <td>1</td>\n",
       "      <td>6</td>\n",
       "    </tr>\n",
       "  </tbody>\n",
       "</table>\n",
       "</div>"
      ],
      "text/plain": [
       "   Experiment Larvae_present Colony  P_yellow  C_yellow  P_red  C_red\n",
       "0       pilot             no      B         2         1      1      3\n",
       "1          11            yes      A         2         1      1      3\n",
       "2          12             no      A         2         1      1      3\n",
       "3          13             no      A         2         1      1      3\n",
       "4          16             no      B         2         1      1      3\n",
       "5          17             no      B         2         1      1      3\n",
       "6          18            yes      A         2         1      1      3\n",
       "7          19            yes      A         2         1      1      3\n",
       "8          20            yes      A         2         1      1      3\n",
       "9          21             no      B         2         1      1      3\n",
       "10         22             no      B         2         1      1      6\n",
       "11         23             no      B         2         1      1      6\n",
       "12         24             no      B         2         1      1      6"
      ]
     },
     "execution_count": 10,
     "metadata": {},
     "output_type": "execute_result"
    }
   ],
   "source": [
    "root_path = 'Y:\\Lior&Einav\\Experiments'\n",
    "exp_details = pd.read_excel(root_path + sep + 'Experiments_details.xlsx')\n",
    "exp_details"
   ]
  },
  {
   "cell_type": "code",
   "execution_count": 11,
   "metadata": {},
   "outputs": [],
   "source": [
    "def get_exp_path(exp_num, root_path):\n",
    "    folderlist = os.listdir(root_path)\n",
    "    exp_folder = [x for x in folderlist if x.startswith('experiment'+str(exp_num))]\n",
    "    return root_path + sep + exp_folder[0]"
   ]
  },
  {
   "cell_type": "code",
   "execution_count": 12,
   "metadata": {},
   "outputs": [],
   "source": [
    "def get_PC_ratios_dict(exp_details,row_idx):\n",
    "    PC_ratios_dict = {}\n",
    "    for color in ['yellow', 'red']:\n",
    "        PC_ratios_dict[color] = [exp_details.loc[row_idx,'P_'+color], exp_details.loc[row_idx,'C_'+color]]\n",
    "    return PC_ratios_dict"
   ]
  },
  {
   "cell_type": "code",
   "execution_count": 13,
   "metadata": {},
   "outputs": [
    {
     "data": {
      "text/plain": [
       "3"
      ]
     },
     "execution_count": 13,
     "metadata": {},
     "output_type": "execute_result"
    }
   ],
   "source": [
    "exp_details.index[exp_details.Experiment==13][0]"
   ]
  },
  {
   "cell_type": "code",
   "execution_count": 14,
   "metadata": {},
   "outputs": [
    {
     "data": {
      "text/plain": [
       "Text(51, 23, '1:2')"
      ]
     },
     "execution_count": 14,
     "metadata": {},
     "output_type": "execute_result"
    },
    {
     "data": {
      "image/png": "[encoded data removed]",
      "text/plain": [
       "<Figure size 432x432 with 1 Axes>"
      ]
     },
     "metadata": {
      "needs_background": "light"
     },
     "output_type": "display_data"
    }
   ],
   "source": [
    "%matplotlib inline\n",
    "\n",
    "#plt.figure\n",
    "plt.rcParams.update({'font.size': 13})\n",
    "plt.figure(figsize=[6,6])\n",
    "m = 30 #18\n",
    "n = 30 #12\n",
    "plt.plot([0, m*2],[0, m*1],'--k',linewidth=0.8)\n",
    "plt.plot([0,n*1],[0, n*3],'--k',linewidth=0.8)\n",
    "plt.plot([0,n*1],[0, n*6],'--g',linewidth=0.8)\n",
    "plt.xlim([0,55])\n",
    "plt.ylim([0,55])\n",
    "plt.xlabel('P [mg]')\n",
    "plt.ylabel('C [mg]')\n",
    "\n",
    "legend_dict = {'b':'with larvae 3:1 vs. 1:2', 'm':'no larvae 3:1 vs. 1:2','g':'no larvae 6:1 vs. 1:2'}\n",
    "existing_colors=[]\n",
    "for exp_num in exp_list:\n",
    "    exp_path = get_exp_path(exp_num, root_path)\n",
    "    \n",
    "    exp_idx = exp_details.index[exp_details.Experiment==exp_num][0]\n",
    "    PC_ratios_dict = get_PC_ratios_dict(exp_details,exp_idx)\n",
    "    \n",
    "    if exp_details.loc[exp_idx,'Colony'] == 'A':\n",
    "        c = 'b'\n",
    "    elif exp_details.loc[exp_idx,'C_red'] == 6:\n",
    "        c = 'g'\n",
    "    else:\n",
    "        c = 'm'\n",
    "    \n",
    "    \n",
    "    fdata = pd.read_csv(exp_path + sep + 'forager_table_with_feeding_sizes_ul.csv')\n",
    "    fdata[['P_mg','C_mg']] = fdata.apply(lambda x: pd.Series(Data.food_volume_to_PC_amounts(\n",
    "        x['feeding_size_ul'],PC_ratios_dict[x['food_source']])),axis=1)\n",
    "\n",
    "    fdata = fdata.sort_values(by='feeding_start')\n",
    "    fdata['cumP_mg'] = np.cumsum(fdata['P_mg'])\n",
    "    fdata['cumC_mg'] = np.cumsum(fdata['C_mg'])\n",
    "    \n",
    "    h, = plt.plot(np.insert(fdata['cumP_mg'].to_numpy(),0,0),np.insert(fdata['cumC_mg'].to_numpy(),0,0), c, linewidth=1)\n",
    "    if c not in existing_colors:\n",
    "        h.set_label(legend_dict[c])\n",
    "        existing_colors.append(c)\n",
    "\n",
    "plt.legend()\n",
    "plt.text(4,52,'6:1',{'color':'g'})\n",
    "plt.text(13,52,'3:1')\n",
    "plt.text(51,23,'1:2')"
   ]
  },
  {
   "cell_type": "code",
   "execution_count": null,
   "metadata": {},
   "outputs": [],
   "source": []
  },
  {
   "cell_type": "code",
   "execution_count": null,
   "metadata": {},
   "outputs": [],
   "source": []
  },
  {
   "cell_type": "code",
   "execution_count": null,
   "metadata": {},
   "outputs": [],
   "source": []
  }
 ],
 "metadata": {
  "kernelspec": {
   "display_name": "Python 3",
   "language": "python",
   "name": "python3"
  },
  "language_info": {
   "codemirror_mode": {
    "name": "ipython",
    "version": 3
   },
   "file_extension": ".py",
   "mimetype": "text/x-python",
   "name": "python",
   "nbconvert_exporter": "python",
   "pygments_lexer": "ipython3",
   "version": "3.7.5"
  }
 },
 "nbformat": 4,
 "nbformat_minor": 2
}
