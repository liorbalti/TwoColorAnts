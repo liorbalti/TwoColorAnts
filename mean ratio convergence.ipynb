{
 "cells": [
  {
   "cell_type": "code",
   "execution_count": 1,
   "metadata": {},
   "outputs": [],
   "source": [
    "import numpy as np\n",
    "import matplotlib.pyplot as plt\n",
    "import Data\n",
    "import pandas as pd\n",
    "from os import sep as sep\n",
    "import os\n",
    "import matplotlib.cm as cm\n",
    "import scipy.stats as stats"
   ]
  },
  {
   "cell_type": "code",
   "execution_count": 2,
   "metadata": {},
   "outputs": [
    {
     "data": {
      "text/html": [
       "<div>\n",
       "<style scoped>\n",
       "    .dataframe tbody tr th:only-of-type {\n",
       "        vertical-align: middle;\n",
       "    }\n",
       "\n",
       "    .dataframe tbody tr th {\n",
       "        vertical-align: top;\n",
       "    }\n",
       "\n",
       "    .dataframe thead th {\n",
       "        text-align: right;\n",
       "    }\n",
       "</style>\n",
       "<table border=\"1\" class=\"dataframe\">\n",
       "  <thead>\n",
       "    <tr style=\"text-align: right;\">\n",
       "      <th></th>\n",
       "      <th>Experiment</th>\n",
       "      <th>Larvae_present</th>\n",
       "      <th>Colony</th>\n",
       "      <th>P_yellow</th>\n",
       "      <th>C_yellow</th>\n",
       "      <th>P_red</th>\n",
       "      <th>C_red</th>\n",
       "    </tr>\n",
       "  </thead>\n",
       "  <tbody>\n",
       "    <tr>\n",
       "      <th>1</th>\n",
       "      <td>11</td>\n",
       "      <td>yes</td>\n",
       "      <td>A</td>\n",
       "      <td>2</td>\n",
       "      <td>1</td>\n",
       "      <td>1</td>\n",
       "      <td>3</td>\n",
       "    </tr>\n",
       "    <tr>\n",
       "      <th>2</th>\n",
       "      <td>12</td>\n",
       "      <td>no</td>\n",
       "      <td>A</td>\n",
       "      <td>2</td>\n",
       "      <td>1</td>\n",
       "      <td>1</td>\n",
       "      <td>3</td>\n",
       "    </tr>\n",
       "    <tr>\n",
       "      <th>3</th>\n",
       "      <td>13</td>\n",
       "      <td>no</td>\n",
       "      <td>A</td>\n",
       "      <td>2</td>\n",
       "      <td>1</td>\n",
       "      <td>1</td>\n",
       "      <td>3</td>\n",
       "    </tr>\n",
       "    <tr>\n",
       "      <th>4</th>\n",
       "      <td>16</td>\n",
       "      <td>no</td>\n",
       "      <td>B</td>\n",
       "      <td>2</td>\n",
       "      <td>1</td>\n",
       "      <td>1</td>\n",
       "      <td>3</td>\n",
       "    </tr>\n",
       "    <tr>\n",
       "      <th>5</th>\n",
       "      <td>17</td>\n",
       "      <td>no</td>\n",
       "      <td>B</td>\n",
       "      <td>2</td>\n",
       "      <td>1</td>\n",
       "      <td>1</td>\n",
       "      <td>3</td>\n",
       "    </tr>\n",
       "    <tr>\n",
       "      <th>6</th>\n",
       "      <td>18</td>\n",
       "      <td>yes</td>\n",
       "      <td>A</td>\n",
       "      <td>2</td>\n",
       "      <td>1</td>\n",
       "      <td>1</td>\n",
       "      <td>3</td>\n",
       "    </tr>\n",
       "    <tr>\n",
       "      <th>7</th>\n",
       "      <td>19</td>\n",
       "      <td>yes</td>\n",
       "      <td>A</td>\n",
       "      <td>2</td>\n",
       "      <td>1</td>\n",
       "      <td>1</td>\n",
       "      <td>3</td>\n",
       "    </tr>\n",
       "    <tr>\n",
       "      <th>9</th>\n",
       "      <td>21</td>\n",
       "      <td>no</td>\n",
       "      <td>B</td>\n",
       "      <td>2</td>\n",
       "      <td>1</td>\n",
       "      <td>1</td>\n",
       "      <td>3</td>\n",
       "    </tr>\n",
       "    <tr>\n",
       "      <th>10</th>\n",
       "      <td>22</td>\n",
       "      <td>no</td>\n",
       "      <td>B</td>\n",
       "      <td>2</td>\n",
       "      <td>1</td>\n",
       "      <td>1</td>\n",
       "      <td>6</td>\n",
       "    </tr>\n",
       "    <tr>\n",
       "      <th>12</th>\n",
       "      <td>24</td>\n",
       "      <td>no</td>\n",
       "      <td>B</td>\n",
       "      <td>2</td>\n",
       "      <td>1</td>\n",
       "      <td>1</td>\n",
       "      <td>6</td>\n",
       "    </tr>\n",
       "  </tbody>\n",
       "</table>\n",
       "</div>"
      ],
      "text/plain": [
       "   Experiment Larvae_present Colony  P_yellow  C_yellow  P_red  C_red\n",
       "1          11            yes      A         2         1      1      3\n",
       "2          12             no      A         2         1      1      3\n",
       "3          13             no      A         2         1      1      3\n",
       "4          16             no      B         2         1      1      3\n",
       "5          17             no      B         2         1      1      3\n",
       "6          18            yes      A         2         1      1      3\n",
       "7          19            yes      A         2         1      1      3\n",
       "9          21             no      B         2         1      1      3\n",
       "10         22             no      B         2         1      1      6\n",
       "12         24             no      B         2         1      1      6"
      ]
     },
     "execution_count": 2,
     "metadata": {},
     "output_type": "execute_result"
    }
   ],
   "source": [
    "root_path = 'Y:\\Lior&Einav\\Experiments'\n",
    "exp_details = pd.read_excel(root_path + sep + 'Experiments_details.xlsx', engine='openpyxl')\n",
    "exp_details = exp_details.drop(index=0)  # remove pilot experiment\n",
    "# exps_to_remove = [20, 23]\n",
    "# exp_details = exp_details.drop(exp_details[exp_details.Experiment.isin(exps_to_remove)].index)\n",
    "exp_details"
   ]
  },
  {
   "cell_type": "code",
   "execution_count": 3,
   "metadata": {},
   "outputs": [],
   "source": [
    "def get_exp_path(exp_num, root_path):\n",
    "    folderlist = os.listdir(root_path)\n",
    "    exp_folder = [x for x in folderlist if x.startswith('experiment'+str(exp_num))]\n",
    "    return root_path + sep + exp_folder[0]"
   ]
  },
  {
   "cell_type": "code",
   "execution_count": 4,
   "metadata": {},
   "outputs": [],
   "source": [
    "def get_PC_ratios_dict(exp_details,row_idx):\n",
    "    PC_ratios_dict = {}\n",
    "    for color in ['yellow', 'red']:\n",
    "        PC_ratios_dict[color] = [exp_details.loc[row_idx,'P_'+color], exp_details.loc[row_idx,'C_'+color]]\n",
    "    return PC_ratios_dict"
   ]
  },
  {
   "cell_type": "code",
   "execution_count": 5,
   "metadata": {},
   "outputs": [],
   "source": [
    "def get_exp_data(exp_num, exp_details, root_path):\n",
    "    exp_path = get_exp_path(exp_num, root_path)\n",
    "    exp_idx = exp_details.index[exp_details.Experiment==exp_num][0]\n",
    "    PC_ratios_dict = get_PC_ratios_dict(exp_details,exp_idx)\n",
    "    fdata = pd.read_csv(exp_path + sep + 'forager_table_with_feeding_sizes_ul_transparency_corrected.csv')\n",
    "    \n",
    "    return exp_idx, PC_ratios_dict, fdata, exp_path"
   ]
  },
  {
   "cell_type": "code",
   "execution_count": 6,
   "metadata": {},
   "outputs": [],
   "source": [
    "def get_exp_convergence(fdata, PC_ratios_dict):\n",
    "    fdata[['P_mg','C_mg']] = fdata.apply(lambda x: pd.Series\n",
    "                                         (Data.food_volume_to_PC_amounts(x['feeding_size_ul'],\n",
    "                                                                         PC_ratios_dict[x['food_source']])),\n",
    "                                         axis=1)\n",
    "    \n",
    "    fdata = fdata.sort_values(by='feeding_start')\n",
    "    fdata['cumP_mg'] = np.cumsum(fdata['P_mg'])\n",
    "    fdata['cumC_mg'] = np.cumsum(fdata['C_mg'])\n",
    "    fdata = fdata.reset_index().sort_values(by='feeding_start')\n",
    "    fdata['colony_PC_ratio'] = fdata['cumP_mg']/fdata['cumC_mg']\n",
    "    final_ratio = fdata['colony_PC_ratio'].iloc[-1]\n",
    "    \n",
    "    exp_convergence = fdata['colony_PC_ratio']-final_ratio\n",
    "    \n",
    "    return exp_convergence"
   ]
  },
  {
   "cell_type": "code",
   "execution_count": 7,
   "metadata": {},
   "outputs": [],
   "source": [
    "def plot_mean_convergence(exp_indexes, color, ax):\n",
    "    all_convergences = []\n",
    "    for exp_num in exp_indexes:\n",
    "        \n",
    "        exp_idx, PC_ratios_dict, fdata, exp_path = get_exp_data(exp_num, exp_details, root_path)\n",
    "\n",
    "        exp_convergence = get_exp_convergence(fdata, PC_ratios_dict)\n",
    "        exp_convergence.name = 'convergence_'+str(exp_num)\n",
    "\n",
    "        all_convergences.append(exp_convergence)\n",
    "        \n",
    "    convergence_df = pd.concat(all_convergences,axis=1)\n",
    "    mean_abs = convergence_df.abs().mean(axis=1)\n",
    "    std_abs = convergence_df.abs().std(axis=1)\n",
    "    sem_abs = convergence_df.abs().sem(axis=1)\n",
    "    \n",
    "    ax.plot(mean_abs,color)\n",
    "    ax.fill_between(mean_abs.index, mean_abs-sem_abs, mean_abs+sem_abs,color=color,alpha=0.2)"
   ]
  },
  {
   "cell_type": "code",
   "execution_count": 8,
   "metadata": {},
   "outputs": [],
   "source": [
    "larvae_present = exp_details.Experiment[exp_details.Larvae_present == 'yes'].to_list()"
   ]
  },
  {
   "cell_type": "code",
   "execution_count": 9,
   "metadata": {},
   "outputs": [],
   "source": [
    "no_larvae = exp_details.Experiment[(exp_details.Colony == 'B') & (exp_details.C_red==3)].to_list()"
   ]
  },
  {
   "cell_type": "code",
   "execution_count": 10,
   "metadata": {},
   "outputs": [],
   "source": [
    "extra_sugar = exp_details.Experiment[exp_details.C_red==6].to_list()"
   ]
  },
  {
   "cell_type": "code",
   "execution_count": 11,
   "metadata": {},
   "outputs": [
    {
     "data": {
      "text/plain": [
       "<matplotlib.legend.Legend at 0x1aa43027388>"
      ]
     },
     "execution_count": 11,
     "metadata": {},
     "output_type": "execute_result"
    },
    {
     "data": {
      "image/png": "[encoded data removed]",
      "text/plain": [
       "<Figure size 432x288 with 1 Axes>"
      ]
     },
     "metadata": {
      "needs_background": "light"
     },
     "output_type": "display_data"
    }
   ],
   "source": [
    "fig,ax = plt.subplots()\n",
    "plot_mean_convergence(larvae_present, 'b', ax)\n",
    "plot_mean_convergence(no_larvae,'m', ax)\n",
    "#plot_mean_convergence(extra_sugar,'g',ax)\n",
    "plt.xlabel('Number of feedings')\n",
    "plt.ylabel('Absolute difference from final ratio')\n",
    "#plt.ylim([0,0.25])\n",
    "plt.legend(['with larvae','no larvae'])"
   ]
  },
  {
   "cell_type": "code",
   "execution_count": 12,
   "metadata": {},
   "outputs": [],
   "source": [
    "def get_exp_relative_convergence(fdata, PC_ratios_dict, num_bins=50):\n",
    "    convergence = get_exp_convergence(fdata, PC_ratios_dict)\n",
    "    convergence = pd.concat([convergence,pd.Series(convergence.index/max(convergence.index),name='relative feeding')],axis=1)\n",
    "    convergence['relative feeding bin'] = pd.cut(convergence['relative feeding'],num_bins,labels=False)\n",
    "    convergence_mean = convergence.groupby('relative feeding bin').apply(np.mean)\n",
    "    convergence_mean.index.rename('index',inplace=True)\n",
    "    return convergence_mean"
   ]
  },
  {
   "cell_type": "code",
   "execution_count": 13,
   "metadata": {},
   "outputs": [],
   "source": [
    "def get_mean_and_sem_relative_convergence(convergences_list_abs):\n",
    "    all_convergences = pd.concat(convergences_list_abs)\n",
    "    convergences_mean = all_convergences.groupby('relative feeding bin')['colony_PC_ratio'].apply(np.mean)\n",
    "    convergences_sem = all_convergences.groupby('relative feeding bin')['colony_PC_ratio'].apply(stats.sem)\n",
    "    return convergences_mean, convergences_sem"
   ]
  },
  {
   "cell_type": "code",
   "execution_count": 14,
   "metadata": {},
   "outputs": [],
   "source": [
    "def plot_relative_convergence(exp_nums, ax, color='b',num_bins=50):\n",
    "    all_convergences_abs = []\n",
    "    for exp_num in exp_nums:\n",
    "        exp_idx, PC_ratios_dict, fdata, exp_path = get_exp_data(exp_num, exp_details, root_path)\n",
    "        relative_convergence = get_exp_relative_convergence(fdata, PC_ratios_dict)\n",
    "        all_convergences_abs.append(relative_convergence.reset_index().abs())\n",
    "    convergences_mean, convergences_sem = get_mean_and_sem_relative_convergence(all_convergences_abs)\n",
    "    \n",
    "    ax.plot(np.linspace(0,1,num_bins,endpoint=False),convergences_mean,color)\n",
    "    ax.fill_between(np.linspace(0,1,num_bins,endpoint=False),convergences_mean-convergences_sem,\n",
    "                convergences_mean+convergences_sem,alpha=0.2, color=color)\n",
    "    return convergences_mean, convergences_sem"
   ]
  },
  {
   "cell_type": "code",
   "execution_count": 15,
   "metadata": {},
   "outputs": [
    {
     "data": {
      "text/plain": [
       "<matplotlib.lines.Line2D at 0x1aa489e5848>"
      ]
     },
     "execution_count": 15,
     "metadata": {},
     "output_type": "execute_result"
    }
   ],
   "source": [
    "%matplotlib qt\n",
    "fig, ax = plt.subplots(2,1, sharex=True, sharey=True)\n",
    "convergence_mean_larvae, _ = plot_relative_convergence(larvae_present,ax[0],'b')\n",
    "ax[0].set_ylim([0,1])\n",
    "ax[0].set_title('With larvae')\n",
    "convergence_mean_nolarvae, _ = plot_relative_convergence(no_larvae,ax[1],'m')\n",
    "ax[1].set_ylim([0,1])\n",
    "ax[1].set_title('No larvae')\n",
    "#plot_relative_convergence(extra_sugar,ax,'g')\n",
    "#plt.legend(['with larvae','no larvae'])\n",
    "fig.supxlabel('Fraction of feedings')\n",
    "fig.supylabel('Absolute difference from final ratio')\n",
    "ax[0].axvline(0.6,ls='--',color='k')\n",
    "ax[1].axvline(0.74,ls='--',color='k')"
   ]
  },
  {
   "cell_type": "code",
   "execution_count": 20,
   "metadata": {},
   "outputs": [],
   "source": [
    "fig, ax = plt.subplots(2,3, sharex=False, sharey=True)\n",
    "# with larvae\n",
    "counter = 0\n",
    "for exp_num in larvae_present:\n",
    "    exp_idx, PC_ratios_dict, fdata, exp_path = get_exp_data(exp_num, exp_details, root_path)\n",
    "    exp_convergence = get_exp_convergence(fdata, PC_ratios_dict)\n",
    "    ax[0,counter].axhline(color='k',linewidth=0.8)\n",
    "    #ax[0,counter].plot(fdata.sort_values(by='feeding_start').feeding_start,exp_convergence,'b')\n",
    "    ax[0,counter].plot(exp_convergence,color='b')\n",
    "    #ax[0,counter].set_xlim([0,11700])\n",
    "    #ax[0,counter].set_ylim([-0.23,1.25])\n",
    "    counter += 1\n",
    "    \n",
    "    \n",
    "    \n",
    "# no larvae\n",
    "counter = 0\n",
    "for exp_num in no_larvae:\n",
    "    exp_idx, PC_ratios_dict, fdata, exp_path = get_exp_data(exp_num, exp_details, root_path)\n",
    "    exp_convergence = get_exp_convergence(fdata, PC_ratios_dict)\n",
    "    ax[1,counter].axhline(color='k',linewidth=0.8)\n",
    "    #ax[1,counter].plot(fdata.sort_values(by='feeding_start').feeding_start,exp_convergence,'m')\n",
    "    ax[1,counter].plot(exp_convergence,color='m')\n",
    "    #ax[1,counter].set_xlim([0,11700])\n",
    "    #ax[1,counter].set_ylim([-0.23,1.25])\n",
    "    counter += 1\n",
    "    \n",
    "#fig.supxlabel('Number of feedings')\n",
    "#fig.supylabel('Difference from final ratio')"
   ]
  },
  {
   "cell_type": "code",
   "execution_count": null,
   "metadata": {},
   "outputs": [],
   "source": [
    "fdata.head()"
   ]
  },
  {
   "cell_type": "code",
   "execution_count": null,
   "metadata": {},
   "outputs": [],
   "source": [
    "def find_convergence_point(signal,xaxis,margin=0.04):\n",
    "    "
   ]
  },
  {
   "cell_type": "code",
   "execution_count": null,
   "metadata": {},
   "outputs": [],
   "source": [
    "x = convergence_mean_larvae\n",
    "x<0.04"
   ]
  },
  {
   "cell_type": "code",
   "execution_count": null,
   "metadata": {},
   "outputs": [],
   "source": [
    "74-60"
   ]
  },
  {
   "cell_type": "code",
   "execution_count": null,
   "metadata": {},
   "outputs": [],
   "source": [
    "80-64"
   ]
  },
  {
   "cell_type": "code",
   "execution_count": null,
   "metadata": {},
   "outputs": [],
   "source": [
    "ax[0].axvline(0.6,ls='--',color='k')"
   ]
  },
  {
   "cell_type": "code",
   "execution_count": null,
   "metadata": {},
   "outputs": [],
   "source": [
    "ax[1].axvline(0.74,ls='--',color='k')"
   ]
  },
  {
   "cell_type": "code",
   "execution_count": null,
   "metadata": {},
   "outputs": [],
   "source": []
  }
 ],
 "metadata": {
  "kernelspec": {
   "display_name": "Python 3",
   "language": "python",
   "name": "python3"
  },
  "language_info": {
   "codemirror_mode": {
    "name": "ipython",
    "version": 3
   },
   "file_extension": ".py",
   "mimetype": "text/x-python",
   "name": "python",
   "nbconvert_exporter": "python",
   "pygments_lexer": "ipython3",
   "version": "3.7.4"
  }
 },
 "nbformat": 4,
 "nbformat_minor": 2
}
