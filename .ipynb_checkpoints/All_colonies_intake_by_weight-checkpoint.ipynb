{
 "cells": [
  {
   "cell_type": "code",
   "execution_count": 1,
   "metadata": {},
   "outputs": [],
   "source": [
    "import pandas as pd\n",
    "import numpy as np\n",
    "import matplotlib.pyplot as plt\n",
    "from os import sep as sep\n",
    "import Data\n",
    "import os\n",
    "import seaborn as sns"
   ]
  },
  {
   "cell_type": "code",
   "execution_count": 2,
   "metadata": {},
   "outputs": [
    {
     "data": {
      "text/html": [
       "<div>\n",
       "<style scoped>\n",
       "    .dataframe tbody tr th:only-of-type {\n",
       "        vertical-align: middle;\n",
       "    }\n",
       "\n",
       "    .dataframe tbody tr th {\n",
       "        vertical-align: top;\n",
       "    }\n",
       "\n",
       "    .dataframe thead th {\n",
       "        text-align: right;\n",
       "    }\n",
       "</style>\n",
       "<table border=\"1\" class=\"dataframe\">\n",
       "  <thead>\n",
       "    <tr style=\"text-align: right;\">\n",
       "      <th></th>\n",
       "      <th>Experiment</th>\n",
       "      <th>Larvae_present</th>\n",
       "      <th>Colony</th>\n",
       "    </tr>\n",
       "  </thead>\n",
       "  <tbody>\n",
       "    <tr>\n",
       "      <th>0</th>\n",
       "      <td>pilot</td>\n",
       "      <td>no</td>\n",
       "      <td>B</td>\n",
       "    </tr>\n",
       "    <tr>\n",
       "      <th>1</th>\n",
       "      <td>11</td>\n",
       "      <td>yes</td>\n",
       "      <td>A</td>\n",
       "    </tr>\n",
       "    <tr>\n",
       "      <th>2</th>\n",
       "      <td>12</td>\n",
       "      <td>no</td>\n",
       "      <td>A</td>\n",
       "    </tr>\n",
       "    <tr>\n",
       "      <th>3</th>\n",
       "      <td>13</td>\n",
       "      <td>no</td>\n",
       "      <td>A</td>\n",
       "    </tr>\n",
       "    <tr>\n",
       "      <th>4</th>\n",
       "      <td>16</td>\n",
       "      <td>no</td>\n",
       "      <td>B</td>\n",
       "    </tr>\n",
       "    <tr>\n",
       "      <th>5</th>\n",
       "      <td>17</td>\n",
       "      <td>no</td>\n",
       "      <td>B</td>\n",
       "    </tr>\n",
       "    <tr>\n",
       "      <th>6</th>\n",
       "      <td>18</td>\n",
       "      <td>yes</td>\n",
       "      <td>A</td>\n",
       "    </tr>\n",
       "    <tr>\n",
       "      <th>7</th>\n",
       "      <td>19</td>\n",
       "      <td>yes</td>\n",
       "      <td>A</td>\n",
       "    </tr>\n",
       "    <tr>\n",
       "      <th>8</th>\n",
       "      <td>20</td>\n",
       "      <td>yes</td>\n",
       "      <td>A</td>\n",
       "    </tr>\n",
       "  </tbody>\n",
       "</table>\n",
       "</div>"
      ],
      "text/plain": [
       "  Experiment Larvae_present Colony\n",
       "0      pilot             no      B\n",
       "1         11            yes      A\n",
       "2         12             no      A\n",
       "3         13             no      A\n",
       "4         16             no      B\n",
       "5         17             no      B\n",
       "6         18            yes      A\n",
       "7         19            yes      A\n",
       "8         20            yes      A"
      ]
     },
     "execution_count": 2,
     "metadata": {},
     "output_type": "execute_result"
    }
   ],
   "source": [
    "root_path = 'Y:\\Lior&Einav\\Experiments'\n",
    "exp_details = pd.read_excel(root_path + sep + 'Experiments_details.xlsx')\n",
    "exp_details"
   ]
  },
  {
   "cell_type": "code",
   "execution_count": 3,
   "metadata": {},
   "outputs": [],
   "source": [
    "def get_experiment_PC(exp_num, root_path):\n",
    "    exp_num = str(exp_num)\n",
    "    if exp_num == 'pilot':\n",
    "        exp_folder = 'pilot experiment dig10 7_6_20'\n",
    "    else:\n",
    "        exp_folder = [d for d in os.listdir(root_path) if d.startswith('experiment'+exp_num)][0]\n",
    "    \n",
    "    weights_df = pd.read_excel(root_path + sep + exp_folder + sep +'weights.xlsx')\n",
    "    consumed_g = get_consumed_weights(weights_df)\n",
    "    \n",
    "    P_mg, C_mg = [0,0]\n",
    "    for color, ratio in zip(['yellow','red'], [[2,1],[1,3]]):\n",
    "        P_mg_color, C_mg_color = Data.food_volume_to_PC_amounts(consumed_g[color]*1000, ratio)\n",
    "        P_mg += P_mg_color\n",
    "        C_mg += C_mg_color\n",
    "    \n",
    "    return P_mg, C_mg    "
   ]
  },
  {
   "cell_type": "code",
   "execution_count": 4,
   "metadata": {},
   "outputs": [],
   "source": [
    "def get_consumed_weights(weights_df):\n",
    "    weights_df['difference'] = weights_df['before_g']-weights_df['after_g']\n",
    "    control_rows = weights_df['type']=='control'\n",
    "    treatment_rows = ~control_rows\n",
    "    evap = np.mean(weights_df['difference'][control_rows])\n",
    "    consumed_g = {}\n",
    "    for c in ['yellow','red']:\n",
    "        consumed_g[c] = weights_df.difference[treatment_rows & (weights_df['color']==c)].to_numpy()[0] - evap\n",
    "    return consumed_g"
   ]
  },
  {
   "cell_type": "code",
   "execution_count": 5,
   "metadata": {},
   "outputs": [
    {
     "data": {
      "text/html": [
       "<div>\n",
       "<style scoped>\n",
       "    .dataframe tbody tr th:only-of-type {\n",
       "        vertical-align: middle;\n",
       "    }\n",
       "\n",
       "    .dataframe tbody tr th {\n",
       "        vertical-align: top;\n",
       "    }\n",
       "\n",
       "    .dataframe thead th {\n",
       "        text-align: right;\n",
       "    }\n",
       "</style>\n",
       "<table border=\"1\" class=\"dataframe\">\n",
       "  <thead>\n",
       "    <tr style=\"text-align: right;\">\n",
       "      <th></th>\n",
       "      <th>Experiment</th>\n",
       "      <th>Colony</th>\n",
       "      <th>P_mg</th>\n",
       "      <th>C_mg</th>\n",
       "    </tr>\n",
       "  </thead>\n",
       "  <tbody>\n",
       "    <tr>\n",
       "      <th>0</th>\n",
       "      <td>pilot</td>\n",
       "      <td>B</td>\n",
       "      <td>17.825000</td>\n",
       "      <td>26.060000</td>\n",
       "    </tr>\n",
       "    <tr>\n",
       "      <th>1</th>\n",
       "      <td>11</td>\n",
       "      <td>A</td>\n",
       "      <td>28.363500</td>\n",
       "      <td>23.150500</td>\n",
       "    </tr>\n",
       "    <tr>\n",
       "      <th>2</th>\n",
       "      <td>12</td>\n",
       "      <td>A</td>\n",
       "      <td>23.537625</td>\n",
       "      <td>22.825375</td>\n",
       "    </tr>\n",
       "    <tr>\n",
       "      <th>3</th>\n",
       "      <td>13</td>\n",
       "      <td>A</td>\n",
       "      <td>28.234417</td>\n",
       "      <td>23.736583</td>\n",
       "    </tr>\n",
       "    <tr>\n",
       "      <th>4</th>\n",
       "      <td>16</td>\n",
       "      <td>B</td>\n",
       "      <td>14.727208</td>\n",
       "      <td>24.945792</td>\n",
       "    </tr>\n",
       "    <tr>\n",
       "      <th>5</th>\n",
       "      <td>17</td>\n",
       "      <td>B</td>\n",
       "      <td>17.803625</td>\n",
       "      <td>25.313375</td>\n",
       "    </tr>\n",
       "    <tr>\n",
       "      <th>6</th>\n",
       "      <td>18</td>\n",
       "      <td>A</td>\n",
       "      <td>24.763125</td>\n",
       "      <td>31.051875</td>\n",
       "    </tr>\n",
       "    <tr>\n",
       "      <th>7</th>\n",
       "      <td>19</td>\n",
       "      <td>A</td>\n",
       "      <td>21.560875</td>\n",
       "      <td>22.100125</td>\n",
       "    </tr>\n",
       "    <tr>\n",
       "      <th>8</th>\n",
       "      <td>20</td>\n",
       "      <td>A</td>\n",
       "      <td>16.885250</td>\n",
       "      <td>28.350750</td>\n",
       "    </tr>\n",
       "  </tbody>\n",
       "</table>\n",
       "</div>"
      ],
      "text/plain": [
       "  Experiment Colony       P_mg       C_mg\n",
       "0      pilot      B  17.825000  26.060000\n",
       "1         11      A  28.363500  23.150500\n",
       "2         12      A  23.537625  22.825375\n",
       "3         13      A  28.234417  23.736583\n",
       "4         16      B  14.727208  24.945792\n",
       "5         17      B  17.803625  25.313375\n",
       "6         18      A  24.763125  31.051875\n",
       "7         19      A  21.560875  22.100125\n",
       "8         20      A  16.885250  28.350750"
      ]
     },
     "execution_count": 5,
     "metadata": {},
     "output_type": "execute_result"
    }
   ],
   "source": [
    "intake = []\n",
    "for idx, exp in exp_details.iterrows():\n",
    "    row = pd.Series()\n",
    "    row['Experiment']= exp['Experiment']\n",
    "    row['Colony']= exp['Colony']\n",
    "    row['P_mg'], row['C_mg'] = get_experiment_PC(exp['Experiment'],root_path)\n",
    "    intake.append(row)\n",
    "    intake_df = pd.DataFrame(intake)\n",
    "    \n",
    "intake_df\n",
    "\n",
    "    "
   ]
  },
  {
   "cell_type": "code",
   "execution_count": 15,
   "metadata": {},
   "outputs": [
    {
     "data": {
      "text/plain": [
       "[<matplotlib.lines.Line2D at 0x17bc0663488>]"
      ]
     },
     "execution_count": 15,
     "metadata": {},
     "output_type": "execute_result"
    },
    {
     "data": {
      "image/png": "[encoded data removed]",
      "text/plain": [
       "<Figure size 432x432 with 1 Axes>"
      ]
     },
     "metadata": {
      "needs_background": "light"
     },
     "output_type": "display_data"
    }
   ],
   "source": [
    "fig, ax = plt.subplots(figsize=(6,6))\n",
    "sc = ax.scatter(intake_df.P_mg, intake_df.C_mg, c = pd.Categorical(intake_df.Colony).codes, cmap='tab20b')\n",
    "plt.xlabel('P [mg]')\n",
    "plt.ylabel('C [mg]')\n",
    "ax.legend(sc.legend_elements()[0], ['larvae', 'no larvae'], loc='lower right')\n",
    "plt.plot([0, 36],[0, 18],'k',linewidth=0.8)\n",
    "plt.plot([0,12],[0, 36],'k',linewidth=0.8)"
   ]
  },
  {
   "cell_type": "code",
   "execution_count": null,
   "metadata": {},
   "outputs": [],
   "source": [
    "\n"
   ]
  },
  {
   "cell_type": "code",
   "execution_count": null,
   "metadata": {},
   "outputs": [],
   "source": []
  },
  {
   "cell_type": "code",
   "execution_count": null,
   "metadata": {},
   "outputs": [],
   "source": []
  }
 ],
 "metadata": {
  "kernelspec": {
   "display_name": "Python 3",
   "language": "python",
   "name": "python3"
  },
  "language_info": {
   "codemirror_mode": {
    "name": "ipython",
    "version": 3
   },
   "file_extension": ".py",
   "mimetype": "text/x-python",
   "name": "python",
   "nbconvert_exporter": "python",
   "pygments_lexer": "ipython3",
   "version": "3.7.5"
  }
 },
 "nbformat": 4,
 "nbformat_minor": 2
}
