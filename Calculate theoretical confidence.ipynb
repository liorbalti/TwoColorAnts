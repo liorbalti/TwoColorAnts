{
 "cells": [
  {
   "cell_type": "code",
   "execution_count": 352,
   "metadata": {},
   "outputs": [],
   "source": [
    "import numpy as np\n",
    "from Data import ExperimentData, AntData, InteractionData, ForagerData\n",
    "import matplotlib.pyplot as plt\n",
    "import pandas as pd\n",
    "import scipy.stats as stats\n",
    "from scipy.optimize import curve_fit"
   ]
  },
  {
   "cell_type": "markdown",
   "metadata": {},
   "source": [
    "## Load data"
   ]
  },
  {
   "cell_type": "code",
   "execution_count": 2,
   "metadata": {},
   "outputs": [],
   "source": [
    "exp11 = ExperimentData(11, bdata_path='blob analysis normalized by white paper')\n",
    "BDATA = exp11.bdata\n",
    "FEEDINGS = exp11.feedings_df\n",
    "INTERACTONS = exp11.interactions_df\n",
    "CLEAN_CROPS = exp11.clean_crops"
   ]
  },
  {
   "cell_type": "markdown",
   "metadata": {},
   "source": [
    "## Find long measurement chunks"
   ]
  },
  {
   "cell_type": "code",
   "execution_count": 3,
   "metadata": {},
   "outputs": [],
   "source": [
    "get_num_measurements = lambda x: np.sum(~np.isnan(x))"
   ]
  },
  {
   "cell_type": "code",
   "execution_count": 341,
   "metadata": {},
   "outputs": [],
   "source": [
    "def get_large_measurement_chunks_ant(ant, low_threshold=400): #, high_threshold=400):\n",
    "    large_measurement_chunks = {'red':[], 'yellow':[]}\n",
    "    clean_crop = {'red':[], 'yellow':[]}\n",
    "    for idx, trop_row in ant.interactions_df.iterrows():\n",
    "        trop = InteractionData(trop_row, BDATA, CLEAN_CROPS, max(CLEAN_CROPS.index))\n",
    "        raw_measurements = trop.get_ant_measurements_before_or_after(str(ant_id), BDATA, CLEAN_CROPS, 'after')\n",
    "        n = InteractionData.rate_measurements(raw_measurements, get_num_measurements)\n",
    "        for color in ['red','yellow']:\n",
    "            if (n[color]>=low_threshold): # & (n[color]<=high_threshold):\n",
    "                large_measurement_chunks[color].append(raw_measurements[color])\n",
    "                \n",
    "                ant_crop_before, ant_got = trop.get_ant_measurement(str(ant_id),CLEAN_CROPS)\n",
    "                crop_estimate = ant_crop_before+ant_got\n",
    "                clean_crop[color].append(crop_estimate[color])\n",
    "                \n",
    "    if large_measurement_chunks:\n",
    "        return large_measurement_chunks, clean_crop"
   ]
  },
  {
   "cell_type": "code",
   "execution_count": 342,
   "metadata": {},
   "outputs": [],
   "source": [
    "large_measurement_chunks_all = {'red':[],'yellow':[]}\n",
    "clean_crop_all = {'red':[],'yellow':[]}\n",
    "for ant_id in exp11.ants_list:\n",
    "    if ant_id in exp11.foragers_list:\n",
    "        ant = ForagerData(ant_id, exp11.feedings_df, exp11.bdata, exp11.interactions_df)\n",
    "    else:\n",
    "        ant = AntData(ant_id, exp11.bdata, exp11.interactions_df)\n",
    "    \n",
    "    large_measurement_chunks_ant, clean_crop_ant = get_large_measurement_chunks_ant(ant)\n",
    "    \n",
    "    for color in ['red','yellow']:\n",
    "        if large_measurement_chunks_ant[color]:\n",
    "            large_measurement_chunks_all[color].extend(large_measurement_chunks_ant[color])\n",
    "            clean_crop_all[color].extend(clean_crop_ant[color])\n",
    "    "
   ]
  },
  {
   "cell_type": "code",
   "execution_count": 343,
   "metadata": {},
   "outputs": [
    {
     "data": {
      "text/plain": [
       "65"
      ]
     },
     "execution_count": 343,
     "metadata": {},
     "output_type": "execute_result"
    }
   ],
   "source": [
    "len(large_measurement_chunks_all['yellow'])"
   ]
  },
  {
   "cell_type": "markdown",
   "metadata": {},
   "source": [
    "## Calculate sum of squares from mean/95th percentile"
   ]
  },
  {
   "cell_type": "code",
   "execution_count": 380,
   "metadata": {},
   "outputs": [],
   "source": [
    "def get_sample_size_dependent_difference(measurements, threshold=300):\n",
    "    measurements = (measurements-np.mean(measurements))/np.std(measurements)\n",
    "    final_estimate = np.percentile(measurements,95)\n",
    "    differences = {}\n",
    "    for sample_size in range(threshold): #range(len(measurements)):\n",
    "        sample = measurements.iloc[0:sample_size]\n",
    "        if not sample.empty:\n",
    "            sample_estimate = np.percentile(sample,95)\n",
    "        else:\n",
    "            sample_estimate=np.nan\n",
    "        differences[sample_size] = sample_estimate - final_estimate\n",
    "    differences_df = pd.DataFrame.from_dict(differences, orient='index')\n",
    "    return differences_df"
   ]
  },
  {
   "cell_type": "code",
   "execution_count": 381,
   "metadata": {},
   "outputs": [],
   "source": [
    "list_of_differences = []\n",
    "for chunk in large_measurement_chunks_all['red']:\n",
    "    measurements = chunk[~chunk.isna()]\n",
    "    differences_chunk = get_sample_size_dependent_difference(measurements)\n",
    "    list_of_differences.append(differences_chunk)\n",
    "differences_all = pd.concat(list_of_differences, axis=1)\n"
   ]
  },
  {
   "cell_type": "code",
   "execution_count": 382,
   "metadata": {},
   "outputs": [
    {
     "data": {
      "text/html": [
       "<div>\n",
       "<style scoped>\n",
       "    .dataframe tbody tr th:only-of-type {\n",
       "        vertical-align: middle;\n",
       "    }\n",
       "\n",
       "    .dataframe tbody tr th {\n",
       "        vertical-align: top;\n",
       "    }\n",
       "\n",
       "    .dataframe thead th {\n",
       "        text-align: right;\n",
       "    }\n",
       "</style>\n",
       "<table border=\"1\" class=\"dataframe\">\n",
       "  <thead>\n",
       "    <tr style=\"text-align: right;\">\n",
       "      <th></th>\n",
       "      <th>0</th>\n",
       "      <th>0</th>\n",
       "      <th>0</th>\n",
       "      <th>0</th>\n",
       "      <th>0</th>\n",
       "      <th>0</th>\n",
       "      <th>0</th>\n",
       "      <th>0</th>\n",
       "      <th>0</th>\n",
       "      <th>0</th>\n",
       "      <th>...</th>\n",
       "      <th>0</th>\n",
       "      <th>0</th>\n",
       "      <th>0</th>\n",
       "      <th>0</th>\n",
       "      <th>0</th>\n",
       "      <th>0</th>\n",
       "      <th>0</th>\n",
       "      <th>0</th>\n",
       "      <th>0</th>\n",
       "      <th>0</th>\n",
       "    </tr>\n",
       "  </thead>\n",
       "  <tbody>\n",
       "    <tr>\n",
       "      <th>0</th>\n",
       "      <td>NaN</td>\n",
       "      <td>NaN</td>\n",
       "      <td>NaN</td>\n",
       "      <td>NaN</td>\n",
       "      <td>NaN</td>\n",
       "      <td>NaN</td>\n",
       "      <td>NaN</td>\n",
       "      <td>NaN</td>\n",
       "      <td>NaN</td>\n",
       "      <td>NaN</td>\n",
       "      <td>...</td>\n",
       "      <td>NaN</td>\n",
       "      <td>NaN</td>\n",
       "      <td>NaN</td>\n",
       "      <td>NaN</td>\n",
       "      <td>NaN</td>\n",
       "      <td>NaN</td>\n",
       "      <td>NaN</td>\n",
       "      <td>NaN</td>\n",
       "      <td>NaN</td>\n",
       "      <td>NaN</td>\n",
       "    </tr>\n",
       "    <tr>\n",
       "      <th>1</th>\n",
       "      <td>-1.073286</td>\n",
       "      <td>-0.811465</td>\n",
       "      <td>-0.454966</td>\n",
       "      <td>-2.742005</td>\n",
       "      <td>-2.491854</td>\n",
       "      <td>-1.605543</td>\n",
       "      <td>-3.131191</td>\n",
       "      <td>-2.112306</td>\n",
       "      <td>-4.576237</td>\n",
       "      <td>-4.576237</td>\n",
       "      <td>...</td>\n",
       "      <td>-2.659777</td>\n",
       "      <td>-0.007979</td>\n",
       "      <td>0.405619</td>\n",
       "      <td>-1.358270</td>\n",
       "      <td>-0.869530</td>\n",
       "      <td>-2.541660</td>\n",
       "      <td>0.779233</td>\n",
       "      <td>-0.357506</td>\n",
       "      <td>-2.881044</td>\n",
       "      <td>-2.919878</td>\n",
       "    </tr>\n",
       "    <tr>\n",
       "      <th>2</th>\n",
       "      <td>-1.000285</td>\n",
       "      <td>-0.836338</td>\n",
       "      <td>-0.461919</td>\n",
       "      <td>-1.462753</td>\n",
       "      <td>-2.491854</td>\n",
       "      <td>-1.649160</td>\n",
       "      <td>-3.049291</td>\n",
       "      <td>-1.092102</td>\n",
       "      <td>-4.576237</td>\n",
       "      <td>-4.576237</td>\n",
       "      <td>...</td>\n",
       "      <td>-2.051651</td>\n",
       "      <td>2.211740</td>\n",
       "      <td>0.749859</td>\n",
       "      <td>-0.663079</td>\n",
       "      <td>-0.869530</td>\n",
       "      <td>-2.567023</td>\n",
       "      <td>1.041193</td>\n",
       "      <td>-0.360722</td>\n",
       "      <td>-2.932306</td>\n",
       "      <td>-2.919878</td>\n",
       "    </tr>\n",
       "    <tr>\n",
       "      <th>3</th>\n",
       "      <td>-1.004128</td>\n",
       "      <td>-0.831651</td>\n",
       "      <td>-0.462770</td>\n",
       "      <td>-1.470474</td>\n",
       "      <td>-2.491854</td>\n",
       "      <td>-1.692776</td>\n",
       "      <td>-3.053601</td>\n",
       "      <td>-1.145797</td>\n",
       "      <td>-4.576237</td>\n",
       "      <td>-4.576237</td>\n",
       "      <td>...</td>\n",
       "      <td>-2.052568</td>\n",
       "      <td>2.313091</td>\n",
       "      <td>0.819173</td>\n",
       "      <td>-0.667230</td>\n",
       "      <td>-0.869530</td>\n",
       "      <td>-2.592387</td>\n",
       "      <td>1.141856</td>\n",
       "      <td>-0.179427</td>\n",
       "      <td>-2.983567</td>\n",
       "      <td>-2.919878</td>\n",
       "    </tr>\n",
       "    <tr>\n",
       "      <th>4</th>\n",
       "      <td>-1.007970</td>\n",
       "      <td>-0.767686</td>\n",
       "      <td>-0.466673</td>\n",
       "      <td>-1.507998</td>\n",
       "      <td>-2.491854</td>\n",
       "      <td>-1.642532</td>\n",
       "      <td>-3.057912</td>\n",
       "      <td>-1.199492</td>\n",
       "      <td>-4.576237</td>\n",
       "      <td>-4.576237</td>\n",
       "      <td>...</td>\n",
       "      <td>-2.069030</td>\n",
       "      <td>2.305353</td>\n",
       "      <td>0.816329</td>\n",
       "      <td>-0.528859</td>\n",
       "      <td>-0.441815</td>\n",
       "      <td>-2.565432</td>\n",
       "      <td>2.475335</td>\n",
       "      <td>-0.148093</td>\n",
       "      <td>-3.029089</td>\n",
       "      <td>-2.844608</td>\n",
       "    </tr>\n",
       "    <tr>\n",
       "      <th>...</th>\n",
       "      <td>...</td>\n",
       "      <td>...</td>\n",
       "      <td>...</td>\n",
       "      <td>...</td>\n",
       "      <td>...</td>\n",
       "      <td>...</td>\n",
       "      <td>...</td>\n",
       "      <td>...</td>\n",
       "      <td>...</td>\n",
       "      <td>...</td>\n",
       "      <td>...</td>\n",
       "      <td>...</td>\n",
       "      <td>...</td>\n",
       "      <td>...</td>\n",
       "      <td>...</td>\n",
       "      <td>...</td>\n",
       "      <td>...</td>\n",
       "      <td>...</td>\n",
       "      <td>...</td>\n",
       "      <td>...</td>\n",
       "      <td>...</td>\n",
       "    </tr>\n",
       "    <tr>\n",
       "      <th>295</th>\n",
       "      <td>0.204096</td>\n",
       "      <td>-0.425790</td>\n",
       "      <td>0.554694</td>\n",
       "      <td>0.076003</td>\n",
       "      <td>-2.491854</td>\n",
       "      <td>0.215422</td>\n",
       "      <td>-2.567691</td>\n",
       "      <td>0.294093</td>\n",
       "      <td>-0.240747</td>\n",
       "      <td>-0.240747</td>\n",
       "      <td>...</td>\n",
       "      <td>-0.514130</td>\n",
       "      <td>0.373792</td>\n",
       "      <td>0.802902</td>\n",
       "      <td>-0.155755</td>\n",
       "      <td>-0.481561</td>\n",
       "      <td>0.127065</td>\n",
       "      <td>-0.068357</td>\n",
       "      <td>-0.063131</td>\n",
       "      <td>0.047052</td>\n",
       "      <td>-2.790465</td>\n",
       "    </tr>\n",
       "    <tr>\n",
       "      <th>296</th>\n",
       "      <td>0.201846</td>\n",
       "      <td>-0.426092</td>\n",
       "      <td>0.542743</td>\n",
       "      <td>0.075909</td>\n",
       "      <td>-2.491854</td>\n",
       "      <td>0.213517</td>\n",
       "      <td>-2.567771</td>\n",
       "      <td>0.292812</td>\n",
       "      <td>-0.221285</td>\n",
       "      <td>-0.221285</td>\n",
       "      <td>...</td>\n",
       "      <td>-0.514654</td>\n",
       "      <td>0.373536</td>\n",
       "      <td>0.801681</td>\n",
       "      <td>-0.155960</td>\n",
       "      <td>-0.484221</td>\n",
       "      <td>0.124567</td>\n",
       "      <td>-0.062331</td>\n",
       "      <td>-0.054217</td>\n",
       "      <td>0.046965</td>\n",
       "      <td>-2.790497</td>\n",
       "    </tr>\n",
       "    <tr>\n",
       "      <th>297</th>\n",
       "      <td>0.199595</td>\n",
       "      <td>-0.426393</td>\n",
       "      <td>0.530792</td>\n",
       "      <td>0.075815</td>\n",
       "      <td>-2.491854</td>\n",
       "      <td>0.211612</td>\n",
       "      <td>-2.567851</td>\n",
       "      <td>0.291530</td>\n",
       "      <td>-0.214047</td>\n",
       "      <td>-0.214047</td>\n",
       "      <td>...</td>\n",
       "      <td>-0.515178</td>\n",
       "      <td>0.373280</td>\n",
       "      <td>0.800460</td>\n",
       "      <td>-0.156164</td>\n",
       "      <td>-0.486881</td>\n",
       "      <td>0.122069</td>\n",
       "      <td>-0.053535</td>\n",
       "      <td>-0.054521</td>\n",
       "      <td>0.046878</td>\n",
       "      <td>-2.790529</td>\n",
       "    </tr>\n",
       "    <tr>\n",
       "      <th>298</th>\n",
       "      <td>0.197345</td>\n",
       "      <td>-0.426695</td>\n",
       "      <td>0.518840</td>\n",
       "      <td>0.075721</td>\n",
       "      <td>-2.491854</td>\n",
       "      <td>0.209707</td>\n",
       "      <td>-2.567931</td>\n",
       "      <td>0.290249</td>\n",
       "      <td>-0.203783</td>\n",
       "      <td>-0.203783</td>\n",
       "      <td>...</td>\n",
       "      <td>-0.515702</td>\n",
       "      <td>0.373024</td>\n",
       "      <td>0.799239</td>\n",
       "      <td>-0.156369</td>\n",
       "      <td>-0.489541</td>\n",
       "      <td>0.119571</td>\n",
       "      <td>-0.054320</td>\n",
       "      <td>-0.054826</td>\n",
       "      <td>0.046791</td>\n",
       "      <td>-2.790561</td>\n",
       "    </tr>\n",
       "    <tr>\n",
       "      <th>299</th>\n",
       "      <td>0.195095</td>\n",
       "      <td>-0.426996</td>\n",
       "      <td>0.506889</td>\n",
       "      <td>0.075627</td>\n",
       "      <td>-2.491854</td>\n",
       "      <td>0.207802</td>\n",
       "      <td>-2.568010</td>\n",
       "      <td>0.288968</td>\n",
       "      <td>-0.202857</td>\n",
       "      <td>-0.202857</td>\n",
       "      <td>...</td>\n",
       "      <td>-0.516226</td>\n",
       "      <td>0.372769</td>\n",
       "      <td>0.798018</td>\n",
       "      <td>-0.156574</td>\n",
       "      <td>-0.492201</td>\n",
       "      <td>0.117073</td>\n",
       "      <td>-0.040747</td>\n",
       "      <td>-0.055130</td>\n",
       "      <td>0.046703</td>\n",
       "      <td>-2.790593</td>\n",
       "    </tr>\n",
       "  </tbody>\n",
       "</table>\n",
       "<p>300 rows × 69 columns</p>\n",
       "</div>"
      ],
      "text/plain": [
       "            0         0         0         0         0         0         0  \\\n",
       "0         NaN       NaN       NaN       NaN       NaN       NaN       NaN   \n",
       "1   -1.073286 -0.811465 -0.454966 -2.742005 -2.491854 -1.605543 -3.131191   \n",
       "2   -1.000285 -0.836338 -0.461919 -1.462753 -2.491854 -1.649160 -3.049291   \n",
       "3   -1.004128 -0.831651 -0.462770 -1.470474 -2.491854 -1.692776 -3.053601   \n",
       "4   -1.007970 -0.767686 -0.466673 -1.507998 -2.491854 -1.642532 -3.057912   \n",
       "..        ...       ...       ...       ...       ...       ...       ...   \n",
       "295  0.204096 -0.425790  0.554694  0.076003 -2.491854  0.215422 -2.567691   \n",
       "296  0.201846 -0.426092  0.542743  0.075909 -2.491854  0.213517 -2.567771   \n",
       "297  0.199595 -0.426393  0.530792  0.075815 -2.491854  0.211612 -2.567851   \n",
       "298  0.197345 -0.426695  0.518840  0.075721 -2.491854  0.209707 -2.567931   \n",
       "299  0.195095 -0.426996  0.506889  0.075627 -2.491854  0.207802 -2.568010   \n",
       "\n",
       "            0         0         0  ...         0         0         0  \\\n",
       "0         NaN       NaN       NaN  ...       NaN       NaN       NaN   \n",
       "1   -2.112306 -4.576237 -4.576237  ... -2.659777 -0.007979  0.405619   \n",
       "2   -1.092102 -4.576237 -4.576237  ... -2.051651  2.211740  0.749859   \n",
       "3   -1.145797 -4.576237 -4.576237  ... -2.052568  2.313091  0.819173   \n",
       "4   -1.199492 -4.576237 -4.576237  ... -2.069030  2.305353  0.816329   \n",
       "..        ...       ...       ...  ...       ...       ...       ...   \n",
       "295  0.294093 -0.240747 -0.240747  ... -0.514130  0.373792  0.802902   \n",
       "296  0.292812 -0.221285 -0.221285  ... -0.514654  0.373536  0.801681   \n",
       "297  0.291530 -0.214047 -0.214047  ... -0.515178  0.373280  0.800460   \n",
       "298  0.290249 -0.203783 -0.203783  ... -0.515702  0.373024  0.799239   \n",
       "299  0.288968 -0.202857 -0.202857  ... -0.516226  0.372769  0.798018   \n",
       "\n",
       "            0         0         0         0         0         0         0  \n",
       "0         NaN       NaN       NaN       NaN       NaN       NaN       NaN  \n",
       "1   -1.358270 -0.869530 -2.541660  0.779233 -0.357506 -2.881044 -2.919878  \n",
       "2   -0.663079 -0.869530 -2.567023  1.041193 -0.360722 -2.932306 -2.919878  \n",
       "3   -0.667230 -0.869530 -2.592387  1.141856 -0.179427 -2.983567 -2.919878  \n",
       "4   -0.528859 -0.441815 -2.565432  2.475335 -0.148093 -3.029089 -2.844608  \n",
       "..        ...       ...       ...       ...       ...       ...       ...  \n",
       "295 -0.155755 -0.481561  0.127065 -0.068357 -0.063131  0.047052 -2.790465  \n",
       "296 -0.155960 -0.484221  0.124567 -0.062331 -0.054217  0.046965 -2.790497  \n",
       "297 -0.156164 -0.486881  0.122069 -0.053535 -0.054521  0.046878 -2.790529  \n",
       "298 -0.156369 -0.489541  0.119571 -0.054320 -0.054826  0.046791 -2.790561  \n",
       "299 -0.156574 -0.492201  0.117073 -0.040747 -0.055130  0.046703 -2.790593  \n",
       "\n",
       "[300 rows x 69 columns]"
      ]
     },
     "execution_count": 382,
     "metadata": {},
     "output_type": "execute_result"
    }
   ],
   "source": [
    "differences_all"
   ]
  },
  {
   "cell_type": "code",
   "execution_count": 383,
   "metadata": {},
   "outputs": [
    {
     "data": {
      "text/plain": [
       "0        0.000000\n",
       "1      321.021160\n",
       "2      284.926063\n",
       "3      268.838730\n",
       "4      315.269825\n",
       "          ...    \n",
       "295     36.309093\n",
       "296     36.154695\n",
       "297     36.417018\n",
       "298     36.334557\n",
       "299     36.271413\n",
       "Length: 300, dtype: float64"
      ]
     },
     "execution_count": 383,
     "metadata": {},
     "output_type": "execute_result"
    }
   ],
   "source": [
    "#result_mean = SSD_all.apply(np.mean, axis=1)\n",
    "#result_ste = SSD_all.apply(lambda x: stats.sem(x, nan_policy='omit'), axis=1)\n",
    "sum_of_squares = differences_all.apply(lambda x: np.sum(x**2), axis=1)\n",
    "sum_of_squares"
   ]
  },
  {
   "cell_type": "code",
   "execution_count": 384,
   "metadata": {},
   "outputs": [
    {
     "data": {
      "text/plain": [
       "Text(0, 0.5, 'sum of squares from actual estimate')"
      ]
     },
     "execution_count": 384,
     "metadata": {},
     "output_type": "execute_result"
    },
    {
     "data": {
      "image/png": "[encoded data removed]",
      "text/plain": [
       "<Figure size 432x288 with 1 Axes>"
      ]
     },
     "metadata": {
      "needs_background": "light"
     },
     "output_type": "display_data"
    }
   ],
   "source": [
    "plt.plot(sum_of_squares)\n",
    "#plt.fill_between(result_ste.index, (result_mean-result_ste), (result_mean+result_ste), color='b', alpha=.1)\n",
    "#plt.xlim([0,405])\n",
    "#plt.ylim([1,50])\n",
    "plt.xlabel('number of measurements')\n",
    "plt.ylabel('sum of squares from actual estimate')"
   ]
  },
  {
   "cell_type": "code",
   "execution_count": 385,
   "metadata": {},
   "outputs": [
    {
     "data": {
      "text/plain": [
       "Text(0, 0.5, 'confidence')"
      ]
     },
     "execution_count": 385,
     "metadata": {},
     "output_type": "execute_result"
    },
    {
     "data": {
      "image/png": "[encoded data removed]",
      "text/plain": [
       "<Figure size 432x288 with 1 Axes>"
      ]
     },
     "metadata": {
      "needs_background": "light"
     },
     "output_type": "display_data"
    }
   ],
   "source": [
    "plt.plot(1/sum_of_squares)\n",
    "plt.yscale('log')\n",
    "#plt.ylim([0,1])\n",
    "#plt.xlim([0,500])\n",
    "plt.xlabel('number of measurements')\n",
    "plt.ylabel('confidence')"
   ]
  },
  {
   "cell_type": "code",
   "execution_count": 386,
   "metadata": {},
   "outputs": [
    {
     "name": "stderr",
     "output_type": "stream",
     "text": [
      "C:\\Users\\liorba\\Anaconda3\\envs\\Experimenting\\lib\\site-packages\\ipykernel_launcher.py:2: RuntimeWarning: divide by zero encountered in true_divide\n",
      "  \n"
     ]
    },
    {
     "data": {
      "text/plain": [
       "<matplotlib.legend.Legend at 0x1cac70959c8>"
      ]
     },
     "execution_count": 386,
     "metadata": {},
     "output_type": "execute_result"
    },
    {
     "data": {
      "image/png": "[encoded data removed]",
      "text/plain": [
       "<Figure size 432x288 with 1 Axes>"
      ]
     },
     "metadata": {
      "needs_background": "light"
     },
     "output_type": "display_data"
    }
   ],
   "source": [
    "x = sum_of_squares.index.to_list()\n",
    "y = 1/sum_of_squares.values\n",
    "#x = x[1:350]\n",
    "#y = y[1:350]\n",
    "logy = np.log(y)\n",
    "coeffs = np.polyfit(x,logy,1)\n",
    "poly = np.poly1d(coeffs)\n",
    "yfit = lambda x: np.exp(poly(x))\n",
    "plt.plot(x,y)\n",
    "plt.plot(x,yfit(x))\n",
    "plt.xlabel('number of measurements')\n",
    "plt.ylabel('confidence')\n",
    "plt.legend(['data','fit'])"
   ]
  },
  {
   "cell_type": "code",
   "execution_count": null,
   "metadata": {},
   "outputs": [],
   "source": []
  },
  {
   "cell_type": "code",
   "execution_count": 387,
   "metadata": {},
   "outputs": [],
   "source": [
    "def sigmoid(x, L ,x0, k, b):\n",
    "    y = L / (1 + np.exp(-k*(x-x0)))+b\n",
    "    return (y)\n",
    "\n",
    "p0 = [max(y[1:]), np.median(x[1:]),1,min(y[1:])] # this is an mandatory initial guess\n",
    "\n",
    "popt, pcov = curve_fit(sigmoid, x[1:], y[1:], p0, method='dogbox')"
   ]
  },
  {
   "cell_type": "code",
   "execution_count": 388,
   "metadata": {},
   "outputs": [
    {
     "data": {
      "text/plain": [
       "[<matplotlib.lines.Line2D at 0x1cac71609c8>]"
      ]
     },
     "execution_count": 388,
     "metadata": {},
     "output_type": "execute_result"
    },
    {
     "data": {
      "image/png": "[encoded data removed]",
      "text/plain": [
       "<Figure size 432x288 with 1 Axes>"
      ]
     },
     "metadata": {
      "needs_background": "light"
     },
     "output_type": "display_data"
    }
   ],
   "source": [
    "plt.plot(x,y)\n",
    "plt.plot(sigmoid(x[1:],popt[0],popt[1],popt[2],popt[3]))"
   ]
  },
  {
   "cell_type": "code",
   "execution_count": 389,
   "metadata": {},
   "outputs": [
    {
     "data": {
      "text/plain": [
       "[<matplotlib.lines.Line2D at 0x1cac71c33c8>]"
      ]
     },
     "execution_count": 389,
     "metadata": {},
     "output_type": "execute_result"
    },
    {
     "data": {
      "image/png": "[encoded data removed]",
      "text/plain": [
       "<Figure size 432x288 with 1 Axes>"
      ]
     },
     "metadata": {
      "needs_background": "light"
     },
     "output_type": "display_data"
    }
   ],
   "source": [
    "plt.plot(x,y)\n",
    "plt.plot(sigmoid(np.arange(500),popt[0],popt[1],popt[2],popt[3]))"
   ]
  },
  {
   "cell_type": "code",
   "execution_count": 340,
   "metadata": {},
   "outputs": [
    {
     "data": {
      "text/plain": [
       "Text(0, 0.5, 'confidence')"
      ]
     },
     "execution_count": 340,
     "metadata": {},
     "output_type": "execute_result"
    },
    {
     "data": {
      "image/png": "[encoded data removed]",
      "text/plain": [
       "<Figure size 432x288 with 1 Axes>"
      ]
     },
     "metadata": {
      "needs_background": "light"
     },
     "output_type": "display_data"
    }
   ],
   "source": [
    "plt.plot(np.arange(500), yfit(np.arange(500)))\n",
    "plt.vlines(485,0,5*(10**(-7)))\n",
    "plt.xlabel('number of measurements')\n",
    "plt.ylabel('confidence')"
   ]
  },
  {
   "cell_type": "code",
   "execution_count": 281,
   "metadata": {},
   "outputs": [
    {
     "data": {
      "text/plain": [
       "3.0433004795396004e-07"
      ]
     },
     "execution_count": 281,
     "metadata": {},
     "output_type": "execute_result"
    }
   ],
   "source": [
    "yfit(485)"
   ]
  },
  {
   "cell_type": "code",
   "execution_count": 232,
   "metadata": {},
   "outputs": [
    {
     "data": {
      "text/plain": [
       "poly1d([ 0.02028383, -7.40959574])"
      ]
     },
     "execution_count": 232,
     "metadata": {},
     "output_type": "execute_result"
    }
   ],
   "source": [
    "poly"
   ]
  },
  {
   "cell_type": "code",
   "execution_count": 64,
   "metadata": {},
   "outputs": [
    {
     "data": {
      "text/html": [
       "<div>\n",
       "<style scoped>\n",
       "    .dataframe tbody tr th:only-of-type {\n",
       "        vertical-align: middle;\n",
       "    }\n",
       "\n",
       "    .dataframe tbody tr th {\n",
       "        vertical-align: top;\n",
       "    }\n",
       "\n",
       "    .dataframe thead th {\n",
       "        text-align: right;\n",
       "    }\n",
       "</style>\n",
       "<table border=\"1\" class=\"dataframe\">\n",
       "  <thead>\n",
       "    <tr style=\"text-align: right;\">\n",
       "      <th></th>\n",
       "      <th>0</th>\n",
       "    </tr>\n",
       "  </thead>\n",
       "  <tbody>\n",
       "    <tr>\n",
       "      <th>0</th>\n",
       "      <td>0.000000e+00</td>\n",
       "    </tr>\n",
       "    <tr>\n",
       "      <th>1</th>\n",
       "      <td>5.512698e+07</td>\n",
       "    </tr>\n",
       "    <tr>\n",
       "      <th>2</th>\n",
       "      <td>5.775960e+07</td>\n",
       "    </tr>\n",
       "    <tr>\n",
       "      <th>3</th>\n",
       "      <td>8.346722e+07</td>\n",
       "    </tr>\n",
       "    <tr>\n",
       "      <th>4</th>\n",
       "      <td>1.478758e+08</td>\n",
       "    </tr>\n",
       "    <tr>\n",
       "      <th>...</th>\n",
       "      <td>...</td>\n",
       "    </tr>\n",
       "    <tr>\n",
       "      <th>996</th>\n",
       "      <td>1.303525e+11</td>\n",
       "    </tr>\n",
       "    <tr>\n",
       "      <th>997</th>\n",
       "      <td>1.306330e+11</td>\n",
       "    </tr>\n",
       "    <tr>\n",
       "      <th>998</th>\n",
       "      <td>1.307532e+11</td>\n",
       "    </tr>\n",
       "    <tr>\n",
       "      <th>999</th>\n",
       "      <td>1.310521e+11</td>\n",
       "    </tr>\n",
       "    <tr>\n",
       "      <th>1000</th>\n",
       "      <td>1.341898e+11</td>\n",
       "    </tr>\n",
       "  </tbody>\n",
       "</table>\n",
       "<p>1001 rows × 1 columns</p>\n",
       "</div>"
      ],
      "text/plain": [
       "                 0\n",
       "0     0.000000e+00\n",
       "1     5.512698e+07\n",
       "2     5.775960e+07\n",
       "3     8.346722e+07\n",
       "4     1.478758e+08\n",
       "...            ...\n",
       "996   1.303525e+11\n",
       "997   1.306330e+11\n",
       "998   1.307532e+11\n",
       "999   1.310521e+11\n",
       "1000  1.341898e+11\n",
       "\n",
       "[1001 rows x 1 columns]"
      ]
     },
     "execution_count": 64,
     "metadata": {},
     "output_type": "execute_result"
    }
   ],
   "source": [
    "chunk = large_measurement_chunks_all['red'][13]\n",
    "chunk_measurements = chunk[~chunk.isna()]\n",
    "total_mean = np.mean(chunk_measurements)\n",
    "SSD = {}\n",
    "for sample_size in range(len(chunk_measurements)):\n",
    "    sample = chunk_measurements.iloc[0:sample_size]\n",
    "    SSD[sample_size] = np.sum((sample-total_mean)**2)\n",
    "SSD_df = pd.DataFrame.from_dict(SSD, orient='index')\n",
    "SSD_df"
   ]
  },
  {
   "cell_type": "code",
   "execution_count": null,
   "metadata": {},
   "outputs": [],
   "source": []
  },
  {
   "cell_type": "code",
   "execution_count": 65,
   "metadata": {},
   "outputs": [
    {
     "data": {
      "text/plain": [
       "<matplotlib.axes._subplots.AxesSubplot at 0x1caa4991908>"
      ]
     },
     "execution_count": 65,
     "metadata": {},
     "output_type": "execute_result"
    },
    {
     "data": {
      "image/png": "[encoded data removed]",
      "text/plain": [
       "<Figure size 432x288 with 1 Axes>"
      ]
     },
     "metadata": {
      "needs_background": "light"
     },
     "output_type": "display_data"
    }
   ],
   "source": [
    "SSD_df.plot()"
   ]
  },
  {
   "cell_type": "code",
   "execution_count": 11,
   "metadata": {},
   "outputs": [
    {
     "data": {
      "text/plain": [
       "[<matplotlib.lines.Line2D at 0x1caa57a6048>]"
      ]
     },
     "execution_count": 11,
     "metadata": {},
     "output_type": "execute_result"
    },
    {
     "data": {
      "image/png": "[encoded data removed]",
      "text/plain": [
       "<Figure size 432x288 with 1 Axes>"
      ]
     },
     "metadata": {
      "needs_background": "light"
     },
     "output_type": "display_data"
    }
   ],
   "source": [
    "chunk = large_measurement_chunks_all['red'][0]\n",
    "plt.plot(chunk,'.')"
   ]
  },
  {
   "cell_type": "code",
   "execution_count": 12,
   "metadata": {},
   "outputs": [
    {
     "data": {
      "text/plain": [
       "3909.2561645507812"
      ]
     },
     "execution_count": 12,
     "metadata": {},
     "output_type": "execute_result"
    }
   ],
   "source": [
    "clean_crop_all['red'][0]"
   ]
  },
  {
   "cell_type": "code",
   "execution_count": null,
   "metadata": {},
   "outputs": [],
   "source": [
    "get_large_measurement_chunks_ant(ant)"
   ]
  },
  {
   "cell_type": "code",
   "execution_count": 13,
   "metadata": {},
   "outputs": [
    {
     "data": {
      "text/plain": [
       "564"
      ]
     },
     "execution_count": 13,
     "metadata": {},
     "output_type": "execute_result"
    }
   ],
   "source": [
    "len(large_measurement_chunks_all['red'])"
   ]
  },
  {
   "cell_type": "code",
   "execution_count": 14,
   "metadata": {},
   "outputs": [
    {
     "data": {
      "text/plain": [
       "564"
      ]
     },
     "execution_count": 14,
     "metadata": {},
     "output_type": "execute_result"
    }
   ],
   "source": [
    "len(clean_crop_all['red'])"
   ]
  },
  {
   "cell_type": "code",
   "execution_count": null,
   "metadata": {},
   "outputs": [],
   "source": []
  }
 ],
 "metadata": {
  "kernelspec": {
   "display_name": "Python 3",
   "language": "python",
   "name": "python3"
  },
  "language_info": {
   "codemirror_mode": {
    "name": "ipython",
    "version": 3
   },
   "file_extension": ".py",
   "mimetype": "text/x-python",
   "name": "python",
   "nbconvert_exporter": "python",
   "pygments_lexer": "ipython3",
   "version": "3.7.5"
  }
 },
 "nbformat": 4,
 "nbformat_minor": 2
}
