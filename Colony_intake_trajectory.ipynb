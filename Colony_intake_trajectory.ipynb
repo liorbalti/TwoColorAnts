{
 "cells": [
  {
   "cell_type": "code",
   "execution_count": 1,
   "metadata": {},
   "outputs": [],
   "source": [
    "import numpy as np\n",
    "import matplotlib.pyplot as plt\n",
    "import Data\n",
    "import pandas as pd\n",
    "from os import sep as sep\n",
    "import matplotlib.cm as cm"
   ]
  },
  {
   "cell_type": "code",
   "execution_count": 2,
   "metadata": {},
   "outputs": [],
   "source": [
    "# exp_path = r'Y:\\Lior&Einav\\Experiments\\experiment11_140720'\n",
    "exp_path = r'Y:\\Lior&Einav\\Experiments\\experiment23_271020'\n",
    "fdata = pd.read_csv(exp_path + sep + 'forager_table_with_feeding_sizes.csv')\n",
    "fl2ul = pd.read_csv(exp_path + sep + 'conversion_factors_by_weight_and_feeding_sum.csv')\n"
   ]
  },
  {
   "cell_type": "code",
   "execution_count": 3,
   "metadata": {},
   "outputs": [
    {
     "data": {
      "text/html": [
       "<div>\n",
       "<style scoped>\n",
       "    .dataframe tbody tr th:only-of-type {\n",
       "        vertical-align: middle;\n",
       "    }\n",
       "\n",
       "    .dataframe tbody tr th {\n",
       "        vertical-align: top;\n",
       "    }\n",
       "\n",
       "    .dataframe thead th {\n",
       "        text-align: right;\n",
       "    }\n",
       "</style>\n",
       "<table border=\"1\" class=\"dataframe\">\n",
       "  <thead>\n",
       "    <tr style=\"text-align: right;\">\n",
       "      <th></th>\n",
       "      <th>ant_id</th>\n",
       "      <th>crop_after</th>\n",
       "      <th>crop_before</th>\n",
       "      <th>feeding_end</th>\n",
       "      <th>feeding_size_intensity</th>\n",
       "      <th>feeding_start</th>\n",
       "      <th>first_interaction_after_partner</th>\n",
       "      <th>first_interaction_after_start</th>\n",
       "      <th>food_source</th>\n",
       "      <th>last_interaction_before_end</th>\n",
       "      <th>last_interaction_before_partner</th>\n",
       "    </tr>\n",
       "  </thead>\n",
       "  <tbody>\n",
       "    <tr>\n",
       "      <th>0</th>\n",
       "      <td>13</td>\n",
       "      <td>358972.453125</td>\n",
       "      <td>0.0</td>\n",
       "      <td>72</td>\n",
       "      <td>358972.453125</td>\n",
       "      <td>1</td>\n",
       "      <td>NaN</td>\n",
       "      <td>NaN</td>\n",
       "      <td>yellow</td>\n",
       "      <td>NaN</td>\n",
       "      <td>NaN</td>\n",
       "    </tr>\n",
       "    <tr>\n",
       "      <th>1</th>\n",
       "      <td>40</td>\n",
       "      <td>229306.885937</td>\n",
       "      <td>0.0</td>\n",
       "      <td>61</td>\n",
       "      <td>229306.885937</td>\n",
       "      <td>1</td>\n",
       "      <td>NaN</td>\n",
       "      <td>NaN</td>\n",
       "      <td>yellow</td>\n",
       "      <td>NaN</td>\n",
       "      <td>NaN</td>\n",
       "    </tr>\n",
       "    <tr>\n",
       "      <th>2</th>\n",
       "      <td>521</td>\n",
       "      <td>303129.804031</td>\n",
       "      <td>0.0</td>\n",
       "      <td>69</td>\n",
       "      <td>303129.804031</td>\n",
       "      <td>1</td>\n",
       "      <td>NaN</td>\n",
       "      <td>NaN</td>\n",
       "      <td>yellow</td>\n",
       "      <td>NaN</td>\n",
       "      <td>NaN</td>\n",
       "    </tr>\n",
       "    <tr>\n",
       "      <th>3</th>\n",
       "      <td>1125</td>\n",
       "      <td>460807.268066</td>\n",
       "      <td>0.0</td>\n",
       "      <td>99</td>\n",
       "      <td>460807.268066</td>\n",
       "      <td>1</td>\n",
       "      <td>NaN</td>\n",
       "      <td>NaN</td>\n",
       "      <td>yellow</td>\n",
       "      <td>NaN</td>\n",
       "      <td>NaN</td>\n",
       "    </tr>\n",
       "    <tr>\n",
       "      <th>4</th>\n",
       "      <td>161</td>\n",
       "      <td>36042.938196</td>\n",
       "      <td>0.0</td>\n",
       "      <td>27</td>\n",
       "      <td>36042.938196</td>\n",
       "      <td>19</td>\n",
       "      <td>NaN</td>\n",
       "      <td>NaN</td>\n",
       "      <td>yellow</td>\n",
       "      <td>NaN</td>\n",
       "      <td>NaN</td>\n",
       "    </tr>\n",
       "  </tbody>\n",
       "</table>\n",
       "</div>"
      ],
      "text/plain": [
       "   ant_id     crop_after  crop_before  feeding_end  feeding_size_intensity  \\\n",
       "0      13  358972.453125          0.0           72           358972.453125   \n",
       "1      40  229306.885937          0.0           61           229306.885937   \n",
       "2     521  303129.804031          0.0           69           303129.804031   \n",
       "3    1125  460807.268066          0.0           99           460807.268066   \n",
       "4     161   36042.938196          0.0           27            36042.938196   \n",
       "\n",
       "   feeding_start  first_interaction_after_partner  \\\n",
       "0              1                              NaN   \n",
       "1              1                              NaN   \n",
       "2              1                              NaN   \n",
       "3              1                              NaN   \n",
       "4             19                              NaN   \n",
       "\n",
       "   first_interaction_after_start food_source  last_interaction_before_end  \\\n",
       "0                            NaN      yellow                          NaN   \n",
       "1                            NaN      yellow                          NaN   \n",
       "2                            NaN      yellow                          NaN   \n",
       "3                            NaN      yellow                          NaN   \n",
       "4                            NaN      yellow                          NaN   \n",
       "\n",
       "   last_interaction_before_partner  \n",
       "0                              NaN  \n",
       "1                              NaN  \n",
       "2                              NaN  \n",
       "3                              NaN  \n",
       "4                              NaN  "
      ]
     },
     "execution_count": 3,
     "metadata": {},
     "output_type": "execute_result"
    }
   ],
   "source": [
    "fdata.head()"
   ]
  },
  {
   "cell_type": "code",
   "execution_count": 4,
   "metadata": {},
   "outputs": [
    {
     "data": {
      "text/html": [
       "<div>\n",
       "<style scoped>\n",
       "    .dataframe tbody tr th:only-of-type {\n",
       "        vertical-align: middle;\n",
       "    }\n",
       "\n",
       "    .dataframe tbody tr th {\n",
       "        vertical-align: top;\n",
       "    }\n",
       "\n",
       "    .dataframe thead th {\n",
       "        text-align: right;\n",
       "    }\n",
       "</style>\n",
       "<table border=\"1\" class=\"dataframe\">\n",
       "  <thead>\n",
       "    <tr style=\"text-align: right;\">\n",
       "      <th></th>\n",
       "      <th>ant_id</th>\n",
       "      <th>crop_after</th>\n",
       "      <th>crop_before</th>\n",
       "      <th>feeding_end</th>\n",
       "      <th>feeding_size_intensity</th>\n",
       "      <th>feeding_start</th>\n",
       "      <th>first_interaction_after_partner</th>\n",
       "      <th>first_interaction_after_start</th>\n",
       "      <th>food_source</th>\n",
       "      <th>last_interaction_before_end</th>\n",
       "      <th>last_interaction_before_partner</th>\n",
       "      <th>feeding_size_ul</th>\n",
       "    </tr>\n",
       "  </thead>\n",
       "  <tbody>\n",
       "    <tr>\n",
       "      <th>0</th>\n",
       "      <td>13</td>\n",
       "      <td>358972.453125</td>\n",
       "      <td>0.0</td>\n",
       "      <td>72</td>\n",
       "      <td>358972.453125</td>\n",
       "      <td>1</td>\n",
       "      <td>NaN</td>\n",
       "      <td>NaN</td>\n",
       "      <td>yellow</td>\n",
       "      <td>NaN</td>\n",
       "      <td>NaN</td>\n",
       "      <td>8.549739</td>\n",
       "    </tr>\n",
       "    <tr>\n",
       "      <th>1</th>\n",
       "      <td>40</td>\n",
       "      <td>229306.885937</td>\n",
       "      <td>0.0</td>\n",
       "      <td>61</td>\n",
       "      <td>229306.885937</td>\n",
       "      <td>1</td>\n",
       "      <td>NaN</td>\n",
       "      <td>NaN</td>\n",
       "      <td>yellow</td>\n",
       "      <td>NaN</td>\n",
       "      <td>NaN</td>\n",
       "      <td>5.461461</td>\n",
       "    </tr>\n",
       "    <tr>\n",
       "      <th>2</th>\n",
       "      <td>521</td>\n",
       "      <td>303129.804031</td>\n",
       "      <td>0.0</td>\n",
       "      <td>69</td>\n",
       "      <td>303129.804031</td>\n",
       "      <td>1</td>\n",
       "      <td>NaN</td>\n",
       "      <td>NaN</td>\n",
       "      <td>yellow</td>\n",
       "      <td>NaN</td>\n",
       "      <td>NaN</td>\n",
       "      <td>7.219721</td>\n",
       "    </tr>\n",
       "    <tr>\n",
       "      <th>3</th>\n",
       "      <td>1125</td>\n",
       "      <td>460807.268066</td>\n",
       "      <td>0.0</td>\n",
       "      <td>99</td>\n",
       "      <td>460807.268066</td>\n",
       "      <td>1</td>\n",
       "      <td>NaN</td>\n",
       "      <td>NaN</td>\n",
       "      <td>yellow</td>\n",
       "      <td>NaN</td>\n",
       "      <td>NaN</td>\n",
       "      <td>10.975165</td>\n",
       "    </tr>\n",
       "    <tr>\n",
       "      <th>4</th>\n",
       "      <td>161</td>\n",
       "      <td>36042.938196</td>\n",
       "      <td>0.0</td>\n",
       "      <td>27</td>\n",
       "      <td>36042.938196</td>\n",
       "      <td>19</td>\n",
       "      <td>NaN</td>\n",
       "      <td>NaN</td>\n",
       "      <td>yellow</td>\n",
       "      <td>NaN</td>\n",
       "      <td>NaN</td>\n",
       "      <td>0.858444</td>\n",
       "    </tr>\n",
       "  </tbody>\n",
       "</table>\n",
       "</div>"
      ],
      "text/plain": [
       "   ant_id     crop_after  crop_before  feeding_end  feeding_size_intensity  \\\n",
       "0      13  358972.453125          0.0           72           358972.453125   \n",
       "1      40  229306.885937          0.0           61           229306.885937   \n",
       "2     521  303129.804031          0.0           69           303129.804031   \n",
       "3    1125  460807.268066          0.0           99           460807.268066   \n",
       "4     161   36042.938196          0.0           27            36042.938196   \n",
       "\n",
       "   feeding_start  first_interaction_after_partner  \\\n",
       "0              1                              NaN   \n",
       "1              1                              NaN   \n",
       "2              1                              NaN   \n",
       "3              1                              NaN   \n",
       "4             19                              NaN   \n",
       "\n",
       "   first_interaction_after_start food_source  last_interaction_before_end  \\\n",
       "0                            NaN      yellow                          NaN   \n",
       "1                            NaN      yellow                          NaN   \n",
       "2                            NaN      yellow                          NaN   \n",
       "3                            NaN      yellow                          NaN   \n",
       "4                            NaN      yellow                          NaN   \n",
       "\n",
       "   last_interaction_before_partner  feeding_size_ul  \n",
       "0                              NaN         8.549739  \n",
       "1                              NaN         5.461461  \n",
       "2                              NaN         7.219721  \n",
       "3                              NaN        10.975165  \n",
       "4                              NaN         0.858444  "
      ]
     },
     "execution_count": 4,
     "metadata": {},
     "output_type": "execute_result"
    }
   ],
   "source": [
    "fdata['feeding_size_ul'] = fdata.apply(lambda x: x['feeding_size_intensity']/fl2ul[x['food_source']],axis=1)\n",
    "fdata.head()"
   ]
  },
  {
   "cell_type": "code",
   "execution_count": 5,
   "metadata": {},
   "outputs": [
    {
     "data": {
      "text/plain": [
       "{'yellow': [2, 1], 'red': [1, 3]}"
      ]
     },
     "execution_count": 5,
     "metadata": {},
     "output_type": "execute_result"
    }
   ],
   "source": [
    "PC_ratios_dict = {'yellow':[2,1],'red':[1,3]}\n",
    "PC_ratios_dict"
   ]
  },
  {
   "cell_type": "code",
   "execution_count": 6,
   "metadata": {},
   "outputs": [
    {
     "data": {
      "text/html": [
       "<div>\n",
       "<style scoped>\n",
       "    .dataframe tbody tr th:only-of-type {\n",
       "        vertical-align: middle;\n",
       "    }\n",
       "\n",
       "    .dataframe tbody tr th {\n",
       "        vertical-align: top;\n",
       "    }\n",
       "\n",
       "    .dataframe thead th {\n",
       "        text-align: right;\n",
       "    }\n",
       "</style>\n",
       "<table border=\"1\" class=\"dataframe\">\n",
       "  <thead>\n",
       "    <tr style=\"text-align: right;\">\n",
       "      <th></th>\n",
       "      <th>ant_id</th>\n",
       "      <th>crop_after</th>\n",
       "      <th>crop_before</th>\n",
       "      <th>feeding_end</th>\n",
       "      <th>feeding_size_intensity</th>\n",
       "      <th>feeding_start</th>\n",
       "      <th>first_interaction_after_partner</th>\n",
       "      <th>first_interaction_after_start</th>\n",
       "      <th>food_source</th>\n",
       "      <th>last_interaction_before_end</th>\n",
       "      <th>last_interaction_before_partner</th>\n",
       "      <th>feeding_size_ul</th>\n",
       "      <th>P_mg</th>\n",
       "      <th>C_mg</th>\n",
       "    </tr>\n",
       "  </thead>\n",
       "  <tbody>\n",
       "    <tr>\n",
       "      <th>0</th>\n",
       "      <td>13</td>\n",
       "      <td>358972.453125</td>\n",
       "      <td>0.0</td>\n",
       "      <td>72</td>\n",
       "      <td>358972.453125</td>\n",
       "      <td>1</td>\n",
       "      <td>NaN</td>\n",
       "      <td>NaN</td>\n",
       "      <td>yellow</td>\n",
       "      <td>NaN</td>\n",
       "      <td>NaN</td>\n",
       "      <td>8.549739</td>\n",
       "      <td>0.569983</td>\n",
       "      <td>0.284991</td>\n",
       "    </tr>\n",
       "    <tr>\n",
       "      <th>1</th>\n",
       "      <td>40</td>\n",
       "      <td>229306.885937</td>\n",
       "      <td>0.0</td>\n",
       "      <td>61</td>\n",
       "      <td>229306.885937</td>\n",
       "      <td>1</td>\n",
       "      <td>NaN</td>\n",
       "      <td>NaN</td>\n",
       "      <td>yellow</td>\n",
       "      <td>NaN</td>\n",
       "      <td>NaN</td>\n",
       "      <td>5.461461</td>\n",
       "      <td>0.364097</td>\n",
       "      <td>0.182049</td>\n",
       "    </tr>\n",
       "    <tr>\n",
       "      <th>2</th>\n",
       "      <td>521</td>\n",
       "      <td>303129.804031</td>\n",
       "      <td>0.0</td>\n",
       "      <td>69</td>\n",
       "      <td>303129.804031</td>\n",
       "      <td>1</td>\n",
       "      <td>NaN</td>\n",
       "      <td>NaN</td>\n",
       "      <td>yellow</td>\n",
       "      <td>NaN</td>\n",
       "      <td>NaN</td>\n",
       "      <td>7.219721</td>\n",
       "      <td>0.481315</td>\n",
       "      <td>0.240657</td>\n",
       "    </tr>\n",
       "    <tr>\n",
       "      <th>3</th>\n",
       "      <td>1125</td>\n",
       "      <td>460807.268066</td>\n",
       "      <td>0.0</td>\n",
       "      <td>99</td>\n",
       "      <td>460807.268066</td>\n",
       "      <td>1</td>\n",
       "      <td>NaN</td>\n",
       "      <td>NaN</td>\n",
       "      <td>yellow</td>\n",
       "      <td>NaN</td>\n",
       "      <td>NaN</td>\n",
       "      <td>10.975165</td>\n",
       "      <td>0.731678</td>\n",
       "      <td>0.365839</td>\n",
       "    </tr>\n",
       "    <tr>\n",
       "      <th>4</th>\n",
       "      <td>161</td>\n",
       "      <td>36042.938196</td>\n",
       "      <td>0.0</td>\n",
       "      <td>27</td>\n",
       "      <td>36042.938196</td>\n",
       "      <td>19</td>\n",
       "      <td>NaN</td>\n",
       "      <td>NaN</td>\n",
       "      <td>yellow</td>\n",
       "      <td>NaN</td>\n",
       "      <td>NaN</td>\n",
       "      <td>0.858444</td>\n",
       "      <td>0.057230</td>\n",
       "      <td>0.028615</td>\n",
       "    </tr>\n",
       "  </tbody>\n",
       "</table>\n",
       "</div>"
      ],
      "text/plain": [
       "   ant_id     crop_after  crop_before  feeding_end  feeding_size_intensity  \\\n",
       "0      13  358972.453125          0.0           72           358972.453125   \n",
       "1      40  229306.885937          0.0           61           229306.885937   \n",
       "2     521  303129.804031          0.0           69           303129.804031   \n",
       "3    1125  460807.268066          0.0           99           460807.268066   \n",
       "4     161   36042.938196          0.0           27            36042.938196   \n",
       "\n",
       "   feeding_start  first_interaction_after_partner  \\\n",
       "0              1                              NaN   \n",
       "1              1                              NaN   \n",
       "2              1                              NaN   \n",
       "3              1                              NaN   \n",
       "4             19                              NaN   \n",
       "\n",
       "   first_interaction_after_start food_source  last_interaction_before_end  \\\n",
       "0                            NaN      yellow                          NaN   \n",
       "1                            NaN      yellow                          NaN   \n",
       "2                            NaN      yellow                          NaN   \n",
       "3                            NaN      yellow                          NaN   \n",
       "4                            NaN      yellow                          NaN   \n",
       "\n",
       "   last_interaction_before_partner  feeding_size_ul      P_mg      C_mg  \n",
       "0                              NaN         8.549739  0.569983  0.284991  \n",
       "1                              NaN         5.461461  0.364097  0.182049  \n",
       "2                              NaN         7.219721  0.481315  0.240657  \n",
       "3                              NaN        10.975165  0.731678  0.365839  \n",
       "4                              NaN         0.858444  0.057230  0.028615  "
      ]
     },
     "execution_count": 6,
     "metadata": {},
     "output_type": "execute_result"
    }
   ],
   "source": [
    "fdata[['P_mg','C_mg']] = fdata.apply(lambda x: pd.Series(Data.food_volume_to_PC_amounts(x['feeding_size_ul'],PC_ratios_dict[x['food_source']])),axis=1)\n",
    "fdata.head()"
   ]
  },
  {
   "cell_type": "code",
   "execution_count": 7,
   "metadata": {},
   "outputs": [
    {
     "data": {
      "text/html": [
       "<div>\n",
       "<style scoped>\n",
       "    .dataframe tbody tr th:only-of-type {\n",
       "        vertical-align: middle;\n",
       "    }\n",
       "\n",
       "    .dataframe tbody tr th {\n",
       "        vertical-align: top;\n",
       "    }\n",
       "\n",
       "    .dataframe thead th {\n",
       "        text-align: right;\n",
       "    }\n",
       "</style>\n",
       "<table border=\"1\" class=\"dataframe\">\n",
       "  <thead>\n",
       "    <tr style=\"text-align: right;\">\n",
       "      <th></th>\n",
       "      <th>ant_id</th>\n",
       "      <th>crop_after</th>\n",
       "      <th>crop_before</th>\n",
       "      <th>feeding_end</th>\n",
       "      <th>feeding_size_intensity</th>\n",
       "      <th>feeding_start</th>\n",
       "      <th>first_interaction_after_partner</th>\n",
       "      <th>first_interaction_after_start</th>\n",
       "      <th>food_source</th>\n",
       "      <th>last_interaction_before_end</th>\n",
       "      <th>last_interaction_before_partner</th>\n",
       "      <th>feeding_size_ul</th>\n",
       "      <th>P_mg</th>\n",
       "      <th>C_mg</th>\n",
       "      <th>cumP_mg</th>\n",
       "      <th>cumC_mg</th>\n",
       "    </tr>\n",
       "  </thead>\n",
       "  <tbody>\n",
       "    <tr>\n",
       "      <th>0</th>\n",
       "      <td>13</td>\n",
       "      <td>358972.453125</td>\n",
       "      <td>0.0</td>\n",
       "      <td>72</td>\n",
       "      <td>358972.453125</td>\n",
       "      <td>1</td>\n",
       "      <td>NaN</td>\n",
       "      <td>NaN</td>\n",
       "      <td>yellow</td>\n",
       "      <td>NaN</td>\n",
       "      <td>NaN</td>\n",
       "      <td>8.549739</td>\n",
       "      <td>0.569983</td>\n",
       "      <td>0.284991</td>\n",
       "      <td>0.569983</td>\n",
       "      <td>0.284991</td>\n",
       "    </tr>\n",
       "    <tr>\n",
       "      <th>110</th>\n",
       "      <td>45</td>\n",
       "      <td>494108.507812</td>\n",
       "      <td>0.0</td>\n",
       "      <td>140</td>\n",
       "      <td>494108.507812</td>\n",
       "      <td>1</td>\n",
       "      <td>NaN</td>\n",
       "      <td>NaN</td>\n",
       "      <td>red</td>\n",
       "      <td>NaN</td>\n",
       "      <td>NaN</td>\n",
       "      <td>7.923784</td>\n",
       "      <td>0.198095</td>\n",
       "      <td>0.594284</td>\n",
       "      <td>0.768077</td>\n",
       "      <td>0.879275</td>\n",
       "    </tr>\n",
       "    <tr>\n",
       "      <th>3</th>\n",
       "      <td>1125</td>\n",
       "      <td>460807.268066</td>\n",
       "      <td>0.0</td>\n",
       "      <td>99</td>\n",
       "      <td>460807.268066</td>\n",
       "      <td>1</td>\n",
       "      <td>NaN</td>\n",
       "      <td>NaN</td>\n",
       "      <td>yellow</td>\n",
       "      <td>NaN</td>\n",
       "      <td>NaN</td>\n",
       "      <td>10.975165</td>\n",
       "      <td>0.731678</td>\n",
       "      <td>0.365839</td>\n",
       "      <td>1.499755</td>\n",
       "      <td>1.245114</td>\n",
       "    </tr>\n",
       "    <tr>\n",
       "      <th>109</th>\n",
       "      <td>137</td>\n",
       "      <td>457995.895313</td>\n",
       "      <td>0.0</td>\n",
       "      <td>68</td>\n",
       "      <td>457995.895313</td>\n",
       "      <td>1</td>\n",
       "      <td>NaN</td>\n",
       "      <td>NaN</td>\n",
       "      <td>red</td>\n",
       "      <td>NaN</td>\n",
       "      <td>NaN</td>\n",
       "      <td>7.344664</td>\n",
       "      <td>0.183617</td>\n",
       "      <td>0.550850</td>\n",
       "      <td>1.683372</td>\n",
       "      <td>1.795964</td>\n",
       "    </tr>\n",
       "    <tr>\n",
       "      <th>1</th>\n",
       "      <td>40</td>\n",
       "      <td>229306.885937</td>\n",
       "      <td>0.0</td>\n",
       "      <td>61</td>\n",
       "      <td>229306.885937</td>\n",
       "      <td>1</td>\n",
       "      <td>NaN</td>\n",
       "      <td>NaN</td>\n",
       "      <td>yellow</td>\n",
       "      <td>NaN</td>\n",
       "      <td>NaN</td>\n",
       "      <td>5.461461</td>\n",
       "      <td>0.364097</td>\n",
       "      <td>0.182049</td>\n",
       "      <td>2.047469</td>\n",
       "      <td>1.978012</td>\n",
       "    </tr>\n",
       "  </tbody>\n",
       "</table>\n",
       "</div>"
      ],
      "text/plain": [
       "     ant_id     crop_after  crop_before  feeding_end  feeding_size_intensity  \\\n",
       "0        13  358972.453125          0.0           72           358972.453125   \n",
       "110      45  494108.507812          0.0          140           494108.507812   \n",
       "3      1125  460807.268066          0.0           99           460807.268066   \n",
       "109     137  457995.895313          0.0           68           457995.895313   \n",
       "1        40  229306.885937          0.0           61           229306.885937   \n",
       "\n",
       "     feeding_start  first_interaction_after_partner  \\\n",
       "0                1                              NaN   \n",
       "110              1                              NaN   \n",
       "3                1                              NaN   \n",
       "109              1                              NaN   \n",
       "1                1                              NaN   \n",
       "\n",
       "     first_interaction_after_start food_source  last_interaction_before_end  \\\n",
       "0                              NaN      yellow                          NaN   \n",
       "110                            NaN         red                          NaN   \n",
       "3                              NaN      yellow                          NaN   \n",
       "109                            NaN         red                          NaN   \n",
       "1                              NaN      yellow                          NaN   \n",
       "\n",
       "     last_interaction_before_partner  feeding_size_ul      P_mg      C_mg  \\\n",
       "0                                NaN         8.549739  0.569983  0.284991   \n",
       "110                              NaN         7.923784  0.198095  0.594284   \n",
       "3                                NaN        10.975165  0.731678  0.365839   \n",
       "109                              NaN         7.344664  0.183617  0.550850   \n",
       "1                                NaN         5.461461  0.364097  0.182049   \n",
       "\n",
       "      cumP_mg   cumC_mg  \n",
       "0    0.569983  0.284991  \n",
       "110  0.768077  0.879275  \n",
       "3    1.499755  1.245114  \n",
       "109  1.683372  1.795964  \n",
       "1    2.047469  1.978012  "
      ]
     },
     "execution_count": 7,
     "metadata": {},
     "output_type": "execute_result"
    }
   ],
   "source": [
    "fdata = fdata.sort_values(by='feeding_start')\n",
    "fdata['cumP_mg'] = np.cumsum(fdata['P_mg'])\n",
    "fdata['cumC_mg'] = np.cumsum(fdata['C_mg'])\n",
    "fdata.head()"
   ]
  },
  {
   "cell_type": "code",
   "execution_count": 8,
   "metadata": {},
   "outputs": [],
   "source": [
    "\n",
    "%matplotlib qt\n",
    "\n",
    "plt.rcParams.update({'font.size': 13})\n",
    "plt.figure(figsize=[4,4])\n",
    "plt.set_cmap(cm.Set1)\n",
    "m = 18\n",
    "n = 12\n",
    "x_p = PC_ratios_dict['yellow'][0]\n",
    "y_p = PC_ratios_dict['yellow'][1]\n",
    "x_c = PC_ratios_dict['red'][0]\n",
    "y_c = PC_ratios_dict['red'][1]\n",
    "plt.plot([0, m*x_p],[0, m*y_p],'k',linewidth=0.8)\n",
    "plt.plot([0,n*x_c],[0, n*y_c],'k',linewidth=0.8)\n",
    "plt.plot([0,fdata['P_mg'].sum()],[0,fdata['C_mg'].sum()],'--k',linewidth=1)\n",
    "X = np.insert(fdata['cumP_mg'].to_numpy(),0,0)[0:-1]\n",
    "Y = np.insert(fdata['cumC_mg'].to_numpy(),0,0)[0:-1]\n",
    "plt.quiver(X,Y,fdata['P_mg'],fdata['C_mg'],fdata.ant_id.astype(\"category\").cat.codes,scale=1,scale_units='xy',angles='xy',width=0.015,alpha=1)\n",
    "plt.xlim([0,36])\n",
    "plt.ylim([0,36])\n",
    "plt.xlabel('Protein [mg]')\n",
    "plt.ylabel('Carbohydrates [mg]')\n",
    "plt.tight_layout()\n"
   ]
  },
  {
   "cell_type": "code",
   "execution_count": null,
   "metadata": {},
   "outputs": [],
   "source": [
    "# #%matplotlib qt\n",
    "# plt.rcParams.update({'font.size': 10})\n",
    "# plt.figure(figsize=[2.2,2.2*3.3/4])\n",
    "# plt.set_cmap(cm.Set1)\n",
    "# m = 18\n",
    "# n = 12\n",
    "# x_p = PC_ratios_dict['yellow'][0]\n",
    "# y_p = PC_ratios_dict['yellow'][1]\n",
    "# x_c = PC_ratios_dict['red'][0]\n",
    "# y_c = PC_ratios_dict['red'][1]\n",
    "# plt.plot([0, m*x_p],[0, m*y_p],'k',linewidth=0.8)\n",
    "# plt.plot([0,n*x_c],[0, n*y_c],'k',linewidth=0.8)\n",
    "# plt.plot([0,fdata['P_mg'].sum()],[0,fdata['C_mg'].sum()],'--k',linewidth=1)\n",
    "# X = np.insert(fdata['cumP_mg'].to_numpy(),0,0)[0:-1]\n",
    "# Y = np.insert(fdata['cumC_mg'].to_numpy(),0,0)[0:-1]\n",
    "# plt.quiver(X,Y,fdata['P_mg'],fdata['C_mg'],fdata.ant_id.astype(\"category\").cat.codes,scale=1,scale_units='xy',angles='xy',width=0.015,alpha=1)\n",
    "# plt.xlim([26.6,30.6])\n",
    "# plt.ylim([21,24.3])\n",
    "# #plt.xlabel('Protein [mg]')\n",
    "# #plt.ylabel('Carbohydrates [mg]')\n",
    "# plt.tight_layout()\n"
   ]
  },
  {
   "cell_type": "code",
   "execution_count": null,
   "metadata": {},
   "outputs": [],
   "source": [
    "# #%matplotlib qt\n",
    "# plt.rcParams.update({'font.size': 10})\n",
    "# plt.figure(figsize=[2.2,2.2])\n",
    "# plt.set_cmap(cm.Set1)\n",
    "# m = 18\n",
    "# n = 12\n",
    "# x_p = PC_ratios_dict['yellow'][0]\n",
    "# y_p = PC_ratios_dict['yellow'][1]\n",
    "# x_c = PC_ratios_dict['red'][0]\n",
    "# y_c = PC_ratios_dict['red'][1]\n",
    "# plt.plot([0, m*x_p],[0, m*y_p],'k',linewidth=0.8)\n",
    "# plt.plot([0,n*x_c],[0, n*y_c],'k',linewidth=0.8)\n",
    "# plt.plot([0,fdata['P_mg'].sum()],[0,fdata['C_mg'].sum()],'--k',linewidth=1)\n",
    "# X = np.insert(fdata['cumP_mg'].to_numpy(),0,0)[0:-1]\n",
    "# Y = np.insert(fdata['cumC_mg'].to_numpy(),0,0)[0:-1]\n",
    "# plt.quiver(X,Y,fdata['P_mg'],fdata['C_mg'],fdata.ant_id.astype(\"category\").cat.codes,scale=1,scale_units='xy',angles='xy',width=0.015,alpha=1)\n",
    "# plt.xlim([0,4])\n",
    "# plt.ylim([0,4])\n",
    "# #plt.xlabel('Protein [mg]')\n",
    "# #plt.ylabel('Carbohydrates [mg]')\n",
    "# plt.tight_layout()\n"
   ]
  },
  {
   "cell_type": "code",
   "execution_count": 9,
   "metadata": {},
   "outputs": [
    {
     "data": {
      "text/plain": [
       "271"
      ]
     },
     "execution_count": 9,
     "metadata": {},
     "output_type": "execute_result"
    }
   ],
   "source": [
    "len(fdata['C_mg'])"
   ]
  },
  {
   "cell_type": "code",
   "execution_count": 10,
   "metadata": {},
   "outputs": [],
   "source": [
    "x = fdata['cumC_mg'].to_numpy()\n",
    "x2 = np.insert(x,0,0)[0:-1]"
   ]
  },
  {
   "cell_type": "code",
   "execution_count": 11,
   "metadata": {},
   "outputs": [
    {
     "data": {
      "text/plain": [
       "271"
      ]
     },
     "execution_count": 11,
     "metadata": {},
     "output_type": "execute_result"
    }
   ],
   "source": [
    "len(fdata['P_mg'])"
   ]
  },
  {
   "cell_type": "code",
   "execution_count": 12,
   "metadata": {},
   "outputs": [
    {
     "data": {
      "text/plain": [
       "0       0\n",
       "110     2\n",
       "3      13\n",
       "109     4\n",
       "1       1\n",
       "       ..\n",
       "267    10\n",
       "108    10\n",
       "268     1\n",
       "269     4\n",
       "270    13\n",
       "Length: 271, dtype: int8"
      ]
     },
     "execution_count": 12,
     "metadata": {},
     "output_type": "execute_result"
    }
   ],
   "source": [
    "fdata.ant_id.astype(\"category\").cat.codes"
   ]
  },
  {
   "cell_type": "code",
   "execution_count": null,
   "metadata": {},
   "outputs": [],
   "source": []
  },
  {
   "cell_type": "code",
   "execution_count": null,
   "metadata": {},
   "outputs": [],
   "source": []
  },
  {
   "cell_type": "code",
   "execution_count": 13,
   "metadata": {},
   "outputs": [
    {
     "data": {
      "text/plain": [
       "Text(0.5, 0, 'frame')"
      ]
     },
     "execution_count": 13,
     "metadata": {},
     "output_type": "execute_result"
    }
   ],
   "source": [
    "#%matplotlib inline\n",
    "plt.figure()\n",
    "plt.plot(fdata['feeding_start'],fdata['cumC_mg'])\n",
    "plt.plot(fdata['feeding_start'],fdata['cumP_mg'])\n",
    "plt.legend(['C','P'])\n",
    "plt.ylabel('Consumed Nutrient [mg]')\n",
    "plt.xlabel('frame')"
   ]
  },
  {
   "cell_type": "code",
   "execution_count": 14,
   "metadata": {},
   "outputs": [
    {
     "data": {
      "text/plain": [
       "Text(0, 0.5, 'cumulative Carbohydrates [mg]')"
      ]
     },
     "execution_count": 14,
     "metadata": {},
     "output_type": "execute_result"
    }
   ],
   "source": [
    "#%matplotlib qt\n",
    "fig,ax = plt.subplots(figsize=[12,8])\n",
    "fdata_byforager=fdata.groupby(fdata['ant_id'])\n",
    "fdata['ant_cumC_mg'] = fdata_byforager['C_mg'].apply(np.cumsum)\n",
    "fdata_byforager.plot('feeding_start','ant_cumC_mg',ax=ax)\n",
    "plt.legend(fdata.ant_id.unique())\n",
    "plt.ylabel('cumulative Carbohydrates [mg]')"
   ]
  },
  {
   "cell_type": "code",
   "execution_count": 15,
   "metadata": {},
   "outputs": [
    {
     "data": {
      "text/plain": [
       "Text(0, 0.5, 'Cummulative protein [mg]')"
      ]
     },
     "execution_count": 15,
     "metadata": {},
     "output_type": "execute_result"
    }
   ],
   "source": [
    "fig,ax = plt.subplots(figsize=[12,8])\n",
    "fdata['ant_cumP_mg'] = fdata_byforager['P_mg'].apply(np.cumsum)\n",
    "fdata_byforager.plot('feeding_start','ant_cumP_mg',ax=ax)\n",
    "plt.legend(fdata.ant_id.unique())\n",
    "plt.ylabel('Cummulative protein [mg]')"
   ]
  },
  {
   "cell_type": "code",
   "execution_count": 16,
   "metadata": {},
   "outputs": [],
   "source": [
    "# plt.close('all')"
   ]
  },
  {
   "cell_type": "code",
   "execution_count": 17,
   "metadata": {},
   "outputs": [
    {
     "data": {
      "text/plain": [
       "Text(0, 0.5, 'difference from final intake ratio')"
      ]
     },
     "execution_count": 17,
     "metadata": {},
     "output_type": "execute_result"
    }
   ],
   "source": [
    "# convergence\n",
    "fdata = fdata.reset_index().sort_values(by='feeding_start')\n",
    "fdata['colony_PC_ratio'] = fdata['cumP_mg']/fdata['cumC_mg']\n",
    "final_ratio = fdata['colony_PC_ratio'].iloc[-1]\n",
    "\n",
    "plt.figure()\n",
    "plt.plot(fdata['colony_PC_ratio']-final_ratio)\n",
    "plt.axhline()\n",
    "plt.xlabel('number of feedings')\n",
    "plt.ylabel('difference from final intake ratio')"
   ]
  },
  {
   "cell_type": "code",
   "execution_count": 18,
   "metadata": {},
   "outputs": [
    {
     "data": {
      "text/plain": [
       "Text(0, 0.5, 'difference from final intake ratio')"
      ]
     },
     "execution_count": 18,
     "metadata": {},
     "output_type": "execute_result"
    }
   ],
   "source": [
    "plt.figure()\n",
    "plt.plot(fdata['feeding_start'],fdata['colony_PC_ratio']-final_ratio)\n",
    "plt.axhline(color =\"k\", linestyle =\"--\")\n",
    "plt.xlabel('frame')\n",
    "plt.ylabel('difference from final intake ratio')"
   ]
  },
  {
   "cell_type": "code",
   "execution_count": null,
   "metadata": {},
   "outputs": [],
   "source": []
  },
  {
   "cell_type": "code",
   "execution_count": null,
   "metadata": {},
   "outputs": [],
   "source": [
    "#plt.close('all')"
   ]
  },
  {
   "cell_type": "code",
   "execution_count": 19,
   "metadata": {},
   "outputs": [
    {
     "data": {
      "text/plain": [
       "<matplotlib.legend.Legend at 0x2182775de88>"
      ]
     },
     "execution_count": 19,
     "metadata": {},
     "output_type": "execute_result"
    }
   ],
   "source": [
    "fig,ax = plt.subplots()\n",
    "fdata.reset_index()\n",
    "fdata['cum_vol'] = fdata.groupby(fdata['food_source'])['feeding_size_ul'].apply(np.cumsum)\n",
    "fdata.groupby(fdata['food_source']).plot('feeding_start','cum_vol',ax=ax)\n",
    "plt.xlabel('frame')\n",
    "plt.ylabel('Volume consumed [ul]')\n",
    "plt.legend(['sugar-rich','protein-rich'])"
   ]
  },
  {
   "cell_type": "code",
   "execution_count": null,
   "metadata": {},
   "outputs": [],
   "source": [
    "fdata.head()"
   ]
  },
  {
   "cell_type": "code",
   "execution_count": null,
   "metadata": {},
   "outputs": [],
   "source": [
    "fdata_byforager.head()"
   ]
  },
  {
   "cell_type": "code",
   "execution_count": 20,
   "metadata": {},
   "outputs": [],
   "source": [
    "# %matplotlib qt\n",
    "# %matplotlib inline\n",
    "\n",
    "X = fdata_byforager['ant_cumP_mg'].apply(lambda x: np.insert(x.to_numpy(),0,0)[0:-1]).to_list()\n",
    "X = np.concatenate(X).ravel()\n",
    "Y = fdata_byforager['ant_cumC_mg'].apply(lambda x: np.insert(x.to_numpy(),0,0)[0:-1]).to_list()\n",
    "Y = np.concatenate(Y).ravel()"
   ]
  },
  {
   "cell_type": "code",
   "execution_count": 23,
   "metadata": {},
   "outputs": [],
   "source": [
    "fdata=fdata.sort_values(by='ant_id')\n",
    "plt.rcParams.update({'font.size': 13})\n",
    "plt.figure(figsize=[4,4])\n",
    "plt.set_cmap(cm.Set1)\n",
    "m = 18\n",
    "n = 12\n",
    "x_p = PC_ratios_dict['yellow'][0]\n",
    "y_p = PC_ratios_dict['yellow'][1]\n",
    "x_c = PC_ratios_dict['red'][0]\n",
    "y_c = PC_ratios_dict['red'][1]\n",
    "plt.plot([0, m*x_p],[0, m*y_p],'k',linewidth=0.8)\n",
    "plt.plot([0,n*x_c],[0, n*y_c],'k',linewidth=0.8)\n",
    "plt.plot([0,fdata['P_mg'].sum()],[0,fdata['C_mg'].sum()],'--k',linewidth=1)\n",
    "#plt.plot(X,Y)\n",
    "plt.quiver(X,Y,fdata.sort_values(by=['ant_id','feeding_start'])['P_mg'],fdata.sort_values(by=['ant_id','feeding_start'])['C_mg'],fdata.ant_id.astype(\"category\").cat.codes,scale=1,scale_units='xy',angles='xy',width=0.008,alpha=1)\n",
    "plt.xlim([0,6])\n",
    "plt.ylim([0,6])\n",
    "plt.xlabel('Protein [mg]')\n",
    "plt.ylabel('Carbohydrates [mg]')\n",
    "plt.tight_layout()"
   ]
  },
  {
   "cell_type": "code",
   "execution_count": 22,
   "metadata": {},
   "outputs": [
    {
     "data": {
      "text/plain": [
       "{'yellow': [2, 1], 'red': [1, 3]}"
      ]
     },
     "execution_count": 22,
     "metadata": {},
     "output_type": "execute_result"
    }
   ],
   "source": [
    "PC_ratios_dict"
   ]
  },
  {
   "cell_type": "code",
   "execution_count": null,
   "metadata": {},
   "outputs": [],
   "source": []
  },
  {
   "cell_type": "code",
   "execution_count": null,
   "metadata": {},
   "outputs": [],
   "source": [
    "cmap = cm.get_cmap('Set1')\n",
    "\n",
    "for i in range(cmap.N):\n",
    "    rgba = cmap(i)\n",
    "    # rgb2hex accepts rgb or rgba\n",
    "    print(rgba)"
   ]
  },
  {
   "cell_type": "code",
   "execution_count": null,
   "metadata": {},
   "outputs": [],
   "source": [
    "plt.xlim([0,10])\n",
    "plt.ylim([0,10])"
   ]
  },
  {
   "cell_type": "code",
   "execution_count": null,
   "metadata": {},
   "outputs": [],
   "source": []
  }
 ],
 "metadata": {
  "kernelspec": {
   "display_name": "Python 3",
   "language": "python",
   "name": "python3"
  },
  "language_info": {
   "codemirror_mode": {
    "name": "ipython",
    "version": 3
   },
   "file_extension": ".py",
   "mimetype": "text/x-python",
   "name": "python",
   "nbconvert_exporter": "python",
   "pygments_lexer": "ipython3",
   "version": "3.7.4"
  }
 },
 "nbformat": 4,
 "nbformat_minor": 2
}
