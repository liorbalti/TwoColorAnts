{
 "cells": [
  {
   "cell_type": "markdown",
   "id": "c3911784",
   "metadata": {},
   "source": [
    "# Behavior Elements\n",
    "\n",
    "## 1. Feeding\n",
    "Feeding from the food source (yellow/red)\n",
    "\n",
    "## 2. Unloading\n",
    "Non-receiving interactions\n",
    "\n",
    "## 3. Receiving\n",
    "Receiving interactions (more than 'min_receive' ul)\n",
    "\n",
    "## 4. Resting\n",
    "Not feeding, not interacting, not moving (less than 'min_move' pixels/ 'dt' frames)\n",
    "\n",
    "## 5. Moving\n",
    "Not feeding, not interacting, moving more than 'min_move' pixels/ 'dt' frames"
   ]
  },
  {
   "cell_type": "code",
   "execution_count": 78,
   "id": "6023a6e7",
   "metadata": {},
   "outputs": [],
   "source": [
    "import numpy as np\n",
    "import matplotlib.pyplot as plt\n",
    "import pandas as pd\n",
    "from Data import ExperimentData, AntData\n",
    "from os import sep as sep\n",
    "import AnalysisFunctions as afuns\n",
    "from functools import reduce\n",
    "import os"
   ]
  },
  {
   "cell_type": "code",
   "execution_count": 79,
   "id": "ee61f0e3",
   "metadata": {},
   "outputs": [],
   "source": [
    "root_path = r'Y:\\Lior&Einav\\Experiments'\n",
    "exp_details = pd.read_excel(root_path + sep + 'Experiments_details.xlsx', engine='openpyxl')"
   ]
  },
  {
   "cell_type": "code",
   "execution_count": 80,
   "id": "0c806bec",
   "metadata": {},
   "outputs": [],
   "source": [
    "def get_bdata_filename(exp_path):\n",
    "    bdata_filename = [filename for filename in os.listdir(exp_path+sep+r'with food\\blob analysis normalized by white paper') \n",
    "                        if filename.startswith(r'bdata')][0]\n",
    "    return bdata_filename"
   ]
  },
  {
   "cell_type": "markdown",
   "id": "652afb6a",
   "metadata": {},
   "source": [
    "# Load experiment data"
   ]
  },
  {
   "cell_type": "code",
   "execution_count": 190,
   "id": "f67a50e6",
   "metadata": {},
   "outputs": [],
   "source": [
    "exp_num = 20\n",
    "exp_idx, PC_ratios_dict, exp_path = afuns.get_exp_data(exp_num, exp_details, root_path)\n",
    "bdata_filename = get_bdata_filename(exp_path)\n",
    "\n",
    "bdata = pd.read_csv(exp_path + sep + r'with food\\blob analysis normalized by white paper' + sep + bdata_filename, index_col=0)\n",
    "fdata = pd.read_csv(exp_path + sep + r'forager_table_with_feeding_sizes_ul_transparency_corrected.csv', index_col=[0])\n",
    "tdata = pd.read_csv(exp_path + sep + r'clean_trophallaxis_table_transparency_corrected.csv')\n",
    "crops = pd.read_csv(exp_path + sep + r'clean_crops_transparency_corrected.csv', header=[0,1], index_col=[0]).swaplevel(axis=1)\n",
    "ants = pd.read_csv(exp_path + sep + r'ants_list.csv')\n",
    "conversion_factors = pd.read_csv(exp_path + sep + r'conversion_factors_by_weight_and_feeding_sum.csv')\n",
    "transparency = pd.read_csv(exp_path + sep + r'transparency_table.csv')"
   ]
  },
  {
   "cell_type": "markdown",
   "id": "50179814",
   "metadata": {},
   "source": [
    "# Parameters"
   ]
  },
  {
   "cell_type": "code",
   "execution_count": 202,
   "id": "fffe1ff3",
   "metadata": {},
   "outputs": [],
   "source": [
    "min_volume = 1  # ul\n",
    "dt = 10  # frames\n",
    "min_move = 50  # pixels/dt frames\n",
    "\n",
    "smoothing_window = 70 # frames"
   ]
  },
  {
   "cell_type": "markdown",
   "id": "abce59b0",
   "metadata": {},
   "source": [
    "# Functions"
   ]
  },
  {
   "cell_type": "code",
   "execution_count": 94,
   "id": "fb2397e0",
   "metadata": {},
   "outputs": [],
   "source": [
    "def plot_event(ax,start_frame, end_frame, color, alpha):\n",
    "    ax.axvspan(start_frame, end_frame, facecolor=color, alpha=alpha, zorder=-100)"
   ]
  },
  {
   "cell_type": "code",
   "execution_count": 84,
   "id": "c24d3018",
   "metadata": {},
   "outputs": [],
   "source": [
    "def get_ant_data(ant, bdata, crops, tdata, transparency, dt=10, fdata=False, conversion_factors=False):\n",
    "    ant_data={}\n",
    "    \n",
    "    ant_data['ant'] = ant\n",
    "    \n",
    "    raw_x = bdata['a'+str(ant)+'-x']\n",
    "    raw_y = bdata['a'+str(ant)+'-y']\n",
    "    ant_data['x']=raw_x.interpolate(method='linear',limit_area='inside')\n",
    "    ant_data['y']=raw_y.interpolate(method='linear',limit_area='inside')\n",
    "    \n",
    "    ant_data['v']=calc_vel(ant_data['x'],ant_data['y'],dt)\n",
    "    \n",
    "    ant_data['transp'] = transparency.transparency[transparency['ant']==ant].iloc[0]\n",
    "    \n",
    "    raw_crop = bdata['a'+str(ant)+'-crop_intensity']/ant_data['transp']/ant_data['transp']\n",
    "    \n",
    "    crop_df_raw = pd.DataFrame({'frame':raw_crop.index, 'raw_crop':raw_crop.values, 'acquisition':bdata['acquisition'].values})\n",
    "    crop_df_clean = pd.DataFrame({'clean_red':crops[('red',str(ant))], 'clean_yellow':crops[('yellow',str(ant))]})\n",
    "    crop_df = crop_df_raw.merge(crop_df_clean,left_index=True, right_index=True)\n",
    "    \n",
    "    if isinstance(conversion_factors, pd.DataFrame):\n",
    "        crop_df['raw_crop'][crop_df['acquisition']=='BLGF']=crop_df['raw_crop'][crop_df['acquisition']=='BLGF']/conversion_factors['yellow'][0]\n",
    "        crop_df['raw_crop'][crop_df['acquisition']=='GLRF']=crop_df['raw_crop'][crop_df['acquisition']=='GLRF']/conversion_factors['red'][0]\n",
    "        crop_df['clean_red']=crop_df['clean_red']/conversion_factors['red'][0]\n",
    "        crop_df['clean_yellow']=crop_df['clean_yellow']/conversion_factors['yellow'][0]\n",
    "        \n",
    "    ant_data['crop_df']=crop_df\n",
    "    \n",
    "    ant_data['interactions']=tdata[(tdata['giver']==ant) | (tdata['receiver']==ant)]\n",
    "    \n",
    "    if isinstance(fdata, pd.DataFrame):\n",
    "        ant_data['feedings'] = fdata[fdata.ant_id==ant]\n",
    "    \n",
    "    return ant_data\n",
    "\n",
    "\n",
    "def calc_vel(x,y,dt):\n",
    "    diff_x = x.diff(periods=dt)\n",
    "    diff_y = y.diff(periods=dt)\n",
    "    v = np.sqrt(diff_x**2 + diff_y**2)/dt\n",
    "    return v"
   ]
  },
  {
   "cell_type": "code",
   "execution_count": 85,
   "id": "268542d3",
   "metadata": {},
   "outputs": [],
   "source": [
    "def get_intervals_between_events(ant_data):\n",
    "    interactions = pd.DataFrame()\n",
    "    interactions['start_frame'] = ant_data['interactions']['start_frame']\n",
    "    interactions['end_frame'] = ant_data['interactions']['end_frame']\n",
    "    interactions['event_type'] = 'interaction'\n",
    "\n",
    "    feedings = pd.DataFrame()\n",
    "    feedings['start_frame'] = ant_data['feedings']['feeding_start']\n",
    "    feedings['end_frame'] = ant_data['feedings']['feeding_end']\n",
    "    feedings['event_type'] = 'feeding'\n",
    "\n",
    "    all_events = pd.concat([interactions, feedings]).sort_values(by='start_frame')\n",
    "    all_events_df = all_events.copy()\n",
    "\n",
    "    interval_starts=[0]\n",
    "    interval_ends=[]\n",
    "    while len(all_events)>0:\n",
    "\n",
    "        next_event = all_events.iloc[0]\n",
    "        next_event_start = next_event['start_frame']\n",
    "        next_events = all_events[all_events['start_frame']<=next_event['end_frame']]  # to deal with overlapping events\n",
    "        next_event_end = max(next_events['end_frame'])  # if next events are overlapping - take the end of the one that ends last\n",
    "        \n",
    "        interval_ends.append(next_event_start)\n",
    "        interval_starts.append(next_event_end+1)\n",
    "        \n",
    "        all_events = update_remaining_events(interval_starts[-1], all_events)\n",
    "\n",
    "    interval_ends.append(bdata['frame'].iloc[-1])\n",
    "    \n",
    "    return interval_starts, interval_ends, all_events_df\n",
    "    \n",
    "\n",
    "def update_remaining_events(frame, events):\n",
    "    events=events[events['start_frame']>=frame]\n",
    "    return events"
   ]
  },
  {
   "cell_type": "code",
   "execution_count": 86,
   "id": "a98e0f92",
   "metadata": {},
   "outputs": [],
   "source": [
    "# Classify interactions to unloading, receiving and small\n",
    "def classify_interactions(behavior_df, ant_data, min_volume):\n",
    "    giving_df = ant_data['interactions'][ant_data['interactions']['giver']==ant]\n",
    "    unloading = giving_df[['start_frame','end_frame']][(giving_df['transferred_red']>=min_volume) | (giving_df['transferred_yellow']>=min_volume)]\n",
    "    small_giving = giving_df[['start_frame','end_frame']][(giving_df['transferred_red']<min_volume) | (giving_df['transferred_yellow']<min_volume)]\n",
    "    \n",
    "    receiving_df = ant_data['interactions'][ant_data['interactions']['receiver']==ant]\n",
    "    receiving = receiving_df[['start_frame','end_frame']][(receiving_df['transferred_red']>=min_volume) | (receiving_df['transferred_yellow']>=min_volume)]\n",
    "    small_receiving = receiving_df[['start_frame','end_frame']][(receiving_df['transferred_red']<min_volume) | (receiving_df['transferred_yellow']<min_volume)]\n",
    "    \n",
    "    small_interactions = pd.concat([small_giving, small_receiving])\n",
    "    \n",
    "    for df, behavior in zip([unloading, receiving, small_interactions], ['non-receiving_interaction','receiving_interaction','non-receiving_interaction']):\n",
    "        df['behavior'] = behavior\n",
    "    \n",
    "    behavior_df = pd.concat([behavior_df, unloading, receiving, small_interactions])\n",
    "    behavior_df = behavior_df.sort_values(by='start_frame').reset_index(drop=True)\n",
    "    \n",
    "    return behavior_df"
   ]
  },
  {
   "cell_type": "code",
   "execution_count": 87,
   "id": "7640534a",
   "metadata": {},
   "outputs": [],
   "source": [
    "# insert feedings to behavior_df\n",
    "def insert_feedings(behavior_df, ant_data):\n",
    "    feedings_df = ant_data['feedings'][['feeding_start','feeding_end','food_source']]\n",
    "    feedings_df=feedings_df.rename(columns={'feeding_start':'start_frame', 'feeding_end':'end_frame','food_source':'behavior'})\n",
    "    feedings_df['behavior']=feedings_df['behavior'].apply(lambda x: x + '_feeding')\n",
    "    \n",
    "    behavior_df = pd.concat([behavior_df, feedings_df])\n",
    "    behavior_df = behavior_df.sort_values(by='start_frame').reset_index(drop=True)\n",
    "    \n",
    "    return behavior_df"
   ]
  },
  {
   "cell_type": "code",
   "execution_count": 88,
   "id": "68dab880",
   "metadata": {},
   "outputs": [],
   "source": [
    "def merge_consecutive_events(behavior_df, window_size):\n",
    "    behavior_df['next_behavior']=behavior_df['behavior'].shift(-1)\n",
    "    behavior_df['next_start']=behavior_df['start_frame'].shift(-1)\n",
    "    behavior_df['next_end']=behavior_df['end_frame'].shift(-1)\n",
    "    \n",
    "    group_labels=[]\n",
    "    counter = 1\n",
    "    chunk_ends = []\n",
    "    in_chunk = False\n",
    "    for idx, event in behavior_df.iterrows():\n",
    "        if not to_merge(event, window_size):\n",
    "            group_labels.append(0)\n",
    "            counter += 1\n",
    "            if in_chunk:\n",
    "                chunk_ends.append(idx)\n",
    "            in_chunk=False\n",
    "        else:\n",
    "            group_labels.append(counter)\n",
    "            in_chunk=True\n",
    "    \n",
    "    behavior_df['group_labels']=group_labels\n",
    "    \n",
    "    groups = np.unique(group_labels)\n",
    "    groups = groups[groups>0]\n",
    "    \n",
    "    merged_events=[]\n",
    "    for g in groups:\n",
    "        chunk = behavior_df[behavior_df['group_labels']==g]\n",
    "        merged_event = chunk.iloc[0][['start_frame','end_frame','behavior']]\n",
    "        merged_event['end_frame']=chunk.iloc[-1]['next_end']\n",
    "        merged_events.append(merged_event)\n",
    "    \n",
    "    merged_df = pd.concat(merged_events,axis=1).transpose()\n",
    "    solitary_events = behavior_df[behavior_df['group_labels']==0]\n",
    "    solitary_events=solitary_events.drop(index=chunk_ends)\n",
    "    behavior_df = pd.concat([merged_df,solitary_events[['start_frame','end_frame','behavior']]]).sort_values(by='start_frame')\n",
    "    behavior_df=behavior_df.reset_index(drop=True)\n",
    "    \n",
    "    return behavior_df\n",
    "\n",
    "def to_merge(event, window_size):\n",
    "        m = (event['behavior']==event['next_behavior']) & ((event['next_start']-event['end_frame'])<=window_size)\n",
    "        return m"
   ]
  },
  {
   "cell_type": "code",
   "execution_count": 89,
   "id": "ddfff42e",
   "metadata": {},
   "outputs": [],
   "source": [
    "def is_unloading(merged_event, crop_df, min_vol):\n",
    "    red_change = crop_df['clean_red'][merged_event['start_frame']]-crop_df['clean_red'][merged_event['end_frame']]\n",
    "    yellow_change = crop_df['clean_yellow'][merged_event['start_frame']]-crop_df['clean_yellow'][merged_event['end_frame']]\n",
    "    res = (red_change>min_vol) | (yellow_change>min_vol)\n",
    "    return res"
   ]
  },
  {
   "cell_type": "markdown",
   "id": "2e3ea895",
   "metadata": {},
   "source": [
    "# Single ant"
   ]
  },
  {
   "cell_type": "code",
   "execution_count": 149,
   "id": "03e847fe",
   "metadata": {},
   "outputs": [
    {
     "name": "stderr",
     "output_type": "stream",
     "text": [
      "C:\\Users\\liorba\\Anaconda3\\lib\\site-packages\\ipykernel_launcher.py:22: SettingWithCopyWarning: \n",
      "A value is trying to be set on a copy of a slice from a DataFrame\n",
      "\n",
      "See the caveats in the documentation: https://pandas.pydata.org/pandas-docs/stable/user_guide/indexing.html#returning-a-view-versus-a-copy\n",
      "C:\\Users\\liorba\\Anaconda3\\lib\\site-packages\\ipykernel_launcher.py:23: SettingWithCopyWarning: \n",
      "A value is trying to be set on a copy of a slice from a DataFrame\n",
      "\n",
      "See the caveats in the documentation: https://pandas.pydata.org/pandas-docs/stable/user_guide/indexing.html#returning-a-view-versus-a-copy\n"
     ]
    }
   ],
   "source": [
    "ant = 148\n",
    "ant_data = get_ant_data(ant, bdata, crops, tdata, transparency, dt=dt, fdata=fdata, conversion_factors=conversion_factors)"
   ]
  },
  {
   "cell_type": "code",
   "execution_count": 150,
   "id": "6c15b4d2",
   "metadata": {},
   "outputs": [],
   "source": [
    "behavior_df = pd.DataFrame()\n",
    "behavior_df = classify_interactions(behavior_df, ant_data, min_volume)\n",
    "behavior_df = insert_feedings(behavior_df, ant_data)\n",
    "merged_df = merge_consecutive_events(behavior_df, 70)\n"
   ]
  },
  {
   "cell_type": "markdown",
   "id": "0327d53d",
   "metadata": {},
   "source": [
    "# Combined Elements"
   ]
  },
  {
   "cell_type": "markdown",
   "id": "217a6985",
   "metadata": {},
   "source": [
    "## Unloading\n",
    "Merged non-receiving interactions that result in a decrease of more than min_vol"
   ]
  },
  {
   "cell_type": "code",
   "execution_count": null,
   "id": "b1a6dc48",
   "metadata": {},
   "outputs": [],
   "source": []
  },
  {
   "cell_type": "code",
   "execution_count": 151,
   "id": "0201d710",
   "metadata": {},
   "outputs": [],
   "source": [
    "unloading_periods = merged_df.apply(is_unloading,axis=1,args=(ant_data['crop_df'], min_volume))\n",
    "merged_df['behavior'][unloading_periods]='unloading'\n",
    "merged_df['next_behavior']=merged_df['behavior'].shift(-1)\n",
    "merged_df['next_start']=merged_df['start_frame'].shift(-1)\n",
    "merged_df['next_end']=merged_df['end_frame'].shift(-1)"
   ]
  },
  {
   "cell_type": "markdown",
   "id": "b7a330db",
   "metadata": {},
   "source": [
    "## Feeding bout\n",
    "Feeding + Unloading"
   ]
  },
  {
   "cell_type": "code",
   "execution_count": 152,
   "id": "ebafccdd",
   "metadata": {},
   "outputs": [],
   "source": [
    "combined_behaviors=[]\n",
    "rows_to_drop=[]\n",
    "for idx, behavior in merged_df.iterrows():\n",
    "    combined_behavior=behavior[['start_frame','end_frame','behavior']]\n",
    "    if behavior['behavior'].endswith('feeding') & (behavior['next_behavior']=='unloading') & ((behavior['next_start']-behavior['end_frame'])<smoothing_window):\n",
    "        combined_behavior['behavior']=behavior['behavior'].replace('feeding','bout')\n",
    "        combined_behavior['end_frame'] = behavior['next_end']\n",
    "        rows_to_drop.append(idx+1)\n",
    "    combined_behaviors.append(combined_behavior)\n",
    "\n",
    "combined_df=pd.concat(combined_behaviors,axis=1).transpose()\n",
    "combined_df=combined_df.drop(index=rows_to_drop)"
   ]
  },
  {
   "cell_type": "code",
   "execution_count": 153,
   "id": "aa6f3189",
   "metadata": {},
   "outputs": [],
   "source": [
    "colors_dict = {'yellow_feeding':'y','red_feeding':'red',\n",
    "               'non-receiving_interaction':'0.2', 'receiving_interaction':'g', 'unloading':'b',\n",
    "              'red_bout':'r', 'yellow_bout':'y'}\n",
    "alpha_dict={'red_bout':0.2,'yellow_bout':0.2,'non-receiving_interaction':0.2,'receiving_interaction':0.2, 'unloading':0.2,\n",
    "            'red_feeding':0.6,'yellow_feeding':0.6}"
   ]
  },
  {
   "cell_type": "code",
   "execution_count": 154,
   "id": "4e034673",
   "metadata": {},
   "outputs": [],
   "source": [
    "%matplotlib qt\n",
    "fig,ax = plt.subplots(3,1,figsize=[18, 12])\n",
    "for idx, event in behavior_df.iterrows():\n",
    "    plot_event(ax[0] ,event['start_frame'], event['end_frame'],colors_dict[event['behavior']], 0.2)\n",
    "for idx, event in merged_df.iterrows():\n",
    "    plot_event(ax[1] ,event['start_frame'], event['end_frame'],colors_dict[event['behavior']], 0.2)\n",
    "for idx, event in combined_df.iterrows():\n",
    "    plot_event(ax[2] ,event['start_frame'], event['end_frame'],colors_dict[event['behavior']], alpha_dict[event['behavior']])"
   ]
  },
  {
   "cell_type": "code",
   "execution_count": null,
   "id": "09a20c0c",
   "metadata": {},
   "outputs": [],
   "source": []
  },
  {
   "cell_type": "code",
   "execution_count": null,
   "id": "1365f7ff",
   "metadata": {},
   "outputs": [],
   "source": []
  },
  {
   "cell_type": "code",
   "execution_count": null,
   "id": "61a07e00",
   "metadata": {},
   "outputs": [],
   "source": [
    "\n"
   ]
  },
  {
   "cell_type": "code",
   "execution_count": 131,
   "id": "0ab0d3b5",
   "metadata": {},
   "outputs": [],
   "source": [
    "# filter merged unloading periods by change in crop\n",
    "# crop must decrease by more than min_vol"
   ]
  },
  {
   "cell_type": "code",
   "execution_count": 55,
   "id": "38a1fb6d",
   "metadata": {},
   "outputs": [
    {
     "data": {
      "text/html": [
       "<div>\n",
       "<style scoped>\n",
       "    .dataframe tbody tr th:only-of-type {\n",
       "        vertical-align: middle;\n",
       "    }\n",
       "\n",
       "    .dataframe tbody tr th {\n",
       "        vertical-align: top;\n",
       "    }\n",
       "\n",
       "    .dataframe thead th {\n",
       "        text-align: right;\n",
       "    }\n",
       "</style>\n",
       "<table border=\"1\" class=\"dataframe\">\n",
       "  <thead>\n",
       "    <tr style=\"text-align: right;\">\n",
       "      <th></th>\n",
       "      <th>ant_id</th>\n",
       "      <th>crop_after</th>\n",
       "      <th>crop_before</th>\n",
       "      <th>feeding_end</th>\n",
       "      <th>feeding_size_intensity</th>\n",
       "      <th>feeding_start</th>\n",
       "      <th>first_interaction_after_partner</th>\n",
       "      <th>first_interaction_after_start</th>\n",
       "      <th>food_source</th>\n",
       "      <th>last_interaction_before_end</th>\n",
       "      <th>last_interaction_before_partner</th>\n",
       "      <th>feeding_size_ul</th>\n",
       "    </tr>\n",
       "  </thead>\n",
       "  <tbody>\n",
       "    <tr>\n",
       "      <th>0</th>\n",
       "      <td>76</td>\n",
       "      <td>210171.501709</td>\n",
       "      <td>0.000000</td>\n",
       "      <td>58</td>\n",
       "      <td>210171.501709</td>\n",
       "      <td>4</td>\n",
       "      <td>NaN</td>\n",
       "      <td>NaN</td>\n",
       "      <td>yellow</td>\n",
       "      <td>NaN</td>\n",
       "      <td>NaN</td>\n",
       "      <td>4.513998</td>\n",
       "    </tr>\n",
       "    <tr>\n",
       "      <th>1</th>\n",
       "      <td>148</td>\n",
       "      <td>321006.945312</td>\n",
       "      <td>0.000000</td>\n",
       "      <td>128</td>\n",
       "      <td>321006.945312</td>\n",
       "      <td>48</td>\n",
       "      <td>NaN</td>\n",
       "      <td>NaN</td>\n",
       "      <td>yellow</td>\n",
       "      <td>NaN</td>\n",
       "      <td>NaN</td>\n",
       "      <td>5.128422</td>\n",
       "    </tr>\n",
       "    <tr>\n",
       "      <th>2</th>\n",
       "      <td>289</td>\n",
       "      <td>493876.082275</td>\n",
       "      <td>0.000000</td>\n",
       "      <td>304</td>\n",
       "      <td>493876.082275</td>\n",
       "      <td>133</td>\n",
       "      <td>NaN</td>\n",
       "      <td>NaN</td>\n",
       "      <td>yellow</td>\n",
       "      <td>NaN</td>\n",
       "      <td>NaN</td>\n",
       "      <td>6.396295</td>\n",
       "    </tr>\n",
       "    <tr>\n",
       "      <th>3</th>\n",
       "      <td>392</td>\n",
       "      <td>441520.468750</td>\n",
       "      <td>120736.955469</td>\n",
       "      <td>206</td>\n",
       "      <td>320783.513281</td>\n",
       "      <td>159</td>\n",
       "      <td>NaN</td>\n",
       "      <td>NaN</td>\n",
       "      <td>yellow</td>\n",
       "      <td>NaN</td>\n",
       "      <td>NaN</td>\n",
       "      <td>4.920353</td>\n",
       "    </tr>\n",
       "    <tr>\n",
       "      <th>4</th>\n",
       "      <td>289</td>\n",
       "      <td>489070.875000</td>\n",
       "      <td>333051.796875</td>\n",
       "      <td>395</td>\n",
       "      <td>156019.078125</td>\n",
       "      <td>371</td>\n",
       "      <td>NaN</td>\n",
       "      <td>NaN</td>\n",
       "      <td>yellow</td>\n",
       "      <td>NaN</td>\n",
       "      <td>NaN</td>\n",
       "      <td>2.020637</td>\n",
       "    </tr>\n",
       "  </tbody>\n",
       "</table>\n",
       "</div>"
      ],
      "text/plain": [
       "   ant_id     crop_after    crop_before  feeding_end  feeding_size_intensity  \\\n",
       "0      76  210171.501709       0.000000           58           210171.501709   \n",
       "1     148  321006.945312       0.000000          128           321006.945312   \n",
       "2     289  493876.082275       0.000000          304           493876.082275   \n",
       "3     392  441520.468750  120736.955469          206           320783.513281   \n",
       "4     289  489070.875000  333051.796875          395           156019.078125   \n",
       "\n",
       "   feeding_start  first_interaction_after_partner  \\\n",
       "0              4                              NaN   \n",
       "1             48                              NaN   \n",
       "2            133                              NaN   \n",
       "3            159                              NaN   \n",
       "4            371                              NaN   \n",
       "\n",
       "   first_interaction_after_start food_source  last_interaction_before_end  \\\n",
       "0                            NaN      yellow                          NaN   \n",
       "1                            NaN      yellow                          NaN   \n",
       "2                            NaN      yellow                          NaN   \n",
       "3                            NaN      yellow                          NaN   \n",
       "4                            NaN      yellow                          NaN   \n",
       "\n",
       "   last_interaction_before_partner  feeding_size_ul  \n",
       "0                              NaN         4.513998  \n",
       "1                              NaN         5.128422  \n",
       "2                              NaN         6.396295  \n",
       "3                              NaN         4.920353  \n",
       "4                              NaN         2.020637  "
      ]
     },
     "execution_count": 55,
     "metadata": {},
     "output_type": "execute_result"
    }
   ],
   "source": [
    "fdata.head()"
   ]
  },
  {
   "cell_type": "code",
   "execution_count": 56,
   "id": "239d480f",
   "metadata": {},
   "outputs": [
    {
     "data": {
      "text/plain": [
       "30"
      ]
     },
     "execution_count": 56,
     "metadata": {},
     "output_type": "execute_result"
    }
   ],
   "source": []
  },
  {
   "cell_type": "markdown",
   "id": "d109ebbf",
   "metadata": {},
   "source": [
    "# All foragers"
   ]
  },
  {
   "cell_type": "code",
   "execution_count": 194,
   "id": "14b44215",
   "metadata": {},
   "outputs": [
    {
     "data": {
      "text/plain": [
       "6    1235\n",
       "5    1124\n",
       "0    1299\n",
       "2     386\n",
       "4      61\n",
       "1     236\n",
       "7     150\n",
       "3     424\n",
       "8     673\n",
       "Name: ant, dtype: int64"
      ]
     },
     "execution_count": 194,
     "metadata": {},
     "output_type": "execute_result"
    }
   ],
   "source": [
    "foragers = list(ants['ant_id'][ants['is_forager']])\n",
    "\n",
    "foragers_df = pd.DataFrame()\n",
    "num_feedings=[]\n",
    "num_yellow_feedings=[]\n",
    "# sort foragers by number of feedings and then by number of yellow feedings\n",
    "for ant in foragers:\n",
    "    ant_fdata=fdata[fdata['ant_id']==ant]\n",
    "    num_feedings.append(len(ant_fdata))\n",
    "    num_yellow_feedings.append(sum(ant_fdata['food_source']=='yellow'))\n",
    "\n",
    "foragers_df['ant']=foragers\n",
    "foragers_df['num_feedings']=num_feedings\n",
    "foragers_df['num_yellow_feedings']=num_yellow_feedings\n",
    "\n",
    "foragers_df.sort_values(by=['num_feedings','num_yellow_feedings'],inplace=True,ascending=False)\n",
    "sorted_foragers=foragers_df['ant']\n",
    "sorted_foragers"
   ]
  },
  {
   "cell_type": "code",
   "execution_count": 195,
   "id": "ed2b80e0",
   "metadata": {},
   "outputs": [
    {
     "name": "stderr",
     "output_type": "stream",
     "text": [
      "C:\\Users\\liorba\\Anaconda3\\lib\\site-packages\\ipykernel_launcher.py:22: SettingWithCopyWarning: \n",
      "A value is trying to be set on a copy of a slice from a DataFrame\n",
      "\n",
      "See the caveats in the documentation: https://pandas.pydata.org/pandas-docs/stable/user_guide/indexing.html#returning-a-view-versus-a-copy\n",
      "C:\\Users\\liorba\\Anaconda3\\lib\\site-packages\\ipykernel_launcher.py:23: SettingWithCopyWarning: \n",
      "A value is trying to be set on a copy of a slice from a DataFrame\n",
      "\n",
      "See the caveats in the documentation: https://pandas.pydata.org/pandas-docs/stable/user_guide/indexing.html#returning-a-view-versus-a-copy\n"
     ]
    },
    {
     "data": {
      "text/plain": [
       "Text(0.5, 0.98, 'Exp. 20')"
      ]
     },
     "execution_count": 195,
     "metadata": {},
     "output_type": "execute_result"
    }
   ],
   "source": [
    "fig,ax = plt.subplots(len(foragers),1,figsize=[12, 12],sharex=True)\n",
    "\n",
    "counter=0                      \n",
    "for ant in sorted_foragers:\n",
    "    \n",
    "    ant_data = get_ant_data(ant, bdata, crops, tdata, transparency, dt=dt, fdata=fdata, conversion_factors=conversion_factors)\n",
    "    \n",
    "    behavior_df = pd.DataFrame()\n",
    "    behavior_df = classify_interactions(behavior_df, ant_data, min_volume)\n",
    "    behavior_df = insert_feedings(behavior_df, ant_data)\n",
    "    merged_df = merge_consecutive_events(behavior_df, 70)\n",
    "    \n",
    "    unloading_periods = merged_df.apply(is_unloading,axis=1,args=(ant_data['crop_df'], min_volume))\n",
    "    merged_df['behavior'][unloading_periods]='unloading'\n",
    "    merged_df['next_behavior']=merged_df['behavior'].shift(-1)\n",
    "    merged_df['next_start']=merged_df['start_frame'].shift(-1)\n",
    "    merged_df['next_end']=merged_df['end_frame'].shift(-1)\n",
    "    \n",
    "    combined_behaviors=[]\n",
    "    rows_to_drop=[]\n",
    "    for idx, behavior in merged_df.iterrows():\n",
    "        combined_behavior=behavior[['start_frame','end_frame','behavior']]\n",
    "        if behavior['behavior'].endswith('feeding') & (behavior['next_behavior']=='unloading') & ((behavior['next_start']-behavior['end_frame'])<smoothing_window):\n",
    "            combined_behavior['behavior']=behavior['behavior'].replace('feeding','bout')\n",
    "            combined_behavior['end_frame'] = behavior['next_end']\n",
    "            rows_to_drop.append(idx+1)\n",
    "        combined_behaviors.append(combined_behavior)\n",
    "\n",
    "    combined_df=pd.concat(combined_behaviors,axis=1).transpose()\n",
    "    combined_df=combined_df.drop(index=rows_to_drop)\n",
    "                      \n",
    "    for idx, event in combined_df.iterrows():\n",
    "        plot_event(ax[counter] ,event['start_frame'], event['end_frame'],colors_dict[event['behavior']], alpha_dict[event['behavior']])\n",
    "    \n",
    "    ax[counter].set_yticks([])\n",
    "    ax[counter].set_xlim([0, bdata['frame'].iloc[-1]])\n",
    "    ax[counter].set_ylabel(ant,rotation=0)\n",
    "    ax[counter].yaxis.set_label_coords(-0.025,0.35)\n",
    "                      \n",
    "    counter+=1\n",
    "    \n",
    "fig.suptitle(f\"Exp. {exp_num}\")"
   ]
  },
  {
   "cell_type": "markdown",
   "id": "fce3c0e8",
   "metadata": {},
   "source": [
    "## Non-event intervals"
   ]
  },
  {
   "cell_type": "code",
   "execution_count": 196,
   "id": "2874da82",
   "metadata": {},
   "outputs": [],
   "source": [
    "interval_starts, interval_ends, all_events = get_intervals_between_events(ant_data)"
   ]
  },
  {
   "cell_type": "code",
   "execution_count": 215,
   "id": "c1ecdf82",
   "metadata": {},
   "outputs": [
    {
     "data": {
      "text/plain": [
       "[<matplotlib.lines.Line2D at 0x1f13c32ad88>]"
      ]
     },
     "execution_count": 215,
     "metadata": {},
     "output_type": "execute_result"
    }
   ],
   "source": [
    "%matplotlib qt\n",
    "fig,ax = plt.subplots(figsize=[18, 4])\n",
    "for idx, event in ant_data['feedings'].iterrows():\n",
    "    plot_event(ax,event['feeding_start'], event['feeding_end'],event['food_source'], 0.3)\n",
    "for idx, event in ant_data['interactions'].iterrows():\n",
    "            plot_event(ax,event['start_frame'], event['end_frame'],'0.5', 0.2)\n",
    "for t0,t1 in zip(interval_starts, interval_ends):\n",
    "    plot_event(ax,t0,t1,'blue',0.2)\n",
    "plt.plot(ant_data['v']/ant_data['v'].max(skipna=True))\n",
    "plt.plot(ant_data['v']>min_move,'ob')\n",
    "plt.plot(smoothed_moving,'r')\n",
    "plt.plot(np.ceil(smoothed_moving),'ok')"
   ]
  },
  {
   "cell_type": "code",
   "execution_count": 214,
   "id": "62aaf96d",
   "metadata": {},
   "outputs": [
    {
     "data": {
      "text/plain": [
       "[<matplotlib.lines.Line2D at 0x1f13bbdca08>]"
      ]
     },
     "execution_count": 214,
     "metadata": {},
     "output_type": "execute_result"
    }
   ],
   "source": [
    "moving = ant_data['v']>40#min_move\n",
    "smoothed_moving = np.ceil(moving.rolling(70, min_periods=1, center=True).mean()) #smoothing_window\n",
    "\n",
    "for idx,event in all_events.iterrows():\n",
    "    smoothed_moving.iloc[int(event['start_frame']):int(event['end_frame'])]=0\n",
    "\n",
    "fig = plt.figure(figsize=[18, 4])\n",
    "plt.plot(ant_data['v']/ant_data['v'].max(skipna=True))\n",
    "plt.plot(ant_data['v']>min_move,'ob')\n",
    "plt.plot(smoothed_moving,'or')\n",
    "plt.plot(np.ceil(smoothed_moving),'ok')"
   ]
  },
  {
   "cell_type": "code",
   "execution_count": 211,
   "id": "a61fb0d7",
   "metadata": {},
   "outputs": [
    {
     "data": {
      "text/plain": [
       "50"
      ]
     },
     "execution_count": 211,
     "metadata": {},
     "output_type": "execute_result"
    }
   ],
   "source": [
    "def get_moving_and_resting_in_interval(interval_start, interval_end, raw_moving, smoothing_window):\n",
    "    raw_moving = raw_moving.iloc[int(interval_start):int(interval_end)]\n",
    "    \n",
    "    changes = np.diff(np.multiply(raw_moving,1))\n",
    "    resting_starts=np.argwhere(changes==-1).flatten()\n",
    "    moving_starts=np.argwhere(changes==1).flatten()\n",
    "    initial_state = raw_moving[0]\n",
    "    \n",
    "    \n",
    "    # if no changes, the whole interval is the initial state\n",
    "    if ~np.any(changes):\n",
    "        if initial_state:\n",
    "            moving_starts.append(interval_start)\n",
    "            moving_ends.append(interval_end)\n",
    "        else:\n",
    "            resting_starts.append(interval_start)\n",
    "            resting_ends.append(interval_end)\n",
    "    \n",
    "    # if there are changes\n",
    "    else:\n",
    "        # treat edges\n",
    "        if resting_starts[0]>moving_starts[0]:\n",
    "            resting_starts=np.insert(resting_starts,0,interval_start)\n",
    "        if resting_starts[-1]>moving_starts[-1]:\n",
    "            moving_starts=np.append(moving_starts,interval_end)\n",
    "            \n",
    "        # remove resting shorter than smoothin\n",
    "            \n",
    "    \n",
    "    \n",
    "    return moving_starts, moving_ends, resting_starts, resting_ends\n",
    "            \n",
    "    "
   ]
  },
  {
   "cell_type": "code",
   "execution_count": 259,
   "id": "76a40988",
   "metadata": {},
   "outputs": [],
   "source": [
    "def get_moving_and_resting_intervals(raw_moving, smoothing_window, interval_starts, interval_ends):\n",
    "    \n",
    "    # get \"resting start\"s and \"moving start\"s\n",
    "    changes = np.diff(np.multiply(raw_moving,1))\n",
    "    resting_starts=np.argwhere(changes==-1).flatten()\n",
    "    moving_starts=np.argwhere(changes==1).flatten()\n",
    "    if ~raw_moving.iloc[0]:\n",
    "        resting_starts=np.insert(resting_starts,0,0)\n",
    "    \n",
    "    if len(resting_starts)>len(moving_starts):\n",
    "        moving_starts = np.append(moving_starts,raw_moving.index[-1])\n",
    "    \n",
    "    if len(resting_starts)<len(moving_starts):\n",
    "        moving_starts = moving_starts[1:]\n",
    "    \n",
    "    # for every \"resting start\", check if next \"moving start\" is within smoothing_window.\n",
    "    # if yes: remove this resting start and moving start\n",
    "    idxs_to_remove=[]\n",
    "    counter=0\n",
    "    for r_start, m_start in zip(resting_starts, moving_starts):\n",
    "        if (m_start-r_start) < smoothing_window:\n",
    "            idxs_to_remove.append(counter)\n",
    "        counter+=1\n",
    "    moving_starts=np.delete(moving_starts,idxs_to_remove)\n",
    "    resting_starts=np.delete(resting_starts,idxs_to_remove)\n",
    "    \n",
    "    resting_ends=moving_starts-1\n",
    "    \n",
    "    if resting_starts[0]>0:\n",
    "        moving_starts = np.insert(moving_starts,0,0)\n",
    "        moving_ends=resting_starts-1\n",
    "    else:\n",
    "    \n",
    "            \n",
    "    \n",
    "    return moving_starts, resting_starts"
   ]
  },
  {
   "cell_type": "code",
   "execution_count": 243,
   "id": "4a943667",
   "metadata": {},
   "outputs": [
    {
     "data": {
      "text/plain": [
       "10856"
      ]
     },
     "execution_count": 243,
     "metadata": {},
     "output_type": "execute_result"
    }
   ],
   "source": [
    "moving.index[-1]"
   ]
  },
  {
   "cell_type": "code",
   "execution_count": 219,
   "id": "2e533ced",
   "metadata": {},
   "outputs": [
    {
     "data": {
      "text/plain": [
       "array([False,  True, False, False,  True])"
      ]
     },
     "execution_count": 219,
     "metadata": {},
     "output_type": "execute_result"
    }
   ],
   "source": [
    "np.diff([True, True, False, False, False, True])"
   ]
  },
  {
   "cell_type": "code",
   "execution_count": 221,
   "id": "77ee1d8a",
   "metadata": {},
   "outputs": [
    {
     "data": {
      "text/plain": [
       "[True, True, False, False, False, True]"
      ]
     },
     "execution_count": 221,
     "metadata": {},
     "output_type": "execute_result"
    }
   ],
   "source": [
    "[True, True, False, False, False, True]*1"
   ]
  },
  {
   "cell_type": "code",
   "execution_count": 223,
   "id": "b8a9a062",
   "metadata": {},
   "outputs": [
    {
     "data": {
      "text/plain": [
       "array([1, 1, 0, 0, 0, 1])"
      ]
     },
     "execution_count": 223,
     "metadata": {},
     "output_type": "execute_result"
    }
   ],
   "source": [
    "np.multiply([True, True, False, False, False, True],1)"
   ]
  },
  {
   "cell_type": "code",
   "execution_count": 230,
   "id": "4f601e02",
   "metadata": {},
   "outputs": [
    {
     "data": {
      "text/plain": [
       "array([0, 0, 0, ..., 0, 0, 0], dtype=int32)"
      ]
     },
     "execution_count": 230,
     "metadata": {},
     "output_type": "execute_result"
    }
   ],
   "source": [
    "a = np.diff(np.multiply(moving,1))\n",
    "a"
   ]
  },
  {
   "cell_type": "code",
   "execution_count": 234,
   "id": "2fe97040",
   "metadata": {},
   "outputs": [
    {
     "data": {
      "text/plain": [
       "-1"
      ]
     },
     "execution_count": 234,
     "metadata": {},
     "output_type": "execute_result"
    }
   ],
   "source": [
    "a[76]"
   ]
  },
  {
   "cell_type": "code",
   "execution_count": 236,
   "id": "f4531f0c",
   "metadata": {},
   "outputs": [
    {
     "data": {
      "text/plain": [
       "array([   39,    76,    90,   219,   328,   378,   398,   426,   439,\n",
       "         610,   620,   657,   667,   685,   702,   704,   717,   728,\n",
       "         736,   746,   758,   762,   785,   816,   820,   839,   864,\n",
       "         872,  1078,  1116,  1127,  1206,  1221,  1239,  1242,  1442,\n",
       "        1690,  1925,  1958,  2149,  2179,  2181,  2425,  2827,  2884,\n",
       "        2909,  2915,  2918,  2935,  2959,  3504,  3510,  3538,  3559,\n",
       "        3575,  3983,  4380,  4685,  4708,  4722,  4727,  4734,  4748,\n",
       "        5190,  5786,  5812,  5897,  6611,  6622,  6641,  6657,  6815,\n",
       "        6827,  7001,  7331,  7350,  7521,  7584,  7602,  7611,  7613,\n",
       "        7842,  7852,  8174,  8217,  8237,  8551,  8565,  8579,  8590,\n",
       "        8703,  8716,  8749,  9761,  9788,  9801,  9807,  9810,  9824,\n",
       "       10824, 10847], dtype=int64)"
      ]
     },
     "execution_count": 236,
     "metadata": {},
     "output_type": "execute_result"
    }
   ],
   "source": [
    "j = np.argwhere(a==-1).flatten()\n",
    "j"
   ]
  },
  {
   "cell_type": "code",
   "execution_count": 239,
   "id": "22a360e4",
   "metadata": {},
   "outputs": [
    {
     "data": {
      "text/plain": [
       "array([    0,    39,    76,    90,   219,   328,   378,   398,   426,\n",
       "         439,   610,   620,   657,   667,   685,   702,   704,   717,\n",
       "         728,   736,   746,   758,   762,   785,   816,   820,   839,\n",
       "         864,   872,  1078,  1116,  1127,  1206,  1221,  1239,  1242,\n",
       "        1442,  1690,  1925,  1958,  2149,  2179,  2181,  2425,  2827,\n",
       "        2884,  2909,  2915,  2918,  2935,  2959,  3504,  3510,  3538,\n",
       "        3559,  3575,  3983,  4380,  4685,  4708,  4722,  4727,  4734,\n",
       "        4748,  5190,  5786,  5812,  5897,  6611,  6622,  6641,  6657,\n",
       "        6815,  6827,  7001,  7331,  7350,  7521,  7584,  7602,  7611,\n",
       "        7613,  7842,  7852,  8174,  8217,  8237,  8551,  8565,  8579,\n",
       "        8590,  8703,  8716,  8749,  9761,  9788,  9801,  9807,  9810,\n",
       "        9824, 10824, 10847], dtype=int64)"
      ]
     },
     "execution_count": 239,
     "metadata": {},
     "output_type": "execute_result"
    }
   ],
   "source": [
    "np.insert(j, 0, 0)"
   ]
  },
  {
   "cell_type": "code",
   "execution_count": 240,
   "id": "f5d43db3",
   "metadata": {},
   "outputs": [
    {
     "ename": "AttributeError",
     "evalue": "'numpy.ndarray' object has no attribute 'insert'",
     "output_type": "error",
     "traceback": [
      "\u001b[1;31m---------------------------------------------------------------------------\u001b[0m",
      "\u001b[1;31mAttributeError\u001b[0m                            Traceback (most recent call last)",
      "\u001b[1;32m<ipython-input-240-c00fc4fc7126>\u001b[0m in \u001b[0;36m<module>\u001b[1;34m\u001b[0m\n\u001b[1;32m----> 1\u001b[1;33m \u001b[0mj\u001b[0m\u001b[1;33m.\u001b[0m\u001b[0minsert\u001b[0m\u001b[1;33m(\u001b[0m\u001b[1;36m0\u001b[0m\u001b[1;33m,\u001b[0m\u001b[1;36m0\u001b[0m\u001b[1;33m)\u001b[0m\u001b[1;33m\u001b[0m\u001b[1;33m\u001b[0m\u001b[0m\n\u001b[0m",
      "\u001b[1;31mAttributeError\u001b[0m: 'numpy.ndarray' object has no attribute 'insert'"
     ]
    }
   ],
   "source": [
    "j.insert(0,0)"
   ]
  },
  {
   "cell_type": "code",
   "execution_count": 241,
   "id": "26903c60",
   "metadata": {},
   "outputs": [
    {
     "ename": "AttributeError",
     "evalue": "'numpy.ndarray' object has no attribute 'append'",
     "output_type": "error",
     "traceback": [
      "\u001b[1;31m---------------------------------------------------------------------------\u001b[0m",
      "\u001b[1;31mAttributeError\u001b[0m                            Traceback (most recent call last)",
      "\u001b[1;32m<ipython-input-241-0b858bc73362>\u001b[0m in \u001b[0;36m<module>\u001b[1;34m\u001b[0m\n\u001b[1;32m----> 1\u001b[1;33m \u001b[0mj\u001b[0m\u001b[1;33m.\u001b[0m\u001b[0mappend\u001b[0m\u001b[1;33m(\u001b[0m\u001b[1;36m11000\u001b[0m\u001b[1;33m)\u001b[0m\u001b[1;33m\u001b[0m\u001b[1;33m\u001b[0m\u001b[0m\n\u001b[0m",
      "\u001b[1;31mAttributeError\u001b[0m: 'numpy.ndarray' object has no attribute 'append'"
     ]
    }
   ],
   "source": [
    "j.append(11000)"
   ]
  },
  {
   "cell_type": "code",
   "execution_count": 242,
   "id": "bd8008cf",
   "metadata": {},
   "outputs": [
    {
     "data": {
      "text/plain": [
       "array([   39,    76,    90,   219,   328,   378,   398,   426,   439,\n",
       "         610,   620,   657,   667,   685,   702,   704,   717,   728,\n",
       "         736,   746,   758,   762,   785,   816,   820,   839,   864,\n",
       "         872,  1078,  1116,  1127,  1206,  1221,  1239,  1242,  1442,\n",
       "        1690,  1925,  1958,  2149,  2179,  2181,  2425,  2827,  2884,\n",
       "        2909,  2915,  2918,  2935,  2959,  3504,  3510,  3538,  3559,\n",
       "        3575,  3983,  4380,  4685,  4708,  4722,  4727,  4734,  4748,\n",
       "        5190,  5786,  5812,  5897,  6611,  6622,  6641,  6657,  6815,\n",
       "        6827,  7001,  7331,  7350,  7521,  7584,  7602,  7611,  7613,\n",
       "        7842,  7852,  8174,  8217,  8237,  8551,  8565,  8579,  8590,\n",
       "        8703,  8716,  8749,  9761,  9788,  9801,  9807,  9810,  9824,\n",
       "       10824, 10847, 11000], dtype=int64)"
      ]
     },
     "execution_count": 242,
     "metadata": {},
     "output_type": "execute_result"
    }
   ],
   "source": [
    "np.append(j,11000)"
   ]
  },
  {
   "cell_type": "code",
   "execution_count": 260,
   "id": "ad3ae1e9",
   "metadata": {},
   "outputs": [
    {
     "data": {
      "text/plain": [
       "array([   10,    41,    81,   210,   324,   352,   379,   416,   438,\n",
       "         609,   619,   645,   663,   676,   697,   703,   706,   719,\n",
       "         731,   738,   756,   760,   774,   794,   818,   828,   848,\n",
       "         871,  1077,  1099,  1117,  1203,  1211,  1223,  1240,  1427,\n",
       "        1643,  1917,  1949,  2136,  2154,  2180,  2418,  2817,  2861,\n",
       "        2906,  2910,  2916,  2932,  2939,  3493,  3508,  3527,  3544,\n",
       "        3566,  3978,  4372,  4666,  4690,  4720,  4724,  4733,  4737,\n",
       "        5180,  5762,  5804,  5875,  6601,  6618,  6626,  6646,  6797,\n",
       "        6817,  6981,  7330,  7339,  7511,  7561,  7587,  7609,  7612,\n",
       "        7841,  7849,  8168,  8190,  8227,  8531,  8555,  8568,  8581,\n",
       "        8697,  8704,  8737,  9755,  9777,  9792,  9806,  9809,  9815,\n",
       "       10815, 10846, 10851], dtype=int64)"
      ]
     },
     "execution_count": 260,
     "metadata": {},
     "output_type": "execute_result"
    }
   ],
   "source": [
    "moving_starts, resting_starts = get_moving_and_resting_intervals(moving, smoothing_window, [])\n",
    "moving_starts\n",
    "   "
   ]
  },
  {
   "cell_type": "code",
   "execution_count": 261,
   "id": "c0d75a07",
   "metadata": {},
   "outputs": [
    {
     "data": {
      "text/plain": [
       "array([    0,    39,    76,    90,   219,   328,   378,   398,   426,\n",
       "         439,   610,   620,   657,   667,   685,   702,   704,   717,\n",
       "         728,   736,   746,   758,   762,   785,   816,   820,   839,\n",
       "         864,   872,  1078,  1116,  1127,  1206,  1221,  1239,  1242,\n",
       "        1442,  1690,  1925,  1958,  2149,  2179,  2181,  2425,  2827,\n",
       "        2884,  2909,  2915,  2918,  2935,  2959,  3504,  3510,  3538,\n",
       "        3559,  3575,  3983,  4380,  4685,  4708,  4722,  4727,  4734,\n",
       "        4748,  5190,  5786,  5812,  5897,  6611,  6622,  6641,  6657,\n",
       "        6815,  6827,  7001,  7331,  7350,  7521,  7584,  7602,  7611,\n",
       "        7613,  7842,  7852,  8174,  8217,  8237,  8551,  8565,  8579,\n",
       "        8590,  8703,  8716,  8749,  9761,  9788,  9801,  9807,  9810,\n",
       "        9824, 10824, 10847], dtype=int64)"
      ]
     },
     "execution_count": 261,
     "metadata": {},
     "output_type": "execute_result"
    }
   ],
   "source": [
    "resting_starts"
   ]
  },
  {
   "cell_type": "code",
   "execution_count": 265,
   "id": "3d589cd7",
   "metadata": {},
   "outputs": [
    {
     "data": {
      "text/plain": [
       "[1, 2, 3, 4]"
      ]
     },
     "execution_count": 265,
     "metadata": {},
     "output_type": "execute_result"
    }
   ],
   "source": [
    "a=[1,2,3]\n",
    "a.append(4)\n",
    "a"
   ]
  },
  {
   "cell_type": "code",
   "execution_count": 268,
   "id": "c841e4ea",
   "metadata": {},
   "outputs": [
    {
     "data": {
      "text/plain": [
       "array([   76,    90,   219,   328,   378,   398,   426,   439,   610,\n",
       "         620,   657,   667,   685,   702,   704,   717,   728,   736,\n",
       "         746,   758,   762,   785,   816,   820,   839,   864,   872,\n",
       "        1078,  1116,  1127,  1206,  1221,  1239,  1242,  1442,  1690,\n",
       "        1925,  1958,  2149,  2179,  2181,  2425,  2827,  2884,  2909,\n",
       "        2915,  2918,  2935,  2959,  3504,  3510,  3538,  3559,  3575,\n",
       "        3983,  4380,  4685,  4708,  4722,  4727,  4734,  4748,  5190,\n",
       "        5786,  5812,  5897,  6611,  6622,  6641,  6657,  6815,  6827,\n",
       "        7001,  7331,  7350,  7521,  7584,  7602,  7611,  7613,  7842,\n",
       "        7852,  8174,  8217,  8237,  8551,  8565,  8579,  8590,  8703,\n",
       "        8716,  8749,  9761,  9788,  9801,  9807,  9810,  9824, 10824,\n",
       "       10847], dtype=int64)"
      ]
     },
     "execution_count": 268,
     "metadata": {},
     "output_type": "execute_result"
    }
   ],
   "source": [
    "np.delete(resting_starts,[0,1])"
   ]
  },
  {
   "cell_type": "code",
   "execution_count": 269,
   "id": "abb0483d",
   "metadata": {},
   "outputs": [
    {
     "data": {
      "text/plain": [
       "array([0, 0])"
      ]
     },
     "execution_count": 269,
     "metadata": {},
     "output_type": "execute_result"
    }
   ],
   "source": [
    "a = [1,1,1]\n",
    "np.diff(a)"
   ]
  },
  {
   "cell_type": "code",
   "execution_count": 270,
   "id": "3f4c4253",
   "metadata": {},
   "outputs": [
    {
     "data": {
      "text/plain": [
       "False"
      ]
     },
     "execution_count": 270,
     "metadata": {},
     "output_type": "execute_result"
    }
   ],
   "source": [
    "np.any(np.diff(a))\n"
   ]
  },
  {
   "cell_type": "code",
   "execution_count": null,
   "id": "9a1260e8",
   "metadata": {},
   "outputs": [],
   "source": []
  }
 ],
 "metadata": {
  "kernelspec": {
   "display_name": "Python 3",
   "language": "python",
   "name": "python3"
  },
  "language_info": {
   "codemirror_mode": {
    "name": "ipython",
    "version": 3
   },
   "file_extension": ".py",
   "mimetype": "text/x-python",
   "name": "python",
   "nbconvert_exporter": "python",
   "pygments_lexer": "ipython3",
   "version": "3.7.4"
  }
 },
 "nbformat": 4,
 "nbformat_minor": 5
}
