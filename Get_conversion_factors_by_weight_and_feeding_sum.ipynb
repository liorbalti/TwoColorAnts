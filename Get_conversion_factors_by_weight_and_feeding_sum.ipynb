{
 "cells": [
  {
   "cell_type": "code",
   "execution_count": 2,
   "metadata": {},
   "outputs": [],
   "source": [
    "import numpy as np\n",
    "import pandas as pd\n",
    "from os import sep as sep"
   ]
  },
  {
   "cell_type": "code",
   "execution_count": 3,
   "metadata": {},
   "outputs": [],
   "source": [
    "exp_path = r\"Y:\\Lior&Einav\\Experiments\\experiment11_140720\""
   ]
  },
  {
   "cell_type": "code",
   "execution_count": 4,
   "metadata": {},
   "outputs": [],
   "source": [
    "fdata = pd.read_csv(exp_path+sep+'forager_table_with_feeding_sizes.csv')\n",
    "weights = pd.read_excel(exp_path+sep+'weights.xlsx')"
   ]
  },
  {
   "cell_type": "code",
   "execution_count": 5,
   "metadata": {},
   "outputs": [
    {
     "data": {
      "text/html": [
       "<div>\n",
       "<style scoped>\n",
       "    .dataframe tbody tr th:only-of-type {\n",
       "        vertical-align: middle;\n",
       "    }\n",
       "\n",
       "    .dataframe tbody tr th {\n",
       "        vertical-align: top;\n",
       "    }\n",
       "\n",
       "    .dataframe thead th {\n",
       "        text-align: right;\n",
       "    }\n",
       "</style>\n",
       "<table border=\"1\" class=\"dataframe\">\n",
       "  <thead>\n",
       "    <tr style=\"text-align: right;\">\n",
       "      <th></th>\n",
       "      <th>ant_id</th>\n",
       "      <th>feeding_start</th>\n",
       "      <th>feeding_end</th>\n",
       "      <th>food_source</th>\n",
       "      <th>last_interaction_before_end</th>\n",
       "      <th>last_interaction_before_partner</th>\n",
       "      <th>first_interaction_after_start</th>\n",
       "      <th>first_interaction_after_partner</th>\n",
       "      <th>crop_before</th>\n",
       "      <th>crop_after</th>\n",
       "      <th>feeding_size_intensity</th>\n",
       "    </tr>\n",
       "  </thead>\n",
       "  <tbody>\n",
       "    <tr>\n",
       "      <th>0</th>\n",
       "      <td>76</td>\n",
       "      <td>48</td>\n",
       "      <td>102</td>\n",
       "      <td>yellow</td>\n",
       "      <td>43</td>\n",
       "      <td>-1</td>\n",
       "      <td>116</td>\n",
       "      <td>392</td>\n",
       "      <td>169935.671875</td>\n",
       "      <td>394976.556374</td>\n",
       "      <td>225040.884499</td>\n",
       "    </tr>\n",
       "    <tr>\n",
       "      <th>1</th>\n",
       "      <td>148</td>\n",
       "      <td>92</td>\n",
       "      <td>172</td>\n",
       "      <td>yellow</td>\n",
       "      <td>43</td>\n",
       "      <td>-1</td>\n",
       "      <td>277</td>\n",
       "      <td>76</td>\n",
       "      <td>60206.528134</td>\n",
       "      <td>339347.484375</td>\n",
       "      <td>279140.956241</td>\n",
       "    </tr>\n",
       "    <tr>\n",
       "      <th>2</th>\n",
       "      <td>289</td>\n",
       "      <td>177</td>\n",
       "      <td>348</td>\n",
       "      <td>yellow</td>\n",
       "      <td>43</td>\n",
       "      <td>-1</td>\n",
       "      <td>361</td>\n",
       "      <td>72</td>\n",
       "      <td>6457.684912</td>\n",
       "      <td>602614.614376</td>\n",
       "      <td>596156.929464</td>\n",
       "    </tr>\n",
       "    <tr>\n",
       "      <th>3</th>\n",
       "      <td>392</td>\n",
       "      <td>203</td>\n",
       "      <td>250</td>\n",
       "      <td>yellow</td>\n",
       "      <td>158</td>\n",
       "      <td>76</td>\n",
       "      <td>294</td>\n",
       "      <td>95</td>\n",
       "      <td>127725.829687</td>\n",
       "      <td>454063.550000</td>\n",
       "      <td>326337.720313</td>\n",
       "    </tr>\n",
       "    <tr>\n",
       "      <th>4</th>\n",
       "      <td>289</td>\n",
       "      <td>415</td>\n",
       "      <td>439</td>\n",
       "      <td>yellow</td>\n",
       "      <td>383</td>\n",
       "      <td>72</td>\n",
       "      <td>476</td>\n",
       "      <td>36</td>\n",
       "      <td>359116.687500</td>\n",
       "      <td>553075.133774</td>\n",
       "      <td>193958.446274</td>\n",
       "    </tr>\n",
       "  </tbody>\n",
       "</table>\n",
       "</div>"
      ],
      "text/plain": [
       "   ant_id  feeding_start  feeding_end food_source  \\\n",
       "0      76             48          102      yellow   \n",
       "1     148             92          172      yellow   \n",
       "2     289            177          348      yellow   \n",
       "3     392            203          250      yellow   \n",
       "4     289            415          439      yellow   \n",
       "\n",
       "   last_interaction_before_end last_interaction_before_partner  \\\n",
       "0                           43                              -1   \n",
       "1                           43                              -1   \n",
       "2                           43                              -1   \n",
       "3                          158                              76   \n",
       "4                          383                              72   \n",
       "\n",
       "   first_interaction_after_start first_interaction_after_partner  \\\n",
       "0                            116                             392   \n",
       "1                            277                              76   \n",
       "2                            361                              72   \n",
       "3                            294                              95   \n",
       "4                            476                              36   \n",
       "\n",
       "     crop_before     crop_after  feeding_size_intensity  \n",
       "0  169935.671875  394976.556374           225040.884499  \n",
       "1   60206.528134  339347.484375           279140.956241  \n",
       "2    6457.684912  602614.614376           596156.929464  \n",
       "3  127725.829687  454063.550000           326337.720313  \n",
       "4  359116.687500  553075.133774           193958.446274  "
      ]
     },
     "execution_count": 5,
     "metadata": {},
     "output_type": "execute_result"
    }
   ],
   "source": [
    "fdata.head()"
   ]
  },
  {
   "cell_type": "code",
   "execution_count": 6,
   "metadata": {},
   "outputs": [
    {
     "data": {
      "text/html": [
       "<div>\n",
       "<style scoped>\n",
       "    .dataframe tbody tr th:only-of-type {\n",
       "        vertical-align: middle;\n",
       "    }\n",
       "\n",
       "    .dataframe tbody tr th {\n",
       "        vertical-align: top;\n",
       "    }\n",
       "\n",
       "    .dataframe thead th {\n",
       "        text-align: right;\n",
       "    }\n",
       "</style>\n",
       "<table border=\"1\" class=\"dataframe\">\n",
       "  <thead>\n",
       "    <tr style=\"text-align: right;\">\n",
       "      <th></th>\n",
       "      <th>food</th>\n",
       "      <th>before_g</th>\n",
       "      <th>after_g</th>\n",
       "      <th>color</th>\n",
       "      <th>type</th>\n",
       "    </tr>\n",
       "  </thead>\n",
       "  <tbody>\n",
       "    <tr>\n",
       "      <th>0</th>\n",
       "      <td>1_2</td>\n",
       "      <td>7.42178</td>\n",
       "      <td>6.98640</td>\n",
       "      <td>yellow</td>\n",
       "      <td>treatment</td>\n",
       "    </tr>\n",
       "    <tr>\n",
       "      <th>1</th>\n",
       "      <td>1_2_control</td>\n",
       "      <td>7.45094</td>\n",
       "      <td>7.38830</td>\n",
       "      <td>yellow</td>\n",
       "      <td>control</td>\n",
       "    </tr>\n",
       "    <tr>\n",
       "      <th>2</th>\n",
       "      <td>3_1</td>\n",
       "      <td>7.50066</td>\n",
       "      <td>7.29342</td>\n",
       "      <td>red</td>\n",
       "      <td>treatment</td>\n",
       "    </tr>\n",
       "    <tr>\n",
       "      <th>3</th>\n",
       "      <td>3_1_control</td>\n",
       "      <td>7.42361</td>\n",
       "      <td>7.35877</td>\n",
       "      <td>red</td>\n",
       "      <td>control</td>\n",
       "    </tr>\n",
       "  </tbody>\n",
       "</table>\n",
       "</div>"
      ],
      "text/plain": [
       "          food  before_g  after_g   color       type\n",
       "0          1_2   7.42178  6.98640  yellow  treatment\n",
       "1  1_2_control   7.45094  7.38830  yellow    control\n",
       "2          3_1   7.50066  7.29342     red  treatment\n",
       "3  3_1_control   7.42361  7.35877     red    control"
      ]
     },
     "execution_count": 6,
     "metadata": {},
     "output_type": "execute_result"
    }
   ],
   "source": [
    "weights"
   ]
  },
  {
   "cell_type": "code",
   "execution_count": 38,
   "metadata": {},
   "outputs": [],
   "source": [
    "def get_consumed_weights(weights_df):\n",
    "    weights_df['difference'] = weights_df['before_g']-weights_df['after_g']\n",
    "    control_rows = weights_df['type']=='control'\n",
    "    treatment_rows = ~control_rows\n",
    "    evap = np.mean(weights_df['difference'][control_rows])\n",
    "    consumed_g = {}\n",
    "    for c in ['yellow','red']:\n",
    "        consumed_g[c] = weights_df.difference[treatment_rows & (weights_df['color']==c)].to_numpy()[0] - evap\n",
    "    return consumed_g\n",
    "    \n",
    "    "
   ]
  },
  {
   "cell_type": "code",
   "execution_count": 40,
   "metadata": {},
   "outputs": [
    {
     "data": {
      "text/plain": [
       "{'yellow': 0.3716400000000002, 'red': 0.14349999999999952}"
      ]
     },
     "execution_count": 40,
     "metadata": {},
     "output_type": "execute_result"
    }
   ],
   "source": [
    "consumed_g = get_consumed_weights(weights)\n",
    "consumed_g"
   ]
  },
  {
   "cell_type": "code",
   "execution_count": 43,
   "metadata": {},
   "outputs": [],
   "source": [
    "def get_consumed_intensities(feeding_df):\n",
    "    consumed_i = feeding_df['feeding_size_intensity'].groupby(fdata['food_source']).sum()\n",
    "    return consumed_i"
   ]
  },
  {
   "cell_type": "code",
   "execution_count": 45,
   "metadata": {},
   "outputs": [
    {
     "data": {
      "text/plain": [
       "food_source\n",
       "red       1.026401e+07\n",
       "yellow    2.178459e+07\n",
       "Name: feeding_size_intensity, dtype: float64"
      ]
     },
     "execution_count": 45,
     "metadata": {},
     "output_type": "execute_result"
    }
   ],
   "source": [
    "consumed_i = get_consumed_intensities(fdata)\n",
    "consumed_i"
   ]
  },
  {
   "cell_type": "code",
   "execution_count": 73,
   "metadata": {},
   "outputs": [],
   "source": [
    "def get_coversion_factors(consumed_i,consumed_g):\n",
    "    conversion_factors = {}\n",
    "    for c in ['red','yellow']:\n",
    "        ul = consumed_g[c]*1000\n",
    "        conversion_factors[c] = consumed_i[c]/ul\n",
    "    return pd.DataFrame([conversion_factors])"
   ]
  },
  {
   "cell_type": "code",
   "execution_count": 74,
   "metadata": {},
   "outputs": [
    {
     "data": {
      "text/html": [
       "<div>\n",
       "<style scoped>\n",
       "    .dataframe tbody tr th:only-of-type {\n",
       "        vertical-align: middle;\n",
       "    }\n",
       "\n",
       "    .dataframe tbody tr th {\n",
       "        vertical-align: top;\n",
       "    }\n",
       "\n",
       "    .dataframe thead th {\n",
       "        text-align: right;\n",
       "    }\n",
       "</style>\n",
       "<table border=\"1\" class=\"dataframe\">\n",
       "  <thead>\n",
       "    <tr style=\"text-align: right;\">\n",
       "      <th></th>\n",
       "      <th>red</th>\n",
       "      <th>yellow</th>\n",
       "    </tr>\n",
       "  </thead>\n",
       "  <tbody>\n",
       "    <tr>\n",
       "      <th>0</th>\n",
       "      <td>71526.233111</td>\n",
       "      <td>58617.440982</td>\n",
       "    </tr>\n",
       "  </tbody>\n",
       "</table>\n",
       "</div>"
      ],
      "text/plain": [
       "            red        yellow\n",
       "0  71526.233111  58617.440982"
      ]
     },
     "execution_count": 74,
     "metadata": {},
     "output_type": "execute_result"
    }
   ],
   "source": [
    "conversion_factors = get_coversion_factors(consumed_i,consumed_g)\n",
    "conversion_factors"
   ]
  },
  {
   "cell_type": "markdown",
   "metadata": {},
   "source": [
    "### write conversion factors"
   ]
  },
  {
   "cell_type": "code",
   "execution_count": 75,
   "metadata": {},
   "outputs": [],
   "source": [
    "conversion_factors.to_csv(exp_path+sep+'conversion_factors_by_weigth_and_feeding_sum.csv',index=False)"
   ]
  },
  {
   "cell_type": "code",
   "execution_count": null,
   "metadata": {},
   "outputs": [],
   "source": []
  },
  {
   "cell_type": "code",
   "execution_count": null,
   "metadata": {},
   "outputs": [],
   "source": []
  }
 ],
 "metadata": {
  "kernelspec": {
   "display_name": "Python 3",
   "language": "python",
   "name": "python3"
  },
  "language_info": {
   "codemirror_mode": {
    "name": "ipython",
    "version": 3
   },
   "file_extension": ".py",
   "mimetype": "text/x-python",
   "name": "python",
   "nbconvert_exporter": "python",
   "pygments_lexer": "ipython3",
   "version": "3.7.5"
  }
 },
 "nbformat": 4,
 "nbformat_minor": 2
}
