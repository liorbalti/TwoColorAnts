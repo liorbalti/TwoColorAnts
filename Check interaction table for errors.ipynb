{
 "cells": [
  {
   "cell_type": "code",
   "execution_count": 1,
   "metadata": {},
   "outputs": [],
   "source": [
    "import pandas as pd\n",
    "import numpy as np\n",
    "from Data import ExperimentData, InteractionData, AntData, ForagerData"
   ]
  },
  {
   "cell_type": "code",
   "execution_count": 2,
   "metadata": {},
   "outputs": [],
   "source": [
    "exp1 = ExperimentData(23, bdata_path='blob analysis normalized by white paper')"
   ]
  },
  {
   "cell_type": "code",
   "execution_count": 3,
   "metadata": {},
   "outputs": [
    {
     "data": {
      "text/html": [
       "<div>\n",
       "<style scoped>\n",
       "    .dataframe tbody tr th:only-of-type {\n",
       "        vertical-align: middle;\n",
       "    }\n",
       "\n",
       "    .dataframe tbody tr th {\n",
       "        vertical-align: top;\n",
       "    }\n",
       "\n",
       "    .dataframe thead th {\n",
       "        text-align: right;\n",
       "    }\n",
       "</style>\n",
       "<table border=\"1\" class=\"dataframe\">\n",
       "  <thead>\n",
       "    <tr style=\"text-align: right;\">\n",
       "      <th></th>\n",
       "      <th>vidnum</th>\n",
       "      <th>id</th>\n",
       "      <th>actual_ant1</th>\n",
       "      <th>actual_ant2</th>\n",
       "      <th>actual_start</th>\n",
       "      <th>actual_end</th>\n",
       "      <th>group</th>\n",
       "      <th>general_start_frame</th>\n",
       "      <th>general_end_frame</th>\n",
       "      <th>general_group_id</th>\n",
       "    </tr>\n",
       "  </thead>\n",
       "  <tbody>\n",
       "    <tr>\n",
       "      <th>1</th>\n",
       "      <td>1.0</td>\n",
       "      <td>31.0</td>\n",
       "      <td>521</td>\n",
       "      <td>408.0</td>\n",
       "      <td>142.0</td>\n",
       "      <td>147.0</td>\n",
       "      <td>1.0</td>\n",
       "      <td>101.0</td>\n",
       "      <td>106.0</td>\n",
       "      <td>1.0</td>\n",
       "    </tr>\n",
       "    <tr>\n",
       "      <th>2</th>\n",
       "      <td>1.0</td>\n",
       "      <td>NaN</td>\n",
       "      <td>421</td>\n",
       "      <td>408.0</td>\n",
       "      <td>145.0</td>\n",
       "      <td>147.0</td>\n",
       "      <td>1.0</td>\n",
       "      <td>104.0</td>\n",
       "      <td>106.0</td>\n",
       "      <td>1.0</td>\n",
       "    </tr>\n",
       "    <tr>\n",
       "      <th>3</th>\n",
       "      <td>1.0</td>\n",
       "      <td>NaN</td>\n",
       "      <td>421</td>\n",
       "      <td>521.0</td>\n",
       "      <td>145.0</td>\n",
       "      <td>153.0</td>\n",
       "      <td>1.0</td>\n",
       "      <td>104.0</td>\n",
       "      <td>112.0</td>\n",
       "      <td>1.0</td>\n",
       "    </tr>\n",
       "    <tr>\n",
       "      <th>4</th>\n",
       "      <td>1.0</td>\n",
       "      <td>NaN</td>\n",
       "      <td>197</td>\n",
       "      <td>421.0</td>\n",
       "      <td>146.0</td>\n",
       "      <td>147.0</td>\n",
       "      <td>1.0</td>\n",
       "      <td>105.0</td>\n",
       "      <td>106.0</td>\n",
       "      <td>1.0</td>\n",
       "    </tr>\n",
       "    <tr>\n",
       "      <th>5</th>\n",
       "      <td>1.0</td>\n",
       "      <td>NaN</td>\n",
       "      <td>197</td>\n",
       "      <td>521.0</td>\n",
       "      <td>146.0</td>\n",
       "      <td>147.0</td>\n",
       "      <td>1.0</td>\n",
       "      <td>105.0</td>\n",
       "      <td>106.0</td>\n",
       "      <td>1.0</td>\n",
       "    </tr>\n",
       "  </tbody>\n",
       "</table>\n",
       "</div>"
      ],
      "text/plain": [
       "   vidnum    id  actual_ant1  actual_ant2  actual_start  actual_end  group  \\\n",
       "1     1.0  31.0          521        408.0         142.0       147.0    1.0   \n",
       "2     1.0   NaN          421        408.0         145.0       147.0    1.0   \n",
       "3     1.0   NaN          421        521.0         145.0       153.0    1.0   \n",
       "4     1.0   NaN          197        421.0         146.0       147.0    1.0   \n",
       "5     1.0   NaN          197        521.0         146.0       147.0    1.0   \n",
       "\n",
       "   general_start_frame  general_end_frame  general_group_id  \n",
       "1                101.0              106.0               1.0  \n",
       "2                104.0              106.0               1.0  \n",
       "3                104.0              112.0               1.0  \n",
       "4                105.0              106.0               1.0  \n",
       "5                105.0              106.0               1.0  "
      ]
     },
     "execution_count": 3,
     "metadata": {},
     "output_type": "execute_result"
    }
   ],
   "source": [
    "exp1.interactions_df.head()"
   ]
  },
  {
   "cell_type": "code",
   "execution_count": 4,
   "metadata": {},
   "outputs": [
    {
     "data": {
      "text/plain": [
       "[1069,\n",
       " 113,\n",
       " 12,\n",
       " 13,\n",
       " 137,\n",
       " 156,\n",
       " 16,\n",
       " 160,\n",
       " 161,\n",
       " 164,\n",
       " 169,\n",
       " 170,\n",
       " 197,\n",
       " 207,\n",
       " 208,\n",
       " 21,\n",
       " 236,\n",
       " 248,\n",
       " 302,\n",
       " 325,\n",
       " 329,\n",
       " 365,\n",
       " 408,\n",
       " 415,\n",
       " 416,\n",
       " 418,\n",
       " 42,\n",
       " 421,\n",
       " 45,\n",
       " 48,\n",
       " 484,\n",
       " 512,\n",
       " 524,\n",
       " 525,\n",
       " 529,\n",
       " 61,\n",
       " 98,\n",
       " 32,\n",
       " 40,\n",
       " 521,\n",
       " 56,\n",
       " 1,\n",
       " 1125,\n",
       " 265]"
      ]
     },
     "execution_count": 4,
     "metadata": {},
     "output_type": "execute_result"
    }
   ],
   "source": [
    "exp1.ants_list"
   ]
  },
  {
   "cell_type": "code",
   "execution_count": 5,
   "metadata": {},
   "outputs": [
    {
     "data": {
      "text/plain": [
       "44"
      ]
     },
     "execution_count": 5,
     "metadata": {},
     "output_type": "execute_result"
    }
   ],
   "source": [
    "len(exp1.ants_list)"
   ]
  },
  {
   "cell_type": "code",
   "execution_count": 6,
   "metadata": {},
   "outputs": [],
   "source": [
    "def is_invalid_ant_id(ant_id, ants_list):\n",
    "    return ant_id not in ants_list"
   ]
  },
  {
   "cell_type": "code",
   "execution_count": 7,
   "metadata": {},
   "outputs": [],
   "source": [
    "def find_invalid_ant_ids(trophallaxis_table, ant_column, ants_list):\n",
    "    invalid_ants = trophallaxis_table.apply(lambda x: is_invalid_ant_id(x[ant_column], ants_list),axis=1)\n",
    "    return trophallaxis_table.loc[invalid_ants]"
   ]
  },
  {
   "cell_type": "code",
   "execution_count": 8,
   "metadata": {},
   "outputs": [],
   "source": [
    "def find_negative_duration(trophallaxis_table):\n",
    "    negative_durations = trophallaxis_table.apply(lambda x: (x['actual_end']-x['actual_start']) < 0, axis=1)\n",
    "    return trophallaxis_table.loc[negative_durations]"
   ]
  },
  {
   "cell_type": "code",
   "execution_count": 9,
   "metadata": {},
   "outputs": [],
   "source": [
    "exp1.ants_list.extend([-1,-5])\n",
    "invalid_ant1 = find_invalid_ant_ids(exp1.interactions_df, 'actual_ant1', exp1.ants_list)\n",
    "invalid_ant2 = find_invalid_ant_ids(exp1.interactions_df, 'actual_ant2', exp1.ants_list)\n",
    "negative_durations = find_negative_duration(exp1.interactions_df)"
   ]
  },
  {
   "cell_type": "code",
   "execution_count": 10,
   "metadata": {},
   "outputs": [
    {
     "data": {
      "text/html": [
       "<div>\n",
       "<style scoped>\n",
       "    .dataframe tbody tr th:only-of-type {\n",
       "        vertical-align: middle;\n",
       "    }\n",
       "\n",
       "    .dataframe tbody tr th {\n",
       "        vertical-align: top;\n",
       "    }\n",
       "\n",
       "    .dataframe thead th {\n",
       "        text-align: right;\n",
       "    }\n",
       "</style>\n",
       "<table border=\"1\" class=\"dataframe\">\n",
       "  <thead>\n",
       "    <tr style=\"text-align: right;\">\n",
       "      <th></th>\n",
       "      <th>vidnum</th>\n",
       "      <th>id</th>\n",
       "      <th>actual_ant1</th>\n",
       "      <th>actual_ant2</th>\n",
       "      <th>actual_start</th>\n",
       "      <th>actual_end</th>\n",
       "      <th>group</th>\n",
       "      <th>general_start_frame</th>\n",
       "      <th>general_end_frame</th>\n",
       "      <th>general_group_id</th>\n",
       "    </tr>\n",
       "  </thead>\n",
       "  <tbody>\n",
       "  </tbody>\n",
       "</table>\n",
       "</div>"
      ],
      "text/plain": [
       "Empty DataFrame\n",
       "Columns: [vidnum, id, actual_ant1, actual_ant2, actual_start, actual_end, group, general_start_frame, general_end_frame, general_group_id]\n",
       "Index: []"
      ]
     },
     "execution_count": 10,
     "metadata": {},
     "output_type": "execute_result"
    }
   ],
   "source": [
    "invalid_ant1"
   ]
  },
  {
   "cell_type": "code",
   "execution_count": 11,
   "metadata": {
    "scrolled": true
   },
   "outputs": [
    {
     "data": {
      "text/html": [
       "<div>\n",
       "<style scoped>\n",
       "    .dataframe tbody tr th:only-of-type {\n",
       "        vertical-align: middle;\n",
       "    }\n",
       "\n",
       "    .dataframe tbody tr th {\n",
       "        vertical-align: top;\n",
       "    }\n",
       "\n",
       "    .dataframe thead th {\n",
       "        text-align: right;\n",
       "    }\n",
       "</style>\n",
       "<table border=\"1\" class=\"dataframe\">\n",
       "  <thead>\n",
       "    <tr style=\"text-align: right;\">\n",
       "      <th></th>\n",
       "      <th>vidnum</th>\n",
       "      <th>id</th>\n",
       "      <th>actual_ant1</th>\n",
       "      <th>actual_ant2</th>\n",
       "      <th>actual_start</th>\n",
       "      <th>actual_end</th>\n",
       "      <th>group</th>\n",
       "      <th>general_start_frame</th>\n",
       "      <th>general_end_frame</th>\n",
       "      <th>general_group_id</th>\n",
       "    </tr>\n",
       "  </thead>\n",
       "  <tbody>\n",
       "  </tbody>\n",
       "</table>\n",
       "</div>"
      ],
      "text/plain": [
       "Empty DataFrame\n",
       "Columns: [vidnum, id, actual_ant1, actual_ant2, actual_start, actual_end, group, general_start_frame, general_end_frame, general_group_id]\n",
       "Index: []"
      ]
     },
     "execution_count": 11,
     "metadata": {},
     "output_type": "execute_result"
    }
   ],
   "source": [
    "invalid_ant2"
   ]
  },
  {
   "cell_type": "code",
   "execution_count": 12,
   "metadata": {
    "scrolled": true
   },
   "outputs": [
    {
     "data": {
      "text/html": [
       "<div>\n",
       "<style scoped>\n",
       "    .dataframe tbody tr th:only-of-type {\n",
       "        vertical-align: middle;\n",
       "    }\n",
       "\n",
       "    .dataframe tbody tr th {\n",
       "        vertical-align: top;\n",
       "    }\n",
       "\n",
       "    .dataframe thead th {\n",
       "        text-align: right;\n",
       "    }\n",
       "</style>\n",
       "<table border=\"1\" class=\"dataframe\">\n",
       "  <thead>\n",
       "    <tr style=\"text-align: right;\">\n",
       "      <th></th>\n",
       "      <th>vidnum</th>\n",
       "      <th>id</th>\n",
       "      <th>actual_ant1</th>\n",
       "      <th>actual_ant2</th>\n",
       "      <th>actual_start</th>\n",
       "      <th>actual_end</th>\n",
       "      <th>group</th>\n",
       "      <th>general_start_frame</th>\n",
       "      <th>general_end_frame</th>\n",
       "      <th>general_group_id</th>\n",
       "    </tr>\n",
       "  </thead>\n",
       "  <tbody>\n",
       "  </tbody>\n",
       "</table>\n",
       "</div>"
      ],
      "text/plain": [
       "Empty DataFrame\n",
       "Columns: [vidnum, id, actual_ant1, actual_ant2, actual_start, actual_end, group, general_start_frame, general_end_frame, general_group_id]\n",
       "Index: []"
      ]
     },
     "execution_count": 12,
     "metadata": {},
     "output_type": "execute_result"
    }
   ],
   "source": [
    "negative_durations"
   ]
  },
  {
   "cell_type": "code",
   "execution_count": null,
   "metadata": {},
   "outputs": [],
   "source": []
  },
  {
   "cell_type": "code",
   "execution_count": null,
   "metadata": {},
   "outputs": [],
   "source": []
  },
  {
   "cell_type": "code",
   "execution_count": null,
   "metadata": {},
   "outputs": [],
   "source": []
  }
 ],
 "metadata": {
  "kernelspec": {
   "display_name": "Python 3",
   "language": "python",
   "name": "python3"
  },
  "language_info": {
   "codemirror_mode": {
    "name": "ipython",
    "version": 3
   },
   "file_extension": ".py",
   "mimetype": "text/x-python",
   "name": "python",
   "nbconvert_exporter": "python",
   "pygments_lexer": "ipython3",
   "version": "3.7.4"
  }
 },
 "nbformat": 4,
 "nbformat_minor": 2
}
