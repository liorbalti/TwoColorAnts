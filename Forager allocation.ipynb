{
 "cells": [
  {
   "cell_type": "code",
   "execution_count": 1,
   "id": "68515f15",
   "metadata": {},
   "outputs": [],
   "source": [
    "import numpy as np\n",
    "import matplotlib.pyplot as plt\n",
    "import Data\n",
    "import pandas as pd\n",
    "from os import sep as sep\n",
    "import os\n",
    "import matplotlib.cm as cm"
   ]
  },
  {
   "cell_type": "code",
   "execution_count": 2,
   "id": "9816afcc",
   "metadata": {},
   "outputs": [
    {
     "data": {
      "text/html": [
       "<div>\n",
       "<style scoped>\n",
       "    .dataframe tbody tr th:only-of-type {\n",
       "        vertical-align: middle;\n",
       "    }\n",
       "\n",
       "    .dataframe tbody tr th {\n",
       "        vertical-align: top;\n",
       "    }\n",
       "\n",
       "    .dataframe thead th {\n",
       "        text-align: right;\n",
       "    }\n",
       "</style>\n",
       "<table border=\"1\" class=\"dataframe\">\n",
       "  <thead>\n",
       "    <tr style=\"text-align: right;\">\n",
       "      <th></th>\n",
       "      <th>Experiment</th>\n",
       "      <th>Larvae_present</th>\n",
       "      <th>Colony</th>\n",
       "      <th>P_yellow</th>\n",
       "      <th>C_yellow</th>\n",
       "      <th>P_red</th>\n",
       "      <th>C_red</th>\n",
       "    </tr>\n",
       "  </thead>\n",
       "  <tbody>\n",
       "    <tr>\n",
       "      <th>1</th>\n",
       "      <td>11</td>\n",
       "      <td>yes</td>\n",
       "      <td>A</td>\n",
       "      <td>2</td>\n",
       "      <td>1</td>\n",
       "      <td>1</td>\n",
       "      <td>3</td>\n",
       "    </tr>\n",
       "    <tr>\n",
       "      <th>2</th>\n",
       "      <td>12</td>\n",
       "      <td>no</td>\n",
       "      <td>A</td>\n",
       "      <td>2</td>\n",
       "      <td>1</td>\n",
       "      <td>1</td>\n",
       "      <td>3</td>\n",
       "    </tr>\n",
       "    <tr>\n",
       "      <th>3</th>\n",
       "      <td>13</td>\n",
       "      <td>no</td>\n",
       "      <td>A</td>\n",
       "      <td>2</td>\n",
       "      <td>1</td>\n",
       "      <td>1</td>\n",
       "      <td>3</td>\n",
       "    </tr>\n",
       "    <tr>\n",
       "      <th>4</th>\n",
       "      <td>16</td>\n",
       "      <td>no</td>\n",
       "      <td>B</td>\n",
       "      <td>2</td>\n",
       "      <td>1</td>\n",
       "      <td>1</td>\n",
       "      <td>3</td>\n",
       "    </tr>\n",
       "    <tr>\n",
       "      <th>5</th>\n",
       "      <td>17</td>\n",
       "      <td>no</td>\n",
       "      <td>B</td>\n",
       "      <td>2</td>\n",
       "      <td>1</td>\n",
       "      <td>1</td>\n",
       "      <td>3</td>\n",
       "    </tr>\n",
       "    <tr>\n",
       "      <th>6</th>\n",
       "      <td>18</td>\n",
       "      <td>yes</td>\n",
       "      <td>A</td>\n",
       "      <td>2</td>\n",
       "      <td>1</td>\n",
       "      <td>1</td>\n",
       "      <td>3</td>\n",
       "    </tr>\n",
       "    <tr>\n",
       "      <th>7</th>\n",
       "      <td>19</td>\n",
       "      <td>yes</td>\n",
       "      <td>A</td>\n",
       "      <td>2</td>\n",
       "      <td>1</td>\n",
       "      <td>1</td>\n",
       "      <td>3</td>\n",
       "    </tr>\n",
       "    <tr>\n",
       "      <th>8</th>\n",
       "      <td>20</td>\n",
       "      <td>yes</td>\n",
       "      <td>A</td>\n",
       "      <td>2</td>\n",
       "      <td>1</td>\n",
       "      <td>1</td>\n",
       "      <td>3</td>\n",
       "    </tr>\n",
       "    <tr>\n",
       "      <th>9</th>\n",
       "      <td>21</td>\n",
       "      <td>no</td>\n",
       "      <td>B</td>\n",
       "      <td>2</td>\n",
       "      <td>1</td>\n",
       "      <td>1</td>\n",
       "      <td>3</td>\n",
       "    </tr>\n",
       "    <tr>\n",
       "      <th>10</th>\n",
       "      <td>22</td>\n",
       "      <td>no</td>\n",
       "      <td>B</td>\n",
       "      <td>2</td>\n",
       "      <td>1</td>\n",
       "      <td>1</td>\n",
       "      <td>6</td>\n",
       "    </tr>\n",
       "    <tr>\n",
       "      <th>11</th>\n",
       "      <td>23</td>\n",
       "      <td>no</td>\n",
       "      <td>B</td>\n",
       "      <td>2</td>\n",
       "      <td>1</td>\n",
       "      <td>1</td>\n",
       "      <td>6</td>\n",
       "    </tr>\n",
       "    <tr>\n",
       "      <th>12</th>\n",
       "      <td>24</td>\n",
       "      <td>no</td>\n",
       "      <td>B</td>\n",
       "      <td>2</td>\n",
       "      <td>1</td>\n",
       "      <td>1</td>\n",
       "      <td>6</td>\n",
       "    </tr>\n",
       "  </tbody>\n",
       "</table>\n",
       "</div>"
      ],
      "text/plain": [
       "   Experiment Larvae_present Colony  P_yellow  C_yellow  P_red  C_red\n",
       "1          11            yes      A         2         1      1      3\n",
       "2          12             no      A         2         1      1      3\n",
       "3          13             no      A         2         1      1      3\n",
       "4          16             no      B         2         1      1      3\n",
       "5          17             no      B         2         1      1      3\n",
       "6          18            yes      A         2         1      1      3\n",
       "7          19            yes      A         2         1      1      3\n",
       "8          20            yes      A         2         1      1      3\n",
       "9          21             no      B         2         1      1      3\n",
       "10         22             no      B         2         1      1      6\n",
       "11         23             no      B         2         1      1      6\n",
       "12         24             no      B         2         1      1      6"
      ]
     },
     "execution_count": 2,
     "metadata": {},
     "output_type": "execute_result"
    }
   ],
   "source": [
    "root_path = 'Y:\\Lior&Einav\\Experiments'\n",
    "exp_details = pd.read_excel(root_path + sep + 'Experiments_details.xlsx', engine='openpyxl')\n",
    "exp_details = exp_details.drop(index=0)  # remove pilot experiment\n",
    "# exps_to_remove = [20, 23]\n",
    "# exp_details = exp_details.drop(exp_details[exp_details.Experiment.isin(exps_to_remove)].index)\n",
    "exp_details"
   ]
  },
  {
   "cell_type": "code",
   "execution_count": 3,
   "id": "dfa7209c",
   "metadata": {},
   "outputs": [],
   "source": [
    "def get_exp_path(exp_num, root_path):\n",
    "    folderlist = os.listdir(root_path)\n",
    "    exp_folder = [x for x in folderlist if x.startswith('experiment'+str(exp_num))]\n",
    "    return root_path + sep + exp_folder[0]"
   ]
  },
  {
   "cell_type": "code",
   "execution_count": 4,
   "id": "52e3ebd1",
   "metadata": {},
   "outputs": [],
   "source": [
    "def get_PC_ratios_dict(exp_details,row_idx):\n",
    "    PC_ratios_dict = {}\n",
    "    for color in ['yellow', 'red']:\n",
    "        PC_ratios_dict[color] = [exp_details.loc[row_idx,'P_'+color], exp_details.loc[row_idx,'C_'+color]]\n",
    "    return PC_ratios_dict"
   ]
  },
  {
   "cell_type": "code",
   "execution_count": 5,
   "id": "c7f88d8a",
   "metadata": {},
   "outputs": [],
   "source": [
    "def get_forager_ratio(fdata):\n",
    "    grouped_fdata = fdata.groupby(['ant_id','food_source'])['feeding_size_ul'].apply(sum)\n",
    "    foragers = fdata.ant_id.unique()\n",
    "    forager_ratio = {}\n",
    "    for forager in foragers:\n",
    "        forager_feedings = grouped_fdata[forager]\n",
    "        if len(forager_feedings) == 2:\n",
    "            forager_ratio[forager]=forager_feedings['yellow']/(forager_feedings['yellow']+forager_feedings['red'])\n",
    "        elif 'red' in forager_feedings.index:\n",
    "            forager_ratio[forager] = 0\n",
    "        else:\n",
    "            forager_ratio[forager] = 1\n",
    "    \n",
    "    return list(forager_ratio.values())\n",
    "    "
   ]
  },
  {
   "cell_type": "code",
   "execution_count": 6,
   "id": "6f1e3989",
   "metadata": {},
   "outputs": [],
   "source": [
    "def get_forager_count_ratio(fdata):\n",
    "    grouped_fdata = fdata.groupby(['ant_id','food_source'])['feeding_size_ul'].apply(len)\n",
    "    foragers = fdata.ant_id.unique()\n",
    "    forager_ratio = {}\n",
    "    for forager in foragers:\n",
    "        forager_feedings = grouped_fdata[forager]\n",
    "        if len(forager_feedings) == 2:\n",
    "            forager_ratio[forager]=forager_feedings['yellow']/(forager_feedings['yellow']+forager_feedings['red'])\n",
    "        elif 'red' in forager_feedings.index:\n",
    "            forager_ratio[forager] = 0\n",
    "        else:\n",
    "            forager_ratio[forager] = 1\n",
    "    \n",
    "    return list(forager_ratio.values())"
   ]
  },
  {
   "cell_type": "code",
   "execution_count": 7,
   "id": "ef35cd4c",
   "metadata": {},
   "outputs": [],
   "source": [
    "def plot_pooled_forager_ratios(exp_nums, color, ax):\n",
    "    forager_ratios=[]\n",
    "    for exp_num in exp_nums:\n",
    "        exp_path = get_exp_path(exp_num, root_path)\n",
    "        fdata = pd.read_csv(exp_path + sep + 'forager_table_with_feeding_sizes_ul_transparency_corrected.csv')\n",
    "        forager_ratios.extend(get_forager_ratio(fdata))\n",
    "    ax.hist(forager_ratios,color=color,alpha=0.5,density=True, bins=np.arange(0,1.1,0.1))"
   ]
  },
  {
   "cell_type": "code",
   "execution_count": 8,
   "id": "95692478",
   "metadata": {},
   "outputs": [],
   "source": [
    "def plot_pooled_forager_count_ratios(exp_nums, color, ax):\n",
    "    forager_ratios=[]\n",
    "    for exp_num in exp_nums:\n",
    "        exp_path = get_exp_path(exp_num, root_path)\n",
    "        fdata = pd.read_csv(exp_path + sep + 'forager_table_with_feeding_sizes_ul_transparency_corrected.csv')\n",
    "        forager_ratios.extend(get_forager_count_ratio(fdata))\n",
    "    ax.hist(forager_ratios,color=color,alpha=0.5,density=True, bins=np.arange(0,1.1,0.1))"
   ]
  },
  {
   "cell_type": "code",
   "execution_count": 9,
   "id": "cbbea1b5",
   "metadata": {},
   "outputs": [],
   "source": [
    "larvae_present = exp_details.Experiment[exp_details.Larvae_present == 'yes'].to_list()\n",
    "no_larvae = exp_details.Experiment[(exp_details.Colony == 'B') & (exp_details.C_red==3)].to_list()\n",
    "extra_sugar = exp_details.Experiment[exp_details.C_red==6].to_list()"
   ]
  },
  {
   "cell_type": "code",
   "execution_count": 10,
   "id": "20554858",
   "metadata": {},
   "outputs": [
    {
     "data": {
      "text/plain": [
       "Text(0.02, 0.5, 'PDF')"
      ]
     },
     "execution_count": 10,
     "metadata": {},
     "output_type": "execute_result"
    }
   ],
   "source": [
    "%matplotlib qt\n",
    "plt.rcParams.update({'font.size': 13})\n",
    "fig, ax = plt.subplots(1,2,sharey=True, figsize=[7,3])\n",
    "plot_pooled_forager_ratios(larvae_present, 'b', ax[0])\n",
    "plot_pooled_forager_ratios(no_larvae, 'm', ax[1])\n",
    "#plot_pooled_forager_ratios(extra_sugar, 'g', ax)\n",
    "#fig.supxlabel('Fraction consumed from protein-rich food [-]')\n",
    "fig.supylabel('PDF')\n",
    "#plt.legend(['With larvae', 'No larvae'])"
   ]
  },
  {
   "cell_type": "code",
   "execution_count": 11,
   "id": "d3031d23",
   "metadata": {},
   "outputs": [
    {
     "data": {
      "text/plain": [
       "Text(0.02, 0.5, 'PDF')"
      ]
     },
     "execution_count": 11,
     "metadata": {},
     "output_type": "execute_result"
    }
   ],
   "source": [
    "fig, ax = plt.subplots(1,2,sharey=True, figsize=[7,3])\n",
    "plot_pooled_forager_count_ratios(larvae_present, 'b', ax[0])\n",
    "plot_pooled_forager_count_ratios(no_larvae, 'm', ax[1])\n",
    "#plot_pooled_forager_ratios(extra_sugar, 'g', ax)\n",
    "#fig.supxlabel('Fraction of feedings from protein-rich food [-]')\n",
    "fig.supylabel('PDF')\n",
    "#plt.legend(['With larvae', 'No larvae'])"
   ]
  },
  {
   "cell_type": "code",
   "execution_count": null,
   "id": "a572fa8c",
   "metadata": {},
   "outputs": [],
   "source": []
  },
  {
   "cell_type": "code",
   "execution_count": null,
   "id": "1855ff1e",
   "metadata": {},
   "outputs": [],
   "source": [
    "\n",
    "forager_ratios=[]\n",
    "for exp_num in larvae_present:\n",
    "    exp_path = get_exp_path(exp_num, root_path)\n",
    "    fdata = pd.read_csv(exp_path + sep + 'forager_table_with_feeding_sizes_ul_transparency_corrected.csv')\n",
    "    forager_ratios.extend(get_forager_ratio(fdata))\n",
    "plt.hist(forager_ratios,alpha=0.5)"
   ]
  },
  {
   "cell_type": "code",
   "execution_count": null,
   "id": "5596d2aa",
   "metadata": {},
   "outputs": [],
   "source": []
  },
  {
   "cell_type": "code",
   "execution_count": null,
   "id": "488e9e93",
   "metadata": {},
   "outputs": [],
   "source": []
  },
  {
   "cell_type": "code",
   "execution_count": null,
   "id": "1d81bb9e",
   "metadata": {},
   "outputs": [],
   "source": []
  },
  {
   "cell_type": "code",
   "execution_count": null,
   "id": "0afbf468",
   "metadata": {},
   "outputs": [],
   "source": [
    "exp_path = get_exp_path(11, root_path)\n",
    "    \n",
    "#PC_ratios_dict = get_PC_ratios_dict(exp_details,exp_idx)\n",
    "    \n",
    "fdata = pd.read_csv(exp_path + sep + 'forager_table_with_feeding_sizes_ul_transparency_corrected.csv')\n",
    "\n",
    "fdata.head()"
   ]
  },
  {
   "cell_type": "code",
   "execution_count": null,
   "id": "5c77a59c",
   "metadata": {},
   "outputs": [],
   "source": [
    "jj = fdata.groupby(['ant_id','food_source'])['feeding_size_ul'].apply(sum)\n",
    "jj"
   ]
  },
  {
   "cell_type": "code",
   "execution_count": null,
   "id": "c56d64ec",
   "metadata": {},
   "outputs": [],
   "source": [
    "foragers = fdata.ant_id.unique()\n",
    "foragers"
   ]
  },
  {
   "cell_type": "code",
   "execution_count": null,
   "id": "0485076e",
   "metadata": {},
   "outputs": [],
   "source": [
    "forager_ratio = {}\n",
    "for forager in foragers:\n",
    "    forager_feedings = jj[forager]\n",
    "    if len(forager_feedings) == 2:\n",
    "        forager_ratio[forager]=forager_feedings['yellow']/(forager_feedings['yellow']+forager_feedings['red'])\n",
    "    elif 'red' in forager_feedings.index:\n",
    "        forager_ratio[forager] = 0\n",
    "    else:\n",
    "        forager_ratio[forager] = 1"
   ]
  },
  {
   "cell_type": "code",
   "execution_count": null,
   "id": "8bee89d3",
   "metadata": {},
   "outputs": [],
   "source": [
    "plt.hist(forager_ratio.values())"
   ]
  },
  {
   "cell_type": "code",
   "execution_count": null,
   "id": "b1f1e28f",
   "metadata": {},
   "outputs": [],
   "source": [
    "list(forager_ratio.values())"
   ]
  },
  {
   "cell_type": "code",
   "execution_count": null,
   "id": "d5e07240",
   "metadata": {},
   "outputs": [],
   "source": [
    "fdata.groupby(['ant_id','food_source'])['feeding_size_ul'].apply(len)"
   ]
  },
  {
   "cell_type": "code",
   "execution_count": null,
   "id": "d8945ae6",
   "metadata": {},
   "outputs": [],
   "source": []
  }
 ],
 "metadata": {
  "kernelspec": {
   "display_name": "Python 3",
   "language": "python",
   "name": "python3"
  },
  "language_info": {
   "codemirror_mode": {
    "name": "ipython",
    "version": 3
   },
   "file_extension": ".py",
   "mimetype": "text/x-python",
   "name": "python",
   "nbconvert_exporter": "python",
   "pygments_lexer": "ipython3",
   "version": "3.7.4"
  }
 },
 "nbformat": 4,
 "nbformat_minor": 5
}
