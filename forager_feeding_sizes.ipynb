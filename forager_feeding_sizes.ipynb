{
 "cells": [
  {
   "cell_type": "code",
   "execution_count": 1,
   "metadata": {},
   "outputs": [],
   "source": [
    "import numpy as np\n",
    "import matplotlib.pyplot as plt\n",
    "import pandas as pd\n",
    "from Data import AntData, ForagerData\n",
    "from os import sep as sep"
   ]
  },
  {
   "cell_type": "code",
   "execution_count": 2,
   "metadata": {},
   "outputs": [],
   "source": [
    "exp_path = r\"Y:\\Lior&Einav\\Experiments\\experiment11_140720\"\n",
    "feeding_filename = \"forager_feeding_table_with_interaction_data.xlsx\"\n",
    "bdata_path = r\"with food\\blob analysis normalized by old norm_mats\"\n",
    "bdata_filename = \"bdata_11_140720.csv\""
   ]
  },
  {
   "cell_type": "markdown",
   "metadata": {},
   "source": [
    "### Load Data"
   ]
  },
  {
   "cell_type": "markdown",
   "metadata": {},
   "source": [
    "#### Load feeding data"
   ]
  },
  {
   "cell_type": "code",
   "execution_count": 3,
   "metadata": {},
   "outputs": [
    {
     "data": {
      "text/html": [
       "<div>\n",
       "<style scoped>\n",
       "    .dataframe tbody tr th:only-of-type {\n",
       "        vertical-align: middle;\n",
       "    }\n",
       "\n",
       "    .dataframe tbody tr th {\n",
       "        vertical-align: top;\n",
       "    }\n",
       "\n",
       "    .dataframe thead th {\n",
       "        text-align: right;\n",
       "    }\n",
       "</style>\n",
       "<table border=\"1\" class=\"dataframe\">\n",
       "  <thead>\n",
       "    <tr style=\"text-align: right;\">\n",
       "      <th></th>\n",
       "      <th>ant_id</th>\n",
       "      <th>feeding_start</th>\n",
       "      <th>feeding_end</th>\n",
       "      <th>food_source</th>\n",
       "      <th>last_interaction_before_end</th>\n",
       "      <th>last_interaction_before_partner</th>\n",
       "      <th>first_interaction_after_start</th>\n",
       "      <th>first_interaction_after_partner</th>\n",
       "    </tr>\n",
       "  </thead>\n",
       "  <tbody>\n",
       "    <tr>\n",
       "      <th>0</th>\n",
       "      <td>76</td>\n",
       "      <td>4</td>\n",
       "      <td>58</td>\n",
       "      <td>yellow</td>\n",
       "      <td>-1</td>\n",
       "      <td>-1</td>\n",
       "      <td>72</td>\n",
       "      <td>392</td>\n",
       "    </tr>\n",
       "    <tr>\n",
       "      <th>1</th>\n",
       "      <td>148</td>\n",
       "      <td>48</td>\n",
       "      <td>128</td>\n",
       "      <td>yellow</td>\n",
       "      <td>-1</td>\n",
       "      <td>-1</td>\n",
       "      <td>233</td>\n",
       "      <td>76</td>\n",
       "    </tr>\n",
       "    <tr>\n",
       "      <th>2</th>\n",
       "      <td>289</td>\n",
       "      <td>133</td>\n",
       "      <td>304</td>\n",
       "      <td>yellow</td>\n",
       "      <td>-1</td>\n",
       "      <td>-1</td>\n",
       "      <td>317</td>\n",
       "      <td>72</td>\n",
       "    </tr>\n",
       "    <tr>\n",
       "      <th>3</th>\n",
       "      <td>392</td>\n",
       "      <td>159</td>\n",
       "      <td>206</td>\n",
       "      <td>yellow</td>\n",
       "      <td>114</td>\n",
       "      <td>76</td>\n",
       "      <td>250</td>\n",
       "      <td>95</td>\n",
       "    </tr>\n",
       "    <tr>\n",
       "      <th>4</th>\n",
       "      <td>289</td>\n",
       "      <td>371</td>\n",
       "      <td>395</td>\n",
       "      <td>yellow</td>\n",
       "      <td>339</td>\n",
       "      <td>72</td>\n",
       "      <td>432</td>\n",
       "      <td>36</td>\n",
       "    </tr>\n",
       "  </tbody>\n",
       "</table>\n",
       "</div>"
      ],
      "text/plain": [
       "   ant_id  feeding_start  feeding_end food_source  \\\n",
       "0      76              4           58      yellow   \n",
       "1     148             48          128      yellow   \n",
       "2     289            133          304      yellow   \n",
       "3     392            159          206      yellow   \n",
       "4     289            371          395      yellow   \n",
       "\n",
       "   last_interaction_before_end last_interaction_before_partner  \\\n",
       "0                           -1                              -1   \n",
       "1                           -1                              -1   \n",
       "2                           -1                              -1   \n",
       "3                          114                              76   \n",
       "4                          339                              72   \n",
       "\n",
       "   first_interaction_after_start first_interaction_after_partner  \n",
       "0                             72                             392  \n",
       "1                            233                              76  \n",
       "2                            317                              72  \n",
       "3                            250                              95  \n",
       "4                            432                              36  "
      ]
     },
     "execution_count": 3,
     "metadata": {},
     "output_type": "execute_result"
    }
   ],
   "source": [
    "fdata = pd.read_excel(exp_path+sep+feeding_filename, usecols=\"A:D,F:I\")\n",
    "fdata.head()"
   ]
  },
  {
   "cell_type": "markdown",
   "metadata": {},
   "source": [
    "#### Load blob data"
   ]
  },
  {
   "cell_type": "code",
   "execution_count": 4,
   "metadata": {},
   "outputs": [
    {
     "data": {
      "text/html": [
       "<div>\n",
       "<style scoped>\n",
       "    .dataframe tbody tr th:only-of-type {\n",
       "        vertical-align: middle;\n",
       "    }\n",
       "\n",
       "    .dataframe tbody tr th {\n",
       "        vertical-align: top;\n",
       "    }\n",
       "\n",
       "    .dataframe thead th {\n",
       "        text-align: right;\n",
       "    }\n",
       "</style>\n",
       "<table border=\"1\" class=\"dataframe\">\n",
       "  <thead>\n",
       "    <tr style=\"text-align: right;\">\n",
       "      <th></th>\n",
       "      <th>time</th>\n",
       "      <th>acquisition</th>\n",
       "      <th>a1-angle</th>\n",
       "      <th>a1-crop_area</th>\n",
       "      <th>a1-crop_intensity</th>\n",
       "      <th>a1-error</th>\n",
       "      <th>a1-original_x</th>\n",
       "      <th>a1-original_y</th>\n",
       "      <th>a1-x</th>\n",
       "      <th>a1-y</th>\n",
       "      <th>...</th>\n",
       "      <th>a1299-x</th>\n",
       "      <th>a1299-y</th>\n",
       "      <th>a1247-angle</th>\n",
       "      <th>a1247-crop_area</th>\n",
       "      <th>a1247-crop_intensity</th>\n",
       "      <th>a1247-error</th>\n",
       "      <th>a1247-original_x</th>\n",
       "      <th>a1247-original_y</th>\n",
       "      <th>a1247-x</th>\n",
       "      <th>a1247-y</th>\n",
       "    </tr>\n",
       "    <tr>\n",
       "      <th>frame</th>\n",
       "      <th></th>\n",
       "      <th></th>\n",
       "      <th></th>\n",
       "      <th></th>\n",
       "      <th></th>\n",
       "      <th></th>\n",
       "      <th></th>\n",
       "      <th></th>\n",
       "      <th></th>\n",
       "      <th></th>\n",
       "      <th></th>\n",
       "      <th></th>\n",
       "      <th></th>\n",
       "      <th></th>\n",
       "      <th></th>\n",
       "      <th></th>\n",
       "      <th></th>\n",
       "      <th></th>\n",
       "      <th></th>\n",
       "      <th></th>\n",
       "      <th></th>\n",
       "    </tr>\n",
       "  </thead>\n",
       "  <tbody>\n",
       "    <tr>\n",
       "      <th>44</th>\n",
       "      <td>61.608</td>\n",
       "      <td>BLGF</td>\n",
       "      <td>-53.014075</td>\n",
       "      <td>21.0</td>\n",
       "      <td>784.982483</td>\n",
       "      <td>0.0</td>\n",
       "      <td>4866.0</td>\n",
       "      <td>2018.0</td>\n",
       "      <td>748.457242</td>\n",
       "      <td>1794.114019</td>\n",
       "      <td>...</td>\n",
       "      <td>NaN</td>\n",
       "      <td>NaN</td>\n",
       "      <td>NaN</td>\n",
       "      <td>NaN</td>\n",
       "      <td>NaN</td>\n",
       "      <td>NaN</td>\n",
       "      <td>NaN</td>\n",
       "      <td>NaN</td>\n",
       "      <td>NaN</td>\n",
       "      <td>NaN</td>\n",
       "    </tr>\n",
       "    <tr>\n",
       "      <th>45</th>\n",
       "      <td>62.998</td>\n",
       "      <td>GLRF</td>\n",
       "      <td>-53.145187</td>\n",
       "      <td>15.0</td>\n",
       "      <td>941.886353</td>\n",
       "      <td>0.0</td>\n",
       "      <td>4866.0</td>\n",
       "      <td>2018.0</td>\n",
       "      <td>748.457242</td>\n",
       "      <td>1794.114019</td>\n",
       "      <td>...</td>\n",
       "      <td>NaN</td>\n",
       "      <td>NaN</td>\n",
       "      <td>NaN</td>\n",
       "      <td>NaN</td>\n",
       "      <td>NaN</td>\n",
       "      <td>NaN</td>\n",
       "      <td>NaN</td>\n",
       "      <td>NaN</td>\n",
       "      <td>NaN</td>\n",
       "      <td>NaN</td>\n",
       "    </tr>\n",
       "    <tr>\n",
       "      <th>46</th>\n",
       "      <td>64.400</td>\n",
       "      <td>BLGF</td>\n",
       "      <td>-53.014075</td>\n",
       "      <td>28.0</td>\n",
       "      <td>1034.724243</td>\n",
       "      <td>1.0</td>\n",
       "      <td>4866.0</td>\n",
       "      <td>2018.0</td>\n",
       "      <td>748.457242</td>\n",
       "      <td>1794.114019</td>\n",
       "      <td>...</td>\n",
       "      <td>NaN</td>\n",
       "      <td>NaN</td>\n",
       "      <td>NaN</td>\n",
       "      <td>NaN</td>\n",
       "      <td>NaN</td>\n",
       "      <td>NaN</td>\n",
       "      <td>NaN</td>\n",
       "      <td>NaN</td>\n",
       "      <td>NaN</td>\n",
       "      <td>NaN</td>\n",
       "    </tr>\n",
       "    <tr>\n",
       "      <th>47</th>\n",
       "      <td>65.808</td>\n",
       "      <td>GLRF</td>\n",
       "      <td>-53.145187</td>\n",
       "      <td>19.0</td>\n",
       "      <td>1157.055664</td>\n",
       "      <td>0.0</td>\n",
       "      <td>4867.0</td>\n",
       "      <td>2018.0</td>\n",
       "      <td>747.390222</td>\n",
       "      <td>1794.110585</td>\n",
       "      <td>...</td>\n",
       "      <td>NaN</td>\n",
       "      <td>NaN</td>\n",
       "      <td>NaN</td>\n",
       "      <td>NaN</td>\n",
       "      <td>NaN</td>\n",
       "      <td>NaN</td>\n",
       "      <td>NaN</td>\n",
       "      <td>NaN</td>\n",
       "      <td>NaN</td>\n",
       "      <td>NaN</td>\n",
       "    </tr>\n",
       "    <tr>\n",
       "      <th>48</th>\n",
       "      <td>67.208</td>\n",
       "      <td>BLGF</td>\n",
       "      <td>-53.145187</td>\n",
       "      <td>34.0</td>\n",
       "      <td>1261.318848</td>\n",
       "      <td>0.0</td>\n",
       "      <td>4867.0</td>\n",
       "      <td>2018.0</td>\n",
       "      <td>747.390222</td>\n",
       "      <td>1794.110585</td>\n",
       "      <td>...</td>\n",
       "      <td>NaN</td>\n",
       "      <td>NaN</td>\n",
       "      <td>NaN</td>\n",
       "      <td>NaN</td>\n",
       "      <td>NaN</td>\n",
       "      <td>NaN</td>\n",
       "      <td>NaN</td>\n",
       "      <td>NaN</td>\n",
       "      <td>NaN</td>\n",
       "      <td>NaN</td>\n",
       "    </tr>\n",
       "  </tbody>\n",
       "</table>\n",
       "<p>5 rows × 2402 columns</p>\n",
       "</div>"
      ],
      "text/plain": [
       "         time acquisition   a1-angle  a1-crop_area  a1-crop_intensity  \\\n",
       "frame                                                                   \n",
       "44     61.608        BLGF -53.014075          21.0         784.982483   \n",
       "45     62.998        GLRF -53.145187          15.0         941.886353   \n",
       "46     64.400        BLGF -53.014075          28.0        1034.724243   \n",
       "47     65.808        GLRF -53.145187          19.0        1157.055664   \n",
       "48     67.208        BLGF -53.145187          34.0        1261.318848   \n",
       "\n",
       "       a1-error  a1-original_x  a1-original_y        a1-x         a1-y  ...  \\\n",
       "frame                                                                   ...   \n",
       "44          0.0         4866.0         2018.0  748.457242  1794.114019  ...   \n",
       "45          0.0         4866.0         2018.0  748.457242  1794.114019  ...   \n",
       "46          1.0         4866.0         2018.0  748.457242  1794.114019  ...   \n",
       "47          0.0         4867.0         2018.0  747.390222  1794.110585  ...   \n",
       "48          0.0         4867.0         2018.0  747.390222  1794.110585  ...   \n",
       "\n",
       "       a1299-x  a1299-y  a1247-angle  a1247-crop_area  a1247-crop_intensity  \\\n",
       "frame                                                                         \n",
       "44         NaN      NaN          NaN              NaN                   NaN   \n",
       "45         NaN      NaN          NaN              NaN                   NaN   \n",
       "46         NaN      NaN          NaN              NaN                   NaN   \n",
       "47         NaN      NaN          NaN              NaN                   NaN   \n",
       "48         NaN      NaN          NaN              NaN                   NaN   \n",
       "\n",
       "       a1247-error  a1247-original_x  a1247-original_y  a1247-x  a1247-y  \n",
       "frame                                                                     \n",
       "44             NaN               NaN               NaN      NaN      NaN  \n",
       "45             NaN               NaN               NaN      NaN      NaN  \n",
       "46             NaN               NaN               NaN      NaN      NaN  \n",
       "47             NaN               NaN               NaN      NaN      NaN  \n",
       "48             NaN               NaN               NaN      NaN      NaN  \n",
       "\n",
       "[5 rows x 2402 columns]"
      ]
     },
     "execution_count": 4,
     "metadata": {},
     "output_type": "execute_result"
    }
   ],
   "source": [
    "bdata = pd.read_csv(exp_path+sep+bdata_path+sep+bdata_filename, index_col='frame')\n",
    "bdata = bdata.drop(bdata.columns[0],axis=1)\n",
    "bdata.head()"
   ]
  },
  {
   "cell_type": "markdown",
   "metadata": {},
   "source": [
    "### Get feeding sizes"
   ]
  },
  {
   "cell_type": "code",
   "execution_count": 5,
   "metadata": {},
   "outputs": [
    {
     "data": {
      "text/plain": [
       "array([ 76, 148, 289, 392,  61,  82,  66, 445, 113, 150, 170, 180, 233,\n",
       "       421, 540], dtype=int64)"
      ]
     },
     "execution_count": 5,
     "metadata": {},
     "output_type": "execute_result"
    }
   ],
   "source": [
    "foragers = fdata.ant_id.unique()\n",
    "foragers"
   ]
  },
  {
   "cell_type": "code",
   "execution_count": 6,
   "metadata": {},
   "outputs": [
    {
     "name": "stderr",
     "output_type": "stream",
     "text": [
      "C:\\Users\\liorba\\Anaconda3\\envs\\Experimenting\\lib\\site-packages\\pandas\\core\\frame.py:3509: SettingWithCopyWarning: \n",
      "A value is trying to be set on a copy of a slice from a DataFrame.\n",
      "Try using .loc[row_indexer,col_indexer] = value instead\n",
      "\n",
      "See the caveats in the documentation: http://pandas.pydata.org/pandas-docs/stable/user_guide/indexing.html#returning-a-view-versus-a-copy\n",
      "  self[k1] = value[k2]\n"
     ]
    },
    {
     "data": {
      "text/html": [
       "<div>\n",
       "<style scoped>\n",
       "    .dataframe tbody tr th:only-of-type {\n",
       "        vertical-align: middle;\n",
       "    }\n",
       "\n",
       "    .dataframe tbody tr th {\n",
       "        vertical-align: top;\n",
       "    }\n",
       "\n",
       "    .dataframe thead th {\n",
       "        text-align: right;\n",
       "    }\n",
       "</style>\n",
       "<table border=\"1\" class=\"dataframe\">\n",
       "  <thead>\n",
       "    <tr style=\"text-align: right;\">\n",
       "      <th></th>\n",
       "      <th>ant_id</th>\n",
       "      <th>feeding_start</th>\n",
       "      <th>feeding_end</th>\n",
       "      <th>food_source</th>\n",
       "      <th>last_interaction_before_end</th>\n",
       "      <th>last_interaction_before_partner</th>\n",
       "      <th>first_interaction_after_start</th>\n",
       "      <th>first_interaction_after_partner</th>\n",
       "      <th>crop_before</th>\n",
       "      <th>crop_after</th>\n",
       "      <th>feeding_size_intensity</th>\n",
       "    </tr>\n",
       "  </thead>\n",
       "  <tbody>\n",
       "    <tr>\n",
       "      <th>0</th>\n",
       "      <td>76</td>\n",
       "      <td>48</td>\n",
       "      <td>102</td>\n",
       "      <td>yellow</td>\n",
       "      <td>43</td>\n",
       "      <td>-1</td>\n",
       "      <td>116</td>\n",
       "      <td>392</td>\n",
       "      <td>293.831787</td>\n",
       "      <td>288061.663399</td>\n",
       "      <td>287767.831612</td>\n",
       "    </tr>\n",
       "    <tr>\n",
       "      <th>1</th>\n",
       "      <td>148</td>\n",
       "      <td>92</td>\n",
       "      <td>172</td>\n",
       "      <td>yellow</td>\n",
       "      <td>43</td>\n",
       "      <td>-1</td>\n",
       "      <td>277</td>\n",
       "      <td>76</td>\n",
       "      <td>60206.528134</td>\n",
       "      <td>339347.484375</td>\n",
       "      <td>279140.956241</td>\n",
       "    </tr>\n",
       "    <tr>\n",
       "      <th>2</th>\n",
       "      <td>289</td>\n",
       "      <td>177</td>\n",
       "      <td>348</td>\n",
       "      <td>yellow</td>\n",
       "      <td>43</td>\n",
       "      <td>-1</td>\n",
       "      <td>361</td>\n",
       "      <td>72</td>\n",
       "      <td>6457.684912</td>\n",
       "      <td>493706.554688</td>\n",
       "      <td>487248.869775</td>\n",
       "    </tr>\n",
       "    <tr>\n",
       "      <th>3</th>\n",
       "      <td>392</td>\n",
       "      <td>203</td>\n",
       "      <td>250</td>\n",
       "      <td>yellow</td>\n",
       "      <td>158</td>\n",
       "      <td>76</td>\n",
       "      <td>294</td>\n",
       "      <td>95</td>\n",
       "      <td>127725.829688</td>\n",
       "      <td>454063.550000</td>\n",
       "      <td>326337.720312</td>\n",
       "    </tr>\n",
       "    <tr>\n",
       "      <th>4</th>\n",
       "      <td>289</td>\n",
       "      <td>415</td>\n",
       "      <td>439</td>\n",
       "      <td>yellow</td>\n",
       "      <td>383</td>\n",
       "      <td>72</td>\n",
       "      <td>476</td>\n",
       "      <td>36</td>\n",
       "      <td>359116.687500</td>\n",
       "      <td>497167.730713</td>\n",
       "      <td>138051.043213</td>\n",
       "    </tr>\n",
       "  </tbody>\n",
       "</table>\n",
       "</div>"
      ],
      "text/plain": [
       "  ant_id feeding_start feeding_end food_source last_interaction_before_end  \\\n",
       "0     76            48         102      yellow                          43   \n",
       "1    148            92         172      yellow                          43   \n",
       "2    289           177         348      yellow                          43   \n",
       "3    392           203         250      yellow                         158   \n",
       "4    289           415         439      yellow                         383   \n",
       "\n",
       "  last_interaction_before_partner first_interaction_after_start  \\\n",
       "0                              -1                           116   \n",
       "1                              -1                           277   \n",
       "2                              -1                           361   \n",
       "3                              76                           294   \n",
       "4                              72                           476   \n",
       "\n",
       "  first_interaction_after_partner    crop_before     crop_after  \\\n",
       "0                             392     293.831787  288061.663399   \n",
       "1                              76   60206.528134  339347.484375   \n",
       "2                              72    6457.684912  493706.554688   \n",
       "3                              95  127725.829688  454063.550000   \n",
       "4                              36  359116.687500  497167.730713   \n",
       "\n",
       "   feeding_size_intensity  \n",
       "0           287767.831612  \n",
       "1           279140.956241  \n",
       "2           487248.869775  \n",
       "3           326337.720312  \n",
       "4           138051.043213  "
      ]
     },
     "execution_count": 6,
     "metadata": {},
     "output_type": "execute_result"
    }
   ],
   "source": [
    "%matplotlib qt\n",
    "\n",
    "framelist=[]\n",
    "for ant_id in foragers:\n",
    "    ant = ForagerData(ant_id=ant_id, bdata_df=bdata, feedings_df=fdata)\n",
    "    ant.manual_correction(exp_path)\n",
    "    ant.get_feeding_sizes_intensity()\n",
    "    framelist.extend([ant.feedings_dict['red'],ant.feedings_dict['yellow']])\n",
    "    ant.plot_timeline_around_feedings()\n",
    "fdata_with_feed_sizes = pd.concat(framelist)\n",
    "fdata_with_feed_sizes.sort_index(inplace=True)\n",
    "fdata_with_feed_sizes.head()"
   ]
  },
  {
   "cell_type": "code",
   "execution_count": 7,
   "metadata": {},
   "outputs": [
    {
     "data": {
      "text/plain": [
       "164"
      ]
     },
     "execution_count": 7,
     "metadata": {},
     "output_type": "execute_result"
    }
   ],
   "source": [
    "len(fdata_with_feed_sizes)"
   ]
  },
  {
   "cell_type": "code",
   "execution_count": 8,
   "metadata": {},
   "outputs": [
    {
     "name": "stderr",
     "output_type": "stream",
     "text": [
      "C:\\Users\\liorba\\Anaconda3\\envs\\Experimenting\\lib\\site-packages\\ipykernel_launcher.py:1: SettingWithCopyWarning: \n",
      "A value is trying to be set on a copy of a slice from a DataFrame\n",
      "\n",
      "See the caveats in the documentation: http://pandas.pydata.org/pandas-docs/stable/user_guide/indexing.html#returning-a-view-versus-a-copy\n",
      "  \"\"\"Entry point for launching an IPython kernel.\n"
     ]
    }
   ],
   "source": [
    "fdata_with_feed_sizes['feeding_size_intensity'][fdata_with_feed_sizes['feeding_size_intensity']<0]=0"
   ]
  },
  {
   "cell_type": "markdown",
   "metadata": {},
   "source": [
    "### Write Data"
   ]
  },
  {
   "cell_type": "code",
   "execution_count": 9,
   "metadata": {},
   "outputs": [],
   "source": [
    "fdata_with_feed_sizes.to_csv(r'Y:\\Lior&Einav\\Experiments\\experiment11_140720\\forager_table_with_feeding_sizes.csv',index=False)"
   ]
  },
  {
   "cell_type": "code",
   "execution_count": 10,
   "metadata": {},
   "outputs": [],
   "source": [
    "a76 = ForagerData(ant_id=289, bdata_df=bdata, feedings_df=fdata)"
   ]
  },
  {
   "cell_type": "code",
   "execution_count": 11,
   "metadata": {},
   "outputs": [
    {
     "data": {
      "text/plain": [
       "frame\n",
       "44    5927.484131\n",
       "46       0.000000\n",
       "48       0.000000\n",
       "50     643.143311\n",
       "52     217.622589\n",
       "Name: a289-crop_intensity, dtype: float64"
      ]
     },
     "execution_count": 11,
     "metadata": {},
     "output_type": "execute_result"
    }
   ],
   "source": [
    "a76.crop_dict_raw['yellow'].head()"
   ]
  },
  {
   "cell_type": "code",
   "execution_count": 12,
   "metadata": {},
   "outputs": [],
   "source": [
    "a76.manual_correction(exp_path)"
   ]
  },
  {
   "cell_type": "code",
   "execution_count": 13,
   "metadata": {},
   "outputs": [
    {
     "data": {
      "text/plain": [
       "frame\n",
       "44    5927.484131\n",
       "46       0.000000\n",
       "48       0.000000\n",
       "50     643.143311\n",
       "52     217.622589\n",
       "Name: a289-crop_intensity, dtype: float64"
      ]
     },
     "execution_count": 13,
     "metadata": {},
     "output_type": "execute_result"
    }
   ],
   "source": [
    "a76.crop_dict_raw['yellow'].head()"
   ]
  },
  {
   "cell_type": "code",
   "execution_count": 14,
   "metadata": {},
   "outputs": [],
   "source": [
    "a76.get_feeding_sizes_intensity()"
   ]
  },
  {
   "cell_type": "code",
   "execution_count": 15,
   "metadata": {},
   "outputs": [],
   "source": [
    "# a76.plot_timeline_around_feedings()"
   ]
  },
  {
   "cell_type": "code",
   "execution_count": 16,
   "metadata": {},
   "outputs": [],
   "source": [
    "# plt.close('all')"
   ]
  },
  {
   "cell_type": "code",
   "execution_count": null,
   "metadata": {},
   "outputs": [],
   "source": []
  }
 ],
 "metadata": {
  "kernelspec": {
   "display_name": "Python 3",
   "language": "python",
   "name": "python3"
  },
  "language_info": {
   "codemirror_mode": {
    "name": "ipython",
    "version": 3
   },
   "file_extension": ".py",
   "mimetype": "text/x-python",
   "name": "python",
   "nbconvert_exporter": "python",
   "pygments_lexer": "ipython3",
   "version": "3.7.5"
  }
 },
 "nbformat": 4,
 "nbformat_minor": 2
}
